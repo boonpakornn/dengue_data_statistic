{
 "cells": [
  {
   "cell_type": "code",
   "execution_count": null,
   "metadata": {},
   "outputs": [],
   "source": [
    "import pandas as pd\n",
    "import os"
   ]
  },
  {
   "cell_type": "markdown",
   "metadata": {},
   "source": [
    "## Container * (Area / Image Area)"
   ]
  },
  {
   "cell_type": "markdown",
   "metadata": {},
   "source": [
    "### Subdistrict"
   ]
  },
  {
   "cell_type": "code",
   "execution_count": null,
   "metadata": {},
   "outputs": [],
   "source": [
    "df_container = pd.read_csv(os.path.join('Data','Container Density','Subdistrict level','container_Krabi_subdist.csv'))\n",
    "df_container = df_container.drop('Unnamed: 0', axis = 1)\n",
    "df_container['addrcode'] = df_container['addrcode'].astype(str)\n",
    "df_container.head()"
   ]
  },
  {
   "cell_type": "code",
   "execution_count": null,
   "metadata": {},
   "outputs": [],
   "source": [
    "df_area = pd.read_csv(os.path.join('Data','Area and GSV','image_coverage','image_coverage_krabi.csv'))\n",
    "df_area = df_area.drop(['Unnamed: 0', 'image_coverage'], axis = 1)\n",
    "df_area['addrcode'] = df_area['addrcode'].astype(str)\n",
    "df_area['area/image'] = df_area['land_area'] / df_area['image_area']\n",
    "df_area['area/image'] = df_area['area/image'].round(2)\n",
    "df_area.head()"
   ]
  },
  {
   "cell_type": "code",
   "execution_count": null,
   "metadata": {},
   "outputs": [],
   "source": [
    "df_container_area = pd.merge(df_area,df_container, how = 'inner')\n",
    "df_container_area.head()"
   ]
  },
  {
   "cell_type": "code",
   "execution_count": null,
   "metadata": {},
   "outputs": [],
   "source": [
    "df_container_area['bin_ai'] = df_container_area['bin']* df_container_area['area/image']\n",
    "df_container_area['bin_ai'] = df_container_area['bin_ai'].round(3)\n",
    "df_container_area['bowl_ai'] = df_container_area['bowl']* df_container_area['area/image']\n",
    "df_container_area['bowl_ai'] = df_container_area['bowl_ai'].round(3)\n",
    "df_container_area['bucket_ai'] = df_container_area['bucket']* df_container_area['area/image']\n",
    "df_container_area['bucket_ai'] = df_container_area['bucket_ai'].round(3)\n",
    "df_container_area['misc_short_ai'] = df_container_area['misc_short']* df_container_area['area/image']\n",
    "df_container_area['misc_short_ai'] = df_container_area['misc_short_ai'].round(3)\n",
    "df_container_area['jar_ai'] = df_container_area['jar']* df_container_area['area/image']\n",
    "df_container_area['jar_ai'] = df_container_area['jar_ai'].round(3)\n",
    "df_container_area['pottedplant_ai'] = df_container_area['pottedplant']* df_container_area['area/image']\n",
    "df_container_area['pottedplant_ai'] = df_container_area['pottedplant_ai'].round(3)\n",
    "df_container_area['tire_ai'] = df_container_area['tire']* df_container_area['area/image']\n",
    "df_container_area['tire_ai'] = df_container_area['tire_ai'].round(3)\n",
    "df_container_area['misc_tall_ai'] = df_container_area['misc_tall']* df_container_area['area/image']\n",
    "df_container_area['misc_tall_ai'] = df_container_area['misc_tall_ai'].round(3)\n",
    "df_container_area['total_ai'] = df_container_area['total']* df_container_area['area/image']\n",
    "df_container_area['total_ai'] = df_container_area['total_ai'].round(3)"
   ]
  },
  {
   "cell_type": "code",
   "execution_count": null,
   "metadata": {},
   "outputs": [],
   "source": [
    "df_container_area.head()\n",
    "df_container_area.to_csv('container_area_krabi_subdist.csv', encoding = 'utf-8')"
   ]
  },
  {
   "cell_type": "markdown",
   "metadata": {},
   "source": [
    "### District"
   ]
  },
  {
   "cell_type": "code",
   "execution_count": null,
   "metadata": {},
   "outputs": [],
   "source": [
    "aggregation_function = {'land_area': 'sum', 'image_area' : 'sum', 'bin' : 'sum', 'bowl' : 'sum', 'bucket' : 'sum', 'misc_short' : 'sum', 'jar' : 'sum', 'pottedplant' : 'sum', 'tire' : 'sum', 'misc_tall' : 'sum', 'total' : 'sum'}\n",
    "df_container_area_dist = df_container_area.groupby([df_container_area['addrcode'].str[:4]]).aggregate(aggregation_function).reset_index()\n",
    "df_container_area_dist['area/image'] = df_container_area_dist['land_area']/df_container_area_dist['image_area']\n",
    "df_container_area_dist['area/image'] = df_container_area_dist['area/image'].round(2)\n",
    "df_container_area_dist = df_container_area_dist[['addrcode','land_area','image_area','area/image','bin','bowl','bucket','misc_short','jar','pottedplant','tire','misc_tall','total']]\n",
    "df_container_area_dist"
   ]
  },
  {
   "cell_type": "code",
   "execution_count": null,
   "metadata": {},
   "outputs": [],
   "source": [
    "df_container_area_dist['bin_ai'] = df_container_area_dist['bin']* df_container_area_dist['area/image']\n",
    "df_container_area_dist['bin_ai'] = df_container_area_dist['bin_ai'].round(3)\n",
    "df_container_area_dist['bowl_ai'] = df_container_area_dist['bowl']* df_container_area_dist['area/image']\n",
    "df_container_area_dist['bowl_ai'] = df_container_area_dist['bowl_ai'].round(3)\n",
    "df_container_area_dist['bucket_ai'] = df_container_area_dist['bucket']* df_container_area_dist['area/image']\n",
    "df_container_area_dist['bucket_ai'] = df_container_area_dist['bucket_ai'].round(3)\n",
    "df_container_area_dist['misc_short_ai'] = df_container_area_dist['misc_short']* df_container_area_dist['area/image']\n",
    "df_container_area_dist['misc_short_ai'] = df_container_area_dist['misc_short_ai'].round(3)\n",
    "df_container_area_dist['jar_ai'] = df_container_area_dist['jar']* df_container_area_dist['area/image']\n",
    "df_container_area_dist['jar_ai'] = df_container_area_dist['jar_ai'].round(3)\n",
    "df_container_area_dist['pottedplant_ai'] = df_container_area_dist['pottedplant']* df_container_area_dist['area/image']\n",
    "df_container_area_dist['pottedplant_ai'] = df_container_area_dist['pottedplant_ai'].round(3)\n",
    "df_container_area_dist['tire_ai'] = df_container_area_dist['tire']* df_container_area_dist['area/image']\n",
    "df_container_area_dist['tire_ai'] = df_container_area_dist['tire_ai'].round(3)\n",
    "df_container_area_dist['misc_tall_ai'] = df_container_area_dist['misc_tall']*df_container_area_dist['area/image']\n",
    "df_container_area_dist['misc_tall_ai'] = df_container_area_dist['misc_tall_ai'].round(3)\n",
    "df_container_area_dist['total_ai'] = df_container_area_dist['total']* df_container_area_dist['area/image']\n",
    "df_container_area_dist['total_ai'] = df_container_area_dist['total_ai'].round(3)"
   ]
  },
  {
   "cell_type": "code",
   "execution_count": null,
   "metadata": {},
   "outputs": [],
   "source": [
    "df_container_area_dist.head()\n",
    "df_container_area_dist.to_csv('container_area_krabi_dist.csv', encoding = 'utf-8')"
   ]
  },
  {
   "cell_type": "markdown",
   "metadata": {},
   "source": [
    "## Image Area / Area * Population"
   ]
  },
  {
   "cell_type": "markdown",
   "metadata": {},
   "source": [
    "### Subdistrict"
   ]
  },
  {
   "cell_type": "code",
   "execution_count": null,
   "metadata": {},
   "outputs": [],
   "source": [
    "df_area = pd.read_csv(os.path.join('Data','Area and GSV','image_coverage','image_coverage_bangkok.csv'))\n",
    "df_area = df_area.drop(['Unnamed: 0','image_coverage'], axis = 1)\n",
    "df_area['addrcode'] = df_area['addrcode'].astype(str)\n",
    "df_area['image/area'] = df_area['image_area']/ df_area['land_area']\n",
    "df_area['image/area'].loc[df_area['image/area'] > 1 ] = 1\n",
    "df_area['image/area'] = df_area['image/area'].round(2)\n",
    "df_area.head()"
   ]
  },
  {
   "cell_type": "code",
   "execution_count": null,
   "metadata": {},
   "outputs": [],
   "source": [
    "df_pop = pd.read_csv(os.path.join('Data','Population','full-info','Bangkok-population-details.csv'))\n",
    "df_pop = df_pop.drop('district', axis =1)\n",
    "df_pop['addrcode'] = df_pop['addrcode'].astype(str)\n",
    "df_pop.head()"
   ]
  },
  {
   "cell_type": "code",
   "execution_count": null,
   "metadata": {},
   "outputs": [],
   "source": [
    "df_area_pop = pd.merge(df_area,df_pop, how = 'inner')\n",
    "df_area_pop.head()"
   ]
  },
  {
   "cell_type": "code",
   "execution_count": null,
   "metadata": {},
   "outputs": [],
   "source": [
    "df_area_pop['Age < 7_s'] = df_area_pop['Age < 7']*df_area_pop['image/area']\n",
    "df_area_pop['Age < 7_s'] = df_area_pop['Age < 7_s'].round(3)\n",
    "df_area_pop['Age 7 - 9_s'] = df_area_pop['Age 7 - 9']*df_area_pop['image/area']\n",
    "df_area_pop['Age 7 - 9_s'] = df_area_pop['Age 7 - 9_s'].round(3)\n",
    "df_area_pop['Age 10 - 14_s'] = df_area_pop['Age 10 - 14']*df_area_pop['image/area']\n",
    "df_area_pop['Age 10 - 14_s'] = df_area_pop['Age 10 - 14_s'].round(3)\n",
    "df_area_pop['Age 15 - 24_s'] = df_area_pop['Age 15 - 24']*df_area_pop['image/area']\n",
    "df_area_pop['Age 15 - 24_s'] = df_area_pop['Age 15 - 24_s'].round(3)\n",
    "df_area_pop['Age 25 - 34_s'] = df_area_pop['Age 25 - 34']*df_area_pop['image/area']\n",
    "df_area_pop['Age 25 - 34_s'] = df_area_pop['Age 25 - 34_s'].round(3)\n",
    "df_area_pop['Age 35 - 44_s'] = df_area_pop['Age 35 - 44']*df_area_pop['image/area']\n",
    "df_area_pop['Age 35 - 44_s'] = df_area_pop['Age 35 - 44_s'].round(3)\n",
    "df_area_pop['Age 45 - 60_s'] = df_area_pop['Age 45 - 60']*df_area_pop['image/area']\n",
    "df_area_pop['Age 45 - 60_s'] = df_area_pop['Age 45 - 60_s'].round(3)\n",
    "df_area_pop['Age > 60_s'] = df_area_pop['Age > 60']*df_area_pop['image/area']\n",
    "df_area_pop['Age > 60_s'] = df_area_pop['Age > 60_s'].round(3)\n",
    "df_area_pop.head()"
   ]
  },
  {
   "cell_type": "code",
   "execution_count": null,
   "metadata": {},
   "outputs": [],
   "source": [
    "df_area_pop.to_csv('area_pop_bangkok.csv' , encoding = 'utf-8')"
   ]
  },
  {
   "cell_type": "markdown",
   "metadata": {},
   "source": [
    "### District"
   ]
  },
  {
   "cell_type": "code",
   "execution_count": null,
   "metadata": {},
   "outputs": [],
   "source": [
    "aggregation_function = {'land_area': 'sum', 'image_area' : 'sum', 'Age < 7' : 'sum', 'Age 7 - 9' : 'sum', 'Age 10 - 14' : 'sum', 'Age 15 - 24' : 'sum', 'Age 25 - 34' : 'sum', 'Age 35 - 44' : 'sum', 'Age 45 - 60' : 'sum', 'Age > 60' : 'sum'}\n",
    "df_area_pop_dist = df_area_pop.groupby([df_area_pop['addrcode'].str[:4]]).aggregate(aggregation_function).reset_index()\n",
    "df_area_pop_dist['image/area'] = df_area_pop_dist['image_area']/df_area_pop_dist['land_area']\n",
    "df_area_pop_dist['image/area'] = df_area_pop_dist['image/area'].round(2)\n",
    "df_area_pop_dist = df_area_pop_dist[['addrcode','land_area','image_area','image/area','Age < 7','Age 7 - 9','Age 10 - 14','Age 15 - 24','Age 25 - 34','Age 35 - 44','Age 45 - 60','Age > 60']]\n",
    "df_area_pop_dist.head()"
   ]
  },
  {
   "cell_type": "code",
   "execution_count": null,
   "metadata": {},
   "outputs": [],
   "source": [
    "df_area_pop_dist['Age < 7_s'] = df_area_pop_dist['Age < 7']*df_area_pop_dist['image/area']\n",
    "df_area_pop_dist['Age < 7_s'] = df_area_pop_dist['Age < 7_s'].round(3)\n",
    "df_area_pop_dist['Age 7 - 9_s'] = df_area_pop_dist['Age 7 - 9']*df_area_pop_dist['image/area']\n",
    "df_area_pop_dist['Age 7 - 9_s'] = df_area_pop_dist['Age 7 - 9_s'].round(3)\n",
    "df_area_pop_dist['Age 10 - 14_s'] = df_area_pop_dist['Age 10 - 14']*df_area_pop_dist['image/area']\n",
    "df_area_pop_dist['Age 10 - 14_s'] = df_area_pop_dist['Age 10 - 14_s'].round(3)\n",
    "df_area_pop_dist['Age 15 - 24_s'] = df_area_pop_dist['Age 15 - 24']*df_area_pop_dist['image/area']\n",
    "df_area_pop_dist['Age 15 - 24_s'] = df_area_pop_dist['Age 15 - 24_s'].round(3)\n",
    "df_area_pop_dist['Age 25 - 34_s'] = df_area_pop_dist['Age 25 - 34']*df_area_pop_dist['image/area']\n",
    "df_area_pop_dist['Age 25 - 34_s'] = df_area_pop_dist['Age 25 - 34_s'].round(3)\n",
    "df_area_pop_dist['Age 35 - 44_s'] = df_area_pop_dist['Age 35 - 44']*df_area_pop_dist['image/area']\n",
    "df_area_pop_dist['Age 35 - 44_s'] = df_area_pop_dist['Age 35 - 44_s'].round(3)\n",
    "df_area_pop_dist['Age 45 - 60_s'] = df_area_pop_dist['Age 45 - 60']*df_area_pop_dist['image/area']\n",
    "df_area_pop_dist['Age 45 - 60_s'] = df_area_pop_dist['Age 45 - 60_s'].round(3)\n",
    "df_area_pop_dist['Age > 60_s'] = df_area_pop_dist['Age > 60']*df_area_pop_dist['image/area']\n",
    "df_area_pop_dist['Age > 60_s'] = df_area_pop_dist['Age > 60_s'].round(3)\n",
    "df_area_pop_dist.head()"
   ]
  },
  {
   "cell_type": "code",
   "execution_count": null,
   "metadata": {},
   "outputs": [],
   "source": [
    "df_area_pop_dist.to_csv('area_pop_bangkok_dist.csv' , encoding = 'utf-8')"
   ]
  },
  {
   "cell_type": "markdown",
   "metadata": {},
   "source": [
    "## A * Container count / Population"
   ]
  },
  {
   "cell_type": "markdown",
   "metadata": {},
   "source": [
    "### Subdistrict"
   ]
  },
  {
   "cell_type": "code",
   "execution_count": null,
   "metadata": {},
   "outputs": [],
   "source": [
    "df_container = pd.read_csv(os.path.join('Data','Container Density','Subdistrict level','container_Bangkok_subdist.csv'))\n",
    "df_container = df_container.drop('Unnamed: 0', axis = 1)\n",
    "df_container['addrcode'] = df_container['addrcode'].astype(str)\n",
    "df_container.head()"
   ]
  },
  {
   "cell_type": "code",
   "execution_count": null,
   "metadata": {},
   "outputs": [],
   "source": [
    "df_pop = pd.read_csv(os.path.join('Data','Population','full-info','Bangkok-population-details.csv'))\n",
    "df_pop = df_pop.drop('district', axis =1)\n",
    "df_pop['addrcode'] = df_pop['addrcode'].astype(str)\n",
    "df_pop.head()"
   ]
  },
  {
   "cell_type": "code",
   "execution_count": null,
   "metadata": {},
   "outputs": [],
   "source": [
    "df_container_pop = pd.merge(df_container,df_pop, how = 'inner')\n",
    "df_container_pop.head()"
   ]
  },
  {
   "cell_type": "code",
   "execution_count": null,
   "metadata": {},
   "outputs": [],
   "source": [
    "df_pop_total = pd.read_csv(os.path.join('Data','Population','addrcode-index','Bangkok-population.csv'))\n",
    "df_pop_total['addrcode'] = df_pop_total['addrcode'].astype(str)\n",
    "#df_pop_total['addrcode'] = df_pop_total['addrcode'].str[:-2]\n",
    "df_pop_total.head()"
   ]
  },
  {
   "cell_type": "code",
   "execution_count": null,
   "metadata": {},
   "outputs": [],
   "source": [
    "df_container_pop = pd.merge(df_container_pop, df_pop_total, how = 'inner')\n",
    "df_container_pop.head()"
   ]
  },
  {
   "cell_type": "code",
   "execution_count": null,
   "metadata": {},
   "outputs": [],
   "source": [
    "#============\n",
    "a = 10\n",
    "#============\n",
    "df_container_pop['Age < 7_bin'] = a * df_container_pop['bin'] / df_container_pop['Age < 7']\n",
    "df_container_pop['Age < 7_bin'] = df_container_pop['Age < 7_bin'].round(3)\n",
    "df_container_pop['Age < 7_bowl'] = a * df_container_pop['bowl'] / df_container_pop['Age < 7']\n",
    "df_container_pop['Age < 7_bowl'] = df_container_pop['Age < 7_bowl'].round(3)\n",
    "df_container_pop['Age < 7_bucket'] = a * df_container_pop['bucket'] / df_container_pop['Age < 7']\n",
    "df_container_pop['Age < 7_bucket'] = df_container_pop['Age < 7_bucket'].round(3)\n",
    "df_container_pop['Age < 7_misc_short'] = a * df_container_pop['misc_short'] / df_container_pop['Age < 7']\n",
    "df_container_pop['Age < 7_misc_short'] = df_container_pop['Age < 7_misc_short'].round(3)\n",
    "df_container_pop['Age < 7_jar'] = a * df_container_pop['jar'] / df_container_pop['Age < 7']\n",
    "df_container_pop['Age < 7_jar'] = df_container_pop['Age < 7_jar'].round(3)\n",
    "df_container_pop['Age < 7_pottedplant'] = a * df_container_pop['pottedplant'] / df_container_pop['Age < 7']\n",
    "df_container_pop['Age < 7_pottedplant'] = df_container_pop['Age < 7_pottedplant'].round(3)\n",
    "df_container_pop['Age < 7_tire'] = a * df_container_pop['tire'] / df_container_pop['Age < 7']\n",
    "df_container_pop['Age < 7_tire'] = df_container_pop['Age < 7_tire'].round(3)\n",
    "df_container_pop['Age < 7_misc_tall'] = a * df_container_pop['misc_tall'] / df_container_pop['Age < 7']\n",
    "df_container_pop['Age < 7_misc_tall'] = df_container_pop['Age < 7_misc_tall'].round(3)\n",
    "df_container_pop['Age < 7_total'] = a * df_container_pop['total'] / df_container_pop['Age < 7']\n",
    "df_container_pop['Age < 7_total'] = df_container_pop['Age < 7_total'].round(3)\n",
    "\n",
    "df_container_pop['Age 7 - 9_bin'] = a * df_container_pop['bin'] / df_container_pop['Age 7 - 9']\n",
    "df_container_pop['Age 7 - 9_bin'] = df_container_pop['Age 7 - 9_bin'].round(3)\n",
    "df_container_pop['Age 7 - 9_bowl'] = a * df_container_pop['bowl'] / df_container_pop['Age 7 - 9']\n",
    "df_container_pop['Age 7 - 9_bowl'] = df_container_pop['Age 7 - 9_bowl'].round(3)\n",
    "df_container_pop['Age 7 - 9_bucket'] = a * df_container_pop['bucket'] / df_container_pop['Age 7 - 9']\n",
    "df_container_pop['Age 7 - 9_bucket'] = df_container_pop['Age 7 - 9_bucket'].round(3)\n",
    "df_container_pop['Age 7 - 9_misc_short'] = a * df_container_pop['misc_short'] / df_container_pop['Age 7 - 9']\n",
    "df_container_pop['Age 7 - 9_misc_short'] = df_container_pop['Age 7 - 9_misc_short'].round(3)\n",
    "df_container_pop['Age 7 - 9_jar'] = a * df_container_pop['jar'] / df_container_pop['Age 7 - 9']\n",
    "df_container_pop['Age 7 - 9_jar'] = df_container_pop['Age 7 - 9_jar'].round(3)\n",
    "df_container_pop['Age 7 - 9_pottedplant'] = a * df_container_pop['pottedplant'] / df_container_pop['Age 7 - 9']\n",
    "df_container_pop['Age 7 - 9_pottedplant'] = df_container_pop['Age 7 - 9_pottedplant'].round(3)\n",
    "df_container_pop['Age 7 - 9_tire'] = a * df_container_pop['tire'] / df_container_pop['Age 7 - 9']\n",
    "df_container_pop['Age 7 - 9_tire'] = df_container_pop['Age 7 - 9_tire'].round(3)\n",
    "df_container_pop['Age 7 - 9_misc_tall'] = a * df_container_pop['misc_tall'] / df_container_pop['Age 7 - 9']\n",
    "df_container_pop['Age 7 - 9_misc_tall'] = df_container_pop['Age 7 - 9_misc_tall'].round(3)\n",
    "df_container_pop['Age 7 - 9_total'] = a * df_container_pop['total'] / df_container_pop['Age 7 - 9']\n",
    "df_container_pop['Age 7 - 9_total'] = df_container_pop['Age 7 - 9_total'].round(3)\n",
    "\n",
    "df_container_pop['Age 10 - 14_bin'] = a * df_container_pop['bin'] / df_container_pop['Age 10 - 14']\n",
    "df_container_pop['Age 10 - 14_bin'] = df_container_pop['Age 10 - 14_bin'].round(3)\n",
    "df_container_pop['Age 10 - 14_bowl'] = a * df_container_pop['bowl'] / df_container_pop['Age 10 - 14']\n",
    "df_container_pop['Age 10 - 14_bowl'] = df_container_pop['Age 10 - 14_bowl'].round(3)\n",
    "df_container_pop['Age 10 - 14_bucket'] = a * df_container_pop['bucket'] / df_container_pop['Age 10 - 14']\n",
    "df_container_pop['Age 10 - 14_bucket'] = df_container_pop['Age 10 - 14_bucket'].round(3)\n",
    "df_container_pop['Age 10 - 14_misc_short'] = a * df_container_pop['misc_short'] / df_container_pop['Age 10 - 14']\n",
    "df_container_pop['Age 10 - 14_misc_short'] = df_container_pop['Age 10 - 14_misc_short'].round(3)\n",
    "df_container_pop['Age 10 - 14_jar'] = a * df_container_pop['jar'] / df_container_pop['Age 10 - 14']\n",
    "df_container_pop['Age 10 - 14_jar'] = df_container_pop['Age 10 - 14_jar'].round(3)\n",
    "df_container_pop['Age 10 - 14_pottedplant'] = a * df_container_pop['pottedplant'] / df_container_pop['Age 10 - 14']\n",
    "df_container_pop['Age 10 - 14_pottedplant'] = df_container_pop['Age 10 - 14_pottedplant'].round(3)\n",
    "df_container_pop['Age 10 - 14_tire'] = a * df_container_pop['tire'] / df_container_pop['Age 10 - 14']\n",
    "df_container_pop['Age 10 - 14_tire'] = df_container_pop['Age 10 - 14_tire'].round(3)\n",
    "df_container_pop['Age 10 - 14_misc_tall'] = a * df_container_pop['misc_tall'] / df_container_pop['Age 10 - 14']\n",
    "df_container_pop['Age 10 - 14_misc_tall'] = df_container_pop['Age 10 - 14_misc_tall'].round(3)\n",
    "df_container_pop['Age 10 - 14_total'] = a * df_container_pop['total'] / df_container_pop['Age 10 - 14']\n",
    "df_container_pop['Age 10 - 14_total'] = df_container_pop['Age 10 - 14_total'].round(3)\n",
    "\n",
    "df_container_pop['Age 15 - 24_bin'] = a * df_container_pop['bin'] / df_container_pop['Age 15 - 24']\n",
    "df_container_pop['Age 15 - 24_bin'] = df_container_pop['Age 15 - 24_bin'].round(3)\n",
    "df_container_pop['Age 15 - 24_bowl'] = a * df_container_pop['bowl'] / df_container_pop['Age 15 - 24']\n",
    "df_container_pop['Age 15 - 24_bowl'] = df_container_pop['Age 15 - 24_bowl'].round(3)\n",
    "df_container_pop['Age 15 - 24_bucket'] = a * df_container_pop['bucket'] / df_container_pop['Age 15 - 24']\n",
    "df_container_pop['Age 15 - 24_bucket'] = df_container_pop['Age 15 - 24_bucket'].round(3)\n",
    "df_container_pop['Age 15 - 24_misc_short'] = a * df_container_pop['misc_short'] / df_container_pop['Age 15 - 24']\n",
    "df_container_pop['Age 15 - 24_misc_short'] = df_container_pop['Age 15 - 24_misc_short'].round(3)\n",
    "df_container_pop['Age 15 - 24_jar'] = a * df_container_pop['jar'] / df_container_pop['Age 15 - 24']\n",
    "df_container_pop['Age 15 - 24_jar'] = df_container_pop['Age 15 - 24_jar'].round(3)\n",
    "df_container_pop['Age 15 - 24_pottedplant'] = a * df_container_pop['pottedplant'] / df_container_pop['Age 15 - 24']\n",
    "df_container_pop['Age 15 - 24_pottedplant'] = df_container_pop['Age 15 - 24_pottedplant'].round(3)\n",
    "df_container_pop['Age 15 - 24_tire'] = a * df_container_pop['tire'] / df_container_pop['Age 15 - 24']\n",
    "df_container_pop['Age 15 - 24_tire'] = df_container_pop['Age 15 - 24_tire'].round(3)\n",
    "df_container_pop['Age 15 - 24_misc_tall'] = a * df_container_pop['misc_tall'] / df_container_pop['Age 15 - 24']\n",
    "df_container_pop['Age 15 - 24_misc_tall'] = df_container_pop['Age 15 - 24_misc_tall'].round(3)\n",
    "df_container_pop['Age 15 - 24_total'] = a * df_container_pop['total'] / df_container_pop['Age 15 - 24']\n",
    "df_container_pop['Age 15 - 24_total'] = df_container_pop['Age 15 - 24_total'].round(3)\n",
    "\n",
    "df_container_pop['Age 25 - 34_bin'] = a * df_container_pop['bin'] / df_container_pop['Age 25 - 34']\n",
    "df_container_pop['Age 25 - 34_bin'] = df_container_pop['Age 25 - 34_bin'].round(3)\n",
    "df_container_pop['Age 25 - 34_bowl'] = a * df_container_pop['bowl'] / df_container_pop['Age 25 - 34']\n",
    "df_container_pop['Age 25 - 34_bowl'] = df_container_pop['Age 25 - 34_bowl'].round(3)\n",
    "df_container_pop['Age 25 - 34_bucket'] = a * df_container_pop['bucket'] / df_container_pop['Age 25 - 34']\n",
    "df_container_pop['Age 25 - 34_bucket'] = df_container_pop['Age 25 - 34_bucket'].round(3)\n",
    "df_container_pop['Age 25 - 34_misc_short'] = a * df_container_pop['misc_short'] / df_container_pop['Age 25 - 34']\n",
    "df_container_pop['Age 25 - 34_misc_short'] = df_container_pop['Age 25 - 34_misc_short'].round(3)\n",
    "df_container_pop['Age 25 - 34_jar'] = a * df_container_pop['jar'] / df_container_pop['Age 25 - 34']\n",
    "df_container_pop['Age 25 - 34_jar'] = df_container_pop['Age 25 - 34_jar'].round(3)\n",
    "df_container_pop['Age 25 - 34_pottedplant'] = a * df_container_pop['pottedplant'] / df_container_pop['Age 25 - 34']\n",
    "df_container_pop['Age 25 - 34_pottedplant'] = df_container_pop['Age 25 - 34_pottedplant'].round(3)\n",
    "df_container_pop['Age 25 - 34_tire'] = a * df_container_pop['tire'] / df_container_pop['Age 25 - 34']\n",
    "df_container_pop['Age 25 - 34_tire'] = df_container_pop['Age 25 - 34_tire'].round(3)\n",
    "df_container_pop['Age 25 - 34_misc_tall'] = a * df_container_pop['misc_tall'] / df_container_pop['Age 25 - 34']\n",
    "df_container_pop['Age 25 - 34_misc_tall'] = df_container_pop['Age 25 - 34_misc_tall'].round(3)\n",
    "df_container_pop['Age 25 - 34_total'] = a * df_container_pop['total'] / df_container_pop['Age 25 - 34']\n",
    "df_container_pop['Age 25 - 34_total'] = df_container_pop['Age 25 - 34_total'].round(3)\n",
    "\n",
    "df_container_pop['Age 35 - 44_bin'] = a * df_container_pop['bin'] / df_container_pop['Age 35 - 44']\n",
    "df_container_pop['Age 35 - 44_bin'] = df_container_pop['Age 35 - 44_bin'].round(3)\n",
    "df_container_pop['Age 35 - 44_bowl'] = a * df_container_pop['bowl'] / df_container_pop['Age 35 - 44']\n",
    "df_container_pop['Age 35 - 44_bowl'] = df_container_pop['Age 35 - 44_bowl'].round(3)\n",
    "df_container_pop['Age 35 - 44_bucket'] = a * df_container_pop['bucket'] / df_container_pop['Age 35 - 44']\n",
    "df_container_pop['Age 35 - 44_bucket'] = df_container_pop['Age 35 - 44_bucket'].round(3)\n",
    "df_container_pop['Age 35 - 44_misc_short'] = a * df_container_pop['misc_short'] / df_container_pop['Age 35 - 44']\n",
    "df_container_pop['Age 35 - 44_misc_short'] = df_container_pop['Age 35 - 44_misc_short'].round(3)\n",
    "df_container_pop['Age 35 - 44_jar'] = a * df_container_pop['jar'] / df_container_pop['Age 35 - 44']\n",
    "df_container_pop['Age 35 - 44_jar'] = df_container_pop['Age 35 - 44_jar'].round(3)\n",
    "df_container_pop['Age 35 - 44_pottedplant'] = a * df_container_pop['pottedplant'] / df_container_pop['Age 35 - 44']\n",
    "df_container_pop['Age 35 - 44_pottedplant'] = df_container_pop['Age 35 - 44_pottedplant'].round(3)\n",
    "df_container_pop['Age 35 - 44_tire'] = a * df_container_pop['tire'] / df_container_pop['Age 35 - 44']\n",
    "df_container_pop['Age 35 - 44_tire'] = df_container_pop['Age 35 - 44_tire'].round(3)\n",
    "df_container_pop['Age 35 - 44_misc_tall'] = a * df_container_pop['misc_tall'] / df_container_pop['Age 35 - 44']\n",
    "df_container_pop['Age 35 - 44_misc_tall'] = df_container_pop['Age 35 - 44_misc_tall'].round(3)\n",
    "df_container_pop['Age 35 - 44_total'] = a * df_container_pop['total'] / df_container_pop['Age 35 - 44']\n",
    "df_container_pop['Age 35 - 44_total'] = df_container_pop['Age 35 - 44_total'].round(3)\n",
    "\n",
    "df_container_pop['Age 45 - 60_bin'] = a * df_container_pop['bin'] / df_container_pop['Age 45 - 60']\n",
    "df_container_pop['Age 45 - 60_bin'] = df_container_pop['Age 45 - 60_bin'].round(3)\n",
    "df_container_pop['Age 45 - 60_bowl'] = a * df_container_pop['bowl'] / df_container_pop['Age 45 - 60']\n",
    "df_container_pop['Age 45 - 60_bowl'] = df_container_pop['Age 45 - 60_bowl'].round(3)\n",
    "df_container_pop['Age 45 - 60_bucket'] = a * df_container_pop['bucket'] / df_container_pop['Age 45 - 60']\n",
    "df_container_pop['Age 45 - 60_bucket'] = df_container_pop['Age 45 - 60_bucket'].round(3)\n",
    "df_container_pop['Age 45 - 60_misc_short'] = a * df_container_pop['misc_short'] / df_container_pop['Age 45 - 60']\n",
    "df_container_pop['Age 45 - 60_misc_short'] = df_container_pop['Age 45 - 60_misc_short'].round(3)\n",
    "df_container_pop['Age 45 - 60_jar'] = a * df_container_pop['jar'] / df_container_pop['Age 45 - 60']\n",
    "df_container_pop['Age 45 - 60_jar'] = df_container_pop['Age 45 - 60_jar'].round(3)\n",
    "df_container_pop['Age 45 - 60_pottedplant'] = a * df_container_pop['pottedplant'] / df_container_pop['Age 45 - 60']\n",
    "df_container_pop['Age 45 - 60_pottedplant'] = df_container_pop['Age 45 - 60_pottedplant'].round(3)\n",
    "df_container_pop['Age 45 - 60_tire'] = a * df_container_pop['tire'] / df_container_pop['Age 45 - 60']\n",
    "df_container_pop['Age 45 - 60_tire'] = df_container_pop['Age 45 - 60_tire'].round(3)\n",
    "df_container_pop['Age 45 - 60_misc_tall'] = a * df_container_pop['misc_tall'] / df_container_pop['Age 45 - 60']\n",
    "df_container_pop['Age 45 - 60_misc_tall'] = df_container_pop['Age 45 - 60_misc_tall'].round(3)\n",
    "df_container_pop['Age 45 - 60_total'] = a * df_container_pop['total'] / df_container_pop['Age 45 - 60']\n",
    "df_container_pop['Age 45 - 60_total'] = df_container_pop['Age 45 - 60_total'].round(3)\n",
    "\n",
    "df_container_pop['Age > 60_bin'] = a * df_container_pop['bin'] / df_container_pop['Age > 60']\n",
    "df_container_pop['Age > 60_bin'] = df_container_pop['Age > 60_bin'].round(3)\n",
    "df_container_pop['Age > 60_bowl'] = a * df_container_pop['bowl'] / df_container_pop['Age > 60']\n",
    "df_container_pop['Age > 60_bowl'] = df_container_pop['Age > 60_bowl'].round(3)\n",
    "df_container_pop['Age > 60_bucket'] = a * df_container_pop['bucket'] / df_container_pop['Age > 60']\n",
    "df_container_pop['Age > 60_bucket'] = df_container_pop['Age > 60_bucket'].round(3)\n",
    "df_container_pop['Age > 60_misc_short'] = a * df_container_pop['misc_short'] / df_container_pop['Age > 60']\n",
    "df_container_pop['Age > 60_misc_short'] = df_container_pop['Age > 60_misc_short'].round(3)\n",
    "df_container_pop['Age > 60_jar'] = a * df_container_pop['jar'] / df_container_pop['Age > 60']\n",
    "df_container_pop['Age > 60_jar'] = df_container_pop['Age > 60_jar'].round(3)\n",
    "df_container_pop['Age > 60_pottedplant'] = a * df_container_pop['pottedplant'] / df_container_pop['Age > 60']\n",
    "df_container_pop['Age > 60_pottedplant'] = df_container_pop['Age > 60_pottedplant'].round(3)\n",
    "df_container_pop['Age > 60_tire'] = a * df_container_pop['tire'] / df_container_pop['Age > 60']\n",
    "df_container_pop['Age > 60_tire'] = df_container_pop['Age > 60_tire'].round(3)\n",
    "df_container_pop['Age > 60_misc_tall'] = a * df_container_pop['misc_tall'] / df_container_pop['Age > 60']\n",
    "df_container_pop['Age > 60_misc_tall'] = df_container_pop['Age > 60_misc_tall'].round(3)\n",
    "df_container_pop['Age > 60_total'] = a * df_container_pop['total'] / df_container_pop['Age > 60']\n",
    "df_container_pop['Age > 60_total'] = df_container_pop['Age > 60_total'].round(3)\n",
    "\n",
    "df_container_pop['Total_bin'] = a * df_container_pop['bin'] / df_container_pop['Total']\n",
    "df_container_pop['Total_bin'] = df_container_pop['Total_bin'].round(3)\n",
    "df_container_pop['Total_bowl'] = a * df_container_pop['bowl'] / df_container_pop['Total']\n",
    "df_container_pop['Total_bowl'] = df_container_pop['Total_bowl'].round(3)\n",
    "df_container_pop['Total_bucket'] = a * df_container_pop['bucket'] / df_container_pop['Total']\n",
    "df_container_pop['Total_bucket'] = df_container_pop['Total_bucket'].round(3)\n",
    "df_container_pop['Total_misc_short'] = a * df_container_pop['misc_short'] / df_container_pop['Total']\n",
    "df_container_pop['Total_misc_short'] = df_container_pop['Total_misc_short'].round(3)\n",
    "df_container_pop['Total_jar'] = a * df_container_pop['jar'] / df_container_pop['Total']\n",
    "df_container_pop['Total_jar'] = df_container_pop['Total_jar'].round(3)\n",
    "df_container_pop['Total_pottedplant'] = a * df_container_pop['pottedplant'] / df_container_pop['Total']\n",
    "df_container_pop['Total_pottedplant'] = df_container_pop['Total_pottedplant'].round(3)\n",
    "df_container_pop['Total_tire'] = a * df_container_pop['tire'] / df_container_pop['Total']\n",
    "df_container_pop['Total_tire'] = df_container_pop['Total_tire'].round(3)\n",
    "df_container_pop['Total_misc_tall'] = a * df_container_pop['misc_tall'] / df_container_pop['Total']\n",
    "df_container_pop['Total_misc_tall'] = df_container_pop['Total_misc_tall'].round(3)\n",
    "df_container_pop['Total_total'] = a * df_container_pop['total'] / df_container_pop['Total']\n",
    "df_container_pop['Total_total'] = df_container_pop['Total_total'].round(3)"
   ]
  },
  {
   "cell_type": "code",
   "execution_count": null,
   "metadata": {},
   "outputs": [],
   "source": [
    "df_container_pop.head()"
   ]
  },
  {
   "cell_type": "code",
   "execution_count": null,
   "metadata": {},
   "outputs": [],
   "source": [
    "df_container_pop.to_csv('a_container_pop_bangkok.csv', encoding = 'utf-8')"
   ]
  },
  {
   "cell_type": "markdown",
   "metadata": {},
   "source": [
    "### [New Version]"
   ]
  },
  {
   "cell_type": "code",
   "execution_count": null,
   "metadata": {},
   "outputs": [],
   "source": [
    "df_container_pop = pd.read_csv('Data/Correlation/a_container_pop_nst.csv')\n",
    "df_container_pop = df_container_pop.drop('Unnamed: 0', axis = 1)\n",
    "df_container_pop['addrcode'] = df_container_pop['addrcode'].astype(str)\n",
    "df_container_pop.head()"
   ]
  },
  {
   "cell_type": "code",
   "execution_count": null,
   "metadata": {},
   "outputs": [],
   "source": [
    "df_container_pop = df_container_pop.drop(['bin','bowl','bucket','misc_short','jar','pottedplant','tire','misc_tall','total','Age < 7','Age 7 - 9','Age 10 - 14','Age 15 - 24','Age 25 - 34','Age 35 - 44','Age 45 - 60', 'Age > 60'], axis = 1)\n",
    "df_container_pop.head()"
   ]
  },
  {
   "cell_type": "code",
   "execution_count": null,
   "metadata": {},
   "outputs": [],
   "source": [
    "df_dengue = pd.read_csv(os.path.join('Data','Dengue-cases','Dengue fever data','DF.csv'))\n",
    "df_dengue['addrcode'] = df_dengue['addrcode'].astype(str)\n",
    "df_dengue = df_dengue.loc[df_dengue['addrcode'].str[:2] == '80']\n",
    "df_dengue = df_dengue.groupby(df_dengue['addrcode']).sum()\n",
    "df_dengue = df_dengue.drop(['Year','WeekNum'],axis = 1)\n",
    "df_dengue = df_dengue.reset_index()\n",
    "df_dengue.head()"
   ]
  },
  {
   "cell_type": "code",
   "execution_count": null,
   "metadata": {},
   "outputs": [],
   "source": [
    "df_pop_total = pd.read_csv(os.path.join('Data','Population','addrcode-index','NST-population.csv'))\n",
    "df_pop_total['addrcode'] = df_pop_total['addrcode'].astype(str).str[:6]\n",
    "df_pop_total['Total'] = df_pop_total['Total']/10000\n",
    "df_pop_total.head()"
   ]
  },
  {
   "cell_type": "code",
   "execution_count": null,
   "metadata": {},
   "outputs": [],
   "source": [
    "df_dengue0 = pd.DataFrame(df_dengue['addrcode'])\n",
    "df_dengue0 = pd.merge(df_dengue0, df_dengue, how = 'inner')\n",
    "df_dengue0 = pd.merge(df_dengue0, df_pop_total, how = 'inner')\n",
    "df_dengue0['DF_0'] = df_dengue0['NumberCases']/df_dengue0['Total']\n",
    "df_dengue0 = df_dengue0.iloc[:,[0,3]]\n",
    "df_dengue0['addrcode'] = df_dengue0['addrcode'].astype(str)\n",
    "df_dengue0 = pd.merge(df_dengue0, df_container_pop, how = 'inner')\n",
    "df_dengue0.head()\n",
    "df_dengue0.to_csv('DFw0_container_pop.csv', encoding = 'utf-8')"
   ]
  },
  {
   "cell_type": "markdown",
   "metadata": {},
   "source": [
    "### District "
   ]
  },
  {
   "cell_type": "code",
   "execution_count": null,
   "metadata": {},
   "outputs": [],
   "source": [
    "aggregation_function = {'bin': 'sum', 'bowl': 'sum', 'bucket': 'sum', 'misc_short': 'sum', 'jar': 'sum', 'pottedplant': 'sum', 'tire': 'sum', 'misc_tall': 'sum', 'total' : 'sum', 'Age < 7' : 'sum', 'Age 7 - 9' : 'sum', 'Age 10 - 14' : 'sum', 'Age 15 - 24' : 'sum', 'Age 25 - 34' : 'sum', 'Age 35 - 44' : 'sum', 'Age 45 - 60' : 'sum', 'Age > 60' : 'sum', 'Total' : 'sum'}\n",
    "df_container_pop = df_container_pop.groupby([df_container_pop['addrcode'].str[:4]]).aggregate(aggregation_function).reset_index()\n",
    "df_container_pop"
   ]
  },
  {
   "cell_type": "code",
   "execution_count": null,
   "metadata": {},
   "outputs": [],
   "source": [
    "#============\n",
    "a = 10\n",
    "#============\n",
    "df_container_pop['Age < 7_bin'] = a * df_container_pop['bin'] / df_container_pop['Age < 7']\n",
    "df_container_pop['Age < 7_bin'] = df_container_pop['Age < 7_bin'].round(3)\n",
    "df_container_pop['Age < 7_bowl'] = a * df_container_pop['bowl'] / df_container_pop['Age < 7']\n",
    "df_container_pop['Age < 7_bowl'] = df_container_pop['Age < 7_bowl'].round(3)\n",
    "df_container_pop['Age < 7_bucket'] = a * df_container_pop['bucket'] / df_container_pop['Age < 7']\n",
    "df_container_pop['Age < 7_bucket'] = df_container_pop['Age < 7_bucket'].round(3)\n",
    "df_container_pop['Age < 7_misc_short'] = a * df_container_pop['misc_short'] / df_container_pop['Age < 7']\n",
    "df_container_pop['Age < 7_misc_short'] = df_container_pop['Age < 7_misc_short'].round(3)\n",
    "df_container_pop['Age < 7_jar'] = a * df_container_pop['jar'] / df_container_pop['Age < 7']\n",
    "df_container_pop['Age < 7_jar'] = df_container_pop['Age < 7_jar'].round(3)\n",
    "df_container_pop['Age < 7_pottedplant'] = a * df_container_pop['pottedplant'] / df_container_pop['Age < 7']\n",
    "df_container_pop['Age < 7_pottedplant'] = df_container_pop['Age < 7_pottedplant'].round(3)\n",
    "df_container_pop['Age < 7_tire'] = a * df_container_pop['tire'] / df_container_pop['Age < 7']\n",
    "df_container_pop['Age < 7_tire'] = df_container_pop['Age < 7_tire'].round(3)\n",
    "df_container_pop['Age < 7_misc_tall'] = a * df_container_pop['misc_tall'] / df_container_pop['Age < 7']\n",
    "df_container_pop['Age < 7_misc_tall'] = df_container_pop['Age < 7_misc_tall'].round(3)\n",
    "df_container_pop['Age < 7_total'] = a * df_container_pop['total'] / df_container_pop['Age < 7']\n",
    "df_container_pop['Age < 7_total'] = df_container_pop['Age < 7_total'].round(3)\n",
    "\n",
    "df_container_pop['Age 7 - 9_bin'] = a * df_container_pop['bin'] / df_container_pop['Age 7 - 9']\n",
    "df_container_pop['Age 7 - 9_bin'] = df_container_pop['Age 7 - 9_bin'].round(3)\n",
    "df_container_pop['Age 7 - 9_bowl'] = a * df_container_pop['bowl'] / df_container_pop['Age 7 - 9']\n",
    "df_container_pop['Age 7 - 9_bowl'] = df_container_pop['Age 7 - 9_bowl'].round(3)\n",
    "df_container_pop['Age 7 - 9_bucket'] = a * df_container_pop['bucket'] / df_container_pop['Age 7 - 9']\n",
    "df_container_pop['Age 7 - 9_bucket'] = df_container_pop['Age 7 - 9_bucket'].round(3)\n",
    "df_container_pop['Age 7 - 9_misc_short'] = a * df_container_pop['misc_short'] / df_container_pop['Age 7 - 9']\n",
    "df_container_pop['Age 7 - 9_misc_short'] = df_container_pop['Age 7 - 9_misc_short'].round(3)\n",
    "df_container_pop['Age 7 - 9_jar'] = a * df_container_pop['jar'] / df_container_pop['Age 7 - 9']\n",
    "df_container_pop['Age 7 - 9_jar'] = df_container_pop['Age 7 - 9_jar'].round(3)\n",
    "df_container_pop['Age 7 - 9_pottedplant'] = a * df_container_pop['pottedplant'] / df_container_pop['Age 7 - 9']\n",
    "df_container_pop['Age 7 - 9_pottedplant'] = df_container_pop['Age 7 - 9_pottedplant'].round(3)\n",
    "df_container_pop['Age 7 - 9_tire'] = a * df_container_pop['tire'] / df_container_pop['Age 7 - 9']\n",
    "df_container_pop['Age 7 - 9_tire'] = df_container_pop['Age 7 - 9_tire'].round(3)\n",
    "df_container_pop['Age 7 - 9_misc_tall'] = a * df_container_pop['misc_tall'] / df_container_pop['Age 7 - 9']\n",
    "df_container_pop['Age 7 - 9_misc_tall'] = df_container_pop['Age 7 - 9_misc_tall'].round(3)\n",
    "df_container_pop['Age 7 - 9_total'] = a * df_container_pop['total'] / df_container_pop['Age 7 - 9']\n",
    "df_container_pop['Age 7 - 9_total'] = df_container_pop['Age 7 - 9_total'].round(3)\n",
    "\n",
    "df_container_pop['Age 10 - 14_bin'] = a * df_container_pop['bin'] / df_container_pop['Age 10 - 14']\n",
    "df_container_pop['Age 10 - 14_bin'] = df_container_pop['Age 10 - 14_bin'].round(3)\n",
    "df_container_pop['Age 10 - 14_bowl'] = a * df_container_pop['bowl'] / df_container_pop['Age 10 - 14']\n",
    "df_container_pop['Age 10 - 14_bowl'] = df_container_pop['Age 10 - 14_bowl'].round(3)\n",
    "df_container_pop['Age 10 - 14_bucket'] = a * df_container_pop['bucket'] / df_container_pop['Age 10 - 14']\n",
    "df_container_pop['Age 10 - 14_bucket'] = df_container_pop['Age 10 - 14_bucket'].round(3)\n",
    "df_container_pop['Age 10 - 14_misc_short'] = a * df_container_pop['misc_short'] / df_container_pop['Age 10 - 14']\n",
    "df_container_pop['Age 10 - 14_misc_short'] = df_container_pop['Age 10 - 14_misc_short'].round(3)\n",
    "df_container_pop['Age 10 - 14_jar'] = a * df_container_pop['jar'] / df_container_pop['Age 10 - 14']\n",
    "df_container_pop['Age 10 - 14_jar'] = df_container_pop['Age 10 - 14_jar'].round(3)\n",
    "df_container_pop['Age 10 - 14_pottedplant'] = a * df_container_pop['pottedplant'] / df_container_pop['Age 10 - 14']\n",
    "df_container_pop['Age 10 - 14_pottedplant'] = df_container_pop['Age 10 - 14_pottedplant'].round(3)\n",
    "df_container_pop['Age 10 - 14_tire'] = a * df_container_pop['tire'] / df_container_pop['Age 10 - 14']\n",
    "df_container_pop['Age 10 - 14_tire'] = df_container_pop['Age 10 - 14_tire'].round(3)\n",
    "df_container_pop['Age 10 - 14_misc_tall'] = a * df_container_pop['misc_tall'] / df_container_pop['Age 10 - 14']\n",
    "df_container_pop['Age 10 - 14_misc_tall'] = df_container_pop['Age 10 - 14_misc_tall'].round(3)\n",
    "df_container_pop['Age 10 - 14_total'] = a * df_container_pop['total'] / df_container_pop['Age 10 - 14']\n",
    "df_container_pop['Age 10 - 14_total'] = df_container_pop['Age 10 - 14_total'].round(3)\n",
    "\n",
    "df_container_pop['Age 15 - 24_bin'] = a * df_container_pop['bin'] / df_container_pop['Age 15 - 24']\n",
    "df_container_pop['Age 15 - 24_bin'] = df_container_pop['Age 15 - 24_bin'].round(3)\n",
    "df_container_pop['Age 15 - 24_bowl'] = a * df_container_pop['bowl'] / df_container_pop['Age 15 - 24']\n",
    "df_container_pop['Age 15 - 24_bowl'] = df_container_pop['Age 15 - 24_bowl'].round(3)\n",
    "df_container_pop['Age 15 - 24_bucket'] = a * df_container_pop['bucket'] / df_container_pop['Age 15 - 24']\n",
    "df_container_pop['Age 15 - 24_bucket'] = df_container_pop['Age 15 - 24_bucket'].round(3)\n",
    "df_container_pop['Age 15 - 24_misc_short'] = a * df_container_pop['misc_short'] / df_container_pop['Age 15 - 24']\n",
    "df_container_pop['Age 15 - 24_misc_short'] = df_container_pop['Age 15 - 24_misc_short'].round(3)\n",
    "df_container_pop['Age 15 - 24_jar'] = a * df_container_pop['jar'] / df_container_pop['Age 15 - 24']\n",
    "df_container_pop['Age 15 - 24_jar'] = df_container_pop['Age 15 - 24_jar'].round(3)\n",
    "df_container_pop['Age 15 - 24_pottedplant'] = a * df_container_pop['pottedplant'] / df_container_pop['Age 15 - 24']\n",
    "df_container_pop['Age 15 - 24_pottedplant'] = df_container_pop['Age 15 - 24_pottedplant'].round(3)\n",
    "df_container_pop['Age 15 - 24_tire'] = a * df_container_pop['tire'] / df_container_pop['Age 15 - 24']\n",
    "df_container_pop['Age 15 - 24_tire'] = df_container_pop['Age 15 - 24_tire'].round(3)\n",
    "df_container_pop['Age 15 - 24_misc_tall'] = a * df_container_pop['misc_tall'] / df_container_pop['Age 15 - 24']\n",
    "df_container_pop['Age 15 - 24_misc_tall'] = df_container_pop['Age 15 - 24_misc_tall'].round(3)\n",
    "df_container_pop['Age 15 - 24_total'] = a * df_container_pop['total'] / df_container_pop['Age 15 - 24']\n",
    "df_container_pop['Age 15 - 24_total'] = df_container_pop['Age 15 - 24_total'].round(3)\n",
    "\n",
    "df_container_pop['Age 25 - 34_bin'] = a * df_container_pop['bin'] / df_container_pop['Age 25 - 34']\n",
    "df_container_pop['Age 25 - 34_bin'] = df_container_pop['Age 25 - 34_bin'].round(3)\n",
    "df_container_pop['Age 25 - 34_bowl'] = a * df_container_pop['bowl'] / df_container_pop['Age 25 - 34']\n",
    "df_container_pop['Age 25 - 34_bowl'] = df_container_pop['Age 25 - 34_bowl'].round(3)\n",
    "df_container_pop['Age 25 - 34_bucket'] = a * df_container_pop['bucket'] / df_container_pop['Age 25 - 34']\n",
    "df_container_pop['Age 25 - 34_bucket'] = df_container_pop['Age 25 - 34_bucket'].round(3)\n",
    "df_container_pop['Age 25 - 34_misc_short'] = a * df_container_pop['misc_short'] / df_container_pop['Age 25 - 34']\n",
    "df_container_pop['Age 25 - 34_misc_short'] = df_container_pop['Age 25 - 34_misc_short'].round(3)\n",
    "df_container_pop['Age 25 - 34_jar'] = a * df_container_pop['jar'] / df_container_pop['Age 25 - 34']\n",
    "df_container_pop['Age 25 - 34_jar'] = df_container_pop['Age 25 - 34_jar'].round(3)\n",
    "df_container_pop['Age 25 - 34_pottedplant'] = a * df_container_pop['pottedplant'] / df_container_pop['Age 25 - 34']\n",
    "df_container_pop['Age 25 - 34_pottedplant'] = df_container_pop['Age 25 - 34_pottedplant'].round(3)\n",
    "df_container_pop['Age 25 - 34_tire'] = a * df_container_pop['tire'] / df_container_pop['Age 25 - 34']\n",
    "df_container_pop['Age 25 - 34_tire'] = df_container_pop['Age 25 - 34_tire'].round(3)\n",
    "df_container_pop['Age 25 - 34_misc_tall'] = a * df_container_pop['misc_tall'] / df_container_pop['Age 25 - 34']\n",
    "df_container_pop['Age 25 - 34_misc_tall'] = df_container_pop['Age 25 - 34_misc_tall'].round(3)\n",
    "df_container_pop['Age 25 - 34_total'] = a * df_container_pop['total'] / df_container_pop['Age 25 - 34']\n",
    "df_container_pop['Age 25 - 34_total'] = df_container_pop['Age 25 - 34_total'].round(3)\n",
    "\n",
    "df_container_pop['Age 35 - 44_bin'] = a * df_container_pop['bin'] / df_container_pop['Age 35 - 44']\n",
    "df_container_pop['Age 35 - 44_bin'] = df_container_pop['Age 35 - 44_bin'].round(3)\n",
    "df_container_pop['Age 35 - 44_bowl'] = a * df_container_pop['bowl'] / df_container_pop['Age 35 - 44']\n",
    "df_container_pop['Age 35 - 44_bowl'] = df_container_pop['Age 35 - 44_bowl'].round(3)\n",
    "df_container_pop['Age 35 - 44_bucket'] = a * df_container_pop['bucket'] / df_container_pop['Age 35 - 44']\n",
    "df_container_pop['Age 35 - 44_bucket'] = df_container_pop['Age 35 - 44_bucket'].round(3)\n",
    "df_container_pop['Age 35 - 44_misc_short'] = a * df_container_pop['misc_short'] / df_container_pop['Age 35 - 44']\n",
    "df_container_pop['Age 35 - 44_misc_short'] = df_container_pop['Age 35 - 44_misc_short'].round(3)\n",
    "df_container_pop['Age 35 - 44_jar'] = a * df_container_pop['jar'] / df_container_pop['Age 35 - 44']\n",
    "df_container_pop['Age 35 - 44_jar'] = df_container_pop['Age 35 - 44_jar'].round(3)\n",
    "df_container_pop['Age 35 - 44_pottedplant'] = a * df_container_pop['pottedplant'] / df_container_pop['Age 35 - 44']\n",
    "df_container_pop['Age 35 - 44_pottedplant'] = df_container_pop['Age 35 - 44_pottedplant'].round(3)\n",
    "df_container_pop['Age 35 - 44_tire'] = a * df_container_pop['tire'] / df_container_pop['Age 35 - 44']\n",
    "df_container_pop['Age 35 - 44_tire'] = df_container_pop['Age 35 - 44_tire'].round(3)\n",
    "df_container_pop['Age 35 - 44_misc_tall'] = a * df_container_pop['misc_tall'] / df_container_pop['Age 35 - 44']\n",
    "df_container_pop['Age 35 - 44_misc_tall'] = df_container_pop['Age 35 - 44_misc_tall'].round(3)\n",
    "df_container_pop['Age 35 - 44_total'] = a * df_container_pop['total'] / df_container_pop['Age 35 - 44']\n",
    "df_container_pop['Age 35 - 44_total'] = df_container_pop['Age 35 - 44_total'].round(3)\n",
    "\n",
    "df_container_pop['Age 45 - 60_bin'] = a * df_container_pop['bin'] / df_container_pop['Age 45 - 60']\n",
    "df_container_pop['Age 45 - 60_bin'] = df_container_pop['Age 45 - 60_bin'].round(3)\n",
    "df_container_pop['Age 45 - 60_bowl'] = a * df_container_pop['bowl'] / df_container_pop['Age 45 - 60']\n",
    "df_container_pop['Age 45 - 60_bowl'] = df_container_pop['Age 45 - 60_bowl'].round(3)\n",
    "df_container_pop['Age 45 - 60_bucket'] = a * df_container_pop['bucket'] / df_container_pop['Age 45 - 60']\n",
    "df_container_pop['Age 45 - 60_bucket'] = df_container_pop['Age 45 - 60_bucket'].round(3)\n",
    "df_container_pop['Age 45 - 60_misc_short'] = a * df_container_pop['misc_short'] / df_container_pop['Age 45 - 60']\n",
    "df_container_pop['Age 45 - 60_misc_short'] = df_container_pop['Age 45 - 60_misc_short'].round(3)\n",
    "df_container_pop['Age 45 - 60_jar'] = a * df_container_pop['jar'] / df_container_pop['Age 45 - 60']\n",
    "df_container_pop['Age 45 - 60_jar'] = df_container_pop['Age 45 - 60_jar'].round(3)\n",
    "df_container_pop['Age 45 - 60_pottedplant'] = a * df_container_pop['pottedplant'] / df_container_pop['Age 45 - 60']\n",
    "df_container_pop['Age 45 - 60_pottedplant'] = df_container_pop['Age 45 - 60_pottedplant'].round(3)\n",
    "df_container_pop['Age 45 - 60_tire'] = a * df_container_pop['tire'] / df_container_pop['Age 45 - 60']\n",
    "df_container_pop['Age 45 - 60_tire'] = df_container_pop['Age 45 - 60_tire'].round(3)\n",
    "df_container_pop['Age 45 - 60_misc_tall'] = a * df_container_pop['misc_tall'] / df_container_pop['Age 45 - 60']\n",
    "df_container_pop['Age 45 - 60_misc_tall'] = df_container_pop['Age 45 - 60_misc_tall'].round(3)\n",
    "df_container_pop['Age 45 - 60_total'] = a * df_container_pop['total'] / df_container_pop['Age 45 - 60']\n",
    "df_container_pop['Age 45 - 60_total'] = df_container_pop['Age 45 - 60_total'].round(3)\n",
    "\n",
    "df_container_pop['Age > 60_bin'] = a * df_container_pop['bin'] / df_container_pop['Age > 60']\n",
    "df_container_pop['Age > 60_bin'] = df_container_pop['Age > 60_bin'].round(3)\n",
    "df_container_pop['Age > 60_bowl'] = a * df_container_pop['bowl'] / df_container_pop['Age > 60']\n",
    "df_container_pop['Age > 60_bowl'] = df_container_pop['Age > 60_bowl'].round(3)\n",
    "df_container_pop['Age > 60_bucket'] = a * df_container_pop['bucket'] / df_container_pop['Age > 60']\n",
    "df_container_pop['Age > 60_bucket'] = df_container_pop['Age > 60_bucket'].round(3)\n",
    "df_container_pop['Age > 60_misc_short'] = a * df_container_pop['misc_short'] / df_container_pop['Age > 60']\n",
    "df_container_pop['Age > 60_misc_short'] = df_container_pop['Age > 60_misc_short'].round(3)\n",
    "df_container_pop['Age > 60_jar'] = a * df_container_pop['jar'] / df_container_pop['Age > 60']\n",
    "df_container_pop['Age > 60_jar'] = df_container_pop['Age > 60_jar'].round(3)\n",
    "df_container_pop['Age > 60_pottedplant'] = a * df_container_pop['pottedplant'] / df_container_pop['Age > 60']\n",
    "df_container_pop['Age > 60_pottedplant'] = df_container_pop['Age > 60_pottedplant'].round(3)\n",
    "df_container_pop['Age > 60_tire'] = a * df_container_pop['tire'] / df_container_pop['Age > 60']\n",
    "df_container_pop['Age > 60_tire'] = df_container_pop['Age > 60_tire'].round(3)\n",
    "df_container_pop['Age > 60_misc_tall'] = a * df_container_pop['misc_tall'] / df_container_pop['Age > 60']\n",
    "df_container_pop['Age > 60_misc_tall'] = df_container_pop['Age > 60_misc_tall'].round(3)\n",
    "df_container_pop['Age > 60_total'] = a * df_container_pop['total'] / df_container_pop['Age > 60']\n",
    "df_container_pop['Age > 60_total'] = df_container_pop['Age > 60_total'].round(3)\n",
    "\n",
    "df_container_pop['Total_bin'] = a * df_container_pop['bin'] / df_container_pop['Total']\n",
    "df_container_pop['Total_bin'] = df_container_pop['Total_bin'].round(3)\n",
    "df_container_pop['Total_bowl'] = a * df_container_pop['bowl'] / df_container_pop['Total']\n",
    "df_container_pop['Total_bowl'] = df_container_pop['Total_bowl'].round(3)\n",
    "df_container_pop['Total_bucket'] = a * df_container_pop['bucket'] / df_container_pop['Total']\n",
    "df_container_pop['Total_bucket'] = df_container_pop['Total_bucket'].round(3)\n",
    "df_container_pop['Total_misc_short'] = a * df_container_pop['misc_short'] / df_container_pop['Total']\n",
    "df_container_pop['Total_misc_short'] = df_container_pop['Total_misc_short'].round(3)\n",
    "df_container_pop['Total_jar'] = a * df_container_pop['jar'] / df_container_pop['Total']\n",
    "df_container_pop['Total_jar'] = df_container_pop['Total_jar'].round(3)\n",
    "df_container_pop['Total_pottedplant'] = a * df_container_pop['pottedplant'] / df_container_pop['Total']\n",
    "df_container_pop['Total_pottedplant'] = df_container_pop['Total_pottedplant'].round(3)\n",
    "df_container_pop['Total_tire'] = a * df_container_pop['tire'] / df_container_pop['Total']\n",
    "df_container_pop['Total_tire'] = df_container_pop['Total_tire'].round(3)\n",
    "df_container_pop['Total_misc_tall'] = a * df_container_pop['misc_tall'] / df_container_pop['Total']\n",
    "df_container_pop['Total_misc_tall'] = df_container_pop['Total_misc_tall'].round(3)\n",
    "df_container_pop['Total_total'] = a * df_container_pop['total'] / df_container_pop['Total']\n",
    "df_container_pop['Total_total'] = df_container_pop['Total_total'].round(3)"
   ]
  },
  {
   "cell_type": "code",
   "execution_count": null,
   "metadata": {},
   "outputs": [],
   "source": [
    "df_container_pop.head()"
   ]
  },
  {
   "cell_type": "code",
   "execution_count": null,
   "metadata": {},
   "outputs": [],
   "source": [
    "df_container_pop.to_csv('a_container_pop_bangkok_dist.csv', encoding = 'utf-8')"
   ]
  },
  {
   "cell_type": "code",
   "execution_count": null,
   "metadata": {},
   "outputs": [],
   "source": []
  },
  {
   "cell_type": "code",
   "execution_count": null,
   "metadata": {},
   "outputs": [],
   "source": []
  },
  {
   "cell_type": "code",
   "execution_count": null,
   "metadata": {},
   "outputs": [],
   "source": []
  },
  {
   "cell_type": "code",
   "execution_count": null,
   "metadata": {},
   "outputs": [],
   "source": []
  },
  {
   "cell_type": "code",
   "execution_count": null,
   "metadata": {},
   "outputs": [],
   "source": []
  },
  {
   "cell_type": "code",
   "execution_count": null,
   "metadata": {},
   "outputs": [],
   "source": []
  },
  {
   "cell_type": "code",
   "execution_count": null,
   "metadata": {},
   "outputs": [],
   "source": []
  },
  {
   "cell_type": "code",
   "execution_count": null,
   "metadata": {},
   "outputs": [],
   "source": []
  },
  {
   "cell_type": "code",
   "execution_count": null,
   "metadata": {},
   "outputs": [],
   "source": []
  },
  {
   "cell_type": "code",
   "execution_count": null,
   "metadata": {},
   "outputs": [],
   "source": []
  },
  {
   "cell_type": "code",
   "execution_count": null,
   "metadata": {},
   "outputs": [],
   "source": []
  },
  {
   "cell_type": "code",
   "execution_count": null,
   "metadata": {},
   "outputs": [],
   "source": []
  }
 ],
 "metadata": {
  "kernelspec": {
   "display_name": "Python 3",
   "language": "python",
   "name": "python3"
  },
  "language_info": {
   "codemirror_mode": {
    "name": "ipython",
    "version": 3
   },
   "file_extension": ".py",
   "mimetype": "text/x-python",
   "name": "python",
   "nbconvert_exporter": "python",
   "pygments_lexer": "ipython3",
   "version": "3.6.5"
  }
 },
 "nbformat": 4,
 "nbformat_minor": 2
}
