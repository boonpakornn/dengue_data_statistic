{
 "cells": [
  {
   "cell_type": "markdown",
   "metadata": {},
   "source": [
    "# Data Statistics"
   ]
  },
  {
   "cell_type": "code",
   "execution_count": 1,
   "metadata": {},
   "outputs": [],
   "source": [
    "import pandas as pd\n",
    "import os\n",
    "import numpy as np\n",
    "import numpy"
   ]
  },
  {
   "cell_type": "markdown",
   "metadata": {},
   "source": [
    "## Data dictionary"
   ]
  },
  {
   "cell_type": "code",
   "execution_count": null,
   "metadata": {},
   "outputs": [],
   "source": [
    "df_dic = pd.read_csv(os.path.join('Data','Other','Dictionary.csv'))\n",
    "df_dic['TA_ID'] = df_dic['TA_ID'].astype(str)\n",
    "df_dic.head()"
   ]
  },
  {
   "cell_type": "code",
   "execution_count": null,
   "metadata": {},
   "outputs": [],
   "source": [
    "df_dic_bangkok_subdist = df_dic.loc[df_dic['TA_ID'].str[:2] == '10']\n",
    "bangkok_subdist = df_dic_bangkok_subdist['TA_ID'].values\n",
    "df_dic_nakhon_subdist = df_dic.loc[df_dic['TA_ID'].str[:2] == '80']\n",
    "nakhon_subdist = df_dic_nakhon_subdist['TA_ID'].values\n",
    "df_dic_krabi_subdist = df_dic.loc[df_dic['TA_ID'].str[:2] == '81']\n",
    "krabi_subdist = df_dic_krabi_subdist['TA_ID'].values"
   ]
  },
  {
   "cell_type": "markdown",
   "metadata": {},
   "source": [
    "## Monthly Breeding Site Detection Data"
   ]
  },
  {
   "cell_type": "code",
   "execution_count": null,
   "metadata": {},
   "outputs": [],
   "source": [
    "df_detection = pd.read_csv(os.path.join('Data','Breeding-sites','csv','addrcode-index','detection.csv'))\n",
    "df_detection.head()"
   ]
  },
  {
   "cell_type": "code",
   "execution_count": null,
   "metadata": {},
   "outputs": [],
   "source": [
    "df_detection['date'] = pd.to_datetime(df_detection['date'],format = '%Y-%m-%d')\n",
    "df_detection['Year'] = df_detection['date'].dt.year\n",
    "df_detection['Month'] = df_detection['date'].dt.month\n",
    "df_detection['addrcode'] = df_detection['addrcode'].astype(str)\n",
    "df_detection['Year'] = df_detection['Year'].astype(str)\n",
    "df_detection['Month'] = df_detection['Month'].astype(str)\n",
    "df_detection = df_detection[['date','Year','Month','addrcode','bin','bowl','bucket','cup','jar','pottedplant','tire','vase','total']]\n",
    "df_detection.head()"
   ]
  },
  {
   "cell_type": "code",
   "execution_count": null,
   "metadata": {},
   "outputs": [],
   "source": [
    "df_detectionmonth = df_detection.groupby([df_detection['addrcode'].str[:2],df_detection['Year'],df_detection['Month']]).size().reset_index(name ='Count')\n",
    "df_detectionmonth.head()"
   ]
  },
  {
   "cell_type": "code",
   "execution_count": null,
   "metadata": {},
   "outputs": [],
   "source": [
    "df_detectionyear = df_detectionmonth.groupby([df_detectionmonth['addrcode'].str[:2],df_detectionmonth['Year']]).size().reset_index(name = 'NumMonth')\n",
    "df_detectionyear"
   ]
  },
  {
   "cell_type": "markdown",
   "metadata": {},
   "source": [
    "## Dengue Data"
   ]
  },
  {
   "cell_type": "markdown",
   "metadata": {},
   "source": [
    "### Compare sub-district in Bangkok"
   ]
  },
  {
   "cell_type": "code",
   "execution_count": null,
   "metadata": {},
   "outputs": [],
   "source": [
    "df_new_dic = pd.read_csv(os.path.join('Data','Other','Newver-Dictionary.csv'))\n",
    "df_new_dic['PV_IDN'] = df_new_dic['PV_IDN'].astype(str)\n",
    "df_new_dic = df_new_dic.loc[df_new_dic['PV_IDN'] == '10']\n",
    "df_new_dic.head()"
   ]
  },
  {
   "cell_type": "code",
   "execution_count": null,
   "metadata": {},
   "outputs": [],
   "source": [
    "df_dic_bangkok_subdist.head()"
   ]
  },
  {
   "cell_type": "code",
   "execution_count": null,
   "metadata": {},
   "outputs": [],
   "source": [
    "df_dic_bangkok_compare = df_dic_bangkok_subdist.iloc[:,[0,1]]\n",
    "df_dic_bangkok_compare.head()"
   ]
  },
  {
   "cell_type": "code",
   "execution_count": null,
   "metadata": {},
   "outputs": [],
   "source": [
    "df_new_dic_bangkok = df_new_dic.iloc[:,[0,1]]\n",
    "df_new_dic_bangkok.head()"
   ]
  },
  {
   "cell_type": "code",
   "execution_count": null,
   "metadata": {},
   "outputs": [],
   "source": [
    "df_new_dic_bangkok.columns = ['TA_ID_NEW', 'TAMBON_T']\n",
    "df_new_dic_bangkok.head()"
   ]
  },
  {
   "cell_type": "code",
   "execution_count": null,
   "metadata": {},
   "outputs": [],
   "source": [
    "result = pd.merge(df_dic_bangkok_compare,df_new_dic_bangkok, on = 'TAMBON_T',how = 'outer')\n",
    "result.head(10)\n",
    "#result.to_csv('compare_subdist_bangkok.csv', encoding = 'utf-8')"
   ]
  },
  {
   "cell_type": "markdown",
   "metadata": {},
   "source": [
    "## Combine Address Code into one column"
   ]
  },
  {
   "cell_type": "code",
   "execution_count": null,
   "metadata": {},
   "outputs": [],
   "source": [
    "df_dengue_2014_2018 = pd.read_csv(os.path.join('Data','Dengue-cases','Dengue fever data','DF_5YEAR_WeekNum.csv'), low_memory = False)\n",
    "df_dengue_2014_2018 = df_dengue_2014_2018.drop('Unnamed: 0', axis = 1)\n",
    "df_dengue_2014_2018['ADDRCODE'] = df_dengue_2014_2018['ADDRCODE'].astype(str)\n",
    "df_dengue_2014_2018['PROVINCE'] = df_dengue_2014_2018['PROVINCE'].astype(str)\n",
    "df_dengue_2014_2018.head()\n"
   ]
  },
  {
   "cell_type": "code",
   "execution_count": null,
   "metadata": {},
   "outputs": [],
   "source": [
    "size = len(df_dengue_2014_2018)\n",
    "size"
   ]
  },
  {
   "cell_type": "code",
   "execution_count": null,
   "metadata": {},
   "outputs": [],
   "source": [
    "addrcode = []\n",
    "for i in range(size):\n",
    "    if len(df_dengue_2014_2018['ADDRCODE'][i]) == 3:\n",
    "        addrcode.append(df_dengue_2014_2018['PROVINCE'][i]+'0'+df_dengue_2014_2018['ADDRCODE'][i])\n",
    "    elif len(df_dengue_2014_2018['ADDRCODE'][i]) == 4:\n",
    "        addrcode.append(df_dengue_2014_2018['PROVINCE'][i]+df_dengue_2014_2018['ADDRCODE'][i])\n",
    "    elif len(df_dengue_2014_2018['ADDRCODE'][i]) == 5:\n",
    "        addrcode.append(df_dengue_2014_2018['PROVINCE'][i]+'0'+df_dengue_2014_2018['ADDRCODE'].str[:3][i])\n",
    "    elif len(df_dengue_2014_2018['ADDRCODE'][i]) == 6:\n",
    "        addrcode.append(df_dengue_2014_2018['PROVINCE'][i]+df_dengue_2014_2018['ADDRCODE'].str[:4][i])\n",
    "    "
   ]
  },
  {
   "cell_type": "code",
   "execution_count": null,
   "metadata": {},
   "outputs": [],
   "source": [
    "df_dengue_2014_2018['addrcode'] = addrcode\n",
    "df_dengue_2014_2018 = df_dengue_2014_2018.drop('ADDRCODE', axis = 1)\n",
    "df_dengue_2014_2018 = df_dengue_2014_2018.drop('PROVINCE', axis = 1)\n",
    "df_dengue_2014_2018 = df_dengue_2014_2018[['addrcode','DATESICK','Year','Month','Day','Weeknum']]\n",
    "df_dengue_2014_2018.columns = ['ADDRCODE','DATESICK','Year','Month','Day','WeekNum']"
   ]
  },
  {
   "cell_type": "code",
   "execution_count": null,
   "metadata": {},
   "outputs": [],
   "source": [
    "df_dengue_2014_2018.head()\n",
    "#df_dengue_2014_2018.to_csv('DF_5YEAR_FINAL.csv', encoding = 'utf-8')"
   ]
  },
  {
   "cell_type": "code",
   "execution_count": null,
   "metadata": {},
   "outputs": [],
   "source": [
    "df_dengue_999999 = df_dengue_2014_2018.loc[df_dengue_2014_2018['ADDRCODE'].str[:4] == '1099']\n",
    "df_dengue_999999"
   ]
  },
  {
   "cell_type": "markdown",
   "metadata": {},
   "source": [
    "## Weekly Dengue cases Data "
   ]
  },
  {
   "cell_type": "code",
   "execution_count": null,
   "metadata": {},
   "outputs": [],
   "source": [
    "list = ['100206','100212','100214','100308','100501','100905','100910',\n",
    "        '101101','101201','101903','102001','102101','102301','102702',\n",
    "        '102703','102704','102705','102901','103202','103402','104002',\n",
    "        '105002','109999',\n",
    "        '800206','800208','800805','801004','801005','801302','801309',\n",
    "        '801503','802701',\n",
    "        '810030','810040','810050','810101','810104','810301','810302',\n",
    "        '810408','810502','810706','810766','810802','811150','813037',\n",
    "        '814011','814012','814031','814034','814036','814038','814039',\n",
    "        '814054','814056','814057','814076','801201','810102'] \n",
    "\n",
    "df_denguecase_weekly = pd.read_csv(os.path.join('Data','Dengue-cases','Dengue fever data','DF_5YEAR_AGG.csv'))\n",
    "df_denguecase_weekly = df_denguecase_weekly.drop('Unnamed: 0', axis = 1)\n",
    "#df_denguecase_weekly.columns = ['addrcode','Year','WeekNum','NumberCases']\n",
    "df_denguecase_weekly['addrcode'] = df_denguecase_weekly['addrcode'].astype(str)\n",
    "df_denguecase_weekly = df_denguecase_weekly.sort_values(['addrcode','Year','WeekNum'])\n",
    "# for i in range(len(list)):\n",
    "#     df_denguecase_weekly = df_denguecase_weekly[df_denguecase_weekly.addrcode != list[i]]\n",
    "# df_denguecase_weekly = df_denguecase_weekly.reset_index()\n",
    "# df_denguecase_weekly = df_denguecase_weekly.drop('index',axis = 1)\n",
    "# df_denguecase_weekly.to_csv('DF_clean.csv',encoding = 'utf-8')\n",
    "#df_denguecase_weekly.tail()"
   ]
  },
  {
   "cell_type": "markdown",
   "metadata": {},
   "source": [
    "## Total number of Dengue cases in each province"
   ]
  },
  {
   "cell_type": "code",
   "execution_count": null,
   "metadata": {},
   "outputs": [],
   "source": [
    "aggregation_function = {'NumberCases': 'sum'}\n",
    "df_weekly_province = df_denguecase_weekly.groupby([df_denguecase_weekly['addrcode'].str[:2]]).aggregate(aggregation_function).reset_index()\n",
    "df_weekly_province"
   ]
  },
  {
   "cell_type": "code",
   "execution_count": null,
   "metadata": {},
   "outputs": [],
   "source": [
    "df_denguecase_weekly.tail()"
   ]
  },
  {
   "cell_type": "markdown",
   "metadata": {},
   "source": [
    "## Fill zero case in no-incidence week"
   ]
  },
  {
   "cell_type": "code",
   "execution_count": null,
   "metadata": {},
   "outputs": [],
   "source": [
    "sizedf = (len(df_denguecase_weekly))+1\n",
    "df_denguecase_weekly.index  = df_denguecase_weekly.index+1\n",
    "df_denguecase_weekly.loc[0] = [100101,2014,1,0]\n",
    "df_denguecase_weekly.loc[sizedf] = [810808,2018,52,0]\n",
    "df_denguecase_weekly =df_denguecase_weekly.sort_index()\n",
    "df_denguecase_weekly.head()"
   ]
  },
  {
   "cell_type": "code",
   "execution_count": null,
   "metadata": {},
   "outputs": [],
   "source": [
    "df_denguecase_weekly.tail()"
   ]
  },
  {
   "cell_type": "code",
   "execution_count": null,
   "metadata": {},
   "outputs": [],
   "source": [
    "size = len(df_denguecase_weekly)\n",
    "count = 1\n",
    "\n",
    "\n",
    "for i in range(size-1):\n",
    "    if df_denguecase_weekly['addrcode'][i+1] == df_denguecase_weekly['addrcode'][i]:\n",
    "        if df_denguecase_weekly['WeekNum'][i+1]-df_denguecase_weekly['WeekNum'][i] < 0:\n",
    "            if df_denguecase_weekly['Year'][i] == 2014:\n",
    "                if df_denguecase_weekly['WeekNum'][i] != 52:\n",
    "                    df_denguecase_weekly.loc[size+1+count] = [df_denguecase_weekly['addrcode'][i],df_denguecase_weekly['Year'][i], 52, 0]\n",
    "                    count = count+1\n",
    "            if df_denguecase_weekly['Year'][i] == 2015:\n",
    "                ## if data in 2015 don't have week 53\n",
    "                if df_denguecase_weekly['WeekNum'][i] != 53:\n",
    "                    df_denguecase_weekly.loc[size+1+count] = [df_denguecase_weekly['addrcode'][i],df_denguecase_weekly['Year'][i], 53, 0]\n",
    "                    count = count+1\n",
    "            if df_denguecase_weekly['Year'][i] == 2016:\n",
    "                if df_denguecase_weekly['WeekNum'][i] != 52:\n",
    "                    df_denguecase_weekly.loc[size+1+count] = [df_denguecase_weekly['addrcode'][i],df_denguecase_weekly['Year'][i], 52, 0]\n",
    "                    count = count+1\n",
    "            if df_denguecase_weekly['Year'][i] == 2017:\n",
    "                if df_denguecase_weekly['WeekNum'][i] != 52:\n",
    "                    df_denguecase_weekly.loc[size+1+count] = [df_denguecase_weekly['addrcode'][i],df_denguecase_weekly['Year'][i], 52, 0]\n",
    "                    count = count+1\n",
    "            if df_denguecase_weekly['Year'][i] == 2018:\n",
    "                if df_denguecase_weekly['WeekNum'][i] != 52:\n",
    "                    df_denguecase_weekly.loc[size+1+count] = [df_denguecase_weekly['addrcode'][i],df_denguecase_weekly['Year'][i], 52, 0]\n",
    "                    count = count+1\n",
    "            ## if year is missing\n",
    "            if(df_denguecase_weekly['Year'][i+1]-df_denguecase_weekly['Year'][i] > 1) :\n",
    "                if(df_denguecase_weekly['Year'][i] == 2014):\n",
    "                    for j in range(53):\n",
    "                        df_denguecase_weekly.loc[size+1+count] = [df_denguecase_weekly['addrcode'][i],df_denguecase_weekly['Year'][i]+1, j+1, 0]\n",
    "                        count = count+1\n",
    "                else:\n",
    "                    for k in range(52):\n",
    "                        df_denguecase_weekly.loc[size+1+count] = [df_denguecase_weekly['addrcode'][i],df_denguecase_weekly['Year'][i]+1, k+1, 0]\n",
    "                        count = count+1\n",
    "                \n",
    "            ## if next year don't have week 1\n",
    "            if df_denguecase_weekly['WeekNum'][i+1] != 1:\n",
    "                df_denguecase_weekly.loc[size+1+count] = [df_denguecase_weekly['addrcode'][i],df_denguecase_weekly['Year'][i+1], 1, 0]\n",
    "                count = count+1\n",
    " \n",
    "    elif df_denguecase_weekly['addrcode'][i+1] != df_denguecase_weekly['addrcode'][i]:\n",
    "        if df_denguecase_weekly['Year'][i+1]-df_denguecase_weekly['Year'][i] < 0:\n",
    "            if(df_denguecase_weekly['Year'][i+1] == 2014):\n",
    "                if(df_denguecase_weekly['WeekNum'][i+1] != 1):\n",
    "                    df_denguecase_weekly.loc[size+1+count] = [df_denguecase_weekly['addrcode'][i+1],2014, 1, 0]\n",
    "df_denguecase_weekly = df_denguecase_weekly.sort_values(['addrcode','Year','WeekNum'])\n",
    "df_denguecase_weekly = df_denguecase_weekly.reset_index()\n",
    "df_denguecase_weekly = df_denguecase_weekly.drop('index', axis=1)       \n",
    "df_denguecase_weekly.head()\n",
    "df_denguecase_weekly.to_csv('DF_5YEAR.csv', encoding = 'utf-8')\n"
   ]
  },
  {
   "cell_type": "code",
   "execution_count": null,
   "metadata": {},
   "outputs": [],
   "source": [
    "size = len(df_denguecase_weekly)\n",
    "size"
   ]
  },
  {
   "cell_type": "code",
   "execution_count": null,
   "metadata": {},
   "outputs": [],
   "source": [
    "## re-loop again for missing week from adding week 1 in previous step\n",
    "count = 1\n",
    "for i in range(size-1):\n",
    "    if df_denguecase_weekly['WeekNum'][i+1]-df_denguecase_weekly['WeekNum'][i] > 1:\n",
    "            numloop = df_denguecase_weekly['WeekNum'][i+1]-df_denguecase_weekly['WeekNum'][i]\n",
    "            for j in range(1,numloop):\n",
    "                df_denguecase_weekly.loc[size+1+count]  = [df_denguecase_weekly['addrcode'][i],df_denguecase_weekly['Year'][i], df_denguecase_weekly['WeekNum'][i]+j, 0]\n",
    "                count = count+1\n",
    "                \n",
    "df_denguecase_weekly = df_denguecase_weekly.sort_values(['addrcode','Year','WeekNum'])\n",
    "df_denguecase_weekly = df_denguecase_weekly.reset_index()\n",
    "df_denguecase_weekly = df_denguecase_weekly.drop('index', axis=1)\n",
    "df_denguecase_weekly.head()\n",
    "#df_denguecase_weekly = df_denguecase_weekly.reset_index()\n",
    "df_denguecase_weekly.to_csv('DF_5YEAR.csv', encoding = 'utf-8')\n"
   ]
  },
  {
   "cell_type": "code",
   "execution_count": null,
   "metadata": {},
   "outputs": [],
   "source": [
    "size = len(df_denguecase_weekly)\n",
    "size"
   ]
  },
  {
   "cell_type": "code",
   "execution_count": null,
   "metadata": {},
   "outputs": [],
   "source": []
  },
  {
   "cell_type": "markdown",
   "metadata": {},
   "source": [
    "## Matching Latitude-Longtitude to Sub-District\n",
    "### Climatic Data"
   ]
  },
  {
   "cell_type": "code",
   "execution_count": null,
   "metadata": {},
   "outputs": [],
   "source": [
    "#df_sub_bangkok = pd.read_csv(os.path.join('Data','Climatic Data Result','Bangkok_subdistrict.csv'))\n",
    "#df_big_area_nakhon_krabi = pd.read_csv(os.path.join('Data','Climatic Data Result','big_area_Nakhon_Krabi_LST.csv'))\n",
    "df_big_area_nakhon_krabi = pd.read_csv(os.path.join('Data','Climatic Data Result','big_area_Nakhon_Krabi_Rainfall.csv'))\n",
    "#df_sub_bangkok['addrcode'] = df_sub_bangkok['addrcode'].astype(str)\n",
    "df_big_area_nakhon_krabi['addrcode'] = df_big_area_nakhon_krabi['addrcode'].astype(str)\n",
    "df_big_area_nakhon_krabi.head()"
   ]
  },
  {
   "cell_type": "code",
   "execution_count": null,
   "metadata": {},
   "outputs": [],
   "source": [
    "df_point_bangkok = pd.read_csv(os.path.join('Data','Sub-district_point','BMA_LT.csv'))"
   ]
  },
  {
   "cell_type": "code",
   "execution_count": null,
   "metadata": {},
   "outputs": [],
   "source": [
    "df_point_bangkok['X'] = df_point_bangkok['X'].astype(str)\n",
    "df_point_bangkok['Y'] = df_point_bangkok['Y'].astype(str)\n",
    "df_point_bangkok['X'] = df_point_bangkok['X'].str[:7]\n",
    "df_point_bangkok['Y'] = df_point_bangkok['Y'].str[:7]\n",
    "df_point_bangkok = df_point_bangkok.drop('BMA_CODE', axis = 1)\n",
    "df_point_bangkok.columns = ['X','Y','addrcode']\n",
    "df_point_bangkok['addrcode'] = df_point_bangkok['addrcode'].astype(str)\n",
    "#df_point_bangkok.head()"
   ]
  },
  {
   "cell_type": "code",
   "execution_count": null,
   "metadata": {},
   "outputs": [],
   "source": [
    "df_point_nakhon_krabi = pd.read_csv(os.path.join('Data','Climatic Data Result','XY_Coordinate_Nakhon_Krabi.csv'))"
   ]
  },
  {
   "cell_type": "code",
   "execution_count": null,
   "metadata": {},
   "outputs": [],
   "source": [
    "df_point_nakhon_krabi.head()"
   ]
  },
  {
   "cell_type": "code",
   "execution_count": null,
   "metadata": {},
   "outputs": [],
   "source": [
    "df_point_nakhon_krabi['X'] = df_point_nakhon_krabi['X'].astype(str)\n",
    "df_point_nakhon_krabi['Y'] = df_point_nakhon_krabi['Y'].astype(str)\n",
    "df_point_nakhon_krabi['X'] = df_point_nakhon_krabi['X'].str[:7]\n",
    "df_point_nakhon_krabi['Y'] = df_point_nakhon_krabi['Y'].str[:7]\n",
    "df_point_nakhon_krabi['addrcode'] = df_point_nakhon_krabi['addrcode'].astype(str)\n",
    "df_point_nakhon_krabi.head()"
   ]
  },
  {
   "cell_type": "markdown",
   "metadata": {},
   "source": [
    "### Bangkok LST"
   ]
  },
  {
   "cell_type": "code",
   "execution_count": null,
   "metadata": {},
   "outputs": [],
   "source": [
    "from tqdm import tqdm\n",
    "from os import listdir\n",
    "path = '/Users/boonpakornnonthaleerak/Documents/GitHub/dengue_data_statistics/Data/Climatic Data Result/LST Result/'\n",
    "filename = []\n",
    "filelist= listdir(path)\n",
    "for f in tqdm(filelist):\n",
    "    if f.endswith('Bangkok.csv'):\n",
    "        filename.append(f)"
   ]
  },
  {
   "cell_type": "code",
   "execution_count": null,
   "metadata": {},
   "outputs": [],
   "source": [
    "len(filename)"
   ]
  },
  {
   "cell_type": "code",
   "execution_count": null,
   "metadata": {},
   "outputs": [],
   "source": [
    "## === Small Area ===\n",
    "for filename in filename:\n",
    "    if filename.startswith('Small'):\n",
    "        df_temp = pd.read_csv(os.path.join(path+filename))\n",
    "        df_temp['X'] = df_temp['X'].astype(str)\n",
    "        df_temp['Y'] = df_temp['Y'].astype(str)\n",
    "        df_temp['X'] = df_temp['X'].str[:7]\n",
    "        df_temp['Y'] = df_temp['Y'].str[:7]\n",
    "        df_temp.head()\n",
    "\n",
    "        df_result = pd.merge(df_temp,df_point_bangkok,how = 'inner', on = ['X','Y'])\n",
    "        df_result = df_result.drop(['SUBDIST_BM','X','Y'],axis = 1)\n",
    "        df_result['MOD11C2_20'] = df_result['MOD11C2_20']*0.02-273.15\n",
    "        df_result['MOD11C2_20'] = df_result['MOD11C2_20'].round(2)\n",
    "        df_result = df_result[['SCODE_BMA','MOD11C2_20']]\n",
    "        df_result.columns = ['addrcode','temperature']\n",
    "        df_result['temperature'].loc[df_result['temperature'] <0 ] = 0\n",
    "        df_result.to_csv(path+'Code_'+filename, encoding = 'utf-8') \n",
    "    else:\n",
    "        continue"
   ]
  },
  {
   "cell_type": "code",
   "execution_count": null,
   "metadata": {},
   "outputs": [],
   "source": [
    "## === Big Area ===\n",
    "for filename in filename:\n",
    "    if filename.startswith('MOD'):\n",
    "        df_temp = pd.read_csv(os.path.join(path+filename))\n",
    "        df_temp = df_temp.drop(['ZONE_CODE','COUNT','AREA','MIN','MAX','RANGE','STD','SUM','VARIETY','MAJORITY','MINORITY','MEDIAN'], axis = 1)\n",
    "        df_temp['SUB_CODE']= df_temp['SUB_CODE']+100000\n",
    "        df_temp['SUB_CODE'] = df_temp['SUB_CODE'].astype(str)\n",
    "        df_temp['MEAN'].loc[df_temp['MEAN'] > 7500 ] = df_temp['MEAN']*0.02-273.15\n",
    "        df_temp['MEAN'] = df_temp['MEAN'].round(2)\n",
    "        df_temp['MEAN'].loc[df_temp['MEAN'] <0 ] = 0\n",
    "        df_temp.columns = ['addrcode','temperature']\n",
    "        df_temp.head()\n",
    "        df_result = pd.merge(df_temp,df_bigarea_bangkok,how = 'outer', on ='addrcode')\n",
    "        df_result = df_result.fillna(0)\n",
    "        df_result = df_result[['addrcode','temperature']]\n",
    "        df_result.to_csv(path+'Code_'+filename, encoding = 'utf-8')\n",
    "    else:\n",
    "        continue\n"
   ]
  },
  {
   "cell_type": "markdown",
   "metadata": {},
   "source": [
    "### Nakhon-Krabi LST"
   ]
  },
  {
   "cell_type": "code",
   "execution_count": null,
   "metadata": {},
   "outputs": [],
   "source": [
    "from tqdm import tqdm\n",
    "from os import listdir\n",
    "#path = '/Users/boonpakornnonthaleerak/Documents/GitHub/dengue_data_statistics/Data/Climatic Data Result/LST Result/'\n",
    "path = '/Users/boonpakornnonthaleerak/Documents/GitHub/dengue_data_statistics/Data/Climatic Data Result/Rainfall Result/'\n",
    "filename = []\n",
    "filelist= listdir(path)\n",
    "for f in tqdm(filelist):\n",
    "    if f.endswith('Nakhon_Krabi.csv'):\n",
    "        filename.append(f)"
   ]
  },
  {
   "cell_type": "code",
   "execution_count": null,
   "metadata": {},
   "outputs": [],
   "source": [
    "len(filename)"
   ]
  },
  {
   "cell_type": "code",
   "execution_count": null,
   "metadata": {},
   "outputs": [],
   "source": [
    "## === Small Area ===\n",
    "for filename in filename:\n",
    "    if filename.startswith('Small'):\n",
    "        df_temp = pd.read_csv(os.path.join(path+filename))\n",
    "        df_temp['X'] = df_temp['X'].astype(str)\n",
    "        df_temp['Y'] = df_temp['Y'].astype(str)\n",
    "        df_temp['X'] = df_temp['X'].str[:7]\n",
    "        df_temp['Y'] = df_temp['Y'].str[:7]\n",
    "        df_temp.head()\n",
    "\n",
    "        df_result = pd.merge(df_temp,df_point_nakhon_krabi,how = 'inner', on = ['X','Y'])\n",
    "        df_result = df_result.drop(['POINT_NAKH','X','Y','TB_EN','OLD_TB_IDN'],axis = 1)\n",
    "        #df_result['MOD11C2_20'] = df_result['MOD11C2_20']*0.02-273.15\n",
    "        #df_result['MOD11C2_20'] = df_result['MOD11C2_20'].round(2)\n",
    "        #df_result['MOD11C2_20'].loc[df_result['MOD11C2_20'] < 0] = None\n",
    "        #df_result.columns = ['temperature','addrcode']\n",
    "        #df_result = df_result[['addrcode','temperature']]\n",
    "        df_result.columns = ['rainfall','addrcode']\n",
    "        df_result = df_result[['addrcode','rainfall']]\n",
    "        df_result['rainfall'] = df_result['rainfall'].round(2)\n",
    "        df_result['rainfall'].loc[df_result['rainfall'] < 0] = None\n",
    "        df_result = df_result[['addrcode','rainfall']]\n",
    "        \n",
    "        df_result.to_csv(path+'Code_'+filename, encoding = 'utf-8') \n",
    "    else:\n",
    "        continue"
   ]
  },
  {
   "cell_type": "code",
   "execution_count": null,
   "metadata": {},
   "outputs": [],
   "source": [
    "## === Big Area ===\n",
    "for filename in filename:\n",
    "    #if filename.startswith('MOD'):\n",
    "    if filename.startswith('P_Rain'):\n",
    "        df_temp = pd.read_csv(os.path.join(path+filename))\n",
    "\n",
    "        #df_temp = df_temp.drop(['ZONE_CODE','COUNT','AREA','MIN','MAX','RANGE','STD','SUM','VARIETY','MAJORITY','MINORITY','MEDIAN'], axis = 1)\n",
    "        #df_temp['TB_IDN'] = df_temp['TB_IDN'].astype(str)\n",
    "        #df_temp.head()\n",
    "        #df_temp['MEAN'].loc[df_temp['MEAN'] > 7500 ] = df_temp['MEAN']*0.02-273.15\n",
    "        #df_temp['MEAN'] = df_temp['MEAN'].round(2)\n",
    "        #df_temp['MEAN'].loc[df_temp['MEAN'] <0 ] = None\n",
    "        #df_temp.columns = ['addrcode','temperature']\n",
    "        df_temp = df_temp.drop(['ZONE_CODE','COUNT','AREA','MIN','MAX','RANGE','STD','SUM'], axis = 1)\n",
    "        df_temp['MEAN'] = df_temp['MEAN'].round(2)\n",
    "        df_temp.columns = ['addrcode','rainfall']\n",
    "        df_temp['addrcode'] = df_temp['addrcode'].astype(str)\n",
    "        \n",
    "        df_result = pd.merge(df_temp,df_big_area_nakhon_krabi,how = 'outer', on ='addrcode')\n",
    "        df_result.to_csv(path+'Code_'+filename, encoding = 'utf-8')\n",
    "            \n",
    "    else:\n",
    "        continue\n",
    "\n"
   ]
  },
  {
   "cell_type": "markdown",
   "metadata": {},
   "source": [
    "## Combine all files"
   ]
  },
  {
   "cell_type": "code",
   "execution_count": null,
   "metadata": {},
   "outputs": [],
   "source": [
    "des_path = '/Users/boonpakornnonthaleerak/Documents/GitHub/dengue_data_statistics/Data/Climatic Data Result/'\n",
    "all = []\n",
    "for filename in filename:\n",
    "    if filename.startswith('Code_'):\n",
    "        df_com = pd.read_csv(os.path.join(path+filename))\n",
    "        if filename.startswith('Code_Small_'):\n",
    "            #weekday = filename[:-17][17:] \n",
    "            #day = weekday[4:]\n",
    "            #year = weekday[:4]\n",
    "            #df_com['Day'] = day\n",
    "            weekday = filename[:-17][17:] \n",
    "            if(len(weekday) == 6): \n",
    "                year = weekday[2:]\n",
    "                week = weekday[:1]\n",
    "            elif(len(weekday) == 7): \n",
    "                year = weekday[3:]\n",
    "                week = weekday[:2]\n",
    "            \n",
    "            df_com['Week'] = week\n",
    "            df_com['Year'] = year\n",
    "            all.append(df_com)\n",
    "        #elif filename.startswith('Code_MOD'):\n",
    "        elif filename.startswith('Code_P'):\n",
    "            \n",
    "            year = weekday[4:]\n",
    "            week = weekday[:2]\n",
    "            #weekday = filename[:-17][11:]\n",
    "            #year = weekday[:4]\n",
    "            #day = weekday[4:]\n",
    "            #df_com['Day'] = day\n",
    "            weekday = filename[:-17][11:]\n",
    "            if(len(weekday) == 6):    \n",
    "                year = weekday[2:]\n",
    "                week = weekday[:1]\n",
    "            elif(len(weekday) == 7):\n",
    "                year = weekday[3:]\n",
    "                week = weekday[:2]\n",
    "            \n",
    "            df_com['Week'] = week\n",
    "            df_com['Year'] = year\n",
    "            all.append(df_com)\n",
    "\n",
    "big_frame = pd.concat(all, ignore_index=True)\n",
    "big_frame = big_frame.drop('Unnamed: 0', axis = 1)\n",
    "big_frame.to_csv(des_path+ 'Rainfall_Nakhon_Krabi_avg.csv', encoding = 'utf-8')\n"
   ]
  },
  {
   "cell_type": "markdown",
   "metadata": {},
   "source": [
    "## Delete missing sub-district '801201', '810102'"
   ]
  },
  {
   "cell_type": "code",
   "execution_count": null,
   "metadata": {},
   "outputs": [],
   "source": [
    "invalid = ['801201','810102']"
   ]
  },
  {
   "cell_type": "code",
   "execution_count": null,
   "metadata": {},
   "outputs": [],
   "source": [
    "df_rainfall = pd.read_csv(os.path.join('Data','Climatic Data','Rainfall_Nakhon_Krabi.csv'))\n",
    "df_rainfall = df_rainfall.drop('Unnamed: 0',axis = 1)\n",
    "df_rainfall['addrcode'] = df_rainfall['addrcode'].astype(str)\n",
    "df_rainfall.head()\n"
   ]
  },
  {
   "cell_type": "code",
   "execution_count": null,
   "metadata": {},
   "outputs": [],
   "source": [
    "len(df_rainfall)"
   ]
  },
  {
   "cell_type": "code",
   "execution_count": null,
   "metadata": {},
   "outputs": [],
   "source": [
    "for i in range(len(invalid)):\n",
    "    df_rainfall = df_rainfall[df_rainfall.addrcode != invalid[i]]"
   ]
  },
  {
   "cell_type": "code",
   "execution_count": null,
   "metadata": {},
   "outputs": [],
   "source": [
    "len(df_rainfall)"
   ]
  },
  {
   "cell_type": "code",
   "execution_count": null,
   "metadata": {},
   "outputs": [],
   "source": [
    "df_rainfall.to_csv('Rainfall_Nakhon_Krabi_clean.csv', encoding ='utf-8')"
   ]
  },
  {
   "cell_type": "code",
   "execution_count": null,
   "metadata": {},
   "outputs": [],
   "source": [
    "df_LST = pd.read_csv(os.path.join('Data','Climatic Data Result','LST_Nakhon_Krabi.csv'))\n",
    "df_LST = df_LST.drop('Unnamed: 0',axis = 1)\n",
    "df_LST['addrcode'] = df_LST['addrcode'].astype(str)\n",
    "df_LST.head()"
   ]
  },
  {
   "cell_type": "code",
   "execution_count": null,
   "metadata": {},
   "outputs": [],
   "source": [
    "len(df_LST)"
   ]
  },
  {
   "cell_type": "code",
   "execution_count": null,
   "metadata": {},
   "outputs": [],
   "source": [
    "for i in range(len(invalid)):\n",
    "    df_LST = df_LST[df_LST.addrcode != invalid[i]]"
   ]
  },
  {
   "cell_type": "code",
   "execution_count": null,
   "metadata": {},
   "outputs": [],
   "source": [
    "len(df_LST)"
   ]
  },
  {
   "cell_type": "code",
   "execution_count": null,
   "metadata": {},
   "outputs": [],
   "source": [
    "df_LST.to_csv('LST_Nakhon_Krabi_clean.csv', encoding ='utf-8')"
   ]
  },
  {
   "cell_type": "markdown",
   "metadata": {},
   "source": [
    "## Checking missing sub-district of Container detection"
   ]
  },
  {
   "cell_type": "code",
   "execution_count": null,
   "metadata": {},
   "outputs": [],
   "source": [
    "df_detection = pd.read_csv(os.path.join('Data','Breeding-sites','csv','addrcode-index','detection.csv'))\n",
    "df_detection.head()"
   ]
  },
  {
   "cell_type": "code",
   "execution_count": null,
   "metadata": {},
   "outputs": [],
   "source": [
    "df_allsub = pd.read_csv(os.path.join('Data','Climatic Data Result','addrcode_subdistrict.csv'))\n",
    "df_allsub.head()"
   ]
  },
  {
   "cell_type": "code",
   "execution_count": null,
   "metadata": {},
   "outputs": [],
   "source": [
    "df_missing = pd.merge(df_detection,df_allsub, how = 'outer', on = 'addrcode')\n",
    "df_missing.head()\n",
    "#df_missing.to_csv('detection_check.csv', encoding = 'utf-8')"
   ]
  },
  {
   "cell_type": "markdown",
   "metadata": {},
   "source": [
    "## Delete missing sub-district for Container detection"
   ]
  },
  {
   "cell_type": "code",
   "execution_count": null,
   "metadata": {},
   "outputs": [],
   "source": [
    "invalid = ['801302','801503','810101','810301','810302','810502','810802','801201','810102']"
   ]
  },
  {
   "cell_type": "code",
   "execution_count": null,
   "metadata": {},
   "outputs": [],
   "source": [
    "df_rainfall = pd.read_csv(os.path.join('Data','Climatic Data','Rainfall_Nakhon_Krabi.csv'))\n",
    "df_rainfall = df_rainfall.drop('Unnamed: 0',axis = 1)\n",
    "df_rainfall['addrcode'] = df_rainfall['addrcode'].astype(str)\n",
    "df_rainfall.head()"
   ]
  },
  {
   "cell_type": "code",
   "execution_count": null,
   "metadata": {},
   "outputs": [],
   "source": [
    "len(df_rainfall)"
   ]
  },
  {
   "cell_type": "code",
   "execution_count": null,
   "metadata": {},
   "outputs": [],
   "source": [
    "for i in range(len(invalid)):\n",
    "    df_rainfall = df_rainfall[df_rainfall.addrcode != invalid[i]]"
   ]
  },
  {
   "cell_type": "code",
   "execution_count": null,
   "metadata": {},
   "outputs": [],
   "source": [
    "len(df_rainfall)"
   ]
  },
  {
   "cell_type": "code",
   "execution_count": null,
   "metadata": {},
   "outputs": [],
   "source": [
    "df_rainfall.to_csv('Rainfall_Nakhon_Krabi_Autocorrelation.csv', encoding ='utf-8')"
   ]
  },
  {
   "cell_type": "markdown",
   "metadata": {},
   "source": [
    "## Creating DF "
   ]
  },
  {
   "cell_type": "code",
   "execution_count": 3,
   "metadata": {},
   "outputs": [
    {
     "data": {
      "text/plain": [
       "100101"
      ]
     },
     "execution_count": 3,
     "metadata": {},
     "output_type": "execute_result"
    }
   ],
   "source": [
    "df_allsub = pd.read_csv(os.path.join('Data','Climatic Data Result','addrcode_subdistrict.csv'))\n",
    "df_allsub['addrcode'][0]"
   ]
  },
  {
   "cell_type": "code",
   "execution_count": 4,
   "metadata": {},
   "outputs": [
    {
     "data": {
      "text/html": [
       "<div>\n",
       "<style scoped>\n",
       "    .dataframe tbody tr th:only-of-type {\n",
       "        vertical-align: middle;\n",
       "    }\n",
       "\n",
       "    .dataframe tbody tr th {\n",
       "        vertical-align: top;\n",
       "    }\n",
       "\n",
       "    .dataframe thead th {\n",
       "        text-align: right;\n",
       "    }\n",
       "</style>\n",
       "<table border=\"1\" class=\"dataframe\">\n",
       "  <thead>\n",
       "    <tr style=\"text-align: right;\">\n",
       "      <th></th>\n",
       "      <th>addrcode</th>\n",
       "      <th>Year</th>\n",
       "      <th>WeekNum</th>\n",
       "      <th>NumberCases</th>\n",
       "    </tr>\n",
       "  </thead>\n",
       "  <tbody>\n",
       "  </tbody>\n",
       "</table>\n",
       "</div>"
      ],
      "text/plain": [
       "Empty DataFrame\n",
       "Columns: [addrcode, Year, WeekNum, NumberCases]\n",
       "Index: []"
      ]
     },
     "execution_count": 4,
     "metadata": {},
     "output_type": "execute_result"
    }
   ],
   "source": [
    "df_dengue = pd.DataFrame(columns=['addrcode','Year','WeekNum','NumberCases'])\n",
    "df_dengue"
   ]
  },
  {
   "cell_type": "code",
   "execution_count": 5,
   "metadata": {},
   "outputs": [
    {
     "data": {
      "text/plain": [
       "390"
      ]
     },
     "execution_count": 5,
     "metadata": {},
     "output_type": "execute_result"
    }
   ],
   "source": [
    "len(df_allsub)"
   ]
  },
  {
   "cell_type": "code",
   "execution_count": 6,
   "metadata": {},
   "outputs": [],
   "source": [
    "size = len(df_dengue)"
   ]
  },
  {
   "cell_type": "code",
   "execution_count": 7,
   "metadata": {},
   "outputs": [],
   "source": [
    "count = 0"
   ]
  },
  {
   "cell_type": "code",
   "execution_count": 8,
   "metadata": {},
   "outputs": [],
   "source": [
    "\n",
    "for i in range(len(df_allsub)):\n",
    "    for j in range(52):\n",
    "        df_dengue.loc[count] = [df_allsub['addrcode'][i],2014,j+1,0]\n",
    "        count = count+1\n",
    "    for k in range(53):\n",
    "        df_dengue.loc[count] = [df_allsub['addrcode'][i],2015,k+1,0]\n",
    "        count = count+1\n",
    "    for l in range(52):\n",
    "        df_dengue.loc[count] = [df_allsub['addrcode'][i],2016,l+1,0]\n",
    "        count = count+1\n",
    "    for m in range(52):\n",
    "        df_dengue.loc[count] = [df_allsub['addrcode'][i],2017,m+1,0]\n",
    "        count = count+1\n",
    "    for n in range(24):\n",
    "        df_dengue.loc[count] = [df_allsub['addrcode'][i],2018,n+1,0]\n",
    "        count = count+1"
   ]
  },
  {
   "cell_type": "code",
   "execution_count": 9,
   "metadata": {},
   "outputs": [],
   "source": [
    "df_dengue\n",
    "df_dengue.to_csv('DF_0.csv',encoding = 'utf-8')"
   ]
  },
  {
   "cell_type": "code",
   "execution_count": 18,
   "metadata": {},
   "outputs": [
    {
     "data": {
      "text/html": [
       "<div>\n",
       "<style scoped>\n",
       "    .dataframe tbody tr th:only-of-type {\n",
       "        vertical-align: middle;\n",
       "    }\n",
       "\n",
       "    .dataframe tbody tr th {\n",
       "        vertical-align: top;\n",
       "    }\n",
       "\n",
       "    .dataframe thead th {\n",
       "        text-align: right;\n",
       "    }\n",
       "</style>\n",
       "<table border=\"1\" class=\"dataframe\">\n",
       "  <thead>\n",
       "    <tr style=\"text-align: right;\">\n",
       "      <th></th>\n",
       "      <th>addrcode</th>\n",
       "      <th>Year</th>\n",
       "      <th>WeekNum</th>\n",
       "      <th>NumberCases</th>\n",
       "    </tr>\n",
       "  </thead>\n",
       "  <tbody>\n",
       "    <tr>\n",
       "      <th>0</th>\n",
       "      <td>100101</td>\n",
       "      <td>2014</td>\n",
       "      <td>47</td>\n",
       "      <td>1</td>\n",
       "    </tr>\n",
       "    <tr>\n",
       "      <th>1</th>\n",
       "      <td>100101</td>\n",
       "      <td>2015</td>\n",
       "      <td>4</td>\n",
       "      <td>1</td>\n",
       "    </tr>\n",
       "    <tr>\n",
       "      <th>2</th>\n",
       "      <td>100101</td>\n",
       "      <td>2015</td>\n",
       "      <td>21</td>\n",
       "      <td>1</td>\n",
       "    </tr>\n",
       "    <tr>\n",
       "      <th>3</th>\n",
       "      <td>100101</td>\n",
       "      <td>2015</td>\n",
       "      <td>22</td>\n",
       "      <td>1</td>\n",
       "    </tr>\n",
       "    <tr>\n",
       "      <th>4</th>\n",
       "      <td>100101</td>\n",
       "      <td>2015</td>\n",
       "      <td>27</td>\n",
       "      <td>1</td>\n",
       "    </tr>\n",
       "  </tbody>\n",
       "</table>\n",
       "</div>"
      ],
      "text/plain": [
       "   addrcode  Year  WeekNum  NumberCases\n",
       "0    100101  2014       47            1\n",
       "1    100101  2015        4            1\n",
       "2    100101  2015       21            1\n",
       "3    100101  2015       22            1\n",
       "4    100101  2015       27            1"
      ]
     },
     "execution_count": 18,
     "metadata": {},
     "output_type": "execute_result"
    }
   ],
   "source": [
    "df_dengue_agg = pd.read_csv(os.path.join('Data','Dengue-cases','Dengue fever Data','DF_5YEAR_AGG.csv'))\n",
    "df_dengue_agg = df_dengue_agg.drop('Unnamed: 0',axis = 1)\n",
    "df_dengue_agg.head()"
   ]
  },
  {
   "cell_type": "code",
   "execution_count": 19,
   "metadata": {},
   "outputs": [],
   "source": [
    "list = ['100206','100212','100214','100308','100501','100905','100910',\n",
    "        '101101','101201','101903','102001','102101','102301','102702',\n",
    "        '102703','102704','102705','102901','103202','103402','104002',\n",
    "        '105002','109999',\n",
    "        '800104','800206','800208','800805','801004','801005','801302',\n",
    "        '801309','801503','802701',\n",
    "        '810030','810040','810050','810101','810104','810301','810302',\n",
    "        '810408','810502','810706','810766','810802','811150','813037',\n",
    "        '814011','814012','814031','814034','814036','814038','814039',\n",
    "        '814054','814056','814057','814076','801201','810102'] \n",
    "\n",
    "df_dengue = pd.read_csv(os.path.join('Data','Dengue-cases','Dengue fever data','DF_0.csv'))\n",
    "df_dengue = df_dengue.drop('Unnamed: 0', axis = 1)\n",
    "df_dengue['addrcode'] = df_dengue['addrcode'].astype(str)\n",
    "df_dengue_agg['addrcode'] = df_dengue_agg['addrcode'].astype(str)\n",
    "df_dengue = df_dengue.sort_values(['addrcode','Year','WeekNum'])\n",
    "for i in range(len(list)):\n",
    "     df_dengue = df_dengue[df_dengue.addrcode != list[i]]\n",
    "for i in range(len(list)):\n",
    "     df_dengue_agg = df_dengue_agg[df_dengue_agg.addrcode != list[i]]\n",
    "df_dengue = df_dengue.reset_index()\n",
    "df_dengue = df_dengue.drop('index',axis = 1)\n",
    "#df_dengue.to_csv('DF_00.csv',encoding = 'utf-8')\n",
    "#df_denguecase_weekly.tail()"
   ]
  },
  {
   "cell_type": "code",
   "execution_count": 20,
   "metadata": {},
   "outputs": [
    {
     "data": {
      "text/plain": [
       "86909"
      ]
     },
     "execution_count": 20,
     "metadata": {},
     "output_type": "execute_result"
    }
   ],
   "source": [
    "len(df_dengue)"
   ]
  },
  {
   "cell_type": "code",
   "execution_count": 21,
   "metadata": {},
   "outputs": [],
   "source": [
    "df_df = df_dengue.append(df_dengue_agg)\n",
    "df_df['addrcode'] = df_df['addrcode'].astype(str)"
   ]
  },
  {
   "cell_type": "code",
   "execution_count": 22,
   "metadata": {},
   "outputs": [
    {
     "data": {
      "text/html": [
       "<div>\n",
       "<style scoped>\n",
       "    .dataframe tbody tr th:only-of-type {\n",
       "        vertical-align: middle;\n",
       "    }\n",
       "\n",
       "    .dataframe tbody tr th {\n",
       "        vertical-align: top;\n",
       "    }\n",
       "\n",
       "    .dataframe thead th {\n",
       "        text-align: right;\n",
       "    }\n",
       "</style>\n",
       "<table border=\"1\" class=\"dataframe\">\n",
       "  <thead>\n",
       "    <tr style=\"text-align: right;\">\n",
       "      <th></th>\n",
       "      <th>addrcode</th>\n",
       "      <th>Year</th>\n",
       "      <th>WeekNum</th>\n",
       "      <th>NumberCases</th>\n",
       "    </tr>\n",
       "  </thead>\n",
       "  <tbody>\n",
       "    <tr>\n",
       "      <th>0</th>\n",
       "      <td>100101</td>\n",
       "      <td>2014</td>\n",
       "      <td>1</td>\n",
       "      <td>0</td>\n",
       "    </tr>\n",
       "    <tr>\n",
       "      <th>1</th>\n",
       "      <td>100101</td>\n",
       "      <td>2014</td>\n",
       "      <td>2</td>\n",
       "      <td>0</td>\n",
       "    </tr>\n",
       "    <tr>\n",
       "      <th>2</th>\n",
       "      <td>100101</td>\n",
       "      <td>2014</td>\n",
       "      <td>3</td>\n",
       "      <td>0</td>\n",
       "    </tr>\n",
       "    <tr>\n",
       "      <th>3</th>\n",
       "      <td>100101</td>\n",
       "      <td>2014</td>\n",
       "      <td>4</td>\n",
       "      <td>0</td>\n",
       "    </tr>\n",
       "    <tr>\n",
       "      <th>4</th>\n",
       "      <td>100101</td>\n",
       "      <td>2014</td>\n",
       "      <td>5</td>\n",
       "      <td>0</td>\n",
       "    </tr>\n",
       "  </tbody>\n",
       "</table>\n",
       "</div>"
      ],
      "text/plain": [
       "  addrcode  Year  WeekNum  NumberCases\n",
       "0   100101  2014        1            0\n",
       "1   100101  2014        2            0\n",
       "2   100101  2014        3            0\n",
       "3   100101  2014        4            0\n",
       "4   100101  2014        5            0"
      ]
     },
     "execution_count": 22,
     "metadata": {},
     "output_type": "execute_result"
    }
   ],
   "source": [
    "df_df = df_df.reset_index()\n",
    "df_df = df_df.drop('index', axis = 1)\n",
    "df_df.head()"
   ]
  },
  {
   "cell_type": "code",
   "execution_count": 23,
   "metadata": {},
   "outputs": [
    {
     "data": {
      "text/plain": [
       "87008"
      ]
     },
     "execution_count": 23,
     "metadata": {},
     "output_type": "execute_result"
    }
   ],
   "source": [
    "aggregation_function = {'NumberCases': 'sum'}\n",
    "df_df = df_df.groupby([df_df['addrcode'],df_df['Year'],df_df['WeekNum']]).aggregate(aggregation_function).reset_index()\n",
    "df_df.head()\n",
    "len(df_df)"
   ]
  },
  {
   "cell_type": "code",
   "execution_count": 24,
   "metadata": {},
   "outputs": [],
   "source": [
    "df_df.to_csv('DF.csv',encoding = 'utf-8')"
   ]
  },
  {
   "cell_type": "markdown",
   "metadata": {},
   "source": [
    "## Dengue Case per Area"
   ]
  },
  {
   "cell_type": "code",
   "execution_count": 36,
   "metadata": {},
   "outputs": [
    {
     "data": {
      "text/html": [
       "<div>\n",
       "<style scoped>\n",
       "    .dataframe tbody tr th:only-of-type {\n",
       "        vertical-align: middle;\n",
       "    }\n",
       "\n",
       "    .dataframe tbody tr th {\n",
       "        vertical-align: top;\n",
       "    }\n",
       "\n",
       "    .dataframe thead th {\n",
       "        text-align: right;\n",
       "    }\n",
       "</style>\n",
       "<table border=\"1\" class=\"dataframe\">\n",
       "  <thead>\n",
       "    <tr style=\"text-align: right;\">\n",
       "      <th></th>\n",
       "      <th>addrcode</th>\n",
       "      <th>Year</th>\n",
       "      <th>WeekNum</th>\n",
       "      <th>NumberCases</th>\n",
       "    </tr>\n",
       "  </thead>\n",
       "  <tbody>\n",
       "    <tr>\n",
       "      <th>0</th>\n",
       "      <td>100101</td>\n",
       "      <td>2014</td>\n",
       "      <td>1</td>\n",
       "      <td>0</td>\n",
       "    </tr>\n",
       "    <tr>\n",
       "      <th>1</th>\n",
       "      <td>100101</td>\n",
       "      <td>2014</td>\n",
       "      <td>2</td>\n",
       "      <td>0</td>\n",
       "    </tr>\n",
       "    <tr>\n",
       "      <th>2</th>\n",
       "      <td>100101</td>\n",
       "      <td>2014</td>\n",
       "      <td>3</td>\n",
       "      <td>0</td>\n",
       "    </tr>\n",
       "    <tr>\n",
       "      <th>3</th>\n",
       "      <td>100101</td>\n",
       "      <td>2014</td>\n",
       "      <td>4</td>\n",
       "      <td>0</td>\n",
       "    </tr>\n",
       "    <tr>\n",
       "      <th>4</th>\n",
       "      <td>100101</td>\n",
       "      <td>2014</td>\n",
       "      <td>5</td>\n",
       "      <td>0</td>\n",
       "    </tr>\n",
       "  </tbody>\n",
       "</table>\n",
       "</div>"
      ],
      "text/plain": [
       "  addrcode  Year  WeekNum  NumberCases\n",
       "0   100101  2014        1            0\n",
       "1   100101  2014        2            0\n",
       "2   100101  2014        3            0\n",
       "3   100101  2014        4            0\n",
       "4   100101  2014        5            0"
      ]
     },
     "execution_count": 36,
     "metadata": {},
     "output_type": "execute_result"
    }
   ],
   "source": [
    "df_dengue = pd.read_csv(os.path.join('Data','Dengue-cases','Dengue fever data','DF.csv'))\n",
    "df_dengue['addrcode'] = df_dengue['addrcode'].astype(str)\n",
    "df_dengue.head()"
   ]
  },
  {
   "cell_type": "code",
   "execution_count": 97,
   "metadata": {},
   "outputs": [
    {
     "data": {
      "text/html": [
       "<div>\n",
       "<style scoped>\n",
       "    .dataframe tbody tr th:only-of-type {\n",
       "        vertical-align: middle;\n",
       "    }\n",
       "\n",
       "    .dataframe tbody tr th {\n",
       "        vertical-align: top;\n",
       "    }\n",
       "\n",
       "    .dataframe thead th {\n",
       "        text-align: right;\n",
       "    }\n",
       "</style>\n",
       "<table border=\"1\" class=\"dataframe\">\n",
       "  <thead>\n",
       "    <tr style=\"text-align: right;\">\n",
       "      <th></th>\n",
       "      <th>addrcode</th>\n",
       "      <th>area</th>\n",
       "    </tr>\n",
       "  </thead>\n",
       "  <tbody>\n",
       "    <tr>\n",
       "      <th>0</th>\n",
       "      <td>100101</td>\n",
       "      <td>14.11</td>\n",
       "    </tr>\n",
       "    <tr>\n",
       "      <th>1</th>\n",
       "      <td>100102</td>\n",
       "      <td>6.62</td>\n",
       "    </tr>\n",
       "    <tr>\n",
       "      <th>2</th>\n",
       "      <td>100103</td>\n",
       "      <td>1.97</td>\n",
       "    </tr>\n",
       "    <tr>\n",
       "      <th>3</th>\n",
       "      <td>100104</td>\n",
       "      <td>2.15</td>\n",
       "    </tr>\n",
       "    <tr>\n",
       "      <th>4</th>\n",
       "      <td>100105</td>\n",
       "      <td>1.39</td>\n",
       "    </tr>\n",
       "  </tbody>\n",
       "</table>\n",
       "</div>"
      ],
      "text/plain": [
       "  addrcode   area\n",
       "0   100101  14.11\n",
       "1   100102   6.62\n",
       "2   100103   1.97\n",
       "3   100104   2.15\n",
       "4   100105   1.39"
      ]
     },
     "execution_count": 97,
     "metadata": {},
     "output_type": "execute_result"
    }
   ],
   "source": [
    "df_subdist_area = pd.read_csv(os.path.join('Data','Area and GSV','csv','subdistricts-area.csv'))\n",
    "df_subdist_area['addrcode'] = df_subdist_area['addrcode'].astype(str)\n",
    "df_subdist_area.head()"
   ]
  },
  {
   "cell_type": "code",
   "execution_count": 98,
   "metadata": {},
   "outputs": [
    {
     "data": {
      "text/html": [
       "<div>\n",
       "<style scoped>\n",
       "    .dataframe tbody tr th:only-of-type {\n",
       "        vertical-align: middle;\n",
       "    }\n",
       "\n",
       "    .dataframe tbody tr th {\n",
       "        vertical-align: top;\n",
       "    }\n",
       "\n",
       "    .dataframe thead th {\n",
       "        text-align: right;\n",
       "    }\n",
       "</style>\n",
       "<table border=\"1\" class=\"dataframe\">\n",
       "  <thead>\n",
       "    <tr style=\"text-align: right;\">\n",
       "      <th></th>\n",
       "      <th>addrcode</th>\n",
       "      <th>area</th>\n",
       "    </tr>\n",
       "  </thead>\n",
       "  <tbody>\n",
       "    <tr>\n",
       "      <th>0</th>\n",
       "      <td>1001</td>\n",
       "      <td>49.81</td>\n",
       "    </tr>\n",
       "    <tr>\n",
       "      <th>1</th>\n",
       "      <td>1002</td>\n",
       "      <td>105.24</td>\n",
       "    </tr>\n",
       "    <tr>\n",
       "      <th>2</th>\n",
       "      <td>1003</td>\n",
       "      <td>2233.36</td>\n",
       "    </tr>\n",
       "    <tr>\n",
       "      <th>3</th>\n",
       "      <td>1004</td>\n",
       "      <td>37.26</td>\n",
       "    </tr>\n",
       "    <tr>\n",
       "      <th>4</th>\n",
       "      <td>1005</td>\n",
       "      <td>380.54</td>\n",
       "    </tr>\n",
       "  </tbody>\n",
       "</table>\n",
       "</div>"
      ],
      "text/plain": [
       "  addrcode     area\n",
       "0     1001    49.81\n",
       "1     1002   105.24\n",
       "2     1003  2233.36\n",
       "3     1004    37.26\n",
       "4     1005   380.54"
      ]
     },
     "execution_count": 98,
     "metadata": {},
     "output_type": "execute_result"
    }
   ],
   "source": [
    "aggregation_function = {'area': 'sum'}\n",
    "df_dist_area = df_subdist_area.groupby(df_subdist_area['addrcode'].str[:4]).aggregate(aggregation_function).reset_index()\n",
    "df_dist_area.head()"
   ]
  },
  {
   "cell_type": "code",
   "execution_count": 47,
   "metadata": {},
   "outputs": [
    {
     "data": {
      "text/html": [
       "<div>\n",
       "<style scoped>\n",
       "    .dataframe tbody tr th:only-of-type {\n",
       "        vertical-align: middle;\n",
       "    }\n",
       "\n",
       "    .dataframe tbody tr th {\n",
       "        vertical-align: top;\n",
       "    }\n",
       "\n",
       "    .dataframe thead th {\n",
       "        text-align: right;\n",
       "    }\n",
       "</style>\n",
       "<table border=\"1\" class=\"dataframe\">\n",
       "  <thead>\n",
       "    <tr style=\"text-align: right;\">\n",
       "      <th></th>\n",
       "      <th>addrcode</th>\n",
       "      <th>Year</th>\n",
       "      <th>WeekNum</th>\n",
       "      <th>NumberCases</th>\n",
       "      <th>area</th>\n",
       "      <th>DFpA</th>\n",
       "    </tr>\n",
       "  </thead>\n",
       "  <tbody>\n",
       "    <tr>\n",
       "      <th>86904</th>\n",
       "      <td>810808</td>\n",
       "      <td>2018</td>\n",
       "      <td>20</td>\n",
       "      <td>1</td>\n",
       "      <td>107.845</td>\n",
       "      <td>0.009273</td>\n",
       "    </tr>\n",
       "    <tr>\n",
       "      <th>86905</th>\n",
       "      <td>810808</td>\n",
       "      <td>2018</td>\n",
       "      <td>21</td>\n",
       "      <td>0</td>\n",
       "      <td>107.845</td>\n",
       "      <td>0.000000</td>\n",
       "    </tr>\n",
       "    <tr>\n",
       "      <th>86906</th>\n",
       "      <td>810808</td>\n",
       "      <td>2018</td>\n",
       "      <td>22</td>\n",
       "      <td>0</td>\n",
       "      <td>107.845</td>\n",
       "      <td>0.000000</td>\n",
       "    </tr>\n",
       "    <tr>\n",
       "      <th>86907</th>\n",
       "      <td>810808</td>\n",
       "      <td>2018</td>\n",
       "      <td>23</td>\n",
       "      <td>0</td>\n",
       "      <td>107.845</td>\n",
       "      <td>0.000000</td>\n",
       "    </tr>\n",
       "    <tr>\n",
       "      <th>86908</th>\n",
       "      <td>810808</td>\n",
       "      <td>2018</td>\n",
       "      <td>24</td>\n",
       "      <td>0</td>\n",
       "      <td>107.845</td>\n",
       "      <td>0.000000</td>\n",
       "    </tr>\n",
       "  </tbody>\n",
       "</table>\n",
       "</div>"
      ],
      "text/plain": [
       "      addrcode  Year  WeekNum  NumberCases     area      DFpA\n",
       "86904   810808  2018       20            1  107.845  0.009273\n",
       "86905   810808  2018       21            0  107.845  0.000000\n",
       "86906   810808  2018       22            0  107.845  0.000000\n",
       "86907   810808  2018       23            0  107.845  0.000000\n",
       "86908   810808  2018       24            0  107.845  0.000000"
      ]
     },
     "execution_count": 47,
     "metadata": {},
     "output_type": "execute_result"
    }
   ],
   "source": [
    "df_df_area = pd.merge(df_dengue,df_subdist_area, on = 'addrcode', how = 'inner')\n",
    "df_df_area['area'] = df_df_area['area']/10\n",
    "df_df_area['DFpA'] = df_df_area['NumberCases']/df_df_area['area']\n",
    "df_df_area.tail()"
   ]
  },
  {
   "cell_type": "code",
   "execution_count": 48,
   "metadata": {},
   "outputs": [],
   "source": [
    "df_df_area.to_csv('DFpArea.csv', encoding='utf-8')"
   ]
  },
  {
   "cell_type": "markdown",
   "metadata": {},
   "source": [
    "## Dengue case per 10000 population"
   ]
  },
  {
   "cell_type": "code",
   "execution_count": 23,
   "metadata": {},
   "outputs": [
    {
     "data": {
      "text/html": [
       "<div>\n",
       "<style scoped>\n",
       "    .dataframe tbody tr th:only-of-type {\n",
       "        vertical-align: middle;\n",
       "    }\n",
       "\n",
       "    .dataframe tbody tr th {\n",
       "        vertical-align: top;\n",
       "    }\n",
       "\n",
       "    .dataframe thead th {\n",
       "        text-align: right;\n",
       "    }\n",
       "</style>\n",
       "<table border=\"1\" class=\"dataframe\">\n",
       "  <thead>\n",
       "    <tr style=\"text-align: right;\">\n",
       "      <th></th>\n",
       "      <th>addrcode</th>\n",
       "      <th>Year</th>\n",
       "      <th>WeekNum</th>\n",
       "      <th>NumberCases</th>\n",
       "    </tr>\n",
       "  </thead>\n",
       "  <tbody>\n",
       "    <tr>\n",
       "      <th>0</th>\n",
       "      <td>100101</td>\n",
       "      <td>2014</td>\n",
       "      <td>1</td>\n",
       "      <td>0</td>\n",
       "    </tr>\n",
       "    <tr>\n",
       "      <th>1</th>\n",
       "      <td>100101</td>\n",
       "      <td>2014</td>\n",
       "      <td>2</td>\n",
       "      <td>0</td>\n",
       "    </tr>\n",
       "    <tr>\n",
       "      <th>2</th>\n",
       "      <td>100101</td>\n",
       "      <td>2014</td>\n",
       "      <td>3</td>\n",
       "      <td>0</td>\n",
       "    </tr>\n",
       "    <tr>\n",
       "      <th>3</th>\n",
       "      <td>100101</td>\n",
       "      <td>2014</td>\n",
       "      <td>4</td>\n",
       "      <td>0</td>\n",
       "    </tr>\n",
       "    <tr>\n",
       "      <th>4</th>\n",
       "      <td>100101</td>\n",
       "      <td>2014</td>\n",
       "      <td>5</td>\n",
       "      <td>0</td>\n",
       "    </tr>\n",
       "  </tbody>\n",
       "</table>\n",
       "</div>"
      ],
      "text/plain": [
       "  addrcode  Year  WeekNum  NumberCases\n",
       "0   100101  2014        1            0\n",
       "1   100101  2014        2            0\n",
       "2   100101  2014        3            0\n",
       "3   100101  2014        4            0\n",
       "4   100101  2014        5            0"
      ]
     },
     "execution_count": 23,
     "metadata": {},
     "output_type": "execute_result"
    }
   ],
   "source": [
    "df_dengue = pd.read_csv(os.path.join('Data','Dengue-cases','Dengue fever data','DF.csv'))\n",
    "df_dengue['addrcode'] = df_dengue['addrcode'].astype(str)\n",
    "df_dengue.head()"
   ]
  },
  {
   "cell_type": "code",
   "execution_count": 24,
   "metadata": {},
   "outputs": [
    {
     "data": {
      "text/html": [
       "<div>\n",
       "<style scoped>\n",
       "    .dataframe tbody tr th:only-of-type {\n",
       "        vertical-align: middle;\n",
       "    }\n",
       "\n",
       "    .dataframe tbody tr th {\n",
       "        vertical-align: top;\n",
       "    }\n",
       "\n",
       "    .dataframe thead th {\n",
       "        text-align: right;\n",
       "    }\n",
       "</style>\n",
       "<table border=\"1\" class=\"dataframe\">\n",
       "  <thead>\n",
       "    <tr style=\"text-align: right;\">\n",
       "      <th></th>\n",
       "      <th>addrcode</th>\n",
       "      <th>population</th>\n",
       "    </tr>\n",
       "  </thead>\n",
       "  <tbody>\n",
       "    <tr>\n",
       "      <th>0</th>\n",
       "      <td>800101</td>\n",
       "      <td>4.3678</td>\n",
       "    </tr>\n",
       "    <tr>\n",
       "      <th>1</th>\n",
       "      <td>800102</td>\n",
       "      <td>1.7380</td>\n",
       "    </tr>\n",
       "    <tr>\n",
       "      <th>2</th>\n",
       "      <td>800103</td>\n",
       "      <td>1.7835</td>\n",
       "    </tr>\n",
       "    <tr>\n",
       "      <th>3</th>\n",
       "      <td>800106</td>\n",
       "      <td>0.8177</td>\n",
       "    </tr>\n",
       "    <tr>\n",
       "      <th>4</th>\n",
       "      <td>800107</td>\n",
       "      <td>1.4884</td>\n",
       "    </tr>\n",
       "  </tbody>\n",
       "</table>\n",
       "</div>"
      ],
      "text/plain": [
       "  addrcode  population\n",
       "0   800101      4.3678\n",
       "1   800102      1.7380\n",
       "2   800103      1.7835\n",
       "3   800106      0.8177\n",
       "4   800107      1.4884"
      ]
     },
     "execution_count": 24,
     "metadata": {},
     "output_type": "execute_result"
    }
   ],
   "source": [
    "df_pop = pd.read_csv(os.path.join('Data','Population','addrcode-index','population.csv'))\n",
    "df_pop['addrcode'] = df_pop['addrcode'].astype(str)\n",
    "df_pop['population'] = df_pop['population'] / 10000\n",
    "df_pop.head()"
   ]
  },
  {
   "cell_type": "code",
   "execution_count": 25,
   "metadata": {},
   "outputs": [
    {
     "data": {
      "text/html": [
       "<div>\n",
       "<style scoped>\n",
       "    .dataframe tbody tr th:only-of-type {\n",
       "        vertical-align: middle;\n",
       "    }\n",
       "\n",
       "    .dataframe tbody tr th {\n",
       "        vertical-align: top;\n",
       "    }\n",
       "\n",
       "    .dataframe thead th {\n",
       "        text-align: right;\n",
       "    }\n",
       "</style>\n",
       "<table border=\"1\" class=\"dataframe\">\n",
       "  <thead>\n",
       "    <tr style=\"text-align: right;\">\n",
       "      <th></th>\n",
       "      <th>addrcode</th>\n",
       "      <th>Year</th>\n",
       "      <th>WeekNum</th>\n",
       "      <th>NumberCases</th>\n",
       "      <th>population</th>\n",
       "      <th>DFp10000Pop</th>\n",
       "    </tr>\n",
       "  </thead>\n",
       "  <tbody>\n",
       "    <tr>\n",
       "      <th>89001</th>\n",
       "      <td>810808</td>\n",
       "      <td>2018</td>\n",
       "      <td>20</td>\n",
       "      <td>1</td>\n",
       "      <td>0.7416</td>\n",
       "      <td>1.348436</td>\n",
       "    </tr>\n",
       "    <tr>\n",
       "      <th>89002</th>\n",
       "      <td>810808</td>\n",
       "      <td>2018</td>\n",
       "      <td>21</td>\n",
       "      <td>0</td>\n",
       "      <td>0.7416</td>\n",
       "      <td>0.000000</td>\n",
       "    </tr>\n",
       "    <tr>\n",
       "      <th>89003</th>\n",
       "      <td>810808</td>\n",
       "      <td>2018</td>\n",
       "      <td>22</td>\n",
       "      <td>0</td>\n",
       "      <td>0.7416</td>\n",
       "      <td>0.000000</td>\n",
       "    </tr>\n",
       "    <tr>\n",
       "      <th>89004</th>\n",
       "      <td>810808</td>\n",
       "      <td>2018</td>\n",
       "      <td>23</td>\n",
       "      <td>0</td>\n",
       "      <td>0.7416</td>\n",
       "      <td>0.000000</td>\n",
       "    </tr>\n",
       "    <tr>\n",
       "      <th>89005</th>\n",
       "      <td>810808</td>\n",
       "      <td>2018</td>\n",
       "      <td>24</td>\n",
       "      <td>0</td>\n",
       "      <td>0.7416</td>\n",
       "      <td>0.000000</td>\n",
       "    </tr>\n",
       "  </tbody>\n",
       "</table>\n",
       "</div>"
      ],
      "text/plain": [
       "      addrcode  Year  WeekNum  NumberCases  population  DFp10000Pop\n",
       "89001   810808  2018       20            1      0.7416     1.348436\n",
       "89002   810808  2018       21            0      0.7416     0.000000\n",
       "89003   810808  2018       22            0      0.7416     0.000000\n",
       "89004   810808  2018       23            0      0.7416     0.000000\n",
       "89005   810808  2018       24            0      0.7416     0.000000"
      ]
     },
     "execution_count": 25,
     "metadata": {},
     "output_type": "execute_result"
    }
   ],
   "source": [
    "df_df_pop = pd.merge(df_dengue,df_pop, on = 'addrcode', how = 'inner')\n",
    "df_df_pop['DFp10000Pop'] = df_df_pop['NumberCases']/df_df_pop['population']\n",
    "df_df_pop.tail()"
   ]
  },
  {
   "cell_type": "code",
   "execution_count": 27,
   "metadata": {},
   "outputs": [
    {
     "data": {
      "text/html": [
       "<div>\n",
       "<style scoped>\n",
       "    .dataframe tbody tr th:only-of-type {\n",
       "        vertical-align: middle;\n",
       "    }\n",
       "\n",
       "    .dataframe tbody tr th {\n",
       "        vertical-align: top;\n",
       "    }\n",
       "\n",
       "    .dataframe thead th {\n",
       "        text-align: right;\n",
       "    }\n",
       "</style>\n",
       "<table border=\"1\" class=\"dataframe\">\n",
       "  <thead>\n",
       "    <tr style=\"text-align: right;\">\n",
       "      <th></th>\n",
       "      <th>addrcode</th>\n",
       "      <th>DFp10000Pop</th>\n",
       "    </tr>\n",
       "  </thead>\n",
       "  <tbody>\n",
       "    <tr>\n",
       "      <th>0</th>\n",
       "      <td>100101</td>\n",
       "      <td>63.585229</td>\n",
       "    </tr>\n",
       "    <tr>\n",
       "      <th>1</th>\n",
       "      <td>100102</td>\n",
       "      <td>42.292422</td>\n",
       "    </tr>\n",
       "    <tr>\n",
       "      <th>2</th>\n",
       "      <td>100103</td>\n",
       "      <td>79.365079</td>\n",
       "    </tr>\n",
       "    <tr>\n",
       "      <th>3</th>\n",
       "      <td>100104</td>\n",
       "      <td>84.523463</td>\n",
       "    </tr>\n",
       "    <tr>\n",
       "      <th>4</th>\n",
       "      <td>100105</td>\n",
       "      <td>54.878049</td>\n",
       "    </tr>\n",
       "  </tbody>\n",
       "</table>\n",
       "</div>"
      ],
      "text/plain": [
       "  addrcode  DFp10000Pop\n",
       "0   100101    63.585229\n",
       "1   100102    42.292422\n",
       "2   100103    79.365079\n",
       "3   100104    84.523463\n",
       "4   100105    54.878049"
      ]
     },
     "execution_count": 27,
     "metadata": {},
     "output_type": "execute_result"
    }
   ],
   "source": [
    "aggregation_function = {'DFp10000Pop': 'sum'}\n",
    "df_df_pop = df_df_pop.groupby(df_df_pop['addrcode']).aggregate(aggregation_function).reset_index()\n",
    "df_df_pop.head()"
   ]
  },
  {
   "cell_type": "code",
   "execution_count": 28,
   "metadata": {},
   "outputs": [],
   "source": [
    "df_df_pop.to_csv('DFp10000Population.csv', encoding='utf-8')"
   ]
  },
  {
   "cell_type": "code",
   "execution_count": 31,
   "metadata": {},
   "outputs": [
    {
     "name": "stderr",
     "output_type": "stream",
     "text": [
      "/Library/Frameworks/Python.framework/Versions/3.6/lib/python3.6/site-packages/ipykernel_launcher.py:2: SettingWithCopyWarning: \n",
      "A value is trying to be set on a copy of a slice from a DataFrame.\n",
      "Try using .loc[row_indexer,col_indexer] = value instead\n",
      "\n",
      "See the caveats in the documentation: http://pandas.pydata.org/pandas-docs/stable/indexing.html#indexing-view-versus-copy\n",
      "  \n",
      "/Library/Frameworks/Python.framework/Versions/3.6/lib/python3.6/site-packages/ipykernel_launcher.py:4: SettingWithCopyWarning: \n",
      "A value is trying to be set on a copy of a slice from a DataFrame.\n",
      "Try using .loc[row_indexer,col_indexer] = value instead\n",
      "\n",
      "See the caveats in the documentation: http://pandas.pydata.org/pandas-docs/stable/indexing.html#indexing-view-versus-copy\n",
      "  after removing the cwd from sys.path.\n",
      "/Library/Frameworks/Python.framework/Versions/3.6/lib/python3.6/site-packages/ipykernel_launcher.py:6: SettingWithCopyWarning: \n",
      "A value is trying to be set on a copy of a slice from a DataFrame.\n",
      "Try using .loc[row_indexer,col_indexer] = value instead\n",
      "\n",
      "See the caveats in the documentation: http://pandas.pydata.org/pandas-docs/stable/indexing.html#indexing-view-versus-copy\n",
      "  \n"
     ]
    }
   ],
   "source": [
    "df_df_pop_bangkok = df_df_pop.loc[df_df_pop['addrcode'].str[:2] == '10']\n",
    "df_df_pop_bangkok['DFp10000Pop'] = df_df_pop_bangkok['DFp10000Pop'].round(3)\n",
    "df_df_pop_nst = df_df_pop.loc[df_df_pop['addrcode'].str[:2] == '80']\n",
    "df_df_pop_nst['DFp10000Pop'] = df_df_pop_nst['DFp10000Pop'].round(3)\n",
    "df_df_pop_krabi = df_df_pop.loc[df_df_pop['addrcode'].str[:2] == '81']\n",
    "df_df_pop_krabi['DFp10000Pop'] = df_df_pop_krabi['DFp10000Pop'].round(3)"
   ]
  },
  {
   "cell_type": "code",
   "execution_count": 32,
   "metadata": {},
   "outputs": [],
   "source": [
    "df_df_pop_bangkok.to_csv('DFp10000Population_Bangkok.csv', encoding='utf-8')\n",
    "df_df_pop_nst.to_csv('DFp10000Population_NST.csv', encoding='utf-8')\n",
    "df_df_pop_krabi.to_csv('DFp10000Population_Krabi.csv', encoding='utf-8')"
   ]
  },
  {
   "cell_type": "markdown",
   "metadata": {},
   "source": [
    "### District level"
   ]
  },
  {
   "cell_type": "code",
   "execution_count": 36,
   "metadata": {},
   "outputs": [],
   "source": [
    "aggregation_function = {'DFp10000Pop': 'sum'}\n",
    "df_df_pop_bangkok_dist = df_df_pop_bangkok.groupby(df_df_pop_bangkok['addrcode'].str[:4]).aggregate(aggregation_function).reset_index()\n",
    "df_df_pop_nst_dist = df_df_pop_nst.groupby(df_df_pop_nst['addrcode'].str[:4]).aggregate(aggregation_function).reset_index()\n",
    "df_df_pop_krabi_dist = df_df_pop_krabi.groupby(df_df_pop_krabi['addrcode'].str[:4]).aggregate(aggregation_function).reset_index()"
   ]
  },
  {
   "cell_type": "code",
   "execution_count": 37,
   "metadata": {},
   "outputs": [],
   "source": [
    "df_df_pop_bangkok_dist.to_csv('DFp10000Population_Bangkok_District.csv', encoding='utf-8')\n",
    "df_df_pop_nst_dist.to_csv('DFp10000Population_NST_District.csv', encoding='utf-8')\n",
    "df_df_pop_krabi_dist.to_csv('DFp10000Population_Krabi_District.csv', encoding='utf-8')"
   ]
  },
  {
   "cell_type": "markdown",
   "metadata": {},
   "source": [
    "## Container Density [Sub-district]"
   ]
  },
  {
   "cell_type": "code",
   "execution_count": 78,
   "metadata": {},
   "outputs": [],
   "source": [
    "df_detection = pd.read_csv(os.path.join('Data','Breeding-sites','csv','addrcode-index','detection.csv'))\n",
    "df_detection['addrcode'] = df_detection['addrcode'].astype(str)\n",
    "df_detection = df_detection.drop('date',axis = 1)\n"
   ]
  },
  {
   "cell_type": "code",
   "execution_count": 79,
   "metadata": {},
   "outputs": [],
   "source": [
    "list = ['102702','102703']\n",
    "for i in range(len(list)):\n",
    "     df_detection = df_detection[df_detection.addrcode != list[i]]\n"
   ]
  },
  {
   "cell_type": "code",
   "execution_count": 80,
   "metadata": {},
   "outputs": [],
   "source": [
    "df_detection_bangkok = df_detection.loc[df_detection['addrcode'].str[:2] == '10']\n",
    "df_detection_bangkok = df_detection_bangkok.reset_index()\n",
    "df_detection_bangkok = df_detection_bangkok.drop('index',axis = 1)\n",
    "df_detection_bangkok.to_csv('container_bangkok_subdist.csv',encoding = 'utf-8')\n",
    "df_detection_krabi = df_detection.loc[df_detection['addrcode'].str[:2] == '81']\n",
    "df_detection_krabi = df_detection_krabi.reset_index()\n",
    "df_detection_krabi = df_detection_krabi.drop('index',axis = 1)\n",
    "df_detection_krabi.to_csv('container_krabi_subdist.csv',encoding = 'utf-8')\n",
    "df_detection_nst = df_detection.loc[df_detection['addrcode'].str[:2] == '80']\n",
    "df_detection_nst = df_detection_nst.reset_index()\n",
    "df_detection_nst = df_detection_nst.drop('index',axis = 1)\n",
    "df_detection_nst.to_csv('container_NST_subdist.csv',encoding = 'utf-8')"
   ]
  },
  {
   "cell_type": "code",
   "execution_count": 64,
   "metadata": {},
   "outputs": [
    {
     "data": {
      "text/html": [
       "<div>\n",
       "<style scoped>\n",
       "    .dataframe tbody tr th:only-of-type {\n",
       "        vertical-align: middle;\n",
       "    }\n",
       "\n",
       "    .dataframe tbody tr th {\n",
       "        vertical-align: top;\n",
       "    }\n",
       "\n",
       "    .dataframe thead th {\n",
       "        text-align: right;\n",
       "    }\n",
       "</style>\n",
       "<table border=\"1\" class=\"dataframe\">\n",
       "  <thead>\n",
       "    <tr style=\"text-align: right;\">\n",
       "      <th></th>\n",
       "      <th>addrcode</th>\n",
       "      <th>bin</th>\n",
       "      <th>bowl</th>\n",
       "      <th>bucket</th>\n",
       "      <th>misc_short</th>\n",
       "      <th>jar</th>\n",
       "      <th>pottedplant</th>\n",
       "      <th>tire</th>\n",
       "      <th>misc_tall</th>\n",
       "      <th>total</th>\n",
       "      <th>area</th>\n",
       "    </tr>\n",
       "  </thead>\n",
       "  <tbody>\n",
       "    <tr>\n",
       "      <th>0</th>\n",
       "      <td>800204</td>\n",
       "      <td>147</td>\n",
       "      <td>1</td>\n",
       "      <td>314</td>\n",
       "      <td>2</td>\n",
       "      <td>0</td>\n",
       "      <td>177</td>\n",
       "      <td>37</td>\n",
       "      <td>0</td>\n",
       "      <td>678</td>\n",
       "      <td>107.058</td>\n",
       "    </tr>\n",
       "    <tr>\n",
       "      <th>1</th>\n",
       "      <td>800807</td>\n",
       "      <td>38</td>\n",
       "      <td>2</td>\n",
       "      <td>184</td>\n",
       "      <td>1</td>\n",
       "      <td>1</td>\n",
       "      <td>147</td>\n",
       "      <td>32</td>\n",
       "      <td>1</td>\n",
       "      <td>406</td>\n",
       "      <td>34.144</td>\n",
       "    </tr>\n",
       "    <tr>\n",
       "      <th>2</th>\n",
       "      <td>800120</td>\n",
       "      <td>128</td>\n",
       "      <td>16</td>\n",
       "      <td>787</td>\n",
       "      <td>20</td>\n",
       "      <td>47</td>\n",
       "      <td>907</td>\n",
       "      <td>150</td>\n",
       "      <td>2</td>\n",
       "      <td>2057</td>\n",
       "      <td>85.609</td>\n",
       "    </tr>\n",
       "    <tr>\n",
       "      <th>3</th>\n",
       "      <td>800501</td>\n",
       "      <td>35</td>\n",
       "      <td>0</td>\n",
       "      <td>107</td>\n",
       "      <td>2</td>\n",
       "      <td>0</td>\n",
       "      <td>72</td>\n",
       "      <td>8</td>\n",
       "      <td>0</td>\n",
       "      <td>224</td>\n",
       "      <td>45.183</td>\n",
       "    </tr>\n",
       "    <tr>\n",
       "      <th>4</th>\n",
       "      <td>800810</td>\n",
       "      <td>15</td>\n",
       "      <td>0</td>\n",
       "      <td>34</td>\n",
       "      <td>0</td>\n",
       "      <td>0</td>\n",
       "      <td>103</td>\n",
       "      <td>16</td>\n",
       "      <td>1</td>\n",
       "      <td>169</td>\n",
       "      <td>27.556</td>\n",
       "    </tr>\n",
       "  </tbody>\n",
       "</table>\n",
       "</div>"
      ],
      "text/plain": [
       "  addrcode  bin  bowl  bucket  misc_short  jar  pottedplant  tire  misc_tall  \\\n",
       "0   800204  147     1     314           2    0          177    37          0   \n",
       "1   800807   38     2     184           1    1          147    32          1   \n",
       "2   800120  128    16     787          20   47          907   150          2   \n",
       "3   800501   35     0     107           2    0           72     8          0   \n",
       "4   800810   15     0      34           0    0          103    16          1   \n",
       "\n",
       "   total     area  \n",
       "0    678  107.058  \n",
       "1    406   34.144  \n",
       "2   2057   85.609  \n",
       "3    224   45.183  \n",
       "4    169   27.556  "
      ]
     },
     "execution_count": 64,
     "metadata": {},
     "output_type": "execute_result"
    }
   ],
   "source": [
    "## for Bangkok, NST, Krabi\n",
    "df_cd = pd.merge(df_detection_nst,df_subdist_area, on = 'addrcode', how = 'inner')\n",
    "df_cd['area'] = df_cd['area']/10\n",
    "df_cd.head()"
   ]
  },
  {
   "cell_type": "code",
   "execution_count": 65,
   "metadata": {},
   "outputs": [
    {
     "data": {
      "text/html": [
       "<div>\n",
       "<style scoped>\n",
       "    .dataframe tbody tr th:only-of-type {\n",
       "        vertical-align: middle;\n",
       "    }\n",
       "\n",
       "    .dataframe tbody tr th {\n",
       "        vertical-align: top;\n",
       "    }\n",
       "\n",
       "    .dataframe thead th {\n",
       "        text-align: right;\n",
       "    }\n",
       "</style>\n",
       "<table border=\"1\" class=\"dataframe\">\n",
       "  <thead>\n",
       "    <tr style=\"text-align: right;\">\n",
       "      <th></th>\n",
       "      <th>addrcode</th>\n",
       "      <th>bin</th>\n",
       "      <th>bowl</th>\n",
       "      <th>bucket</th>\n",
       "      <th>misc_short</th>\n",
       "      <th>jar</th>\n",
       "      <th>pottedplant</th>\n",
       "      <th>tire</th>\n",
       "      <th>misc_tall</th>\n",
       "      <th>total</th>\n",
       "    </tr>\n",
       "  </thead>\n",
       "  <tbody>\n",
       "    <tr>\n",
       "      <th>0</th>\n",
       "      <td>800204</td>\n",
       "      <td>1.373</td>\n",
       "      <td>0.009</td>\n",
       "      <td>2.933</td>\n",
       "      <td>0.019</td>\n",
       "      <td>0.000</td>\n",
       "      <td>1.653</td>\n",
       "      <td>0.346</td>\n",
       "      <td>0.000</td>\n",
       "      <td>6.333</td>\n",
       "    </tr>\n",
       "    <tr>\n",
       "      <th>1</th>\n",
       "      <td>800807</td>\n",
       "      <td>1.113</td>\n",
       "      <td>0.059</td>\n",
       "      <td>5.389</td>\n",
       "      <td>0.029</td>\n",
       "      <td>0.029</td>\n",
       "      <td>4.305</td>\n",
       "      <td>0.937</td>\n",
       "      <td>0.029</td>\n",
       "      <td>11.891</td>\n",
       "    </tr>\n",
       "    <tr>\n",
       "      <th>2</th>\n",
       "      <td>800120</td>\n",
       "      <td>1.495</td>\n",
       "      <td>0.187</td>\n",
       "      <td>9.193</td>\n",
       "      <td>0.234</td>\n",
       "      <td>0.549</td>\n",
       "      <td>10.595</td>\n",
       "      <td>1.752</td>\n",
       "      <td>0.023</td>\n",
       "      <td>24.028</td>\n",
       "    </tr>\n",
       "    <tr>\n",
       "      <th>3</th>\n",
       "      <td>800501</td>\n",
       "      <td>0.775</td>\n",
       "      <td>0.000</td>\n",
       "      <td>2.368</td>\n",
       "      <td>0.044</td>\n",
       "      <td>0.000</td>\n",
       "      <td>1.594</td>\n",
       "      <td>0.177</td>\n",
       "      <td>0.000</td>\n",
       "      <td>4.958</td>\n",
       "    </tr>\n",
       "    <tr>\n",
       "      <th>4</th>\n",
       "      <td>800810</td>\n",
       "      <td>0.544</td>\n",
       "      <td>0.000</td>\n",
       "      <td>1.234</td>\n",
       "      <td>0.000</td>\n",
       "      <td>0.000</td>\n",
       "      <td>3.738</td>\n",
       "      <td>0.581</td>\n",
       "      <td>0.036</td>\n",
       "      <td>6.133</td>\n",
       "    </tr>\n",
       "  </tbody>\n",
       "</table>\n",
       "</div>"
      ],
      "text/plain": [
       "  addrcode    bin   bowl  bucket  misc_short    jar  pottedplant   tire  \\\n",
       "0   800204  1.373  0.009   2.933       0.019  0.000        1.653  0.346   \n",
       "1   800807  1.113  0.059   5.389       0.029  0.029        4.305  0.937   \n",
       "2   800120  1.495  0.187   9.193       0.234  0.549       10.595  1.752   \n",
       "3   800501  0.775  0.000   2.368       0.044  0.000        1.594  0.177   \n",
       "4   800810  0.544  0.000   1.234       0.000  0.000        3.738  0.581   \n",
       "\n",
       "   misc_tall   total  \n",
       "0      0.000   6.333  \n",
       "1      0.029  11.891  \n",
       "2      0.023  24.028  \n",
       "3      0.000   4.958  \n",
       "4      0.036   6.133  "
      ]
     },
     "execution_count": 65,
     "metadata": {},
     "output_type": "execute_result"
    }
   ],
   "source": [
    "df_cd['bin'] = df_cd['bin']/df_cd['area']\n",
    "df_cd['bin'] = df_cd['bin'].round(3)\n",
    "df_cd['bowl'] = df_cd['bowl']/df_cd['area']\n",
    "df_cd['bowl'] = df_cd['bowl'].round(3)\n",
    "df_cd['bucket'] = df_cd['bucket']/df_cd['area']\n",
    "df_cd['bucket'] = df_cd['bucket'].round(3)\n",
    "df_cd['misc_short'] = df_cd['misc_short']/df_cd['area']\n",
    "df_cd['misc_short'] = df_cd['misc_short'].round(3)\n",
    "df_cd['jar'] = df_cd['jar']/df_cd['area']\n",
    "df_cd['jar'] = df_cd['jar'].round(3)\n",
    "df_cd['pottedplant'] = df_cd['pottedplant']/df_cd['area']\n",
    "df_cd['pottedplant'] = df_cd['pottedplant'].round(3)\n",
    "df_cd['tire'] = df_cd['tire']/df_cd['area']\n",
    "df_cd['tire'] = df_cd['tire'].round(3)\n",
    "df_cd['misc_tall'] = df_cd['misc_tall']/df_cd['area']\n",
    "df_cd['misc_tall'] = df_cd['misc_tall'].round(3)\n",
    "df_cd['total'] = df_cd['total']/df_cd['area']\n",
    "df_cd['total'] = df_cd['total'].round(3)\n",
    "df_cd = df_cd.drop('area', axis =1)\n",
    "df_cd.head()"
   ]
  },
  {
   "cell_type": "code",
   "execution_count": 66,
   "metadata": {},
   "outputs": [],
   "source": [
    "df_cd.to_csv('CD_NST_subdist.csv', encoding='utf-8')"
   ]
  },
  {
   "cell_type": "markdown",
   "metadata": {},
   "source": [
    "## Container Density [District]"
   ]
  },
  {
   "cell_type": "code",
   "execution_count": 108,
   "metadata": {},
   "outputs": [],
   "source": [
    "df_detection = pd.read_csv(os.path.join('Data','Breeding-sites','csv','addrcode-index','detection.csv'))\n",
    "df_detection['addrcode'] = df_detection['addrcode'].astype(str)\n",
    "df_detection = df_detection.drop('date',axis = 1)\n",
    "list = ['102702','102703']\n",
    "for i in range(len(list)):\n",
    "     df_detection = df_detection[df_detection.addrcode != list[i]]"
   ]
  },
  {
   "cell_type": "code",
   "execution_count": 109,
   "metadata": {},
   "outputs": [
    {
     "data": {
      "text/html": [
       "<div>\n",
       "<style scoped>\n",
       "    .dataframe tbody tr th:only-of-type {\n",
       "        vertical-align: middle;\n",
       "    }\n",
       "\n",
       "    .dataframe tbody tr th {\n",
       "        vertical-align: top;\n",
       "    }\n",
       "\n",
       "    .dataframe thead th {\n",
       "        text-align: right;\n",
       "    }\n",
       "</style>\n",
       "<table border=\"1\" class=\"dataframe\">\n",
       "  <thead>\n",
       "    <tr style=\"text-align: right;\">\n",
       "      <th></th>\n",
       "      <th>addrcode</th>\n",
       "      <th>bin</th>\n",
       "      <th>bowl</th>\n",
       "      <th>bucket</th>\n",
       "      <th>misc_short</th>\n",
       "      <th>jar</th>\n",
       "      <th>pottedplant</th>\n",
       "      <th>tire</th>\n",
       "      <th>misc_tall</th>\n",
       "      <th>total</th>\n",
       "    </tr>\n",
       "  </thead>\n",
       "  <tbody>\n",
       "    <tr>\n",
       "      <th>0</th>\n",
       "      <td>1001</td>\n",
       "      <td>167</td>\n",
       "      <td>87</td>\n",
       "      <td>509</td>\n",
       "      <td>73</td>\n",
       "      <td>22</td>\n",
       "      <td>1543</td>\n",
       "      <td>101</td>\n",
       "      <td>25</td>\n",
       "      <td>2527</td>\n",
       "    </tr>\n",
       "    <tr>\n",
       "      <th>1</th>\n",
       "      <td>1002</td>\n",
       "      <td>104</td>\n",
       "      <td>24</td>\n",
       "      <td>292</td>\n",
       "      <td>20</td>\n",
       "      <td>10</td>\n",
       "      <td>630</td>\n",
       "      <td>77</td>\n",
       "      <td>1</td>\n",
       "      <td>1158</td>\n",
       "    </tr>\n",
       "    <tr>\n",
       "      <th>2</th>\n",
       "      <td>1003</td>\n",
       "      <td>796</td>\n",
       "      <td>47</td>\n",
       "      <td>2679</td>\n",
       "      <td>30</td>\n",
       "      <td>169</td>\n",
       "      <td>3029</td>\n",
       "      <td>675</td>\n",
       "      <td>7</td>\n",
       "      <td>7432</td>\n",
       "    </tr>\n",
       "    <tr>\n",
       "      <th>3</th>\n",
       "      <td>1004</td>\n",
       "      <td>126</td>\n",
       "      <td>68</td>\n",
       "      <td>474</td>\n",
       "      <td>45</td>\n",
       "      <td>16</td>\n",
       "      <td>1070</td>\n",
       "      <td>143</td>\n",
       "      <td>14</td>\n",
       "      <td>1956</td>\n",
       "    </tr>\n",
       "    <tr>\n",
       "      <th>4</th>\n",
       "      <td>1005</td>\n",
       "      <td>1541</td>\n",
       "      <td>130</td>\n",
       "      <td>4342</td>\n",
       "      <td>85</td>\n",
       "      <td>262</td>\n",
       "      <td>7664</td>\n",
       "      <td>827</td>\n",
       "      <td>28</td>\n",
       "      <td>14879</td>\n",
       "    </tr>\n",
       "  </tbody>\n",
       "</table>\n",
       "</div>"
      ],
      "text/plain": [
       "  addrcode   bin  bowl  bucket  misc_short  jar  pottedplant  tire  misc_tall  \\\n",
       "0     1001   167    87     509          73   22         1543   101         25   \n",
       "1     1002   104    24     292          20   10          630    77          1   \n",
       "2     1003   796    47    2679          30  169         3029   675          7   \n",
       "3     1004   126    68     474          45   16         1070   143         14   \n",
       "4     1005  1541   130    4342          85  262         7664   827         28   \n",
       "\n",
       "   total  \n",
       "0   2527  \n",
       "1   1158  \n",
       "2   7432  \n",
       "3   1956  \n",
       "4  14879  "
      ]
     },
     "execution_count": 109,
     "metadata": {},
     "output_type": "execute_result"
    }
   ],
   "source": [
    "aggregation_function = {'bin': 'sum', 'bowl': 'sum','bucket': 'sum', 'misc_short': 'sum', 'jar': 'sum', 'pottedplant': 'sum', 'tire': 'sum', 'misc_tall': 'sum', 'total': 'sum'}\n",
    "df_detection_dist = df_detection.groupby(df_detection['addrcode'].str[:4]).aggregate(aggregation_function).reset_index()\n",
    "df_detection_dist.head()"
   ]
  },
  {
   "cell_type": "code",
   "execution_count": 110,
   "metadata": {},
   "outputs": [],
   "source": [
    "df_detection_bangkok = df_detection_dist.loc[df_detection_dist['addrcode'].str[:2] == '10']\n",
    "df_detection_bangkok = df_detection_bangkok.reset_index()\n",
    "df_detection_bangkok = df_detection_bangkok.drop('index',axis = 1)\n",
    "df_detection_bangkok.to_csv('container_bangkok_dist.csv',encoding = 'utf-8')\n",
    "df_detection_krabi = df_detection_dist.loc[df_detection_dist['addrcode'].str[:2] == '81']\n",
    "df_detection_krabi = df_detection_krabi.reset_index()\n",
    "df_detection_krabi = df_detection_krabi.drop('index',axis = 1)\n",
    "df_detection_krabi.to_csv('container_krabi_dist.csv',encoding = 'utf-8')\n",
    "df_detection_nst = df_detection_dist.loc[df_detection_dist['addrcode'].str[:2] == '80']\n",
    "df_detection_nst = df_detection_nst.reset_index()\n",
    "df_detection_nst = df_detection_nst.drop('index',axis = 1)\n",
    "df_detection_nst.to_csv('container_NST_dist.csv',encoding = 'utf-8')"
   ]
  },
  {
   "cell_type": "code",
   "execution_count": 111,
   "metadata": {},
   "outputs": [
    {
     "data": {
      "text/html": [
       "<div>\n",
       "<style scoped>\n",
       "    .dataframe tbody tr th:only-of-type {\n",
       "        vertical-align: middle;\n",
       "    }\n",
       "\n",
       "    .dataframe tbody tr th {\n",
       "        vertical-align: top;\n",
       "    }\n",
       "\n",
       "    .dataframe thead th {\n",
       "        text-align: right;\n",
       "    }\n",
       "</style>\n",
       "<table border=\"1\" class=\"dataframe\">\n",
       "  <thead>\n",
       "    <tr style=\"text-align: right;\">\n",
       "      <th></th>\n",
       "      <th>addrcode</th>\n",
       "      <th>bin</th>\n",
       "      <th>bowl</th>\n",
       "      <th>bucket</th>\n",
       "      <th>misc_short</th>\n",
       "      <th>jar</th>\n",
       "      <th>pottedplant</th>\n",
       "      <th>tire</th>\n",
       "      <th>misc_tall</th>\n",
       "      <th>total</th>\n",
       "      <th>area</th>\n",
       "    </tr>\n",
       "  </thead>\n",
       "  <tbody>\n",
       "    <tr>\n",
       "      <th>0</th>\n",
       "      <td>8001</td>\n",
       "      <td>2343</td>\n",
       "      <td>114</td>\n",
       "      <td>8346</td>\n",
       "      <td>161</td>\n",
       "      <td>355</td>\n",
       "      <td>7322</td>\n",
       "      <td>1254</td>\n",
       "      <td>20</td>\n",
       "      <td>19915</td>\n",
       "      <td>508.149</td>\n",
       "    </tr>\n",
       "    <tr>\n",
       "      <th>1</th>\n",
       "      <td>8002</td>\n",
       "      <td>292</td>\n",
       "      <td>12</td>\n",
       "      <td>827</td>\n",
       "      <td>7</td>\n",
       "      <td>11</td>\n",
       "      <td>828</td>\n",
       "      <td>120</td>\n",
       "      <td>2</td>\n",
       "      <td>2099</td>\n",
       "      <td>225.089</td>\n",
       "    </tr>\n",
       "    <tr>\n",
       "      <th>2</th>\n",
       "      <td>8003</td>\n",
       "      <td>204</td>\n",
       "      <td>5</td>\n",
       "      <td>692</td>\n",
       "      <td>4</td>\n",
       "      <td>31</td>\n",
       "      <td>467</td>\n",
       "      <td>75</td>\n",
       "      <td>1</td>\n",
       "      <td>1479</td>\n",
       "      <td>314.590</td>\n",
       "    </tr>\n",
       "    <tr>\n",
       "      <th>3</th>\n",
       "      <td>8004</td>\n",
       "      <td>507</td>\n",
       "      <td>15</td>\n",
       "      <td>1607</td>\n",
       "      <td>38</td>\n",
       "      <td>66</td>\n",
       "      <td>1186</td>\n",
       "      <td>230</td>\n",
       "      <td>1</td>\n",
       "      <td>3650</td>\n",
       "      <td>395.549</td>\n",
       "    </tr>\n",
       "    <tr>\n",
       "      <th>4</th>\n",
       "      <td>8005</td>\n",
       "      <td>116</td>\n",
       "      <td>13</td>\n",
       "      <td>929</td>\n",
       "      <td>14</td>\n",
       "      <td>32</td>\n",
       "      <td>591</td>\n",
       "      <td>110</td>\n",
       "      <td>7</td>\n",
       "      <td>1812</td>\n",
       "      <td>451.063</td>\n",
       "    </tr>\n",
       "  </tbody>\n",
       "</table>\n",
       "</div>"
      ],
      "text/plain": [
       "  addrcode   bin  bowl  bucket  misc_short  jar  pottedplant  tire  misc_tall  \\\n",
       "0     8001  2343   114    8346         161  355         7322  1254         20   \n",
       "1     8002   292    12     827           7   11          828   120          2   \n",
       "2     8003   204     5     692           4   31          467    75          1   \n",
       "3     8004   507    15    1607          38   66         1186   230          1   \n",
       "4     8005   116    13     929          14   32          591   110          7   \n",
       "\n",
       "   total     area  \n",
       "0  19915  508.149  \n",
       "1   2099  225.089  \n",
       "2   1479  314.590  \n",
       "3   3650  395.549  \n",
       "4   1812  451.063  "
      ]
     },
     "execution_count": 111,
     "metadata": {},
     "output_type": "execute_result"
    }
   ],
   "source": [
    "## for Bangkok, NST, Krabi\n",
    "df_cd = pd.merge(df_detection_nst,df_dist_area, on = 'addrcode', how = 'inner')\n",
    "df_cd['area'] = df_cd['area']/10\n",
    "df_cd.head()"
   ]
  },
  {
   "cell_type": "code",
   "execution_count": 112,
   "metadata": {},
   "outputs": [
    {
     "data": {
      "text/html": [
       "<div>\n",
       "<style scoped>\n",
       "    .dataframe tbody tr th:only-of-type {\n",
       "        vertical-align: middle;\n",
       "    }\n",
       "\n",
       "    .dataframe tbody tr th {\n",
       "        vertical-align: top;\n",
       "    }\n",
       "\n",
       "    .dataframe thead th {\n",
       "        text-align: right;\n",
       "    }\n",
       "</style>\n",
       "<table border=\"1\" class=\"dataframe\">\n",
       "  <thead>\n",
       "    <tr style=\"text-align: right;\">\n",
       "      <th></th>\n",
       "      <th>addrcode</th>\n",
       "      <th>bin</th>\n",
       "      <th>bowl</th>\n",
       "      <th>bucket</th>\n",
       "      <th>misc_short</th>\n",
       "      <th>jar</th>\n",
       "      <th>pottedplant</th>\n",
       "      <th>tire</th>\n",
       "      <th>misc_tall</th>\n",
       "      <th>total</th>\n",
       "    </tr>\n",
       "  </thead>\n",
       "  <tbody>\n",
       "    <tr>\n",
       "      <th>0</th>\n",
       "      <td>8001</td>\n",
       "      <td>4.611</td>\n",
       "      <td>0.224</td>\n",
       "      <td>16.424</td>\n",
       "      <td>0.317</td>\n",
       "      <td>0.699</td>\n",
       "      <td>14.409</td>\n",
       "      <td>2.468</td>\n",
       "      <td>0.039</td>\n",
       "      <td>39.191</td>\n",
       "    </tr>\n",
       "    <tr>\n",
       "      <th>1</th>\n",
       "      <td>8002</td>\n",
       "      <td>1.297</td>\n",
       "      <td>0.053</td>\n",
       "      <td>3.674</td>\n",
       "      <td>0.031</td>\n",
       "      <td>0.049</td>\n",
       "      <td>3.679</td>\n",
       "      <td>0.533</td>\n",
       "      <td>0.009</td>\n",
       "      <td>9.325</td>\n",
       "    </tr>\n",
       "    <tr>\n",
       "      <th>2</th>\n",
       "      <td>8003</td>\n",
       "      <td>0.648</td>\n",
       "      <td>0.016</td>\n",
       "      <td>2.200</td>\n",
       "      <td>0.013</td>\n",
       "      <td>0.099</td>\n",
       "      <td>1.484</td>\n",
       "      <td>0.238</td>\n",
       "      <td>0.003</td>\n",
       "      <td>4.701</td>\n",
       "    </tr>\n",
       "    <tr>\n",
       "      <th>3</th>\n",
       "      <td>8004</td>\n",
       "      <td>1.282</td>\n",
       "      <td>0.038</td>\n",
       "      <td>4.063</td>\n",
       "      <td>0.096</td>\n",
       "      <td>0.167</td>\n",
       "      <td>2.998</td>\n",
       "      <td>0.581</td>\n",
       "      <td>0.003</td>\n",
       "      <td>9.228</td>\n",
       "    </tr>\n",
       "    <tr>\n",
       "      <th>4</th>\n",
       "      <td>8005</td>\n",
       "      <td>0.257</td>\n",
       "      <td>0.029</td>\n",
       "      <td>2.060</td>\n",
       "      <td>0.031</td>\n",
       "      <td>0.071</td>\n",
       "      <td>1.310</td>\n",
       "      <td>0.244</td>\n",
       "      <td>0.016</td>\n",
       "      <td>4.017</td>\n",
       "    </tr>\n",
       "  </tbody>\n",
       "</table>\n",
       "</div>"
      ],
      "text/plain": [
       "  addrcode    bin   bowl  bucket  misc_short    jar  pottedplant   tire  \\\n",
       "0     8001  4.611  0.224  16.424       0.317  0.699       14.409  2.468   \n",
       "1     8002  1.297  0.053   3.674       0.031  0.049        3.679  0.533   \n",
       "2     8003  0.648  0.016   2.200       0.013  0.099        1.484  0.238   \n",
       "3     8004  1.282  0.038   4.063       0.096  0.167        2.998  0.581   \n",
       "4     8005  0.257  0.029   2.060       0.031  0.071        1.310  0.244   \n",
       "\n",
       "   misc_tall   total  \n",
       "0      0.039  39.191  \n",
       "1      0.009   9.325  \n",
       "2      0.003   4.701  \n",
       "3      0.003   9.228  \n",
       "4      0.016   4.017  "
      ]
     },
     "execution_count": 112,
     "metadata": {},
     "output_type": "execute_result"
    }
   ],
   "source": [
    "df_cd['bin'] = df_cd['bin']/df_cd['area']\n",
    "df_cd['bin'] = df_cd['bin'].round(3)\n",
    "df_cd['bowl'] = df_cd['bowl']/df_cd['area']\n",
    "df_cd['bowl'] = df_cd['bowl'].round(3)\n",
    "df_cd['bucket'] = df_cd['bucket']/df_cd['area']\n",
    "df_cd['bucket'] = df_cd['bucket'].round(3)\n",
    "df_cd['misc_short'] = df_cd['misc_short']/df_cd['area']\n",
    "df_cd['misc_short'] = df_cd['misc_short'].round(3)\n",
    "df_cd['jar'] = df_cd['jar']/df_cd['area']\n",
    "df_cd['jar'] = df_cd['jar'].round(3)\n",
    "df_cd['pottedplant'] = df_cd['pottedplant']/df_cd['area']\n",
    "df_cd['pottedplant'] = df_cd['pottedplant'].round(3)\n",
    "df_cd['tire'] = df_cd['tire']/df_cd['area']\n",
    "df_cd['tire'] = df_cd['tire'].round(3)\n",
    "df_cd['misc_tall'] = df_cd['misc_tall']/df_cd['area']\n",
    "df_cd['misc_tall'] = df_cd['misc_tall'].round(3)\n",
    "df_cd['total'] = df_cd['total']/df_cd['area']\n",
    "df_cd['total'] = df_cd['total'].round(3)\n",
    "df_cd = df_cd.drop('area', axis =1)\n",
    "df_cd.head()"
   ]
  },
  {
   "cell_type": "code",
   "execution_count": 113,
   "metadata": {},
   "outputs": [],
   "source": [
    "df_cd.to_csv('CD_NST_dist.csv', encoding='utf-8')"
   ]
  },
  {
   "cell_type": "markdown",
   "metadata": {},
   "source": [
    "## DF per 100 Population"
   ]
  },
  {
   "cell_type": "code",
   "execution_count": 22,
   "metadata": {},
   "outputs": [
    {
     "data": {
      "text/html": [
       "<div>\n",
       "<style scoped>\n",
       "    .dataframe tbody tr th:only-of-type {\n",
       "        vertical-align: middle;\n",
       "    }\n",
       "\n",
       "    .dataframe tbody tr th {\n",
       "        vertical-align: top;\n",
       "    }\n",
       "\n",
       "    .dataframe thead th {\n",
       "        text-align: right;\n",
       "    }\n",
       "</style>\n",
       "<table border=\"1\" class=\"dataframe\">\n",
       "  <thead>\n",
       "    <tr style=\"text-align: right;\">\n",
       "      <th></th>\n",
       "      <th>addrcode</th>\n",
       "      <th>DFp100Pop</th>\n",
       "    </tr>\n",
       "  </thead>\n",
       "  <tbody>\n",
       "    <tr>\n",
       "      <th>0</th>\n",
       "      <td>100101</td>\n",
       "      <td>0.635852</td>\n",
       "    </tr>\n",
       "    <tr>\n",
       "      <th>1</th>\n",
       "      <td>100102</td>\n",
       "      <td>0.422924</td>\n",
       "    </tr>\n",
       "    <tr>\n",
       "      <th>2</th>\n",
       "      <td>100103</td>\n",
       "      <td>0.793651</td>\n",
       "    </tr>\n",
       "    <tr>\n",
       "      <th>3</th>\n",
       "      <td>100104</td>\n",
       "      <td>0.845235</td>\n",
       "    </tr>\n",
       "    <tr>\n",
       "      <th>4</th>\n",
       "      <td>100105</td>\n",
       "      <td>0.548780</td>\n",
       "    </tr>\n",
       "  </tbody>\n",
       "</table>\n",
       "</div>"
      ],
      "text/plain": [
       "   addrcode  DFp100Pop\n",
       "0    100101   0.635852\n",
       "1    100102   0.422924\n",
       "2    100103   0.793651\n",
       "3    100104   0.845235\n",
       "4    100105   0.548780"
      ]
     },
     "execution_count": 22,
     "metadata": {},
     "output_type": "execute_result"
    }
   ],
   "source": [
    "df_df100pop = pd.read_csv('DFp100Population.csv')\n",
    "df_df100pop = df_df100pop.drop('Unnamed: 0',axis = 1)\n",
    "\n",
    "aggregation_function = {'DFp100Pop': 'sum'}\n",
    "df_df100pop = df_df100pop.groupby(df_df100pop['addrcode']).aggregate(aggregation_function).reset_index()\n",
    "df_df100pop.head()"
   ]
  },
  {
   "cell_type": "markdown",
   "metadata": {},
   "source": [
    "## CD concat DF"
   ]
  },
  {
   "cell_type": "code",
   "execution_count": 26,
   "metadata": {},
   "outputs": [
    {
     "data": {
      "text/html": [
       "<div>\n",
       "<style scoped>\n",
       "    .dataframe tbody tr th:only-of-type {\n",
       "        vertical-align: middle;\n",
       "    }\n",
       "\n",
       "    .dataframe tbody tr th {\n",
       "        vertical-align: top;\n",
       "    }\n",
       "\n",
       "    .dataframe thead th {\n",
       "        text-align: right;\n",
       "    }\n",
       "</style>\n",
       "<table border=\"1\" class=\"dataframe\">\n",
       "  <thead>\n",
       "    <tr style=\"text-align: right;\">\n",
       "      <th></th>\n",
       "      <th>addrcode</th>\n",
       "      <th>bin</th>\n",
       "      <th>bowl</th>\n",
       "      <th>bucket</th>\n",
       "      <th>cup</th>\n",
       "      <th>jar</th>\n",
       "      <th>pottedplant</th>\n",
       "      <th>tire</th>\n",
       "      <th>vase</th>\n",
       "      <th>total</th>\n",
       "      <th>DFp100Pop</th>\n",
       "    </tr>\n",
       "  </thead>\n",
       "  <tbody>\n",
       "    <tr>\n",
       "      <th>0</th>\n",
       "      <td>100508</td>\n",
       "      <td>39.348</td>\n",
       "      <td>2.066</td>\n",
       "      <td>97.150</td>\n",
       "      <td>2.207</td>\n",
       "      <td>5.869</td>\n",
       "      <td>175.799</td>\n",
       "      <td>20.989</td>\n",
       "      <td>0.704</td>\n",
       "      <td>344.133</td>\n",
       "      <td>0.518369</td>\n",
       "    </tr>\n",
       "    <tr>\n",
       "      <th>1</th>\n",
       "      <td>104605</td>\n",
       "      <td>5.088</td>\n",
       "      <td>0.372</td>\n",
       "      <td>19.484</td>\n",
       "      <td>0.248</td>\n",
       "      <td>2.668</td>\n",
       "      <td>18.677</td>\n",
       "      <td>3.909</td>\n",
       "      <td>0.000</td>\n",
       "      <td>50.447</td>\n",
       "      <td>0.634378</td>\n",
       "    </tr>\n",
       "    <tr>\n",
       "      <th>2</th>\n",
       "      <td>104604</td>\n",
       "      <td>4.449</td>\n",
       "      <td>0.708</td>\n",
       "      <td>23.761</td>\n",
       "      <td>0.202</td>\n",
       "      <td>0.607</td>\n",
       "      <td>26.997</td>\n",
       "      <td>5.157</td>\n",
       "      <td>0.000</td>\n",
       "      <td>61.881</td>\n",
       "      <td>0.734921</td>\n",
       "    </tr>\n",
       "    <tr>\n",
       "      <th>3</th>\n",
       "      <td>103704</td>\n",
       "      <td>27.403</td>\n",
       "      <td>10.874</td>\n",
       "      <td>82.210</td>\n",
       "      <td>8.264</td>\n",
       "      <td>2.610</td>\n",
       "      <td>150.935</td>\n",
       "      <td>34.798</td>\n",
       "      <td>1.740</td>\n",
       "      <td>318.834</td>\n",
       "      <td>1.120994</td>\n",
       "    </tr>\n",
       "    <tr>\n",
       "      <th>4</th>\n",
       "      <td>100108</td>\n",
       "      <td>17.143</td>\n",
       "      <td>17.143</td>\n",
       "      <td>102.857</td>\n",
       "      <td>45.714</td>\n",
       "      <td>5.714</td>\n",
       "      <td>268.571</td>\n",
       "      <td>0.000</td>\n",
       "      <td>0.000</td>\n",
       "      <td>457.143</td>\n",
       "      <td>0.969744</td>\n",
       "    </tr>\n",
       "  </tbody>\n",
       "</table>\n",
       "</div>"
      ],
      "text/plain": [
       "  addrcode     bin    bowl   bucket     cup    jar  pottedplant    tire  \\\n",
       "0   100508  39.348   2.066   97.150   2.207  5.869      175.799  20.989   \n",
       "1   104605   5.088   0.372   19.484   0.248  2.668       18.677   3.909   \n",
       "2   104604   4.449   0.708   23.761   0.202  0.607       26.997   5.157   \n",
       "3   103704  27.403  10.874   82.210   8.264  2.610      150.935  34.798   \n",
       "4   100108  17.143  17.143  102.857  45.714  5.714      268.571   0.000   \n",
       "\n",
       "    vase    total  DFp100Pop  \n",
       "0  0.704  344.133   0.518369  \n",
       "1  0.000   50.447   0.634378  \n",
       "2  0.000   61.881   0.734921  \n",
       "3  1.740  318.834   1.120994  \n",
       "4  0.000  457.143   0.969744  "
      ]
     },
     "execution_count": 26,
     "metadata": {},
     "output_type": "execute_result"
    }
   ],
   "source": [
    "df_cddf = pd.merge(df_cd,df_df100pop, on = 'addrcode', how = 'inner')\n",
    "df_cddf['addrcode'] = df_cddf['addrcode'].astype(str)\n",
    "df_cddf.head()"
   ]
  },
  {
   "cell_type": "code",
   "execution_count": 39,
   "metadata": {},
   "outputs": [],
   "source": [
    "df_cddf_bkk = df_cddf.loc[df_cddf['addrcode'].str[:2] == '10']\n",
    "df_cddf_bkk.to_csv('CD+DF100Pop_Bangkok.csv', encoding = 'utf-8')"
   ]
  },
  {
   "cell_type": "code",
   "execution_count": 40,
   "metadata": {},
   "outputs": [],
   "source": [
    "df_cddf_nst = df_cddf.loc[df_cddf['addrcode'].str[:2] == '80']\n",
    "df_cddf_nst.to_csv('CD+DF100Pop_NST.csv', encoding = 'utf-8')"
   ]
  },
  {
   "cell_type": "code",
   "execution_count": 41,
   "metadata": {},
   "outputs": [],
   "source": [
    "df_cddf_krabi = df_cddf.loc[df_cddf['addrcode'].str[:2] == '81']\n",
    "df_cddf_krabi.to_csv('CD+DF100Pop_Krabi.csv', encoding = 'utf-8')"
   ]
  },
  {
   "cell_type": "markdown",
   "metadata": {},
   "source": [
    "## Area and Image Coverage"
   ]
  },
  {
   "cell_type": "code",
   "execution_count": 75,
   "metadata": {},
   "outputs": [],
   "source": [
    "list = ['100206','100212','100214','100308','100501','100905','100910',\n",
    "        '101101','101201','101903','102001','102101','102301','102702',\n",
    "        '102703','102704','102705','102901','103202','103402','104002',\n",
    "        '105002','109999',\n",
    "        '800104','800206','800208','800805','801004','801005','801302',\n",
    "        '801309','801503','802701',\n",
    "        '810030','810040','810050','810101','810104','810301','810302',\n",
    "        '810408','810502','810706','810766','810802','811150','813037',\n",
    "        '814011','814012','814031','814034','814036','814038','814039',\n",
    "        '814054','814056','814057','814076','801201','810102'] "
   ]
  },
  {
   "cell_type": "code",
   "execution_count": 76,
   "metadata": {},
   "outputs": [
    {
     "data": {
      "text/plain": [
       "373"
      ]
     },
     "execution_count": 76,
     "metadata": {},
     "output_type": "execute_result"
    }
   ],
   "source": [
    "df_area = pd.read_csv(os.path.join('Data','Area and GSV','csv','gsv-coverage.csv'))\n",
    "df_area['addrcode'] = df_area['addrcode'].astype(str)\n",
    "for i in range(len(list)):\n",
    "     df_area = df_area[df_area.addrcode != list[i]]\n",
    "aggregation_function = {'land_area': 'sum','image_area' : 'sum'}\n",
    "df_area = df_area.groupby(df_area['addrcode']).aggregate(aggregation_function).reset_index()\n",
    "len(df_area)"
   ]
  },
  {
   "cell_type": "code",
   "execution_count": 77,
   "metadata": {},
   "outputs": [
    {
     "name": "stderr",
     "output_type": "stream",
     "text": [
      "/Library/Frameworks/Python.framework/Versions/3.6/lib/python3.6/site-packages/pandas/core/indexing.py:194: SettingWithCopyWarning: \n",
      "A value is trying to be set on a copy of a slice from a DataFrame\n",
      "\n",
      "See the caveats in the documentation: http://pandas.pydata.org/pandas-docs/stable/indexing.html#indexing-view-versus-copy\n",
      "  self._setitem_with_indexer(indexer, value)\n"
     ]
    }
   ],
   "source": [
    "df_area['image_coverage'] = df_area['image_area']/df_area['land_area']*100\n",
    "df_area['image_coverage'] = df_area['image_coverage'].astype(float)\n",
    "df_area['image_coverage'].loc[df_area['image_coverage'] > 100] = 100\n",
    "df_area['image_coverage'] = df_area['image_coverage'].round(2)"
   ]
  },
  {
   "cell_type": "code",
   "execution_count": 79,
   "metadata": {},
   "outputs": [],
   "source": [
    "df_area_bangkok = df_area.loc[df_area['addrcode'].str[:2] == '10'].reset_index()\n",
    "df_area_bangkok = df_area_bangkok.drop('index', axis = 1)\n",
    "df_area_bangkok.to_csv('image_coverage_bangkok.csv', encoding ='utf-8')\n",
    "df_area_nst = df_area.loc[df_area['addrcode'].str[:2] == '80'].reset_index()\n",
    "df_area_nst = df_area_nst.drop('index', axis = 1)\n",
    "df_area_nst.to_csv('image_coverage_nst.csv', encoding ='utf-8')\n",
    "df_area_krabi = df_area.loc[df_area['addrcode'].str[:2] == '81'].reset_index()\n",
    "df_area_krabi = df_area_krabi.drop('index', axis = 1)\n",
    "df_area_krabi.to_csv('image_coverage_krabi.csv', encoding ='utf-8')"
   ]
  },
  {
   "cell_type": "code",
   "execution_count": null,
   "metadata": {},
   "outputs": [],
   "source": []
  }
 ],
 "metadata": {
  "kernelspec": {
   "display_name": "Python 3",
   "language": "python",
   "name": "python3"
  },
  "language_info": {
   "codemirror_mode": {
    "name": "ipython",
    "version": 3
   },
   "file_extension": ".py",
   "mimetype": "text/x-python",
   "name": "python",
   "nbconvert_exporter": "python",
   "pygments_lexer": "ipython3",
   "version": "3.6.5"
  }
 },
 "nbformat": 4,
 "nbformat_minor": 2
}
