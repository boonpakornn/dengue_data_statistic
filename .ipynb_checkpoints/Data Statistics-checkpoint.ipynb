{
 "cells": [
  {
   "cell_type": "markdown",
   "metadata": {},
   "source": [
    "# Data Statistics"
   ]
  },
  {
   "cell_type": "code",
   "execution_count": 2,
   "metadata": {},
   "outputs": [],
   "source": [
    "import pandas as pd\n",
    "import os\n",
    "import numpy as np\n",
    "import numpy"
   ]
  },
  {
   "cell_type": "markdown",
   "metadata": {},
   "source": [
    "## Data dictionary"
   ]
  },
  {
   "cell_type": "code",
   "execution_count": null,
   "metadata": {},
   "outputs": [],
   "source": [
    "df_dic = pd.read_csv(os.path.join('Data','Other','Dictionary.csv'))\n",
    "df_dic['TA_ID'] = df_dic['TA_ID'].astype(str)\n",
    "df_dic.head()"
   ]
  },
  {
   "cell_type": "code",
   "execution_count": null,
   "metadata": {},
   "outputs": [],
   "source": [
    "df_dic_bangkok_subdist = df_dic.loc[df_dic['TA_ID'].str[:2] == '10']\n",
    "bangkok_subdist = df_dic_bangkok_subdist['TA_ID'].values\n",
    "df_dic_nakhon_subdist = df_dic.loc[df_dic['TA_ID'].str[:2] == '80']\n",
    "nakhon_subdist = df_dic_nakhon_subdist['TA_ID'].values\n",
    "df_dic_krabi_subdist = df_dic.loc[df_dic['TA_ID'].str[:2] == '81']\n",
    "krabi_subdist = df_dic_krabi_subdist['TA_ID'].values"
   ]
  },
  {
   "cell_type": "markdown",
   "metadata": {},
   "source": [
    "## Monthly Breeding Site Detection Data"
   ]
  },
  {
   "cell_type": "code",
   "execution_count": null,
   "metadata": {},
   "outputs": [],
   "source": [
    "df_detection = pd.read_csv(os.path.join('Data','Breeding-sites','csv','addrcode-index','detection.csv'))\n",
    "df_detection.head()"
   ]
  },
  {
   "cell_type": "code",
   "execution_count": null,
   "metadata": {},
   "outputs": [],
   "source": [
    "df_detection['date'] = pd.to_datetime(df_detection['date'],format = '%Y-%m-%d')\n",
    "df_detection['Year'] = df_detection['date'].dt.year\n",
    "df_detection['Month'] = df_detection['date'].dt.month\n",
    "df_detection['addrcode'] = df_detection['addrcode'].astype(str)\n",
    "df_detection['Year'] = df_detection['Year'].astype(str)\n",
    "df_detection['Month'] = df_detection['Month'].astype(str)\n",
    "df_detection = df_detection[['date','Year','Month','addrcode','bin','bowl','bucket','cup','jar','pottedplant','tire','vase','total']]\n",
    "df_detection.head()"
   ]
  },
  {
   "cell_type": "code",
   "execution_count": null,
   "metadata": {},
   "outputs": [],
   "source": [
    "df_detectionmonth = df_detection.groupby([df_detection['addrcode'].str[:2],df_detection['Year'],df_detection['Month']]).size().reset_index(name ='Count')\n",
    "df_detectionmonth.head()"
   ]
  },
  {
   "cell_type": "code",
   "execution_count": null,
   "metadata": {},
   "outputs": [],
   "source": [
    "df_detectionyear = df_detectionmonth.groupby([df_detectionmonth['addrcode'].str[:2],df_detectionmonth['Year']]).size().reset_index(name = 'NumMonth')\n",
    "df_detectionyear"
   ]
  },
  {
   "cell_type": "markdown",
   "metadata": {},
   "source": [
    "## Dengue Data"
   ]
  },
  {
   "cell_type": "markdown",
   "metadata": {},
   "source": [
    "### Compare sub-district in Bangkok"
   ]
  },
  {
   "cell_type": "code",
   "execution_count": null,
   "metadata": {},
   "outputs": [],
   "source": [
    "df_new_dic = pd.read_csv(os.path.join('Data','Other','Newver-Dictionary.csv'))\n",
    "df_new_dic['PV_IDN'] = df_new_dic['PV_IDN'].astype(str)\n",
    "df_new_dic = df_new_dic.loc[df_new_dic['PV_IDN'] == '10']\n",
    "df_new_dic.head()"
   ]
  },
  {
   "cell_type": "code",
   "execution_count": null,
   "metadata": {},
   "outputs": [],
   "source": [
    "df_dic_bangkok_subdist.head()"
   ]
  },
  {
   "cell_type": "code",
   "execution_count": null,
   "metadata": {},
   "outputs": [],
   "source": [
    "df_dic_bangkok_compare = df_dic_bangkok_subdist.iloc[:,[0,1]]\n",
    "df_dic_bangkok_compare.head()"
   ]
  },
  {
   "cell_type": "code",
   "execution_count": null,
   "metadata": {},
   "outputs": [],
   "source": [
    "df_new_dic_bangkok = df_new_dic.iloc[:,[0,1]]\n",
    "df_new_dic_bangkok.head()"
   ]
  },
  {
   "cell_type": "code",
   "execution_count": null,
   "metadata": {},
   "outputs": [],
   "source": [
    "df_new_dic_bangkok.columns = ['TA_ID_NEW', 'TAMBON_T']\n",
    "df_new_dic_bangkok.head()"
   ]
  },
  {
   "cell_type": "code",
   "execution_count": null,
   "metadata": {},
   "outputs": [],
   "source": [
    "result = pd.merge(df_dic_bangkok_compare,df_new_dic_bangkok, on = 'TAMBON_T',how = 'outer')\n",
    "result.head(10)\n",
    "#result.to_csv('compare_subdist_bangkok.csv', encoding = 'utf-8')"
   ]
  },
  {
   "cell_type": "markdown",
   "metadata": {},
   "source": [
    "## Combine Address Code into one column"
   ]
  },
  {
   "cell_type": "code",
   "execution_count": null,
   "metadata": {},
   "outputs": [],
   "source": [
    "df_dengue_2014_2018 = pd.read_csv(os.path.join('Data','Dengue-cases','Dengue fever data','DF_5YEAR_WeekNum.csv'), low_memory = False)\n",
    "df_dengue_2014_2018 = df_dengue_2014_2018.drop('Unnamed: 0', axis = 1)\n",
    "df_dengue_2014_2018['ADDRCODE'] = df_dengue_2014_2018['ADDRCODE'].astype(str)\n",
    "df_dengue_2014_2018['PROVINCE'] = df_dengue_2014_2018['PROVINCE'].astype(str)\n",
    "df_dengue_2014_2018.head()\n"
   ]
  },
  {
   "cell_type": "code",
   "execution_count": null,
   "metadata": {},
   "outputs": [],
   "source": [
    "size = len(df_dengue_2014_2018)\n",
    "size"
   ]
  },
  {
   "cell_type": "code",
   "execution_count": null,
   "metadata": {},
   "outputs": [],
   "source": [
    "addrcode = []\n",
    "for i in range(size):\n",
    "    if len(df_dengue_2014_2018['ADDRCODE'][i]) == 3:\n",
    "        addrcode.append(df_dengue_2014_2018['PROVINCE'][i]+'0'+df_dengue_2014_2018['ADDRCODE'][i])\n",
    "    elif len(df_dengue_2014_2018['ADDRCODE'][i]) == 4:\n",
    "        addrcode.append(df_dengue_2014_2018['PROVINCE'][i]+df_dengue_2014_2018['ADDRCODE'][i])\n",
    "    elif len(df_dengue_2014_2018['ADDRCODE'][i]) == 5:\n",
    "        addrcode.append(df_dengue_2014_2018['PROVINCE'][i]+'0'+df_dengue_2014_2018['ADDRCODE'].str[:3][i])\n",
    "    elif len(df_dengue_2014_2018['ADDRCODE'][i]) == 6:\n",
    "        addrcode.append(df_dengue_2014_2018['PROVINCE'][i]+df_dengue_2014_2018['ADDRCODE'].str[:4][i])\n",
    "    "
   ]
  },
  {
   "cell_type": "code",
   "execution_count": null,
   "metadata": {},
   "outputs": [],
   "source": [
    "df_dengue_2014_2018['addrcode'] = addrcode\n",
    "df_dengue_2014_2018 = df_dengue_2014_2018.drop('ADDRCODE', axis = 1)\n",
    "df_dengue_2014_2018 = df_dengue_2014_2018.drop('PROVINCE', axis = 1)\n",
    "df_dengue_2014_2018 = df_dengue_2014_2018[['addrcode','DATESICK','Year','Month','Day','Weeknum']]\n",
    "df_dengue_2014_2018.columns = ['ADDRCODE','DATESICK','Year','Month','Day','WeekNum']"
   ]
  },
  {
   "cell_type": "code",
   "execution_count": null,
   "metadata": {},
   "outputs": [],
   "source": [
    "df_dengue_2014_2018.head()\n",
    "#df_dengue_2014_2018.to_csv('DF_5YEAR_FINAL.csv', encoding = 'utf-8')"
   ]
  },
  {
   "cell_type": "code",
   "execution_count": null,
   "metadata": {},
   "outputs": [],
   "source": [
    "df_dengue_999999 = df_dengue_2014_2018.loc[df_dengue_2014_2018['ADDRCODE'].str[:4] == '1099']\n",
    "df_dengue_999999"
   ]
  },
  {
   "cell_type": "markdown",
   "metadata": {},
   "source": [
    "## Weekly Dengue cases Data "
   ]
  },
  {
   "cell_type": "code",
   "execution_count": null,
   "metadata": {},
   "outputs": [],
   "source": [
    "list = ['100206','100212','100214','100308','100501','100905','100910',\n",
    "        '101101','101201','101903','102001','102101','102301','102702',\n",
    "        '102703','102704','102705','102901','103202','103402','104002',\n",
    "        '105002','109999',\n",
    "        '800206','800208','800805','801004','801005','801302','801309',\n",
    "        '801503','802701',\n",
    "        '810030','810040','810050','810101','810104','810301','810302',\n",
    "        '810408','810502','810706','810766','810802','811150','813037',\n",
    "        '814011','814012','814031','814034','814036','814038','814039',\n",
    "        '814054','814056','814057','814076','801201','810102'] \n",
    "\n",
    "df_denguecase_weekly = pd.read_csv(os.path.join('Data','Dengue-cases','Dengue fever data','DF_5YEAR_AGG.csv'))\n",
    "df_denguecase_weekly = df_denguecase_weekly.drop('Unnamed: 0', axis = 1)\n",
    "#df_denguecase_weekly.columns = ['addrcode','Year','WeekNum','NumberCases']\n",
    "df_denguecase_weekly['addrcode'] = df_denguecase_weekly['addrcode'].astype(str)\n",
    "df_denguecase_weekly = df_denguecase_weekly.sort_values(['addrcode','Year','WeekNum'])\n",
    "# for i in range(len(list)):\n",
    "#     df_denguecase_weekly = df_denguecase_weekly[df_denguecase_weekly.addrcode != list[i]]\n",
    "# df_denguecase_weekly = df_denguecase_weekly.reset_index()\n",
    "# df_denguecase_weekly = df_denguecase_weekly.drop('index',axis = 1)\n",
    "# df_denguecase_weekly.to_csv('DF_clean.csv',encoding = 'utf-8')\n",
    "#df_denguecase_weekly.tail()"
   ]
  },
  {
   "cell_type": "markdown",
   "metadata": {},
   "source": [
    "## Total number of Dengue cases in each province"
   ]
  },
  {
   "cell_type": "code",
   "execution_count": null,
   "metadata": {},
   "outputs": [],
   "source": [
    "aggregation_function = {'NumberCases': 'sum'}\n",
    "df_weekly_province = df_denguecase_weekly.groupby([df_denguecase_weekly['addrcode'].str[:2]]).aggregate(aggregation_function).reset_index()\n",
    "df_weekly_province"
   ]
  },
  {
   "cell_type": "code",
   "execution_count": null,
   "metadata": {},
   "outputs": [],
   "source": [
    "df_denguecase_weekly.tail()"
   ]
  },
  {
   "cell_type": "markdown",
   "metadata": {},
   "source": [
    "## Fill zero case in no-incidence week"
   ]
  },
  {
   "cell_type": "code",
   "execution_count": null,
   "metadata": {},
   "outputs": [],
   "source": [
    "sizedf = (len(df_denguecase_weekly))+1\n",
    "df_denguecase_weekly.index  = df_denguecase_weekly.index+1\n",
    "df_denguecase_weekly.loc[0] = [100101,2014,1,0]\n",
    "df_denguecase_weekly.loc[sizedf] = [810808,2018,52,0]\n",
    "df_denguecase_weekly =df_denguecase_weekly.sort_index()\n",
    "df_denguecase_weekly.head()"
   ]
  },
  {
   "cell_type": "code",
   "execution_count": null,
   "metadata": {},
   "outputs": [],
   "source": [
    "df_denguecase_weekly.tail()"
   ]
  },
  {
   "cell_type": "code",
   "execution_count": null,
   "metadata": {},
   "outputs": [],
   "source": [
    "size = len(df_denguecase_weekly)\n",
    "count = 1\n",
    "\n",
    "\n",
    "for i in range(size-1):\n",
    "    if df_denguecase_weekly['addrcode'][i+1] == df_denguecase_weekly['addrcode'][i]:\n",
    "        if df_denguecase_weekly['WeekNum'][i+1]-df_denguecase_weekly['WeekNum'][i] < 0:\n",
    "            if df_denguecase_weekly['Year'][i] == 2014:\n",
    "                if df_denguecase_weekly['WeekNum'][i] != 52:\n",
    "                    df_denguecase_weekly.loc[size+1+count] = [df_denguecase_weekly['addrcode'][i],df_denguecase_weekly['Year'][i], 52, 0]\n",
    "                    count = count+1\n",
    "            if df_denguecase_weekly['Year'][i] == 2015:\n",
    "                ## if data in 2015 don't have week 53\n",
    "                if df_denguecase_weekly['WeekNum'][i] != 53:\n",
    "                    df_denguecase_weekly.loc[size+1+count] = [df_denguecase_weekly['addrcode'][i],df_denguecase_weekly['Year'][i], 53, 0]\n",
    "                    count = count+1\n",
    "            if df_denguecase_weekly['Year'][i] == 2016:\n",
    "                if df_denguecase_weekly['WeekNum'][i] != 52:\n",
    "                    df_denguecase_weekly.loc[size+1+count] = [df_denguecase_weekly['addrcode'][i],df_denguecase_weekly['Year'][i], 52, 0]\n",
    "                    count = count+1\n",
    "            if df_denguecase_weekly['Year'][i] == 2017:\n",
    "                if df_denguecase_weekly['WeekNum'][i] != 52:\n",
    "                    df_denguecase_weekly.loc[size+1+count] = [df_denguecase_weekly['addrcode'][i],df_denguecase_weekly['Year'][i], 52, 0]\n",
    "                    count = count+1\n",
    "            if df_denguecase_weekly['Year'][i] == 2018:\n",
    "                if df_denguecase_weekly['WeekNum'][i] != 52:\n",
    "                    df_denguecase_weekly.loc[size+1+count] = [df_denguecase_weekly['addrcode'][i],df_denguecase_weekly['Year'][i], 52, 0]\n",
    "                    count = count+1\n",
    "            ## if year is missing\n",
    "            if(df_denguecase_weekly['Year'][i+1]-df_denguecase_weekly['Year'][i] > 1) :\n",
    "                if(df_denguecase_weekly['Year'][i] == 2014):\n",
    "                    for j in range(53):\n",
    "                        df_denguecase_weekly.loc[size+1+count] = [df_denguecase_weekly['addrcode'][i],df_denguecase_weekly['Year'][i]+1, j+1, 0]\n",
    "                        count = count+1\n",
    "                else:\n",
    "                    for k in range(52):\n",
    "                        df_denguecase_weekly.loc[size+1+count] = [df_denguecase_weekly['addrcode'][i],df_denguecase_weekly['Year'][i]+1, k+1, 0]\n",
    "                        count = count+1\n",
    "                \n",
    "            ## if next year don't have week 1\n",
    "            if df_denguecase_weekly['WeekNum'][i+1] != 1:\n",
    "                df_denguecase_weekly.loc[size+1+count] = [df_denguecase_weekly['addrcode'][i],df_denguecase_weekly['Year'][i+1], 1, 0]\n",
    "                count = count+1\n",
    " \n",
    "    elif df_denguecase_weekly['addrcode'][i+1] != df_denguecase_weekly['addrcode'][i]:\n",
    "        if df_denguecase_weekly['Year'][i+1]-df_denguecase_weekly['Year'][i] < 0:\n",
    "            if(df_denguecase_weekly['Year'][i+1] == 2014):\n",
    "                if(df_denguecase_weekly['WeekNum'][i+1] != 1):\n",
    "                    df_denguecase_weekly.loc[size+1+count] = [df_denguecase_weekly['addrcode'][i+1],2014, 1, 0]\n",
    "df_denguecase_weekly = df_denguecase_weekly.sort_values(['addrcode','Year','WeekNum'])\n",
    "df_denguecase_weekly = df_denguecase_weekly.reset_index()\n",
    "df_denguecase_weekly = df_denguecase_weekly.drop('index', axis=1)       \n",
    "df_denguecase_weekly.head()\n",
    "df_denguecase_weekly.to_csv('DF_5YEAR.csv', encoding = 'utf-8')\n"
   ]
  },
  {
   "cell_type": "code",
   "execution_count": null,
   "metadata": {},
   "outputs": [],
   "source": [
    "size = len(df_denguecase_weekly)\n",
    "size"
   ]
  },
  {
   "cell_type": "code",
   "execution_count": null,
   "metadata": {},
   "outputs": [],
   "source": [
    "## re-loop again for missing week from adding week 1 in previous step\n",
    "count = 1\n",
    "for i in range(size-1):\n",
    "    if df_denguecase_weekly['WeekNum'][i+1]-df_denguecase_weekly['WeekNum'][i] > 1:\n",
    "            numloop = df_denguecase_weekly['WeekNum'][i+1]-df_denguecase_weekly['WeekNum'][i]\n",
    "            for j in range(1,numloop):\n",
    "                df_denguecase_weekly.loc[size+1+count]  = [df_denguecase_weekly['addrcode'][i],df_denguecase_weekly['Year'][i], df_denguecase_weekly['WeekNum'][i]+j, 0]\n",
    "                count = count+1\n",
    "                \n",
    "df_denguecase_weekly = df_denguecase_weekly.sort_values(['addrcode','Year','WeekNum'])\n",
    "df_denguecase_weekly = df_denguecase_weekly.reset_index()\n",
    "df_denguecase_weekly = df_denguecase_weekly.drop('index', axis=1)\n",
    "df_denguecase_weekly.head()\n",
    "#df_denguecase_weekly = df_denguecase_weekly.reset_index()\n",
    "df_denguecase_weekly.to_csv('DF_5YEAR.csv', encoding = 'utf-8')\n"
   ]
  },
  {
   "cell_type": "code",
   "execution_count": null,
   "metadata": {},
   "outputs": [],
   "source": [
    "size = len(df_denguecase_weekly)\n",
    "size"
   ]
  },
  {
   "cell_type": "code",
   "execution_count": null,
   "metadata": {},
   "outputs": [],
   "source": []
  },
  {
   "cell_type": "markdown",
   "metadata": {},
   "source": [
    "## Matching Latitude-Longtitude to Sub-District\n",
    "### Climatic Data"
   ]
  },
  {
   "cell_type": "code",
   "execution_count": null,
   "metadata": {},
   "outputs": [],
   "source": [
    "#df_sub_bangkok = pd.read_csv(os.path.join('Data','Climatic Data Result','Bangkok_subdistrict.csv'))\n",
    "#df_big_area_nakhon_krabi = pd.read_csv(os.path.join('Data','Climatic Data Result','big_area_Nakhon_Krabi_LST.csv'))\n",
    "df_big_area_nakhon_krabi = pd.read_csv(os.path.join('Data','Climatic Data Result','big_area_Nakhon_Krabi_Rainfall.csv'))\n",
    "#df_sub_bangkok['addrcode'] = df_sub_bangkok['addrcode'].astype(str)\n",
    "df_big_area_nakhon_krabi['addrcode'] = df_big_area_nakhon_krabi['addrcode'].astype(str)\n",
    "df_big_area_nakhon_krabi.head()"
   ]
  },
  {
   "cell_type": "code",
   "execution_count": null,
   "metadata": {},
   "outputs": [],
   "source": [
    "df_point_bangkok = pd.read_csv(os.path.join('Data','Sub-district_point','BMA_LT.csv'))"
   ]
  },
  {
   "cell_type": "code",
   "execution_count": null,
   "metadata": {},
   "outputs": [],
   "source": [
    "df_point_bangkok['X'] = df_point_bangkok['X'].astype(str)\n",
    "df_point_bangkok['Y'] = df_point_bangkok['Y'].astype(str)\n",
    "df_point_bangkok['X'] = df_point_bangkok['X'].str[:7]\n",
    "df_point_bangkok['Y'] = df_point_bangkok['Y'].str[:7]\n",
    "df_point_bangkok = df_point_bangkok.drop('BMA_CODE', axis = 1)\n",
    "df_point_bangkok.columns = ['X','Y','addrcode']\n",
    "df_point_bangkok['addrcode'] = df_point_bangkok['addrcode'].astype(str)\n",
    "df_point_bangkok.head()"
   ]
  },
  {
   "cell_type": "code",
   "execution_count": null,
   "metadata": {},
   "outputs": [],
   "source": [
    "df_point_nakhon_krabi = pd.read_csv(os.path.join('Data','Climatic Data Result','XY_Coordinate_Nakhon_Krabi.csv'))"
   ]
  },
  {
   "cell_type": "code",
   "execution_count": null,
   "metadata": {},
   "outputs": [],
   "source": [
    "df_point_nakhon_krabi.head()"
   ]
  },
  {
   "cell_type": "code",
   "execution_count": null,
   "metadata": {},
   "outputs": [],
   "source": [
    "df_point_nakhon_krabi['X'] = df_point_nakhon_krabi['X'].astype(str)\n",
    "df_point_nakhon_krabi['Y'] = df_point_nakhon_krabi['Y'].astype(str)\n",
    "df_point_nakhon_krabi['X'] = df_point_nakhon_krabi['X'].str[:7]\n",
    "df_point_nakhon_krabi['Y'] = df_point_nakhon_krabi['Y'].str[:7]\n",
    "df_point_nakhon_krabi['addrcode'] = df_point_nakhon_krabi['addrcode'].astype(str)\n",
    "df_point_nakhon_krabi.head()"
   ]
  },
  {
   "cell_type": "markdown",
   "metadata": {},
   "source": [
    "### Bangkok LST"
   ]
  },
  {
   "cell_type": "code",
   "execution_count": null,
   "metadata": {},
   "outputs": [],
   "source": [
    "from tqdm import tqdm\n",
    "from os import listdir\n",
    "path = '/Users/boonpakorn/Documents/GitHub/dengue_data_statistics/Data/Climatic Data/Climatic Data Result/LST Result/'\n",
    "filename = []\n",
    "filelist= listdir(path)\n",
    "for f in tqdm(filelist):\n",
    "    if f.endswith('Bangkok.csv'):\n",
    "        filename.append(f)"
   ]
  },
  {
   "cell_type": "code",
   "execution_count": null,
   "metadata": {},
   "outputs": [],
   "source": [
    "len(filename)"
   ]
  },
  {
   "cell_type": "code",
   "execution_count": null,
   "metadata": {},
   "outputs": [],
   "source": [
    "## === Small Area ===\n",
    "for filename in filename:\n",
    "    if filename.startswith('Small'):\n",
    "        df_temp = pd.read_csv(os.path.join(path+filename))\n",
    "        df_temp['X'] = df_temp['X'].astype(str)\n",
    "        df_temp['Y'] = df_temp['Y'].astype(str)\n",
    "        df_temp['X'] = df_temp['X'].str[:7]\n",
    "        df_temp['Y'] = df_temp['Y'].str[:7]\n",
    "        df_temp.head()\n",
    "\n",
    "        df_result = pd.merge(df_temp,df_point_bangkok,how = 'inner', on = ['X','Y'])\n",
    "        df_result = df_result.drop(['POINT_BANG','X','Y'],axis = 1)\n",
    "        df_result['MOD11C2_20'] = df_result['MOD11C2_20']*0.02-273.15\n",
    "        df_result['MOD11C2_20'] = df_result['MOD11C2_20'].round(2)\n",
    "        df_result = df_result[['addrcode','MOD11C2_20']]\n",
    "        df_result.columns = ['addrcode','temperature']\n",
    "        df_result['temperature'].loc[df_result['temperature'] <0 ] = 0\n",
    "        df_result.to_csv(path+'Code_'+filename, encoding = 'utf-8') \n",
    "    else:\n",
    "        continue"
   ]
  },
  {
   "cell_type": "code",
   "execution_count": null,
   "metadata": {},
   "outputs": [],
   "source": [
    "## === Big Area ===\n",
    "for filename in filename:\n",
    "    if filename.startswith('MOD'):\n",
    "        df_temp = pd.read_csv(os.path.join(path+filename))\n",
    "        df_temp = df_temp.drop(['ZONE_CODE','COUNT','AREA','MIN','MAX','RANGE','STD','SUM','VARIETY','MAJORITY','MINORITY','MEDIAN'], axis = 1)\n",
    "        df_temp['SCODE_BMA'] = df_temp['SCODE_BMA'].astype(str)\n",
    "        df_temp['MEAN'].loc[df_temp['MEAN'] > 7500 ] = df_temp['MEAN']*0.02-273.15\n",
    "        df_temp['MEAN'] = df_temp['MEAN'].round(2)\n",
    "        df_temp['MEAN'].loc[df_temp['MEAN'] <0 ] = 0\n",
    "        df_temp.columns = ['addrcode','temperature']\n",
    "        df_temp.head()\n",
    "        df_result = pd.merge(df_temp,df_bigarea_bangkok,how = 'outer', on ='addrcode')\n",
    "        df_result = df_result.fillna(0)\n",
    "        df_result = df_result[['addrcode','temperature']]\n",
    "        df_result.to_csv(path+'Code_'+filename, encoding = 'utf-8')\n",
    "    else:\n",
    "        continue\n"
   ]
  },
  {
   "cell_type": "markdown",
   "metadata": {},
   "source": [
    "### Nakhon-Krabi LST"
   ]
  },
  {
   "cell_type": "code",
   "execution_count": null,
   "metadata": {},
   "outputs": [],
   "source": [
    "from tqdm import tqdm\n",
    "from os import listdir\n",
    "#path = '/Users/boonpakorn/Documents/GitHub/dengue_data_statistics/Data/Climatic Data/Climatic Data Result/LST Result/'\n",
    "path = '/Users/boonpakorn/Documents/GitHub/dengue_data_statistics/Data/Climatic Data/Climatic Data Result/Rainfall Result/'\n",
    "filename = []\n",
    "filelist= listdir(path)\n",
    "for f in tqdm(filelist):\n",
    "    if f.endswith('Nakhon_Krabi.csv'):\n",
    "        filename.append(f)"
   ]
  },
  {
   "cell_type": "code",
   "execution_count": null,
   "metadata": {},
   "outputs": [],
   "source": [
    "len(filename)"
   ]
  },
  {
   "cell_type": "code",
   "execution_count": null,
   "metadata": {},
   "outputs": [],
   "source": [
    "## === Small Area ===\n",
    "for filename in filename:\n",
    "    if filename.startswith('Small'):\n",
    "        df_temp = pd.read_csv(os.path.join(path+filename))\n",
    "        df_temp['X'] = df_temp['X'].astype(str)\n",
    "        df_temp['Y'] = df_temp['Y'].astype(str)\n",
    "        df_temp['X'] = df_temp['X'].str[:7]\n",
    "        df_temp['Y'] = df_temp['Y'].str[:7]\n",
    "        df_temp.head()\n",
    "\n",
    "        df_result = pd.merge(df_temp,df_point_nakhon_krabi,how = 'inner', on = ['X','Y'])\n",
    "        df_result = df_result.drop(['POINT_NAKH','X','Y','TB_EN','OLD_TB_IDN'],axis = 1)\n",
    "        #df_result['MOD11C2_20'] = df_result['MOD11C2_20']*0.02-273.15\n",
    "        #df_result['MOD11C2_20'] = df_result['MOD11C2_20'].round(2)\n",
    "        #df_result['MOD11C2_20'].loc[df_result['MOD11C2_20'] < 0] = None\n",
    "        #df_result.columns = ['temperature','addrcode']\n",
    "        #df_result = df_result[['addrcode','temperature']]\n",
    "        df_result.columns = ['rainfall','addrcode']\n",
    "        df_result = df_result[['addrcode','rainfall']]\n",
    "        df_result['rainfall'] = df_result['rainfall'].round(2)\n",
    "        df_result['rainfall'].loc[df_result['rainfall'] < 0] = None\n",
    "        df_result = df_result[['addrcode','rainfall']]\n",
    "        \n",
    "        df_result.to_csv(path+'Code_'+filename, encoding = 'utf-8') \n",
    "    else:\n",
    "        continue"
   ]
  },
  {
   "cell_type": "code",
   "execution_count": null,
   "metadata": {},
   "outputs": [],
   "source": [
    "## === Big Area ===\n",
    "for filename in filename:\n",
    "    #if filename.startswith('MOD'):\n",
    "    if filename.startswith('P_Rain'):\n",
    "        df_temp = pd.read_csv(os.path.join(path+filename))\n",
    "\n",
    "        #df_temp = df_temp.drop(['ZONE_CODE','COUNT','AREA','MIN','MAX','RANGE','STD','SUM','VARIETY','MAJORITY','MINORITY','MEDIAN'], axis = 1)\n",
    "        #df_temp['TB_IDN'] = df_temp['TB_IDN'].astype(str)\n",
    "        #df_temp.head()\n",
    "        #df_temp['MEAN'].loc[df_temp['MEAN'] > 7500 ] = df_temp['MEAN']*0.02-273.15\n",
    "        #df_temp['MEAN'] = df_temp['MEAN'].round(2)\n",
    "        #df_temp['MEAN'].loc[df_temp['MEAN'] <0 ] = None\n",
    "        #df_temp.columns = ['addrcode','temperature']\n",
    "        df_temp = df_temp.drop(['ZONE_CODE','COUNT','AREA','MIN','MAX','RANGE','STD','SUM'], axis = 1)\n",
    "        df_temp['MEAN'] = df_temp['MEAN'].round(2)\n",
    "        df_temp.columns = ['addrcode','rainfall']\n",
    "        df_temp['addrcode'] = df_temp['addrcode'].astype(str)\n",
    "        \n",
    "        df_result = pd.merge(df_temp,df_big_area_nakhon_krabi,how = 'outer', on ='addrcode')\n",
    "        df_result.to_csv(path+'Code_'+filename, encoding = 'utf-8')\n",
    "            \n",
    "    else:\n",
    "        continue\n",
    "\n"
   ]
  },
  {
   "cell_type": "markdown",
   "metadata": {},
   "source": [
    "## Combine all files"
   ]
  },
  {
   "cell_type": "code",
   "execution_count": null,
   "metadata": {},
   "outputs": [],
   "source": [
    "des_path = '/Users/boonpakornnonthaleerak/Documents/GitHub/dengue_data_statistics/Data/Climatic Data Result/'\n",
    "all = []\n",
    "for filename in filename:\n",
    "    if filename.startswith('Code_'):\n",
    "        df_com = pd.read_csv(os.path.join(path+filename))\n",
    "        if filename.startswith('Code_Small_'):\n",
    "            #weekday = filename[:-17][17:] \n",
    "            #day = weekday[4:]\n",
    "            #year = weekday[:4]\n",
    "            #df_com['Day'] = day\n",
    "            weekday = filename[:-17][17:] \n",
    "            if(len(weekday) == 6): \n",
    "                year = weekday[2:]\n",
    "                week = weekday[:1]\n",
    "            elif(len(weekday) == 7): \n",
    "                year = weekday[3:]\n",
    "                week = weekday[:2]\n",
    "            \n",
    "            df_com['Week'] = week\n",
    "            df_com['Year'] = year\n",
    "            all.append(df_com)\n",
    "        #elif filename.startswith('Code_MOD'):\n",
    "        elif filename.startswith('Code_P'):\n",
    "            \n",
    "            year = weekday[4:]\n",
    "            week = weekday[:2]\n",
    "            #weekday = filename[:-17][11:]\n",
    "            #year = weekday[:4]\n",
    "            #day = weekday[4:]\n",
    "            #df_com['Day'] = day\n",
    "            weekday = filename[:-17][11:]\n",
    "            if(len(weekday) == 6):    \n",
    "                year = weekday[2:]\n",
    "                week = weekday[:1]\n",
    "            elif(len(weekday) == 7):\n",
    "                year = weekday[3:]\n",
    "                week = weekday[:2]\n",
    "            \n",
    "            df_com['Week'] = week\n",
    "            df_com['Year'] = year\n",
    "            all.append(df_com)\n",
    "\n",
    "big_frame = pd.concat(all, ignore_index=True)\n",
    "big_frame = big_frame.drop('Unnamed: 0', axis = 1)\n",
    "big_frame.to_csv(des_path+ 'Rainfall_Nakhon_Krabi_avg.csv', encoding = 'utf-8')\n"
   ]
  },
  {
   "cell_type": "markdown",
   "metadata": {},
   "source": [
    "## Delete missing sub-district '801201', '810102'"
   ]
  },
  {
   "cell_type": "code",
   "execution_count": null,
   "metadata": {},
   "outputs": [],
   "source": [
    "invalid = ['801201','810102']"
   ]
  },
  {
   "cell_type": "code",
   "execution_count": null,
   "metadata": {},
   "outputs": [],
   "source": [
    "df_rainfall = pd.read_csv(os.path.join('Data','Climatic Data','Rainfall_Nakhon_Krabi.csv'))\n",
    "df_rainfall = df_rainfall.drop('Unnamed: 0',axis = 1)\n",
    "df_rainfall['addrcode'] = df_rainfall['addrcode'].astype(str)\n",
    "df_rainfall.head()\n"
   ]
  },
  {
   "cell_type": "code",
   "execution_count": null,
   "metadata": {},
   "outputs": [],
   "source": [
    "len(df_rainfall)"
   ]
  },
  {
   "cell_type": "code",
   "execution_count": null,
   "metadata": {},
   "outputs": [],
   "source": [
    "for i in range(len(invalid)):\n",
    "    df_rainfall = df_rainfall[df_rainfall.addrcode != invalid[i]]"
   ]
  },
  {
   "cell_type": "code",
   "execution_count": null,
   "metadata": {},
   "outputs": [],
   "source": [
    "len(df_rainfall)"
   ]
  },
  {
   "cell_type": "code",
   "execution_count": null,
   "metadata": {},
   "outputs": [],
   "source": [
    "df_rainfall.to_csv('Rainfall_Nakhon_Krabi_clean.csv', encoding ='utf-8')"
   ]
  },
  {
   "cell_type": "code",
   "execution_count": null,
   "metadata": {},
   "outputs": [],
   "source": [
    "df_LST = pd.read_csv(os.path.join('Data','Climatic Data Result','LST_Nakhon_Krabi.csv'))\n",
    "df_LST = df_LST.drop('Unnamed: 0',axis = 1)\n",
    "df_LST['addrcode'] = df_LST['addrcode'].astype(str)\n",
    "df_LST.head()"
   ]
  },
  {
   "cell_type": "code",
   "execution_count": null,
   "metadata": {},
   "outputs": [],
   "source": [
    "len(df_LST)"
   ]
  },
  {
   "cell_type": "code",
   "execution_count": null,
   "metadata": {},
   "outputs": [],
   "source": [
    "for i in range(len(invalid)):\n",
    "    df_LST = df_LST[df_LST.addrcode != invalid[i]]"
   ]
  },
  {
   "cell_type": "code",
   "execution_count": null,
   "metadata": {},
   "outputs": [],
   "source": [
    "len(df_LST)"
   ]
  },
  {
   "cell_type": "code",
   "execution_count": null,
   "metadata": {},
   "outputs": [],
   "source": [
    "df_LST.to_csv('LST_Nakhon_Krabi_clean.csv', encoding ='utf-8')"
   ]
  },
  {
   "cell_type": "markdown",
   "metadata": {},
   "source": [
    "## Checking missing sub-district of Container detection"
   ]
  },
  {
   "cell_type": "code",
   "execution_count": null,
   "metadata": {},
   "outputs": [],
   "source": [
    "df_detection = pd.read_csv(os.path.join('Data','Breeding-sites','csv','addrcode-index','detection.csv'))\n",
    "df_detection.head()"
   ]
  },
  {
   "cell_type": "code",
   "execution_count": null,
   "metadata": {},
   "outputs": [],
   "source": [
    "df_allsub = pd.read_csv(os.path.join('Data','Climatic Data Result','addrcode_subdistrict.csv'))\n",
    "df_allsub.head()"
   ]
  },
  {
   "cell_type": "code",
   "execution_count": null,
   "metadata": {},
   "outputs": [],
   "source": [
    "df_missing = pd.merge(df_detection,df_allsub, how = 'outer', on = 'addrcode')\n",
    "df_missing.head()\n",
    "#df_missing.to_csv('detection_check.csv', encoding = 'utf-8')"
   ]
  },
  {
   "cell_type": "markdown",
   "metadata": {},
   "source": [
    "## Delete missing sub-district for Container detection"
   ]
  },
  {
   "cell_type": "code",
   "execution_count": null,
   "metadata": {},
   "outputs": [],
   "source": [
    "invalid = ['801302','801503','810101','810301','810302','810502','810802','801201','810102']"
   ]
  },
  {
   "cell_type": "code",
   "execution_count": null,
   "metadata": {},
   "outputs": [],
   "source": [
    "df_rainfall = pd.read_csv(os.path.join('Data','Climatic Data','Rainfall_Nakhon_Krabi.csv'))\n",
    "df_rainfall = df_rainfall.drop('Unnamed: 0',axis = 1)\n",
    "df_rainfall['addrcode'] = df_rainfall['addrcode'].astype(str)\n",
    "df_rainfall.head()"
   ]
  },
  {
   "cell_type": "code",
   "execution_count": null,
   "metadata": {},
   "outputs": [],
   "source": [
    "len(df_rainfall)"
   ]
  },
  {
   "cell_type": "code",
   "execution_count": null,
   "metadata": {},
   "outputs": [],
   "source": [
    "for i in range(len(invalid)):\n",
    "    df_rainfall = df_rainfall[df_rainfall.addrcode != invalid[i]]"
   ]
  },
  {
   "cell_type": "code",
   "execution_count": null,
   "metadata": {},
   "outputs": [],
   "source": [
    "len(df_rainfall)"
   ]
  },
  {
   "cell_type": "code",
   "execution_count": null,
   "metadata": {},
   "outputs": [],
   "source": [
    "df_rainfall.to_csv('Rainfall_Nakhon_Krabi_Autocorrelation.csv', encoding ='utf-8')"
   ]
  },
  {
   "cell_type": "markdown",
   "metadata": {},
   "source": [
    "## Creating DF "
   ]
  },
  {
   "cell_type": "code",
   "execution_count": null,
   "metadata": {},
   "outputs": [],
   "source": [
    "df_allsub = pd.read_csv(os.path.join('Data','Climatic Data Result','addrcode_subdistrict.csv'))\n",
    "df_allsub['addrcode'][0]"
   ]
  },
  {
   "cell_type": "code",
   "execution_count": null,
   "metadata": {},
   "outputs": [],
   "source": [
    "df_dengue = pd.DataFrame(columns=['addrcode','Year','WeekNum','NumberCases'])\n",
    "df_dengue"
   ]
  },
  {
   "cell_type": "code",
   "execution_count": null,
   "metadata": {},
   "outputs": [],
   "source": [
    "len(df_allsub)"
   ]
  },
  {
   "cell_type": "code",
   "execution_count": null,
   "metadata": {},
   "outputs": [],
   "source": [
    "size = len(df_dengue)"
   ]
  },
  {
   "cell_type": "code",
   "execution_count": null,
   "metadata": {},
   "outputs": [],
   "source": [
    "count = 0"
   ]
  },
  {
   "cell_type": "code",
   "execution_count": null,
   "metadata": {},
   "outputs": [],
   "source": [
    "\n",
    "for i in range(len(df_allsub)):\n",
    "    for j in range(52):\n",
    "        df_dengue.loc[count] = [df_allsub['addrcode'][i],2014,j+1,0]\n",
    "        count = count+1\n",
    "    for k in range(53):\n",
    "        df_dengue.loc[count] = [df_allsub['addrcode'][i],2015,k+1,0]\n",
    "        count = count+1\n",
    "    for l in range(52):\n",
    "        df_dengue.loc[count] = [df_allsub['addrcode'][i],2016,l+1,0]\n",
    "        count = count+1\n",
    "    for m in range(52):\n",
    "        df_dengue.loc[count] = [df_allsub['addrcode'][i],2017,m+1,0]\n",
    "        count = count+1\n",
    "    for n in range(24):\n",
    "        df_dengue.loc[count] = [df_allsub['addrcode'][i],2018,n+1,0]\n",
    "        count = count+1"
   ]
  },
  {
   "cell_type": "code",
   "execution_count": null,
   "metadata": {},
   "outputs": [],
   "source": [
    "df_dengue\n",
    "df_dengue.to_csv('DF_0.csv',encoding = 'utf-8')"
   ]
  },
  {
   "cell_type": "code",
   "execution_count": null,
   "metadata": {},
   "outputs": [],
   "source": [
    "df_dengue_agg = pd.read_csv(os.path.join('Data','Dengue-cases','Dengue fever Data','DF_5YEAR_AGG.csv'))\n",
    "df_dengue_agg = df_dengue_agg.drop('Unnamed: 0',axis = 1)\n",
    "df_dengue_agg.head()"
   ]
  },
  {
   "cell_type": "code",
   "execution_count": null,
   "metadata": {},
   "outputs": [],
   "source": [
    "list = ['100206','100212','100214','100308','100501','100905','100910',\n",
    "        '101101','101201','101903','102001','102101','102301','102702',\n",
    "        '102703','102704','102705','102901','103202','103402','104002',\n",
    "        '105002','109999',\n",
    "        '800104','800206','800208','800805','801004','801005','801302',\n",
    "        '801309','801503','802701',\n",
    "        '810030','810040','810050','810101','810104','810301','810302',\n",
    "        '810408','810502','810706','810766','810802','811150','813037',\n",
    "        '814011','814012','814031','814034','814036','814038','814039',\n",
    "        '814054','814056','814057','814076','801201','810102'] \n",
    "\n",
    "df_dengue = pd.read_csv(os.path.join('Data','Dengue-cases','Dengue fever data','DF_0.csv'))\n",
    "df_dengue = df_dengue.drop('Unnamed: 0', axis = 1)\n",
    "df_dengue['addrcode'] = df_dengue['addrcode'].astype(str)\n",
    "df_dengue_agg['addrcode'] = df_dengue_agg['addrcode'].astype(str)\n",
    "df_dengue = df_dengue.sort_values(['addrcode','Year','WeekNum'])\n",
    "for i in range(len(list)):\n",
    "     df_dengue = df_dengue[df_dengue.addrcode != list[i]]\n",
    "for i in range(len(list)):\n",
    "     df_dengue_agg = df_dengue_agg[df_dengue_agg.addrcode != list[i]]\n",
    "df_dengue = df_dengue.reset_index()\n",
    "df_dengue = df_dengue.drop('index',axis = 1)\n",
    "#df_dengue.to_csv('DF_00.csv',encoding = 'utf-8')\n",
    "#df_denguecase_weekly.tail()"
   ]
  },
  {
   "cell_type": "code",
   "execution_count": null,
   "metadata": {},
   "outputs": [],
   "source": [
    "len(df_dengue)"
   ]
  },
  {
   "cell_type": "code",
   "execution_count": null,
   "metadata": {},
   "outputs": [],
   "source": [
    "df_df = df_dengue.append(df_dengue_agg)\n",
    "df_df['addrcode'] = df_df['addrcode'].astype(str)"
   ]
  },
  {
   "cell_type": "code",
   "execution_count": null,
   "metadata": {},
   "outputs": [],
   "source": [
    "df_df = df_df.reset_index()\n",
    "df_df = df_df.drop('index', axis = 1)\n",
    "df_df.head()"
   ]
  },
  {
   "cell_type": "code",
   "execution_count": null,
   "metadata": {},
   "outputs": [],
   "source": [
    "aggregation_function = {'NumberCases': 'sum'}\n",
    "df_df = df_df.groupby([df_df['addrcode'],df_df['Year'],df_df['WeekNum']]).aggregate(aggregation_function).reset_index()\n",
    "df_df.head()\n",
    "len(df_df)"
   ]
  },
  {
   "cell_type": "code",
   "execution_count": null,
   "metadata": {},
   "outputs": [],
   "source": [
    "df_df.to_csv('DF.csv',encoding = 'utf-8')"
   ]
  },
  {
   "cell_type": "markdown",
   "metadata": {},
   "source": [
    "## Dengue Case per Area"
   ]
  },
  {
   "cell_type": "code",
   "execution_count": null,
   "metadata": {},
   "outputs": [],
   "source": [
    "df_dengue = pd.read_csv(os.path.join('Data','Dengue-cases','Dengue fever data','DF.csv'))\n",
    "df_dengue['addrcode'] = df_dengue['addrcode'].astype(str)\n",
    "df_dengue.head()"
   ]
  },
  {
   "cell_type": "code",
   "execution_count": null,
   "metadata": {},
   "outputs": [],
   "source": [
    "df_subdist_area = pd.read_csv(os.path.join('Data','Area and GSV','csv','subdistricts-area.csv'))\n",
    "df_subdist_area['addrcode'] = df_subdist_area['addrcode'].astype(str)\n",
    "df_subdist_area.head()"
   ]
  },
  {
   "cell_type": "code",
   "execution_count": null,
   "metadata": {},
   "outputs": [],
   "source": [
    "aggregation_function = {'area': 'sum'}\n",
    "df_dist_area = df_subdist_area.groupby(df_subdist_area['addrcode'].str[:4]).aggregate(aggregation_function).reset_index()\n",
    "df_dist_area.head()"
   ]
  },
  {
   "cell_type": "code",
   "execution_count": null,
   "metadata": {},
   "outputs": [],
   "source": [
    "df_df_area = pd.merge(df_dengue,df_subdist_area, on = 'addrcode', how = 'inner')\n",
    "df_df_area['area'] = df_df_area['area']/10\n",
    "df_df_area['DFpA'] = df_df_area['NumberCases']/df_df_area['area']\n",
    "df_df_area.tail()"
   ]
  },
  {
   "cell_type": "code",
   "execution_count": null,
   "metadata": {},
   "outputs": [],
   "source": [
    "df_df_area.to_csv('DFpArea.csv', encoding='utf-8')"
   ]
  },
  {
   "cell_type": "markdown",
   "metadata": {},
   "source": [
    "## Dengue case per 10000 population"
   ]
  },
  {
   "cell_type": "markdown",
   "metadata": {},
   "source": [
    "### [Subdistrict]"
   ]
  },
  {
   "cell_type": "code",
   "execution_count": null,
   "metadata": {},
   "outputs": [],
   "source": [
    "df_dengue = pd.read_csv(os.path.join('Data','Dengue-cases','Dengue fever data','DF.csv'))\n",
    "df_dengue['addrcode'] = df_dengue['addrcode'].astype(str)\n",
    "df_dengue.head()"
   ]
  },
  {
   "cell_type": "code",
   "execution_count": null,
   "metadata": {},
   "outputs": [],
   "source": [
    "df_pop = pd.read_csv(os.path.join('Data','Population','addrcode-index','Population.csv'))\n",
    "df_pop['addrcode'] = df_pop['addrcode'].astype(str)\n",
    "df_pop.columns = ['addrcode','population']\n",
    "df_pop.head()"
   ]
  },
  {
   "cell_type": "code",
   "execution_count": null,
   "metadata": {},
   "outputs": [],
   "source": [
    "df_df_pop = pd.merge(df_dengue, df_pop, how ='inner', on = 'addrcode')\n",
    "df_df_pop['population'] = df_df_pop['population'] / 10000\n",
    "df_df_pop['DFp10000Pop'] = df_df_pop['NumberCases']/df_df_pop['population']\n",
    "df_df_pop.tail()"
   ]
  },
  {
   "cell_type": "code",
   "execution_count": null,
   "metadata": {},
   "outputs": [],
   "source": [
    "#df_df_pop.to_csv('DF_10000Population_details.csv', encoding='utf-8')"
   ]
  },
  {
   "cell_type": "markdown",
   "metadata": {},
   "source": [
    "### District level"
   ]
  },
  {
   "cell_type": "code",
   "execution_count": null,
   "metadata": {},
   "outputs": [],
   "source": [
    "df_df_pop = pd.merge(df_dengue, df_pop, how ='inner', on = 'addrcode')\n",
    "df_df_pop.head()"
   ]
  },
  {
   "cell_type": "code",
   "execution_count": null,
   "metadata": {},
   "outputs": [],
   "source": [
    "aggregation_function = {'NumberCases': 'sum', 'population': 'sum'}\n",
    "df_df_pop_dist = df_df_pop.groupby([df_df_pop['addrcode'].str[:4], df_df_pop['Year'], df_df_pop['WeekNum']]).aggregate(aggregation_function).reset_index()\n",
    "df_df_pop_dist.head()"
   ]
  },
  {
   "cell_type": "code",
   "execution_count": null,
   "metadata": {},
   "outputs": [],
   "source": [
    "df_df_pop_dist['population'] = df_df_pop_dist['population'] / 10000\n",
    "df_df_pop_dist['DFp10000Pop'] = df_df_pop_dist['NumberCases']/df_df_pop_dist['population']\n",
    "df_df_pop_dist.head()"
   ]
  },
  {
   "cell_type": "code",
   "execution_count": null,
   "metadata": {},
   "outputs": [],
   "source": [
    "df_df_pop_dist.to_csv('DF_10000Population_dist_details.csv', encoding='utf-8')"
   ]
  },
  {
   "cell_type": "markdown",
   "metadata": {},
   "source": [
    "## Container Density [Sub-district]"
   ]
  },
  {
   "cell_type": "code",
   "execution_count": null,
   "metadata": {},
   "outputs": [],
   "source": [
    "df_detection = pd.read_csv(os.path.join('Data','Breeding-sites','csv','addrcode-index','detection.csv'))\n",
    "df_detection['addrcode'] = df_detection['addrcode'].astype(str)\n",
    "df_detection = df_detection.drop('date',axis = 1)\n"
   ]
  },
  {
   "cell_type": "code",
   "execution_count": null,
   "metadata": {},
   "outputs": [],
   "source": [
    "list = ['102702','102703']\n",
    "for i in range(len(list)):\n",
    "     df_detection = df_detection[df_detection.addrcode != list[i]]\n"
   ]
  },
  {
   "cell_type": "code",
   "execution_count": null,
   "metadata": {},
   "outputs": [],
   "source": [
    "df_detection_bangkok = df_detection.loc[df_detection['addrcode'].str[:2] == '10']\n",
    "df_detection_bangkok = df_detection_bangkok.reset_index()\n",
    "df_detection_bangkok = df_detection_bangkok.drop('index',axis = 1)\n",
    "df_detection_bangkok.to_csv('container_bangkok_subdist.csv',encoding = 'utf-8')\n",
    "df_detection_krabi = df_detection.loc[df_detection['addrcode'].str[:2] == '81']\n",
    "df_detection_krabi = df_detection_krabi.reset_index()\n",
    "df_detection_krabi = df_detection_krabi.drop('index',axis = 1)\n",
    "df_detection_krabi.to_csv('container_krabi_subdist.csv',encoding = 'utf-8')\n",
    "df_detection_nst = df_detection.loc[df_detection['addrcode'].str[:2] == '80']\n",
    "df_detection_nst = df_detection_nst.reset_index()\n",
    "df_detection_nst = df_detection_nst.drop('index',axis = 1)\n",
    "df_detection_nst.to_csv('container_NST_subdist.csv',encoding = 'utf-8')"
   ]
  },
  {
   "cell_type": "code",
   "execution_count": null,
   "metadata": {},
   "outputs": [],
   "source": [
    "## for Bangkok, NST, Krabi\n",
    "df_cd = pd.merge(df_detection_nst,df_subdist_area, on = 'addrcode', how = 'inner')\n",
    "df_cd['area'] = df_cd['area']/10\n",
    "df_cd.head()"
   ]
  },
  {
   "cell_type": "code",
   "execution_count": null,
   "metadata": {},
   "outputs": [],
   "source": [
    "df_cd['bin'] = df_cd['bin']/df_cd['area']\n",
    "df_cd['bin'] = df_cd['bin'].round(3)\n",
    "df_cd['bowl'] = df_cd['bowl']/df_cd['area']\n",
    "df_cd['bowl'] = df_cd['bowl'].round(3)\n",
    "df_cd['bucket'] = df_cd['bucket']/df_cd['area']\n",
    "df_cd['bucket'] = df_cd['bucket'].round(3)\n",
    "df_cd['misc_short'] = df_cd['misc_short']/df_cd['area']\n",
    "df_cd['misc_short'] = df_cd['misc_short'].round(3)\n",
    "df_cd['jar'] = df_cd['jar']/df_cd['area']\n",
    "df_cd['jar'] = df_cd['jar'].round(3)\n",
    "df_cd['pottedplant'] = df_cd['pottedplant']/df_cd['area']\n",
    "df_cd['pottedplant'] = df_cd['pottedplant'].round(3)\n",
    "df_cd['tire'] = df_cd['tire']/df_cd['area']\n",
    "df_cd['tire'] = df_cd['tire'].round(3)\n",
    "df_cd['misc_tall'] = df_cd['misc_tall']/df_cd['area']\n",
    "df_cd['misc_tall'] = df_cd['misc_tall'].round(3)\n",
    "df_cd['total'] = df_cd['total']/df_cd['area']\n",
    "df_cd['total'] = df_cd['total'].round(3)\n",
    "df_cd = df_cd.drop('area', axis =1)\n",
    "df_cd.head()"
   ]
  },
  {
   "cell_type": "code",
   "execution_count": null,
   "metadata": {},
   "outputs": [],
   "source": [
    "df_cd.to_csv('CD_NST_subdist.csv', encoding='utf-8')"
   ]
  },
  {
   "cell_type": "markdown",
   "metadata": {},
   "source": [
    "## Container Density [District]"
   ]
  },
  {
   "cell_type": "code",
   "execution_count": null,
   "metadata": {},
   "outputs": [],
   "source": [
    "df_detection = pd.read_csv(os.path.join('Data','Breeding-sites','csv','addrcode-index','detection.csv'))\n",
    "df_detection['addrcode'] = df_detection['addrcode'].astype(str)\n",
    "df_detection = df_detection.drop('date',axis = 1)\n",
    "list = ['102702','102703']\n",
    "for i in range(len(list)):\n",
    "     df_detection = df_detection[df_detection.addrcode != list[i]]"
   ]
  },
  {
   "cell_type": "code",
   "execution_count": null,
   "metadata": {},
   "outputs": [],
   "source": [
    "aggregation_function = {'bin': 'sum', 'bowl': 'sum','bucket': 'sum', 'misc_short': 'sum', 'jar': 'sum', 'pottedplant': 'sum', 'tire': 'sum', 'misc_tall': 'sum', 'total': 'sum'}\n",
    "df_detection_dist = df_detection.groupby(df_detection['addrcode'].str[:4]).aggregate(aggregation_function).reset_index()\n",
    "df_detection_dist.head()"
   ]
  },
  {
   "cell_type": "code",
   "execution_count": null,
   "metadata": {},
   "outputs": [],
   "source": [
    "df_detection_bangkok = df_detection_dist.loc[df_detection_dist['addrcode'].str[:2] == '10']\n",
    "df_detection_bangkok = df_detection_bangkok.reset_index()\n",
    "df_detection_bangkok = df_detection_bangkok.drop('index',axis = 1)\n",
    "df_detection_bangkok.to_csv('container_bangkok_dist.csv',encoding = 'utf-8')\n",
    "df_detection_krabi = df_detection_dist.loc[df_detection_dist['addrcode'].str[:2] == '81']\n",
    "df_detection_krabi = df_detection_krabi.reset_index()\n",
    "df_detection_krabi = df_detection_krabi.drop('index',axis = 1)\n",
    "df_detection_krabi.to_csv('container_krabi_dist.csv',encoding = 'utf-8')\n",
    "df_detection_nst = df_detection_dist.loc[df_detection_dist['addrcode'].str[:2] == '80']\n",
    "df_detection_nst = df_detection_nst.reset_index()\n",
    "df_detection_nst = df_detection_nst.drop('index',axis = 1)\n",
    "df_detection_nst.to_csv('container_NST_dist.csv',encoding = 'utf-8')"
   ]
  },
  {
   "cell_type": "code",
   "execution_count": null,
   "metadata": {},
   "outputs": [],
   "source": [
    "## for Bangkok, NST, Krabi\n",
    "df_cd = pd.merge(df_detection_nst,df_dist_area, on = 'addrcode', how = 'inner')\n",
    "df_cd['area'] = df_cd['area']/10\n",
    "df_cd.head()"
   ]
  },
  {
   "cell_type": "code",
   "execution_count": null,
   "metadata": {},
   "outputs": [],
   "source": [
    "df_cd['bin'] = df_cd['bin']/df_cd['area']\n",
    "df_cd['bin'] = df_cd['bin'].round(3)\n",
    "df_cd['bowl'] = df_cd['bowl']/df_cd['area']\n",
    "df_cd['bowl'] = df_cd['bowl'].round(3)\n",
    "df_cd['bucket'] = df_cd['bucket']/df_cd['area']\n",
    "df_cd['bucket'] = df_cd['bucket'].round(3)\n",
    "df_cd['misc_short'] = df_cd['misc_short']/df_cd['area']\n",
    "df_cd['misc_short'] = df_cd['misc_short'].round(3)\n",
    "df_cd['jar'] = df_cd['jar']/df_cd['area']\n",
    "df_cd['jar'] = df_cd['jar'].round(3)\n",
    "df_cd['pottedplant'] = df_cd['pottedplant']/df_cd['area']\n",
    "df_cd['pottedplant'] = df_cd['pottedplant'].round(3)\n",
    "df_cd['tire'] = df_cd['tire']/df_cd['area']\n",
    "df_cd['tire'] = df_cd['tire'].round(3)\n",
    "df_cd['misc_tall'] = df_cd['misc_tall']/df_cd['area']\n",
    "df_cd['misc_tall'] = df_cd['misc_tall'].round(3)\n",
    "df_cd['total'] = df_cd['total']/df_cd['area']\n",
    "df_cd['total'] = df_cd['total'].round(3)\n",
    "df_cd = df_cd.drop('area', axis =1)\n",
    "df_cd.head()"
   ]
  },
  {
   "cell_type": "code",
   "execution_count": null,
   "metadata": {},
   "outputs": [],
   "source": [
    "df_cd.to_csv('CD_NST_dist.csv', encoding='utf-8')"
   ]
  },
  {
   "cell_type": "markdown",
   "metadata": {},
   "source": [
    "## DF per 100 Population"
   ]
  },
  {
   "cell_type": "code",
   "execution_count": null,
   "metadata": {},
   "outputs": [],
   "source": [
    "df_df100pop = pd.read_csv('DFp100Population.csv')\n",
    "df_df100pop = df_df100pop.drop('Unnamed: 0',axis = 1)\n",
    "\n",
    "aggregation_function = {'DFp100Pop': 'sum'}\n",
    "df_df100pop = df_df100pop.groupby(df_df100pop['addrcode']).aggregate(aggregation_function).reset_index()\n",
    "df_df100pop.head()"
   ]
  },
  {
   "cell_type": "markdown",
   "metadata": {},
   "source": [
    "## CD concat DF"
   ]
  },
  {
   "cell_type": "code",
   "execution_count": null,
   "metadata": {},
   "outputs": [],
   "source": [
    "df_cddf = pd.merge(df_cd,df_df100pop, on = 'addrcode', how = 'inner')\n",
    "df_cddf['addrcode'] = df_cddf['addrcode'].astype(str)\n",
    "df_cddf.head()"
   ]
  },
  {
   "cell_type": "code",
   "execution_count": null,
   "metadata": {},
   "outputs": [],
   "source": [
    "df_cddf_bkk = df_cddf.loc[df_cddf['addrcode'].str[:2] == '10']\n",
    "df_cddf_bkk.to_csv('CD+DF100Pop_Bangkok.csv', encoding = 'utf-8')"
   ]
  },
  {
   "cell_type": "code",
   "execution_count": null,
   "metadata": {},
   "outputs": [],
   "source": [
    "df_cddf_nst = df_cddf.loc[df_cddf['addrcode'].str[:2] == '80']\n",
    "df_cddf_nst.to_csv('CD+DF100Pop_NST.csv', encoding = 'utf-8')"
   ]
  },
  {
   "cell_type": "code",
   "execution_count": null,
   "metadata": {},
   "outputs": [],
   "source": [
    "df_cddf_krabi = df_cddf.loc[df_cddf['addrcode'].str[:2] == '81']\n",
    "df_cddf_krabi.to_csv('CD+DF100Pop_Krabi.csv', encoding = 'utf-8')"
   ]
  },
  {
   "cell_type": "markdown",
   "metadata": {},
   "source": [
    "## Area and Image Coverage"
   ]
  },
  {
   "cell_type": "code",
   "execution_count": null,
   "metadata": {},
   "outputs": [],
   "source": [
    "list = ['100206','100212','100214','100308','100501','100905','100910',\n",
    "        '101101','101201','101903','102001','102101','102301','102702',\n",
    "        '102703','102704','102705','102901','103202','103402','104002',\n",
    "        '105002','109999',\n",
    "        '800104','800206','800208','800805','801004','801005','801302',\n",
    "        '801309','801503','802701',\n",
    "        '810030','810040','810050','810101','810104','810301','810302',\n",
    "        '810408','810502','810706','810766','810802','811150','813037',\n",
    "        '814011','814012','814031','814034','814036','814038','814039',\n",
    "        '814054','814056','814057','814076','801201','810102'] "
   ]
  },
  {
   "cell_type": "code",
   "execution_count": null,
   "metadata": {},
   "outputs": [],
   "source": [
    "df_area = pd.read_csv(os.path.join('Data','Area and GSV','csv','gsv-coverage.csv'))\n",
    "df_area['addrcode'] = df_area['addrcode'].astype(str)\n",
    "for i in range(len(list)):\n",
    "     df_area = df_area[df_area.addrcode != list[i]]\n",
    "aggregation_function = {'land_area': 'sum','image_area' : 'sum'}\n",
    "df_area = df_area.groupby(df_area['addrcode']).aggregate(aggregation_function).reset_index()\n",
    "len(df_area)"
   ]
  },
  {
   "cell_type": "code",
   "execution_count": null,
   "metadata": {},
   "outputs": [],
   "source": [
    "df_area['image_coverage'] = df_area['image_area']/df_area['land_area']*100\n",
    "df_area['image_coverage'] = df_area['image_coverage'].astype(float)\n",
    "df_area['image_coverage'].loc[df_area['image_coverage'] > 100] = 100\n",
    "df_area['image_coverage'] = df_area['image_coverage'].round(2)"
   ]
  },
  {
   "cell_type": "code",
   "execution_count": null,
   "metadata": {},
   "outputs": [],
   "source": [
    "df_area_bangkok = df_area.loc[df_area['addrcode'].str[:2] == '10'].reset_index()\n",
    "df_area_bangkok = df_area_bangkok.drop('index', axis = 1)\n",
    "df_area_bangkok.to_csv('image_coverage_bangkok.csv', encoding ='utf-8')\n",
    "df_area_nst = df_area.loc[df_area['addrcode'].str[:2] == '80'].reset_index()\n",
    "df_area_nst = df_area_nst.drop('index', axis = 1)\n",
    "df_area_nst.to_csv('image_coverage_nst.csv', encoding ='utf-8')\n",
    "df_area_krabi = df_area.loc[df_area['addrcode'].str[:2] == '81'].reset_index()\n",
    "df_area_krabi = df_area_krabi.drop('index', axis = 1)\n",
    "df_area_krabi.to_csv('image_coverage_krabi.csv', encoding ='utf-8')"
   ]
  },
  {
   "cell_type": "markdown",
   "metadata": {},
   "source": [
    "## Matching population Data"
   ]
  },
  {
   "cell_type": "code",
   "execution_count": null,
   "metadata": {},
   "outputs": [],
   "source": [
    "df_dic_nakhon_subdist.head()"
   ]
  },
  {
   "cell_type": "code",
   "execution_count": null,
   "metadata": {},
   "outputs": [],
   "source": [
    "df_pop_nakhon = pd.read_csv(os.path.join('Data','Population','full-info','Nakhon-population-details.csv'))\n",
    "df_pop_nakhon['addrcode'] = df_pop_nakhon['addrcode'].astype(str)\n",
    "df_pop_nakhon.head()"
   ]
  },
  {
   "cell_type": "code",
   "execution_count": null,
   "metadata": {},
   "outputs": [],
   "source": [
    "list = ['100206','100212','100214','100308','100501','100905','100910',\n",
    "        '101101','101201','101903','102001','102101','102301','102702',\n",
    "        '102703','102704','102705','102901','103202','103402','104002',\n",
    "        '105002','109999',\n",
    "        '800104','800206','800208','800805','801004','801005','801302',\n",
    "        '801309','801503','802701',\n",
    "        '810030','810040','810050','810101','810104','810301','810302',\n",
    "        '810408','810502','810706','810766','810802','811150','813037',\n",
    "        '814011','814012','814031','814034','814036','814038','814039',\n",
    "        '814054','814056','814057','814076','801201','810102'] \n",
    "\n",
    "for i in range(len(list)):\n",
    "     df_pop_nakhon = df_pop_nakhon[df_pop_nakhon.addrcode != list[i]]"
   ]
  },
  {
   "cell_type": "code",
   "execution_count": null,
   "metadata": {},
   "outputs": [],
   "source": [
    "len(df_pop_nakhon)\n",
    "df_pop_nakhon = df_pop_nakhon.reset_index()\n",
    "df_pop_nakhon = df_pop_nakhon.drop(['index','name'], axis  =1)\n",
    "df_pop_nakhon.head()"
   ]
  },
  {
   "cell_type": "code",
   "execution_count": null,
   "metadata": {},
   "outputs": [],
   "source": [
    "df_pop_nakhon.to_csv('Nakhon-population-details.csv', encoding = 'utf-8')"
   ]
  },
  {
   "cell_type": "markdown",
   "metadata": {},
   "source": [
    "## District level Population data [Full-info]"
   ]
  },
  {
   "cell_type": "code",
   "execution_count": null,
   "metadata": {},
   "outputs": [],
   "source": [
    "df_pop = pd.read_csv(os.path.join('Data','Population','full-info','Krabi-population-details.csv'))\n",
    "#df_pop = df_pop.drop('district', axis =1)\n",
    "df_pop['addrcode'] = df_pop['addrcode'].astype(str)\n",
    "df_pop.head()"
   ]
  },
  {
   "cell_type": "code",
   "execution_count": null,
   "metadata": {},
   "outputs": [],
   "source": [
    "df_pop_dist = df_pop.groupby('district').sum()\n",
    "df_pop_dist.head()"
   ]
  },
  {
   "cell_type": "code",
   "execution_count": null,
   "metadata": {},
   "outputs": [],
   "source": [
    "df_pop_dist.to_csv(os.path.join('Data','Population','full-info','Krabi-population-details-district.csv'))"
   ]
  }
 ],
 "metadata": {
  "kernelspec": {
   "display_name": "Python 3",
   "language": "python",
   "name": "python3"
  },
  "language_info": {
   "codemirror_mode": {
    "name": "ipython",
    "version": 3
   },
   "file_extension": ".py",
   "mimetype": "text/x-python",
   "name": "python",
   "nbconvert_exporter": "python",
   "pygments_lexer": "ipython3",
   "version": "3.6.5"
  }
 },
 "nbformat": 4,
 "nbformat_minor": 2
}
