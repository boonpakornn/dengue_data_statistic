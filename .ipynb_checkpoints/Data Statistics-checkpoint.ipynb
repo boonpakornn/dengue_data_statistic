{
 "cells": [
  {
   "cell_type": "markdown",
   "metadata": {},
   "source": [
    "# Data Statistic"
   ]
  },
  {
   "cell_type": "code",
   "execution_count": 10,
   "metadata": {},
   "outputs": [],
   "source": [
    "import pandas as pd\n",
    "import os\n",
    "import numpy as np\n",
    "import numpy"
   ]
  },
  {
   "cell_type": "markdown",
   "metadata": {},
   "source": [
    "## Data dictionary"
   ]
  },
  {
   "cell_type": "code",
   "execution_count": null,
   "metadata": {},
   "outputs": [],
   "source": [
    "df_dic = pd.read_csv(os.path.join('Data','Other','Dictionary.csv'))\n",
    "df_dic['TA_ID'] = df_dic['TA_ID'].astype(str)\n",
    "df_dic.head()"
   ]
  },
  {
   "cell_type": "code",
   "execution_count": null,
   "metadata": {},
   "outputs": [],
   "source": [
    "df_dic_bangkok_subdist = df_dic.loc[df_dic['TA_ID'].str[:2] == '10']\n",
    "bangkok_subdist = df_dic_bangkok_subdist['TA_ID'].values\n",
    "df_dic_nakhon_subdist = df_dic.loc[df_dic['TA_ID'].str[:2] == '80']\n",
    "nakhon_subdist = df_dic_nakhon_subdist['TA_ID'].values\n",
    "df_dic_krabi_subdist = df_dic.loc[df_dic['TA_ID'].str[:2] == '81']\n",
    "krabi_subdist = df_dic_krabi_subdist['TA_ID'].values"
   ]
  },
  {
   "cell_type": "markdown",
   "metadata": {},
   "source": [
    "## Yearly Dengue Case Statistic"
   ]
  },
  {
   "cell_type": "code",
   "execution_count": null,
   "metadata": {},
   "outputs": [],
   "source": [
    "df_case = pd.read_csv(os.path.join('data','Dengue-Cases','DHF','DHF-monthly.csv'))\n",
    "df_case = df_case.drop(\"Unnamed: 0\", axis=1)\n",
    "df_case.columns = ['addrcode','Year','Month','NumberCases']\n",
    "df_case['addrcode'] = df_case['addrcode'].astype(str)\n",
    "df_case.head(10)"
   ]
  },
  {
   "cell_type": "code",
   "execution_count": null,
   "metadata": {},
   "outputs": [],
   "source": [
    "aggregation_function = {'NumberCases': 'sum'}\n",
    "df_numcase = df_case.groupby([df_case['Year'],df_case['Month'],df_case['addrcode'].str[:2]]).aggregate(aggregation_function).reset_index()\n",
    "df_numcase.head()"
   ]
  },
  {
   "cell_type": "code",
   "execution_count": null,
   "metadata": {},
   "outputs": [],
   "source": [
    "aggregation_function = {'NumberCases': 'sum'}\n",
    "df_subdist = df_case.groupby([df_case['Year'],df_case['Month'],df_case['addrcode'].str[:2]]).size().reset_index(name='NumSubdist')\n",
    "df_subdist.head()"
   ]
  },
  {
   "cell_type": "code",
   "execution_count": null,
   "metadata": {},
   "outputs": [],
   "source": [
    "df_countdist =df_case.groupby([df_case['Year'],df_case['Month'],df_case['addrcode'].str[:4]]).size().reset_index(name='NumSubdist')\n",
    "df_dist = df_countdist.groupby([df_countdist['Year'],df_countdist['Month'],df_countdist['addrcode'].str[:2]]).size().reset_index(name='NumDist')\n",
    "df_dist.head()"
   ]
  },
  {
   "cell_type": "code",
   "execution_count": null,
   "metadata": {},
   "outputs": [],
   "source": [
    "df_num = pd.merge(df_dist, df_subdist, on= ['Year','Month','addrcode'])\n",
    "df_num.head()"
   ]
  },
  {
   "cell_type": "markdown",
   "metadata": {},
   "source": [
    "### Result"
   ]
  },
  {
   "cell_type": "code",
   "execution_count": null,
   "metadata": {},
   "outputs": [],
   "source": [
    "df_province_case = pd.merge(df_num, df_numcase, on = ['Year','Month','addrcode'])\n",
    "df_province_case.head()"
   ]
  },
  {
   "cell_type": "code",
   "execution_count": null,
   "metadata": {},
   "outputs": [],
   "source": [
    "#df_province_case.to_csv(os.path.join('data','Data Statistic','dengue_province_stat.csv'), encoding='utf-8')"
   ]
  },
  {
   "cell_type": "markdown",
   "metadata": {},
   "source": [
    "## Weekly Temperature Data"
   ]
  },
  {
   "cell_type": "markdown",
   "metadata": {},
   "source": [
    "### From Livestock Department"
   ]
  },
  {
   "cell_type": "code",
   "execution_count": null,
   "metadata": {},
   "outputs": [],
   "source": [
    "df_weather = pd.read_csv(os.path.join('data','Weather','Unused','weather_weekly_ID.csv'))\n",
    "df_weather.columns = ['ID','TAM_NAME','Year','Week','Humidity','Rainfall','Temperature','Windspeed','addrcode']\n",
    "df_weather = df_weather.dropna(how='any', axis=0)\n",
    "df_weather['addrcode'] = df_weather['addrcode'].astype(int)\n",
    "df_weather['addrcode'] = df_weather['addrcode'].astype(str)\n",
    "df_weather.head()"
   ]
  },
  {
   "cell_type": "code",
   "execution_count": null,
   "metadata": {},
   "outputs": [],
   "source": [
    "df_weather_week = df_weather.groupby([df_weather['Year'],df_weather['Week'],df_weather['addrcode'].str[:2]]).size().reset_index(name = 'count')\n",
    "df_weather_week.head()"
   ]
  },
  {
   "cell_type": "code",
   "execution_count": null,
   "metadata": {},
   "outputs": [],
   "source": [
    "df_weather = df_weather.dropna(how='any', axis=0)\n",
    "df_weather.head()"
   ]
  },
  {
   "cell_type": "code",
   "execution_count": null,
   "metadata": {},
   "outputs": [],
   "source": [
    "df_week = df_weather.groupby([df_weather['Year'],df_weather['Week'],df_weather['addrcode'].str[:2]]).size().reset_index(name = 'count')\n",
    "df_week.head()"
   ]
  },
  {
   "cell_type": "code",
   "execution_count": null,
   "metadata": {},
   "outputs": [],
   "source": [
    "df_week_count = df_week.groupby([df_week['Year']]).size().reset_index(name = 'week_count')\n",
    "df_week_count.head()"
   ]
  },
  {
   "cell_type": "markdown",
   "metadata": {},
   "source": [
    "## Monthly Rainfall Data \n",
    "### From Trop Med"
   ]
  },
  {
   "cell_type": "code",
   "execution_count": null,
   "metadata": {},
   "outputs": [],
   "source": [
    "df_rainfall = pd.read_csv(os.path.join('data','Weather','rainfall.csv'))\n",
    "df_rainfall['addrcode'] = df_rainfall['addrcode'].astype(str)\n",
    "df_rainfall.head()"
   ]
  },
  {
   "cell_type": "code",
   "execution_count": null,
   "metadata": {},
   "outputs": [],
   "source": [
    "df_rainfall['date'] = pd.to_datetime(df_rainfall['date'],format = '%Y-%m-%d')\n",
    "df_rainfall['Year'] = df_rainfall['date'].dt.year\n",
    "df_rainfall['Month'] = df_rainfall['date'].dt.month\n",
    "df_rainfall = df_rainfall[['addrcode','date','Year','Month','rainfall_sum','rainfall_avg']]\n",
    "df_rainfall.head()"
   ]
  },
  {
   "cell_type": "code",
   "execution_count": null,
   "metadata": {},
   "outputs": [],
   "source": [
    "df_rainfallmonth = df_rainfall.groupby([df_rainfall['addrcode'].str[:2],df_rainfall['Year'],df_rainfall['Month']]).size().reset_index(name ='Count')\n",
    "df_rainfallmonth.head()"
   ]
  },
  {
   "cell_type": "code",
   "execution_count": null,
   "metadata": {},
   "outputs": [],
   "source": [
    "df_rainfallyear = df_rainfallmonth.groupby([df_rainfallmonth['addrcode'].str[:2],df_rainfallmonth['Year']]).size().reset_index(name = 'NumMonth')\n",
    "df_rainfallyear.head()"
   ]
  },
  {
   "cell_type": "code",
   "execution_count": null,
   "metadata": {},
   "outputs": [],
   "source": [
    "df_rainfall.loc[df_rainfall['addrcode'].str[:2] == '10'].head()"
   ]
  },
  {
   "cell_type": "code",
   "execution_count": null,
   "metadata": {},
   "outputs": [],
   "source": [
    "df_rainfall_subdistlevel = df_rainfall.groupby(df_rainfall['addrcode']).size().reset_index(name = 'count')\n",
    "df_rainfall_subdistlevel.head()"
   ]
  },
  {
   "cell_type": "code",
   "execution_count": null,
   "metadata": {},
   "outputs": [],
   "source": [
    "df_rainfall_subdistlevel = df_rainfall_subdistlevel.loc[df_rainfall_subdistlevel['addrcode'].str.len() == 6]\n",
    "df_rainfall_subdistlevel.head()"
   ]
  },
  {
   "cell_type": "code",
   "execution_count": null,
   "metadata": {},
   "outputs": [],
   "source": [
    "df_rainfall_province = df_rainfall_subdistlevel.groupby(df_rainfall_subdistlevel['addrcode'].str[:2]).size().reset_index(name = 'count')\n",
    "df_rainfall_province"
   ]
  },
  {
   "cell_type": "code",
   "execution_count": null,
   "metadata": {},
   "outputs": [],
   "source": [
    "df_rainfall_bangkok_subdist = df_rainfall_subdistlevel.loc[df_rainfall_subdistlevel['addrcode'].str[:2] == '10']\n",
    "rainfall_bangkok_subdist = df_rainfall_bangkok_subdist['addrcode'].values\n",
    "len(df_rainfall_bangkok_subdist)"
   ]
  },
  {
   "cell_type": "code",
   "execution_count": null,
   "metadata": {},
   "outputs": [],
   "source": [
    "df_rainfall_nakhon_subdist = df_rainfall_subdistlevel.loc[df_rainfall_subdistlevel['addrcode'].str[:2] == '80']\n",
    "rainfall_nakhon_subdist = df_rainfall_nakhon_subdist['addrcode'].values\n",
    "len(df_rainfall_nakhon_subdist)"
   ]
  },
  {
   "cell_type": "code",
   "execution_count": null,
   "metadata": {},
   "outputs": [],
   "source": [
    "df_rainfall_krabi_subdist = df_rainfall_subdistlevel.loc[df_rainfall_subdistlevel['addrcode'].str[:2] == '81']\n",
    "rainfall_krabi_subdist = df_rainfall_krabi_subdist['addrcode'].values\n",
    "len(df_rainfall_krabi_subdist)"
   ]
  },
  {
   "cell_type": "markdown",
   "metadata": {},
   "source": [
    "## Number of missing sub-district"
   ]
  },
  {
   "cell_type": "markdown",
   "metadata": {},
   "source": [
    "### Bangkok"
   ]
  },
  {
   "cell_type": "code",
   "execution_count": null,
   "metadata": {},
   "outputs": [],
   "source": [
    "missing_bangkok = set(bangkok_subdist) - set(rainfall_bangkok_subdist)\n",
    "len(missing_bangkok)"
   ]
  },
  {
   "cell_type": "code",
   "execution_count": null,
   "metadata": {},
   "outputs": [],
   "source": [
    "missing_dist_bangkok = []\n",
    "for i in range(len(missing_bangkok)):\n",
    "    missing_dist_bangkok.append(missing_bangkok.pop())\n",
    "missing_dist_bangkok = np.array(missing_dist_bangkok)\n",
    "df_missing_dist_bangkok = pd.DataFrame(missing_dist_bangkok, columns = ['TA_ID'])\n",
    "df_missing_dist_bangkok.head()"
   ]
  },
  {
   "cell_type": "code",
   "execution_count": null,
   "metadata": {},
   "outputs": [],
   "source": [
    "missing_sub_bangkok = pd.merge(df_dic,df_missing_dist_bangkok, how = 'inner')\n",
    "missing_sub_bangkok.iloc[:,[0,1]].head()"
   ]
  },
  {
   "cell_type": "code",
   "execution_count": null,
   "metadata": {},
   "outputs": [],
   "source": [
    "invalid_bangkok = set(rainfall_bangkok_subdist) - set(bangkok_subdist)\n",
    "len(invalid_bangkok)"
   ]
  },
  {
   "cell_type": "markdown",
   "metadata": {},
   "source": [
    "### Nakhon-Si-Thammarat"
   ]
  },
  {
   "cell_type": "code",
   "execution_count": null,
   "metadata": {},
   "outputs": [],
   "source": [
    "missing_nakhon = set(nakhon_subdist) - set(rainfall_nakhon_subdist)\n",
    "len(missing_nakhon)"
   ]
  },
  {
   "cell_type": "code",
   "execution_count": null,
   "metadata": {},
   "outputs": [],
   "source": [
    "missing_dist_nakhon = []\n",
    "for i in range(len(missing_nakhon)):\n",
    "    missing_dist_nakhon.append(missing_nakhon.pop())\n",
    "missing_dist_nakhon = np.array(missing_dist_nakhon)\n",
    "df_missing_dist_nakhon = pd.DataFrame(missing_dist_nakhon, columns = ['TA_ID'])\n",
    "df_missing_dist_nakhon.head()"
   ]
  },
  {
   "cell_type": "code",
   "execution_count": null,
   "metadata": {},
   "outputs": [],
   "source": [
    "missing_sub_nakhon = pd.merge(df_dic,df_missing_dist_nakhon, how = 'inner')\n",
    "missing_sub_nakhon.iloc[:,[0,1]].head()"
   ]
  },
  {
   "cell_type": "code",
   "execution_count": null,
   "metadata": {},
   "outputs": [],
   "source": [
    "invalid_nakhon = set(rainfall_nakhon_subdist) - set(nakhon_subdist)\n",
    "len(invalid_nakhon)"
   ]
  },
  {
   "cell_type": "markdown",
   "metadata": {},
   "source": [
    "### Krabi"
   ]
  },
  {
   "cell_type": "code",
   "execution_count": null,
   "metadata": {},
   "outputs": [],
   "source": [
    "missing_krabi = set(krabi_subdist) - set(rainfall_krabi_subdist)\n",
    "len(missing_krabi)"
   ]
  },
  {
   "cell_type": "code",
   "execution_count": null,
   "metadata": {},
   "outputs": [],
   "source": [
    "missing_dist_krabi = []\n",
    "for i in range(len(missing_krabi)):\n",
    "    missing_dist_krabi.append(missing_krabi.pop())\n",
    "missing_dist_krabi = np.array(missing_dist_krabi)\n",
    "df_missing_dist_krabi = pd.DataFrame(missing_dist_krabi, columns = ['TA_ID'])\n",
    "df_missing_dist_krabi.head()"
   ]
  },
  {
   "cell_type": "code",
   "execution_count": null,
   "metadata": {},
   "outputs": [],
   "source": [
    "missing_sub_krabi = pd.merge(df_dic,df_missing_dist_krabi, how = 'inner')\n",
    "missing_sub_krabi.iloc[:,[0,1]].head()"
   ]
  },
  {
   "cell_type": "code",
   "execution_count": null,
   "metadata": {},
   "outputs": [],
   "source": [
    "invalid_krabi = set(rainfall_krabi_subdist) - set(krabi_subdist)\n",
    "invalid_krabi"
   ]
  },
  {
   "cell_type": "markdown",
   "metadata": {},
   "source": [
    "## Monthly Landscape Temperature Data\n",
    "### From Trop Med"
   ]
  },
  {
   "cell_type": "code",
   "execution_count": null,
   "metadata": {},
   "outputs": [],
   "source": [
    "df_temp = pd.read_csv(os.path.join('data','Weather','temperature.csv'))\n",
    "df_temp['addrcode'] = df_temp['addrcode'].astype(str)\n",
    "df_temp.head()"
   ]
  },
  {
   "cell_type": "code",
   "execution_count": null,
   "metadata": {},
   "outputs": [],
   "source": [
    "df_temp['date'] = pd.to_datetime(df_temp['date'],format = '%Y-%m-%d')\n",
    "df_temp['Year'] = df_temp['date'].dt.year\n",
    "df_temp['Month'] = df_temp['date'].dt.month\n",
    "df_temp = df_temp[['addrcode','date','Year','Month','temperature']]\n",
    "df_temp.head()"
   ]
  },
  {
   "cell_type": "code",
   "execution_count": null,
   "metadata": {},
   "outputs": [],
   "source": [
    "df_tempmonth = df_temp.groupby([df_temp['addrcode'].str[:2],df_temp['Year'],df_temp['Month']]).size().reset_index(name ='Count')\n",
    "df_tempmonth.head()"
   ]
  },
  {
   "cell_type": "code",
   "execution_count": null,
   "metadata": {},
   "outputs": [],
   "source": [
    "df_tempyear = df_tempmonth.groupby([df_tempmonth['addrcode'].str[:2],df_tempmonth['Year']]).size().reset_index(name = 'NumMonth')\n",
    "df_tempyear.head()"
   ]
  },
  {
   "cell_type": "code",
   "execution_count": null,
   "metadata": {},
   "outputs": [],
   "source": [
    "df_temp_subdistlevel = df_temp.groupby(df_temp['addrcode']).size().reset_index(name = 'count')\n",
    "df_temp_subdistlevel.head()"
   ]
  },
  {
   "cell_type": "code",
   "execution_count": null,
   "metadata": {},
   "outputs": [],
   "source": [
    "df_temp_province = df_temp_subdistlevel.groupby(df_temp_subdistlevel['addrcode'].str[:2]).size().reset_index(name = 'count')\n",
    "df_temp_province"
   ]
  },
  {
   "cell_type": "code",
   "execution_count": null,
   "metadata": {},
   "outputs": [],
   "source": [
    "df_temp_bangkok_subdist = df_temp_subdistlevel.loc[df_temp_subdistlevel['addrcode'].str[:2] == '10']\n",
    "temp_bangkok_subdist = df_temp_bangkok_subdist['addrcode'].values\n",
    "len(df_temp_bangkok_subdist)"
   ]
  },
  {
   "cell_type": "code",
   "execution_count": null,
   "metadata": {},
   "outputs": [],
   "source": [
    "df_temp_nakhon_subdist = df_temp_subdistlevel.loc[df_temp_subdistlevel['addrcode'].str[:2] == '80']\n",
    "temp_nakhon_subdist = df_temp_nakhon_subdist['addrcode'].values\n",
    "len(df_temp_nakhon_subdist)"
   ]
  },
  {
   "cell_type": "code",
   "execution_count": null,
   "metadata": {},
   "outputs": [],
   "source": [
    "df_temp_krabi_subdist = df_temp_subdistlevel.loc[df_temp_subdistlevel['addrcode'].str[:2] == '81']\n",
    "temp_krabi_subdist = df_temp_krabi_subdist['addrcode'].values\n",
    "len(df_temp_krabi_subdist)"
   ]
  },
  {
   "cell_type": "markdown",
   "metadata": {},
   "source": [
    "## Number of missing sub-district"
   ]
  },
  {
   "cell_type": "markdown",
   "metadata": {},
   "source": [
    "### Bangkok"
   ]
  },
  {
   "cell_type": "code",
   "execution_count": null,
   "metadata": {},
   "outputs": [],
   "source": [
    "missing_temp_bangkok = set(bangkok_subdist) - set(temp_bangkok_subdist)\n",
    "len(missing_temp_bangkok)"
   ]
  },
  {
   "cell_type": "code",
   "execution_count": null,
   "metadata": {},
   "outputs": [],
   "source": [
    "invalid_temp_bangkok = set(temp_bangkok_subdist) - set(bangkok_subdist) \n",
    "len(invalid_temp_bangkok)"
   ]
  },
  {
   "cell_type": "markdown",
   "metadata": {},
   "source": [
    "### Nakhon-Si-Thammarat"
   ]
  },
  {
   "cell_type": "code",
   "execution_count": null,
   "metadata": {},
   "outputs": [],
   "source": [
    "missing_temp_nakhon = set(nakhon_subdist) - set(temp_nakhon_subdist)\n",
    "len(missing_temp_nakhon)"
   ]
  },
  {
   "cell_type": "code",
   "execution_count": null,
   "metadata": {},
   "outputs": [],
   "source": [
    "invalid_temp_nakhon = set(temp_nakhon_subdist) - set(nakhon_subdist) \n",
    "len(invalid_temp_nakhon)"
   ]
  },
  {
   "cell_type": "markdown",
   "metadata": {},
   "source": [
    "### Krabi"
   ]
  },
  {
   "cell_type": "code",
   "execution_count": null,
   "metadata": {},
   "outputs": [],
   "source": [
    "missing_temp_krabi = set(krabi_subdist) - set(temp_krabi_subdist)\n",
    "len(missing_temp_krabi)"
   ]
  },
  {
   "cell_type": "code",
   "execution_count": null,
   "metadata": {},
   "outputs": [],
   "source": [
    "invalid_temp_krabi = set(temp_krabi_subdist) - set(krabi_subdist) \n",
    "invalid_temp_krabi"
   ]
  },
  {
   "cell_type": "markdown",
   "metadata": {},
   "source": [
    "## Monthly Breeding Site Detection Data"
   ]
  },
  {
   "cell_type": "code",
   "execution_count": null,
   "metadata": {},
   "outputs": [],
   "source": [
    "df_detection = pd.read_csv(os.path.join('Data','Breeding-sites','csv','addrcode-index','detection.csv'))\n",
    "df_detection.head()"
   ]
  },
  {
   "cell_type": "code",
   "execution_count": null,
   "metadata": {},
   "outputs": [],
   "source": [
    "df_detection['date'] = pd.to_datetime(df_detection['date'],format = '%Y-%m-%d')\n",
    "df_detection['Year'] = df_detection['date'].dt.year\n",
    "df_detection['Month'] = df_detection['date'].dt.month\n",
    "df_detection['addrcode'] = df_detection['addrcode'].astype(str)\n",
    "df_detection['Year'] = df_detection['Year'].astype(str)\n",
    "df_detection['Month'] = df_detection['Month'].astype(str)\n",
    "df_detection = df_detection[['date','Year','Month','addrcode','bin','bowl','bucket','cup','jar','pottedplant','tire','vase','total']]\n",
    "df_detection.head()"
   ]
  },
  {
   "cell_type": "code",
   "execution_count": null,
   "metadata": {},
   "outputs": [],
   "source": [
    "df_detectionmonth = df_detection.groupby([df_detection['addrcode'].str[:2],df_detection['Year'],df_detection['Month']]).size().reset_index(name ='Count')\n",
    "df_detectionmonth.head()"
   ]
  },
  {
   "cell_type": "code",
   "execution_count": null,
   "metadata": {},
   "outputs": [],
   "source": [
    "df_detectionyear = df_detectionmonth.groupby([df_detectionmonth['addrcode'].str[:2],df_detectionmonth['Year']]).size().reset_index(name = 'NumMonth')\n",
    "df_detectionyear"
   ]
  },
  {
   "cell_type": "markdown",
   "metadata": {},
   "source": [
    "## Compare sub-district in Bangkok"
   ]
  },
  {
   "cell_type": "code",
   "execution_count": null,
   "metadata": {},
   "outputs": [],
   "source": [
    "df_new_dic = pd.read_csv(os.path.join('Data','Other','Newver-Dictionary.csv'))\n",
    "df_new_dic['PV_IDN'] = df_new_dic['PV_IDN'].astype(str)\n",
    "df_new_dic = df_new_dic.loc[df_new_dic['PV_IDN'] == '10']\n",
    "df_new_dic.head()"
   ]
  },
  {
   "cell_type": "code",
   "execution_count": null,
   "metadata": {},
   "outputs": [],
   "source": [
    "df_dic_bangkok_subdist.head()"
   ]
  },
  {
   "cell_type": "code",
   "execution_count": null,
   "metadata": {},
   "outputs": [],
   "source": [
    "df_dic_bangkok_compare = df_dic_bangkok_subdist.iloc[:,[0,1]]\n",
    "df_dic_bangkok_compare.head()"
   ]
  },
  {
   "cell_type": "code",
   "execution_count": null,
   "metadata": {},
   "outputs": [],
   "source": [
    "df_new_dic_bangkok = df_new_dic.iloc[:,[0,1]]\n",
    "df_new_dic_bangkok.head()"
   ]
  },
  {
   "cell_type": "code",
   "execution_count": null,
   "metadata": {},
   "outputs": [],
   "source": [
    "df_new_dic_bangkok.columns = ['TA_ID_NEW', 'TAMBON_T']\n",
    "df_new_dic_bangkok.head()"
   ]
  },
  {
   "cell_type": "code",
   "execution_count": null,
   "metadata": {},
   "outputs": [],
   "source": [
    "result = pd.merge(df_dic_bangkok_compare,df_new_dic_bangkok, on = 'TAMBON_T',how = 'outer')\n",
    "result.head(10)\n",
    "#result.to_csv('compare_subdist_bangkok.csv', encoding = 'utf-8')"
   ]
  },
  {
   "cell_type": "markdown",
   "metadata": {},
   "source": [
    "## Weekly Dengue cases Data"
   ]
  },
  {
   "cell_type": "code",
   "execution_count": null,
   "metadata": {},
   "outputs": [],
   "source": [
    "df_denguecase_weekly = pd.read_csv(os.path.join('Data','Dengue-cases','DHF','DHF-weekly.csv'))\n",
    "df_denguecase_weekly = df_denguecase_weekly.drop(\"Unnamed: 0\", axis=1)\n",
    "df_denguecase_weekly['Subdistrict_Code'] = df_denguecase_weekly['Subdistrict_Code'].astype(str)\n",
    "df_denguecase_weekly.head()"
   ]
  },
  {
   "cell_type": "markdown",
   "metadata": {},
   "source": [
    "### Total number of Dengue cases in each province"
   ]
  },
  {
   "cell_type": "code",
   "execution_count": null,
   "metadata": {},
   "outputs": [],
   "source": [
    "aggregation_function = {'NumberCases': 'sum'}\n",
    "df_df_weekly_province = df_denguecase_weekly.groupby([df_denguecase_weekly['Subdistrict_Code'].str[:2]]).aggregate(aggregation_function).reset_index()\n",
    "df_df_weekly_province"
   ]
  },
  {
   "cell_type": "markdown",
   "metadata": {},
   "source": [
    "### Extract Dengue cases data in Bangkok for 2014-2016"
   ]
  },
  {
   "cell_type": "code",
   "execution_count": null,
   "metadata": {},
   "outputs": [],
   "source": [
    "df_denguecase_weekly_bangkok = df_denguecase_weekly.loc[df_denguecase_weekly['Subdistrict_Code'].str[:2] == '10']\n",
    "df_denguecase_weekly_bangkok.head()"
   ]
  },
  {
   "cell_type": "code",
   "execution_count": null,
   "metadata": {},
   "outputs": [],
   "source": [
    "df_df_bangkok_2014_2016 = df_denguecase_weekly_bangkok.loc[df_denguecase_weekly_bangkok['Year'] <= 2016]\n",
    "df_df_bangkok_2014_2016.tail()\n",
    "#df_df_bangkok_2014_2016.to_csv('dengue-case_weekly_bangkok_2014-2016_subdist.csv', encoding = 'utf-8')"
   ]
  },
  {
   "cell_type": "code",
   "execution_count": null,
   "metadata": {},
   "outputs": [],
   "source": [
    "aggregation_function = {'NumberCases': 'sum'}\n",
    "df_df_bangkok_2014_2016_dist = df_df_bangkok_2014_2016.groupby([df_df_bangkok_2014_2016['Subdistrict_Code'].str[:4],df_df_bangkok_2014_2016['Year'],df_df_bangkok_2014_2016['Week']]).aggregate(aggregation_function).reset_index()\n",
    "df_df_bangkok_2014_2016_dist.columns = ['District_Code','Year','Week','NumberCases']\n",
    "df_df_bangkok_2014_2016_dist.head()\n",
    "#df_df_bangkok_2014_2016_dist.to_csv('dengue-case_weekly_bangkok_2014-2016_dist.csv', encoding = 'utf-8')\n"
   ]
  },
  {
   "cell_type": "markdown",
   "metadata": {},
   "source": [
    "## Fill Dengue Fever data with Week Number from date"
   ]
  },
  {
   "cell_type": "code",
   "execution_count": 85,
   "metadata": {},
   "outputs": [
    {
     "data": {
      "text/html": [
       "<div>\n",
       "<style scoped>\n",
       "    .dataframe tbody tr th:only-of-type {\n",
       "        vertical-align: middle;\n",
       "    }\n",
       "\n",
       "    .dataframe tbody tr th {\n",
       "        vertical-align: top;\n",
       "    }\n",
       "\n",
       "    .dataframe thead th {\n",
       "        text-align: right;\n",
       "    }\n",
       "</style>\n",
       "<table border=\"1\" class=\"dataframe\">\n",
       "  <thead>\n",
       "    <tr style=\"text-align: right;\">\n",
       "      <th></th>\n",
       "      <th>ID</th>\n",
       "      <th>ADDRCODE</th>\n",
       "      <th>PROVINCE</th>\n",
       "      <th>DATESICK</th>\n",
       "    </tr>\n",
       "  </thead>\n",
       "  <tbody>\n",
       "    <tr>\n",
       "      <th>0</th>\n",
       "      <td>1</td>\n",
       "      <td>3604</td>\n",
       "      <td>10</td>\n",
       "      <td>1-Oct-14</td>\n",
       "    </tr>\n",
       "    <tr>\n",
       "      <th>1</th>\n",
       "      <td>2</td>\n",
       "      <td>1203</td>\n",
       "      <td>10</td>\n",
       "      <td>1-Oct-14</td>\n",
       "    </tr>\n",
       "    <tr>\n",
       "      <th>2</th>\n",
       "      <td>3</td>\n",
       "      <td>1504</td>\n",
       "      <td>10</td>\n",
       "      <td>1-Oct-14</td>\n",
       "    </tr>\n",
       "    <tr>\n",
       "      <th>3</th>\n",
       "      <td>4</td>\n",
       "      <td>502</td>\n",
       "      <td>10</td>\n",
       "      <td>1-Oct-14</td>\n",
       "    </tr>\n",
       "    <tr>\n",
       "      <th>4</th>\n",
       "      <td>5</td>\n",
       "      <td>3001</td>\n",
       "      <td>10</td>\n",
       "      <td>1-Oct-14</td>\n",
       "    </tr>\n",
       "  </tbody>\n",
       "</table>\n",
       "</div>"
      ],
      "text/plain": [
       "   ID  ADDRCODE  PROVINCE  DATESICK\n",
       "0   1      3604        10  1-Oct-14\n",
       "1   2      1203        10  1-Oct-14\n",
       "2   3      1504        10  1-Oct-14\n",
       "3   4       502        10  1-Oct-14\n",
       "4   5      3001        10  1-Oct-14"
      ]
     },
     "execution_count": 85,
     "metadata": {},
     "output_type": "execute_result"
    }
   ],
   "source": [
    "import datetime\n",
    "df_dengue_2014 = pd.read_csv(os.path.join('Data','Dengue-cases','Dengue fever data','Original-files','DF_2014.csv'))\n",
    "df_dengue_2014.head()"
   ]
  },
  {
   "cell_type": "code",
   "execution_count": 75,
   "metadata": {},
   "outputs": [
    {
     "data": {
      "text/html": [
       "<div>\n",
       "<style scoped>\n",
       "    .dataframe tbody tr th:only-of-type {\n",
       "        vertical-align: middle;\n",
       "    }\n",
       "\n",
       "    .dataframe tbody tr th {\n",
       "        vertical-align: top;\n",
       "    }\n",
       "\n",
       "    .dataframe thead th {\n",
       "        text-align: right;\n",
       "    }\n",
       "</style>\n",
       "<table border=\"1\" class=\"dataframe\">\n",
       "  <thead>\n",
       "    <tr style=\"text-align: right;\">\n",
       "      <th></th>\n",
       "      <th>ID</th>\n",
       "      <th>ADDRCODE</th>\n",
       "      <th>PROVINCE</th>\n",
       "      <th>DATESICK</th>\n",
       "      <th>Year</th>\n",
       "      <th>Month</th>\n",
       "      <th>Day</th>\n",
       "    </tr>\n",
       "  </thead>\n",
       "  <tbody>\n",
       "    <tr>\n",
       "      <th>0</th>\n",
       "      <td>1</td>\n",
       "      <td>3604</td>\n",
       "      <td>10</td>\n",
       "      <td>2014-10-01</td>\n",
       "      <td>2014</td>\n",
       "      <td>10</td>\n",
       "      <td>1</td>\n",
       "    </tr>\n",
       "    <tr>\n",
       "      <th>1</th>\n",
       "      <td>2</td>\n",
       "      <td>1203</td>\n",
       "      <td>10</td>\n",
       "      <td>2014-10-01</td>\n",
       "      <td>2014</td>\n",
       "      <td>10</td>\n",
       "      <td>1</td>\n",
       "    </tr>\n",
       "    <tr>\n",
       "      <th>2</th>\n",
       "      <td>3</td>\n",
       "      <td>1504</td>\n",
       "      <td>10</td>\n",
       "      <td>2014-10-01</td>\n",
       "      <td>2014</td>\n",
       "      <td>10</td>\n",
       "      <td>1</td>\n",
       "    </tr>\n",
       "    <tr>\n",
       "      <th>3</th>\n",
       "      <td>4</td>\n",
       "      <td>502</td>\n",
       "      <td>10</td>\n",
       "      <td>2014-10-01</td>\n",
       "      <td>2014</td>\n",
       "      <td>10</td>\n",
       "      <td>1</td>\n",
       "    </tr>\n",
       "    <tr>\n",
       "      <th>4</th>\n",
       "      <td>5</td>\n",
       "      <td>3001</td>\n",
       "      <td>10</td>\n",
       "      <td>2014-10-01</td>\n",
       "      <td>2014</td>\n",
       "      <td>10</td>\n",
       "      <td>1</td>\n",
       "    </tr>\n",
       "  </tbody>\n",
       "</table>\n",
       "</div>"
      ],
      "text/plain": [
       "   ID  ADDRCODE  PROVINCE   DATESICK  Year  Month  Day\n",
       "0   1      3604        10 2014-10-01  2014     10    1\n",
       "1   2      1203        10 2014-10-01  2014     10    1\n",
       "2   3      1504        10 2014-10-01  2014     10    1\n",
       "3   4       502        10 2014-10-01  2014     10    1\n",
       "4   5      3001        10 2014-10-01  2014     10    1"
      ]
     },
     "execution_count": 75,
     "metadata": {},
     "output_type": "execute_result"
    }
   ],
   "source": [
    "df_dengue_2014['DATESICK'] = pd.to_datetime(df_dengue_2014['DATESICK'],format = '%d-%b-%y')\n",
    "df_dengue_2014['Year'] = df_dengue_2014['DATESICK'].dt.year\n",
    "df_dengue_2014['Month'] = df_dengue_2014['DATESICK'].dt.month\n",
    "df_dengue_2014['Day'] = df_dengue_2014['DATESICK'].dt.day\n",
    "df_dengue_2014.head()"
   ]
  },
  {
   "cell_type": "code",
   "execution_count": 76,
   "metadata": {},
   "outputs": [],
   "source": [
    "Weeknum = []\n",
    "for i in range(len(df_dengue_2014)):\n",
    "    Year = df_dengue_2014['Year'][i]\n",
    "    Month = df_dengue_2014['Month'][i]\n",
    "    Day = df_dengue_2014['Day'][i]\n",
    "    Weeknum.append(datetime.date(Year,Month,Day).isocalendar()[1])"
   ]
  },
  {
   "cell_type": "code",
   "execution_count": 77,
   "metadata": {},
   "outputs": [],
   "source": [
    "df_dengue_2014['Weeknum'] = Weeknum"
   ]
  },
  {
   "cell_type": "code",
   "execution_count": 78,
   "metadata": {},
   "outputs": [
    {
     "data": {
      "text/html": [
       "<div>\n",
       "<style scoped>\n",
       "    .dataframe tbody tr th:only-of-type {\n",
       "        vertical-align: middle;\n",
       "    }\n",
       "\n",
       "    .dataframe tbody tr th {\n",
       "        vertical-align: top;\n",
       "    }\n",
       "\n",
       "    .dataframe thead th {\n",
       "        text-align: right;\n",
       "    }\n",
       "</style>\n",
       "<table border=\"1\" class=\"dataframe\">\n",
       "  <thead>\n",
       "    <tr style=\"text-align: right;\">\n",
       "      <th></th>\n",
       "      <th>ID</th>\n",
       "      <th>ADDRCODE</th>\n",
       "      <th>PROVINCE</th>\n",
       "      <th>DATESICK</th>\n",
       "      <th>Year</th>\n",
       "      <th>Month</th>\n",
       "      <th>Day</th>\n",
       "      <th>Weeknum</th>\n",
       "    </tr>\n",
       "  </thead>\n",
       "  <tbody>\n",
       "    <tr>\n",
       "      <th>0</th>\n",
       "      <td>1</td>\n",
       "      <td>3604</td>\n",
       "      <td>10</td>\n",
       "      <td>2014-10-01</td>\n",
       "      <td>2014</td>\n",
       "      <td>10</td>\n",
       "      <td>1</td>\n",
       "      <td>40</td>\n",
       "    </tr>\n",
       "    <tr>\n",
       "      <th>1</th>\n",
       "      <td>2</td>\n",
       "      <td>1203</td>\n",
       "      <td>10</td>\n",
       "      <td>2014-10-01</td>\n",
       "      <td>2014</td>\n",
       "      <td>10</td>\n",
       "      <td>1</td>\n",
       "      <td>40</td>\n",
       "    </tr>\n",
       "    <tr>\n",
       "      <th>2</th>\n",
       "      <td>3</td>\n",
       "      <td>1504</td>\n",
       "      <td>10</td>\n",
       "      <td>2014-10-01</td>\n",
       "      <td>2014</td>\n",
       "      <td>10</td>\n",
       "      <td>1</td>\n",
       "      <td>40</td>\n",
       "    </tr>\n",
       "    <tr>\n",
       "      <th>3</th>\n",
       "      <td>4</td>\n",
       "      <td>502</td>\n",
       "      <td>10</td>\n",
       "      <td>2014-10-01</td>\n",
       "      <td>2014</td>\n",
       "      <td>10</td>\n",
       "      <td>1</td>\n",
       "      <td>40</td>\n",
       "    </tr>\n",
       "    <tr>\n",
       "      <th>4</th>\n",
       "      <td>5</td>\n",
       "      <td>3001</td>\n",
       "      <td>10</td>\n",
       "      <td>2014-10-01</td>\n",
       "      <td>2014</td>\n",
       "      <td>10</td>\n",
       "      <td>1</td>\n",
       "      <td>40</td>\n",
       "    </tr>\n",
       "  </tbody>\n",
       "</table>\n",
       "</div>"
      ],
      "text/plain": [
       "   ID  ADDRCODE  PROVINCE   DATESICK  Year  Month  Day  Weeknum\n",
       "0   1      3604        10 2014-10-01  2014     10    1       40\n",
       "1   2      1203        10 2014-10-01  2014     10    1       40\n",
       "2   3      1504        10 2014-10-01  2014     10    1       40\n",
       "3   4       502        10 2014-10-01  2014     10    1       40\n",
       "4   5      3001        10 2014-10-01  2014     10    1       40"
      ]
     },
     "execution_count": 78,
     "metadata": {},
     "output_type": "execute_result"
    }
   ],
   "source": [
    "df_dengue_2014.head()"
   ]
  },
  {
   "cell_type": "code",
   "execution_count": 80,
   "metadata": {},
   "outputs": [],
   "source": [
    "#df_dengue_2014.to_csv('DF_2014_WeekNum.csv', encoding = 'utf-8')"
   ]
  },
  {
   "cell_type": "code",
   "execution_count": 84,
   "metadata": {},
   "outputs": [],
   "source": [
    "df_dengue_2014 = pd.read_csv(os.path.join('Data','Dengue-cases','Dengue fever data','DF_2014_WeekNum.csv'))\n",
    "df_dengue_2015 = pd.read_csv(os.path.join('Data','Dengue-cases','Dengue fever data','DF_2015_WeekNum.csv'))\n",
    "df_dengue_2016 = pd.read_csv(os.path.join('Data','Dengue-cases','Dengue fever data','DF_2016_WeekNum.csv'))\n",
    "df_dengue_2017 = pd.read_csv(os.path.join('Data','Dengue-cases','Dengue fever data','DF_2017_WeekNum.csv'))\n",
    "df_dengue_2018 = pd.read_csv(os.path.join('Data','Dengue-cases','Dengue fever data','DF_2018_WeekNum.csv'))\n",
    "frame = pd.DataFrame()\n",
    "list_ = []\n",
    "list_.append(df_dengue_2014)\n",
    "list_.append(df_dengue_2015)\n",
    "list_.append(df_dengue_2016)\n",
    "list_.append(df_dengue_2017)\n",
    "list_.append(df_dengue_2018)\n",
    "df_dengue_5year = pd.concat(list_)\n",
    "#df_dengue_5year = df_dengue_5year.sort_values(by = ['PROVINCE','ADDRCODE','Year','Month','Day'])\n",
    "#df_dengue_5year = df_dengue_5year.reset_index()\n",
    "#df_dengue_5year = df_dengue_5year.drop('index',axis = 1)\n",
    "df_dengue_5year = df_dengue_5year.drop('Unnamed: 0',axis = 1)\n",
    "df_dengue_5year = df_dengue_5year.drop('ID',axis = 1)\n",
    "df_dengue_5year\n",
    "df_dengue_5year.to_csv('DF_5YEAR_WeekNum.csv', encoding = 'utf-8')"
   ]
  },
  {
   "cell_type": "markdown",
   "metadata": {},
   "source": [
    "## Weekly Dengue cases Data "
   ]
  },
  {
   "cell_type": "code",
   "execution_count": null,
   "metadata": {},
   "outputs": [],
   "source": [
    "df_denguecase_weekly = pd.read_csv(os.path.join('Data','Dengue-cases','DHF','DHF-weekly.csv'))\n",
    "df_denguecase_weekly = df_denguecase_weekly.drop(\"Unnamed: 0\", axis=1)\n",
    "df_denguecase_weekly['Subdistrict_Code'] = df_denguecase_weekly['Subdistrict_Code'].astype(str)\n",
    "df_denguecase_weekly.head()"
   ]
  },
  {
   "cell_type": "markdown",
   "metadata": {},
   "source": [
    "## Total number of Dengue cases in each province"
   ]
  },
  {
   "cell_type": "code",
   "execution_count": null,
   "metadata": {},
   "outputs": [],
   "source": [
    "aggregation_function = {'NumberCases': 'sum'}\n",
    "df_df_weekly_province = df_denguecase_weekly.groupby([df_denguecase_weekly['Subdistrict_Code'].str[:2]]).aggregate(aggregation_function).reset_index()\n",
    "df_df_weekly_province"
   ]
  },
  {
   "cell_type": "markdown",
   "metadata": {},
   "source": [
    "## Extract Dengue cases data in Bangkok for 2014-2016"
   ]
  },
  {
   "cell_type": "code",
   "execution_count": null,
   "metadata": {},
   "outputs": [],
   "source": [
    "df_denguecase_weekly_bangkok = df_denguecase_weekly.loc[df_denguecase_weekly['Subdistrict_Code'].str[:2] == '10']\n",
    "df_denguecase_weekly_bangkok.head()"
   ]
  },
  {
   "cell_type": "code",
   "execution_count": null,
   "metadata": {},
   "outputs": [],
   "source": [
    "df_df_bangkok_2014_2016 = df_denguecase_weekly_bangkok.loc[df_denguecase_weekly_bangkok['Year'] <= 2016]\n",
    "df_df_bangkok_2014_2016.tail()\n",
    "#df_df_bangkok_2014_2016.to_csv('dengue-case_weekly_bangkok_2014-2016_subdist.csv', encoding = 'utf-8')"
   ]
  },
  {
   "cell_type": "markdown",
   "metadata": {},
   "source": [
    "## Fill zero case in no-incidence week"
   ]
  },
  {
   "cell_type": "code",
   "execution_count": null,
   "metadata": {},
   "outputs": [],
   "source": [
    "aggregation_function = {'NumberCases': 'sum'}\n",
    "df_df_bangkok_2014_2016_dist = df_df_bangkok_2014_2016.groupby([df_df_bangkok_2014_2016['Subdistrict_Code'].str[:4],df_df_bangkok_2014_2016['Year'],df_df_bangkok_2014_2016['Week']]).aggregate(aggregation_function).reset_index()\n",
    "df_df_bangkok_2014_2016_dist.columns = ['District_Code','Year','Week','NumberCases']\n",
    "df_df_bangkok_2014_2016_dist.sort_values(by=['Year','District_Code','Week'])\n",
    "df_df_bangkok_2014_2016_dist.head()\n",
    "\n",
    "#df_df_bangkok_2014_2016_dist.to_csv('dengue-case_weekly_bangkok_2014-2016_dist.csv', encoding = 'utf-8')"
   ]
  },
  {
   "cell_type": "code",
   "execution_count": null,
   "metadata": {},
   "outputs": [],
   "source": [
    "df_df_bangkok_2014_2016_dist.index  = df_df_bangkok_2014_2016_dist.index+1\n",
    "df_df_bangkok_2014_2016_dist.loc[0] = [1001,2014,1,0]\n",
    "df_df_bangkok_2014_2016_dist = df_df_bangkok_2014_2016_dist.sort_index()\n",
    "df_df_bangkok_2014_2016_dist.head()"
   ]
  },
  {
   "cell_type": "code",
   "execution_count": null,
   "metadata": {},
   "outputs": [],
   "source": [
    "size = len(df_df_bangkok_2014_2016_dist)\n",
    "count = 1\n",
    "\n",
    "\n",
    "for i in range(size-2):\n",
    "    if df_df_bangkok_2014_2016_dist['Week'][i+1]-df_df_bangkok_2014_2016_dist['Week'][i] < 0:\n",
    "        if df_df_bangkok_2014_2016_dist['Week'][i] != 53:\n",
    "            df_df_bangkok_2014_2016_dist.loc[size+1+count] = [df_df_bangkok_2014_2016_dist['District_Code'][i],df_df_bangkok_2014_2016_dist['Year'][i], 53, 0]\n",
    "            count = count+1\n",
    "        if df_df_bangkok_2014_2016_dist['Week'][i+1] != 1:\n",
    "            df_df_bangkok_2014_2016_dist.loc[size+1+count] = [df_df_bangkok_2014_2016_dist['District_Code'][i+1],df_df_bangkok_2014_2016_dist['Year'][i+1], 1, 0]\n",
    "            count = count+1\n",
    "        else:\n",
    "            continue\n",
    "    elif df_df_bangkok_2014_2016_dist['Week'][i+1]-df_df_bangkok_2014_2016_dist['Week'][i] != 1:\n",
    "            numloop = df_df_bangkok_2014_2016_dist['Week'][i+1]-df_df_bangkok_2014_2016_dist['Week'][i]\n",
    "            for j in range(1,numloop):\n",
    "                df_df_bangkok_2014_2016_dist.loc[size+1+count]  = [df_df_bangkok_2014_2016_dist['District_Code'][i],df_df_bangkok_2014_2016_dist['Year'][i], df_df_bangkok_2014_2016_dist['Week'][i]+j, 0]\n",
    "                count = count+1\n",
    "\n",
    "df_df_bangkok_2014_2016_dist = df_df_bangkok_2014_2016_dist.sort_values(by=['District_Code','Year','Week'])\n",
    "df_df_bangkok_2014_2016_dist = df_df_bangkok_2014_2016_dist.reset_index()\n",
    "df_df_bangkok_2014_2016_dist = df_df_bangkok_2014_2016_dist.drop('index', axis=1)\n",
    "df_df_bangkok_2014_2016_dist.head()"
   ]
  },
  {
   "cell_type": "code",
   "execution_count": null,
   "metadata": {},
   "outputs": [],
   "source": [
    "size = len(df_df_bangkok_2014_2016_dist)\n",
    "size"
   ]
  },
  {
   "cell_type": "code",
   "execution_count": null,
   "metadata": {},
   "outputs": [],
   "source": [
    "## re-loop again for missing week from adding week 1 in previous step\n",
    "count = 1\n",
    "for i in range(size-1):\n",
    "    if df_df_bangkok_2014_2016_dist['Week'][i+1]-df_df_bangkok_2014_2016_dist['Week'][i] != 1:\n",
    "            numloop = df_df_bangkok_2014_2016_dist['Week'][i+1]-df_df_bangkok_2014_2016_dist['Week'][i]\n",
    "            for j in range(1,numloop):\n",
    "                df_df_bangkok_2014_2016_dist.loc[size+1+count]  = [df_df_bangkok_2014_2016_dist['District_Code'][i],df_df_bangkok_2014_2016_dist['Year'][i], df_df_bangkok_2014_2016_dist['Week'][i]+j, 0]\n",
    "                count = count+1\n",
    "\n",
    "df_df_bangkok_2014_2016_dist = df_df_bangkok_2014_2016_dist.sort_values(by=['District_Code','Year','Week'])\n",
    "df_df_bangkok_2014_2016_dist.head()\n",
    "df_df_bangkok_2014_2016_dist = df_df_bangkok_2014_2016_dist[df_df_bangkok_2014_2016_dist.District_Code != '1099']\n",
    "df_df_bangkok_2014_2016_dist = df_df_bangkok_2014_2016_dist.reset_index()\n",
    "df_df_bangkok_2014_2016_dist = df_df_bangkok_2014_2016_dist.drop('index', axis=1)\n",
    "#df_df_bangkok_2014_2016_dist.to_csv('dengue-case_weekly_bangkok_2014_2016_dist.csv', encoding = 'utf-8')"
   ]
  },
  {
   "cell_type": "code",
   "execution_count": null,
   "metadata": {},
   "outputs": [],
   "source": []
  },
  {
   "cell_type": "code",
   "execution_count": null,
   "metadata": {},
   "outputs": [],
   "source": []
  },
  {
   "cell_type": "code",
   "execution_count": null,
   "metadata": {},
   "outputs": [],
   "source": []
  }
 ],
 "metadata": {
  "kernelspec": {
   "display_name": "Python 3",
   "language": "python",
   "name": "python3"
  },
  "language_info": {
   "codemirror_mode": {
    "name": "ipython",
    "version": 3
   },
   "file_extension": ".py",
   "mimetype": "text/x-python",
   "name": "python",
   "nbconvert_exporter": "python",
   "pygments_lexer": "ipython3",
   "version": "3.6.5"
  }
 },
 "nbformat": 4,
 "nbformat_minor": 2
}
