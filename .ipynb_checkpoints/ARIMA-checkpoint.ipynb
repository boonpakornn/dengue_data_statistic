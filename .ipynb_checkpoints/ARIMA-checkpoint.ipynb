{
 "cells": [
  {
   "cell_type": "markdown",
   "metadata": {},
   "source": [
    "# ARIMA"
   ]
  },
  {
   "cell_type": "code",
   "execution_count": 10,
   "metadata": {},
   "outputs": [],
   "source": [
    "#source: ttps://github.com/tgsmith61591/pmdarima/blob/master/examples/quick_start_example.ipynb\n",
    "#download: https://github.com/tgsmith61591/pmdarima"
   ]
  },
  {
   "cell_type": "markdown",
   "metadata": {},
   "source": [
    "## Finding the best p,d,q"
   ]
  },
  {
   "cell_type": "code",
   "execution_count": 76,
   "metadata": {},
   "outputs": [
    {
     "name": "stdout",
     "output_type": "stream",
     "text": [
      "numpy version: '1.15.4'\n",
      "pmdarima version: '1.1.0'\n"
     ]
    }
   ],
   "source": [
    "import pandas as pd\n",
    "from matplotlib import pyplot\n",
    "import os\n",
    "from matplotlib.pyplot import figure\n",
    "import numpy as np\n",
    "import pmdarima as pm\n",
    "from scipy import stats\n",
    "import statsmodels.api as sm\n",
    "\n",
    "print('numpy version: %r' % np.__version__)\n",
    "print('pmdarima version: %r' % pm.__version__)"
   ]
  },
  {
   "cell_type": "code",
   "execution_count": 77,
   "metadata": {},
   "outputs": [],
   "source": [
    "df_train = pd.read_csv(os.path.join('Data','Modeling','Training&Testing','train_subdist.csv'), header=0, parse_dates=[0], index_col=0, squeeze=True)\n",
    "train = series['DF_0'].values\n",
    "df_test = pd.read_csv(os.path.join('Data','Modeling','Training&Testing','test_subdist.csv'), header=0, skiprows=0)\n",
    "df_test = df_test.drop('Unnamed: 0', axis = 1)\n",
    "df_test = df_test.drop(['bin','bowl','bucket','misc_short','jar','pottedplant','tire','misc_tall'], axis = 1)\n",
    "df_test_week_addrcode = df_test.iloc[:,[0,1,2,3]]"
   ]
  },
  {
   "cell_type": "markdown",
   "metadata": {},
   "source": [
    "### Fitting an ARIMA"
   ]
  },
  {
   "cell_type": "code",
   "execution_count": 78,
   "metadata": {},
   "outputs": [
    {
     "name": "stderr",
     "output_type": "stream",
     "text": [
      "/usr/local/lib/python3.6/site-packages/statsmodels/base/model.py:508: ConvergenceWarning: Maximum Likelihood optimization failed to converge. Check mle_retvals\n",
      "  \"Check mle_retvals\", ConvergenceWarning)\n"
     ]
    }
   ],
   "source": [
    "from pmdarima.arima import ARIMA\n",
    "\n",
    "fit = ARIMA(order=(1, 1, 1), seasonal_order=(0, 1, 1, 12)).fit(y = train)"
   ]
  },
  {
   "cell_type": "code",
   "execution_count": 18,
   "metadata": {},
   "outputs": [],
   "source": [
    "fit = ARIMA(order=(1, 1, 1), seasonal_order=None).fit(y = train)"
   ]
  },
  {
   "cell_type": "markdown",
   "metadata": {},
   "source": [
    "### Finding the optimal model hyper-parameters using auto_arima"
   ]
  },
  {
   "cell_type": "code",
   "execution_count": 20,
   "metadata": {},
   "outputs": [
    {
     "name": "stdout",
     "output_type": "stream",
     "text": [
      "Fit ARIMA: order=(1, 1, 1) seasonal_order=(0, 1, 1, 12); AIC=58439.175, BIC=58479.611, Fit time=117.746 seconds\n",
      "Fit ARIMA: order=(0, 1, 0) seasonal_order=(0, 1, 0, 12); AIC=86644.983, BIC=86661.157, Fit time=1.370 seconds\n",
      "Fit ARIMA: order=(1, 1, 0) seasonal_order=(1, 1, 0, 12); AIC=73272.548, BIC=73304.897, Fit time=17.769 seconds\n",
      "Fit ARIMA: order=(0, 1, 1) seasonal_order=(0, 1, 1, 12); AIC=58448.099, BIC=58480.448, Fit time=129.631 seconds\n",
      "Fit ARIMA: order=(1, 1, 1) seasonal_order=(1, 1, 1, 12); AIC=58753.938, BIC=58802.461, Fit time=108.357 seconds\n",
      "Fit ARIMA: order=(1, 1, 1) seasonal_order=(0, 1, 0, 12); AIC=75842.745, BIC=75875.094, Fit time=9.286 seconds\n",
      "Fit ARIMA: order=(1, 1, 1) seasonal_order=(0, 1, 2, 12); AIC=59158.151, BIC=59206.674, Fit time=369.423 seconds\n",
      "Fit ARIMA: order=(1, 1, 1) seasonal_order=(1, 1, 2, 12); AIC=58521.390, BIC=58578.001, Fit time=1068.343 seconds\n",
      "Fit ARIMA: order=(2, 1, 1) seasonal_order=(0, 1, 1, 12); AIC=58504.685, BIC=58553.208, Fit time=139.617 seconds\n",
      "Fit ARIMA: order=(1, 1, 0) seasonal_order=(0, 1, 1, 12); AIC=63398.247, BIC=63430.595, Fit time=84.355 seconds\n",
      "Fit ARIMA: order=(1, 1, 2) seasonal_order=(0, 1, 1, 12); AIC=58445.868, BIC=58494.392, Fit time=176.614 seconds\n",
      "Fit ARIMA: order=(0, 1, 0) seasonal_order=(0, 1, 1, 12); AIC=69843.263, BIC=69867.524, Fit time=46.870 seconds\n",
      "Fit ARIMA: order=(2, 1, 2) seasonal_order=(0, 1, 1, 12); AIC=58982.856, BIC=59039.466, Fit time=142.553 seconds\n",
      "Total fit time: 2411.951 seconds\n"
     ]
    },
    {
     "data": {
      "text/html": [
       "<table class=\"simpletable\">\n",
       "<caption>Statespace Model Results</caption>\n",
       "<tr>\n",
       "  <th>Dep. Variable:</th>                  <td>y</td>               <th>  No. Observations:  </th>    <td>24047</td>  \n",
       "</tr>\n",
       "<tr>\n",
       "  <th>Model:</th>           <td>SARIMAX(1, 1, 1)x(0, 1, 1, 12)</td> <th>  Log Likelihood     </th> <td>-29214.588</td>\n",
       "</tr>\n",
       "<tr>\n",
       "  <th>Date:</th>                   <td>Thu, 10 Jan 2019</td>        <th>  AIC                </th>  <td>58439.175</td>\n",
       "</tr>\n",
       "<tr>\n",
       "  <th>Time:</th>                       <td>00:57:29</td>            <th>  BIC                </th>  <td>58479.611</td>\n",
       "</tr>\n",
       "<tr>\n",
       "  <th>Sample:</th>                         <td>0</td>               <th>  HQIC               </th>  <td>58452.288</td>\n",
       "</tr>\n",
       "<tr>\n",
       "  <th></th>                            <td> - 24047</td>            <th>                     </th>      <td> </td>    \n",
       "</tr>\n",
       "<tr>\n",
       "  <th>Covariance Type:</th>               <td>opg</td>              <th>                     </th>      <td> </td>    \n",
       "</tr>\n",
       "</table>\n",
       "<table class=\"simpletable\">\n",
       "<tr>\n",
       "      <td></td>         <th>coef</th>     <th>std err</th>      <th>z</th>      <th>P>|z|</th>  <th>[0.025</th>    <th>0.975]</th>  \n",
       "</tr>\n",
       "<tr>\n",
       "  <th>intercept</th> <td> -4.18e-06</td> <td> 4.51e-06</td> <td>   -0.927</td> <td> 0.354</td> <td> -1.3e-05</td> <td> 4.66e-06</td>\n",
       "</tr>\n",
       "<tr>\n",
       "  <th>ar.L1</th>     <td>    0.0421</td> <td>    0.004</td> <td>   11.097</td> <td> 0.000</td> <td>    0.035</td> <td>    0.050</td>\n",
       "</tr>\n",
       "<tr>\n",
       "  <th>ma.L1</th>     <td>   -0.8171</td> <td>    0.002</td> <td> -391.646</td> <td> 0.000</td> <td>   -0.821</td> <td>   -0.813</td>\n",
       "</tr>\n",
       "<tr>\n",
       "  <th>ma.S.L12</th>  <td>   -0.9972</td> <td>    0.001</td> <td>-1329.152</td> <td> 0.000</td> <td>   -0.999</td> <td>   -0.996</td>\n",
       "</tr>\n",
       "<tr>\n",
       "  <th>sigma2</th>    <td>    0.6686</td> <td>    0.002</td> <td>  333.559</td> <td> 0.000</td> <td>    0.665</td> <td>    0.673</td>\n",
       "</tr>\n",
       "</table>\n",
       "<table class=\"simpletable\">\n",
       "<tr>\n",
       "  <th>Ljung-Box (Q):</th>          <td>381.52</td> <th>  Jarque-Bera (JB):  </th> <td>704926.72</td>\n",
       "</tr>\n",
       "<tr>\n",
       "  <th>Prob(Q):</th>                 <td>0.00</td>  <th>  Prob(JB):          </th>   <td>0.00</td>   \n",
       "</tr>\n",
       "<tr>\n",
       "  <th>Heteroskedasticity (H):</th>  <td>0.83</td>  <th>  Skew:              </th>   <td>3.17</td>   \n",
       "</tr>\n",
       "<tr>\n",
       "  <th>Prob(H) (two-sided):</th>     <td>0.00</td>  <th>  Kurtosis:          </th>   <td>28.76</td>  \n",
       "</tr>\n",
       "</table><br/><br/>Warnings:<br/>[1] Covariance matrix calculated using the outer product of gradients (complex-step)."
      ],
      "text/plain": [
       "<class 'statsmodels.iolib.summary.Summary'>\n",
       "\"\"\"\n",
       "                                 Statespace Model Results                                 \n",
       "==========================================================================================\n",
       "Dep. Variable:                                  y   No. Observations:                24047\n",
       "Model:             SARIMAX(1, 1, 1)x(0, 1, 1, 12)   Log Likelihood              -29214.588\n",
       "Date:                            Thu, 10 Jan 2019   AIC                          58439.175\n",
       "Time:                                    00:57:29   BIC                          58479.611\n",
       "Sample:                                         0   HQIC                         58452.288\n",
       "                                          - 24047                                         \n",
       "Covariance Type:                              opg                                         \n",
       "==============================================================================\n",
       "                 coef    std err          z      P>|z|      [0.025      0.975]\n",
       "------------------------------------------------------------------------------\n",
       "intercept   -4.18e-06   4.51e-06     -0.927      0.354    -1.3e-05    4.66e-06\n",
       "ar.L1          0.0421      0.004     11.097      0.000       0.035       0.050\n",
       "ma.L1         -0.8171      0.002   -391.646      0.000      -0.821      -0.813\n",
       "ma.S.L12      -0.9972      0.001  -1329.152      0.000      -0.999      -0.996\n",
       "sigma2         0.6686      0.002    333.559      0.000       0.665       0.673\n",
       "===================================================================================\n",
       "Ljung-Box (Q):                      381.52   Jarque-Bera (JB):            704926.72\n",
       "Prob(Q):                              0.00   Prob(JB):                         0.00\n",
       "Heteroskedasticity (H):               0.83   Skew:                             3.17\n",
       "Prob(H) (two-sided):                  0.00   Kurtosis:                        28.76\n",
       "===================================================================================\n",
       "\n",
       "Warnings:\n",
       "[1] Covariance matrix calculated using the outer product of gradients (complex-step).\n",
       "\"\"\""
      ]
     },
     "execution_count": 20,
     "metadata": {},
     "output_type": "execute_result"
    }
   ],
   "source": [
    "# fitting a stepwise model:\n",
    "from pmdarima.arima import auto_arima\n",
    "\n",
    "stepwise_fit = auto_arima(train, start_p=1, start_q=1, max_p=3, max_q=3, m=12,\n",
    "                          start_P=0, seasonal=True, d=1, D=1, trace=True,\n",
    "                          error_action='ignore',  # don't want to know if an order does not work\n",
    "                          suppress_warnings=True,  # don't want convergence warnings\n",
    "                          stepwise=True)  # set to stepwise\n",
    "\n",
    "stepwise_fit.summary()"
   ]
  },
  {
   "cell_type": "code",
   "execution_count": 23,
   "metadata": {},
   "outputs": [
    {
     "name": "stdout",
     "output_type": "stream",
     "text": [
      "Fit ARIMA: order=(1, 1, 1); AIC=58375.664, BIC=58408.015, Fit time=5.496 seconds\n",
      "Fit ARIMA: order=(0, 1, 0); AIC=69808.999, BIC=69825.175, Fit time=0.010 seconds\n",
      "Fit ARIMA: order=(1, 1, 0); AIC=63354.800, BIC=63379.063, Fit time=0.113 seconds\n",
      "Fit ARIMA: order=(0, 1, 1); AIC=58393.433, BIC=58417.696, Fit time=0.699 seconds\n",
      "Fit ARIMA: order=(2, 1, 1); AIC=58324.962, BIC=58365.400, Fit time=5.323 seconds\n",
      "Fit ARIMA: order=(2, 1, 0); AIC=60964.003, BIC=60996.354, Fit time=0.209 seconds\n",
      "Fit ARIMA: order=(2, 1, 2); AIC=57502.768, BIC=57551.294, Fit time=19.496 seconds\n",
      "Fit ARIMA: order=(3, 1, 3); AIC=57506.857, BIC=57571.559, Fit time=18.163 seconds\n",
      "Fit ARIMA: order=(1, 1, 2); AIC=57510.920, BIC=57551.359, Fit time=9.188 seconds\n",
      "Fit ARIMA: order=(3, 1, 2); AIC=57499.933, BIC=57556.547, Fit time=14.719 seconds\n",
      "Fit ARIMA: order=(3, 1, 1); AIC=57862.085, BIC=57910.612, Fit time=12.571 seconds\n",
      "Total fit time: 86.011 seconds\n"
     ]
    },
    {
     "data": {
      "text/html": [
       "<table class=\"simpletable\">\n",
       "<caption>ARIMA Model Results</caption>\n",
       "<tr>\n",
       "  <th>Dep. Variable:</th>        <td>D.y</td>       <th>  No. Observations:  </th>    <td>24046</td>  \n",
       "</tr>\n",
       "<tr>\n",
       "  <th>Model:</th>          <td>ARIMA(3, 1, 2)</td>  <th>  Log Likelihood     </th> <td>-28742.966</td>\n",
       "</tr>\n",
       "<tr>\n",
       "  <th>Method:</th>             <td>css-mle</td>     <th>  S.D. of innovations</th>    <td>0.800</td>  \n",
       "</tr>\n",
       "<tr>\n",
       "  <th>Date:</th>          <td>Thu, 10 Jan 2019</td> <th>  AIC                </th>  <td>57499.933</td>\n",
       "</tr>\n",
       "<tr>\n",
       "  <th>Time:</th>              <td>16:08:38</td>     <th>  BIC                </th>  <td>57556.547</td>\n",
       "</tr>\n",
       "<tr>\n",
       "  <th>Sample:</th>                <td>1</td>        <th>  HQIC               </th>  <td>57518.291</td>\n",
       "</tr>\n",
       "<tr>\n",
       "  <th></th>                       <td> </td>        <th>                     </th>      <td> </td>    \n",
       "</tr>\n",
       "</table>\n",
       "<table class=\"simpletable\">\n",
       "<tr>\n",
       "      <td></td>         <th>coef</th>     <th>std err</th>      <th>z</th>      <th>P>|z|</th>  <th>[0.025</th>    <th>0.975]</th>  \n",
       "</tr>\n",
       "<tr>\n",
       "  <th>const</th>     <td>  3.03e-06</td> <td> 2.14e-05</td> <td>    0.141</td> <td> 0.888</td> <td> -3.9e-05</td> <td> 4.51e-05</td>\n",
       "</tr>\n",
       "<tr>\n",
       "  <th>ar.L1.D.y</th> <td>    0.8292</td> <td>    0.012</td> <td>   67.942</td> <td> 0.000</td> <td>    0.805</td> <td>    0.853</td>\n",
       "</tr>\n",
       "<tr>\n",
       "  <th>ar.L2.D.y</th> <td>    0.0242</td> <td>    0.009</td> <td>    2.818</td> <td> 0.005</td> <td>    0.007</td> <td>    0.041</td>\n",
       "</tr>\n",
       "<tr>\n",
       "  <th>ar.L3.D.y</th> <td>    0.0200</td> <td>    0.007</td> <td>    2.693</td> <td> 0.007</td> <td>    0.005</td> <td>    0.035</td>\n",
       "</tr>\n",
       "<tr>\n",
       "  <th>ma.L1.D.y</th> <td>   -1.6462</td> <td>    0.010</td> <td> -158.116</td> <td> 0.000</td> <td>   -1.667</td> <td>   -1.626</td>\n",
       "</tr>\n",
       "<tr>\n",
       "  <th>ma.L2.D.y</th> <td>    0.6467</td> <td>    0.010</td> <td>   62.289</td> <td> 0.000</td> <td>    0.626</td> <td>    0.667</td>\n",
       "</tr>\n",
       "</table>\n",
       "<table class=\"simpletable\">\n",
       "<caption>Roots</caption>\n",
       "<tr>\n",
       "    <td></td>   <th>            Real</th>  <th>         Imaginary</th> <th>         Modulus</th>  <th>        Frequency</th>\n",
       "</tr>\n",
       "<tr>\n",
       "  <th>AR.1</th> <td>           1.1333</td> <td>          -0.0000j</td> <td>           1.1333</td> <td>          -0.0000</td>\n",
       "</tr>\n",
       "<tr>\n",
       "  <th>AR.2</th> <td>          -1.1726</td> <td>          -6.5367j</td> <td>           6.6410</td> <td>          -0.2783</td>\n",
       "</tr>\n",
       "<tr>\n",
       "  <th>AR.3</th> <td>          -1.1726</td> <td>          +6.5367j</td> <td>           6.6410</td> <td>           0.2783</td>\n",
       "</tr>\n",
       "<tr>\n",
       "  <th>MA.1</th> <td>           1.0015</td> <td>          +0.0000j</td> <td>           1.0015</td> <td>           0.0000</td>\n",
       "</tr>\n",
       "<tr>\n",
       "  <th>MA.2</th> <td>           1.5440</td> <td>          +0.0000j</td> <td>           1.5440</td> <td>           0.0000</td>\n",
       "</tr>\n",
       "</table>"
      ],
      "text/plain": [
       "<class 'statsmodels.iolib.summary.Summary'>\n",
       "\"\"\"\n",
       "                             ARIMA Model Results                              \n",
       "==============================================================================\n",
       "Dep. Variable:                    D.y   No. Observations:                24046\n",
       "Model:                 ARIMA(3, 1, 2)   Log Likelihood              -28742.966\n",
       "Method:                       css-mle   S.D. of innovations              0.800\n",
       "Date:                Thu, 10 Jan 2019   AIC                          57499.933\n",
       "Time:                        16:08:38   BIC                          57556.547\n",
       "Sample:                             1   HQIC                         57518.291\n",
       "                                                                              \n",
       "==============================================================================\n",
       "                 coef    std err          z      P>|z|      [0.025      0.975]\n",
       "------------------------------------------------------------------------------\n",
       "const        3.03e-06   2.14e-05      0.141      0.888    -3.9e-05    4.51e-05\n",
       "ar.L1.D.y      0.8292      0.012     67.942      0.000       0.805       0.853\n",
       "ar.L2.D.y      0.0242      0.009      2.818      0.005       0.007       0.041\n",
       "ar.L3.D.y      0.0200      0.007      2.693      0.007       0.005       0.035\n",
       "ma.L1.D.y     -1.6462      0.010   -158.116      0.000      -1.667      -1.626\n",
       "ma.L2.D.y      0.6467      0.010     62.289      0.000       0.626       0.667\n",
       "                                    Roots                                    \n",
       "=============================================================================\n",
       "                  Real          Imaginary           Modulus         Frequency\n",
       "-----------------------------------------------------------------------------\n",
       "AR.1            1.1333           -0.0000j            1.1333           -0.0000\n",
       "AR.2           -1.1726           -6.5367j            6.6410           -0.2783\n",
       "AR.3           -1.1726           +6.5367j            6.6410            0.2783\n",
       "MA.1            1.0015           +0.0000j            1.0015            0.0000\n",
       "MA.2            1.5440           +0.0000j            1.5440            0.0000\n",
       "-----------------------------------------------------------------------------\n",
       "\"\"\""
      ]
     },
     "execution_count": 23,
     "metadata": {},
     "output_type": "execute_result"
    }
   ],
   "source": [
    "# fitting a stepwise model:\n",
    "from pmdarima.arima import auto_arima\n",
    "\n",
    "stepwise_fit = auto_arima(wineind, start_p=1, start_q=1, max_p=3, max_q=3, m=12,\n",
    "                          start_P=0, seasonal= False, d=1, D=1, trace=True,\n",
    "                          error_action='ignore',  # don't want to know if an order does not work\n",
    "                          suppress_warnings=True,  # don't want convergence warnings\n",
    "                          stepwise=True)  # set to stepwise\n",
    "\n",
    "stepwise_fit.summary()"
   ]
  },
  {
   "cell_type": "markdown",
   "metadata": {},
   "source": [
    "#### ============================================================="
   ]
  },
  {
   "cell_type": "markdown",
   "metadata": {},
   "source": [
    "## Exogeneous Variable"
   ]
  },
  {
   "cell_type": "code",
   "execution_count": 79,
   "metadata": {},
   "outputs": [
    {
     "data": {
      "text/html": [
       "<div>\n",
       "<style scoped>\n",
       "    .dataframe tbody tr th:only-of-type {\n",
       "        vertical-align: middle;\n",
       "    }\n",
       "\n",
       "    .dataframe tbody tr th {\n",
       "        vertical-align: top;\n",
       "    }\n",
       "\n",
       "    .dataframe thead th {\n",
       "        text-align: right;\n",
       "    }\n",
       "</style>\n",
       "<table border=\"1\" class=\"dataframe\">\n",
       "  <thead>\n",
       "    <tr style=\"text-align: right;\">\n",
       "      <th></th>\n",
       "      <th>Week</th>\n",
       "      <th>Year</th>\n",
       "      <th>addrcode</th>\n",
       "      <th>DF_0</th>\n",
       "      <th>DF_wm1</th>\n",
       "      <th>DF_wm2</th>\n",
       "      <th>DF_wm3</th>\n",
       "      <th>RF_wm1</th>\n",
       "      <th>RF_wm2</th>\n",
       "      <th>RF_wm3</th>\n",
       "      <th>...</th>\n",
       "      <th>Age 45 - 60</th>\n",
       "      <th>Age &gt; 60</th>\n",
       "      <th>bin</th>\n",
       "      <th>bowl</th>\n",
       "      <th>bucket</th>\n",
       "      <th>misc_short</th>\n",
       "      <th>jar</th>\n",
       "      <th>pottedplant</th>\n",
       "      <th>tire</th>\n",
       "      <th>misc_tall</th>\n",
       "    </tr>\n",
       "  </thead>\n",
       "  <tbody>\n",
       "    <tr>\n",
       "      <th>0</th>\n",
       "      <td>15</td>\n",
       "      <td>2014</td>\n",
       "      <td>800101</td>\n",
       "      <td>0.000000</td>\n",
       "      <td>0.000000</td>\n",
       "      <td>0.0</td>\n",
       "      <td>0.0</td>\n",
       "      <td>3.07</td>\n",
       "      <td>0.08</td>\n",
       "      <td>1.75</td>\n",
       "      <td>...</td>\n",
       "      <td>8958</td>\n",
       "      <td>6584</td>\n",
       "      <td>46.919</td>\n",
       "      <td>3.551</td>\n",
       "      <td>120.213</td>\n",
       "      <td>2.029</td>\n",
       "      <td>2.917</td>\n",
       "      <td>164.469</td>\n",
       "      <td>20.796</td>\n",
       "      <td>0.634</td>\n",
       "    </tr>\n",
       "    <tr>\n",
       "      <th>1</th>\n",
       "      <td>16</td>\n",
       "      <td>2014</td>\n",
       "      <td>800101</td>\n",
       "      <td>0.000000</td>\n",
       "      <td>0.000000</td>\n",
       "      <td>0.0</td>\n",
       "      <td>0.0</td>\n",
       "      <td>29.34</td>\n",
       "      <td>3.07</td>\n",
       "      <td>0.08</td>\n",
       "      <td>...</td>\n",
       "      <td>8958</td>\n",
       "      <td>6584</td>\n",
       "      <td>46.919</td>\n",
       "      <td>3.551</td>\n",
       "      <td>120.213</td>\n",
       "      <td>2.029</td>\n",
       "      <td>2.917</td>\n",
       "      <td>164.469</td>\n",
       "      <td>20.796</td>\n",
       "      <td>0.634</td>\n",
       "    </tr>\n",
       "    <tr>\n",
       "      <th>2</th>\n",
       "      <td>17</td>\n",
       "      <td>2014</td>\n",
       "      <td>800101</td>\n",
       "      <td>0.000000</td>\n",
       "      <td>0.000000</td>\n",
       "      <td>0.0</td>\n",
       "      <td>0.0</td>\n",
       "      <td>55.64</td>\n",
       "      <td>29.34</td>\n",
       "      <td>3.07</td>\n",
       "      <td>...</td>\n",
       "      <td>8958</td>\n",
       "      <td>6584</td>\n",
       "      <td>46.919</td>\n",
       "      <td>3.551</td>\n",
       "      <td>120.213</td>\n",
       "      <td>2.029</td>\n",
       "      <td>2.917</td>\n",
       "      <td>164.469</td>\n",
       "      <td>20.796</td>\n",
       "      <td>0.634</td>\n",
       "    </tr>\n",
       "    <tr>\n",
       "      <th>3</th>\n",
       "      <td>18</td>\n",
       "      <td>2014</td>\n",
       "      <td>800101</td>\n",
       "      <td>0.228948</td>\n",
       "      <td>0.000000</td>\n",
       "      <td>0.0</td>\n",
       "      <td>0.0</td>\n",
       "      <td>12.71</td>\n",
       "      <td>55.64</td>\n",
       "      <td>29.34</td>\n",
       "      <td>...</td>\n",
       "      <td>8958</td>\n",
       "      <td>6584</td>\n",
       "      <td>46.919</td>\n",
       "      <td>3.551</td>\n",
       "      <td>120.213</td>\n",
       "      <td>2.029</td>\n",
       "      <td>2.917</td>\n",
       "      <td>164.469</td>\n",
       "      <td>20.796</td>\n",
       "      <td>0.634</td>\n",
       "    </tr>\n",
       "    <tr>\n",
       "      <th>4</th>\n",
       "      <td>19</td>\n",
       "      <td>2014</td>\n",
       "      <td>800101</td>\n",
       "      <td>0.000000</td>\n",
       "      <td>0.228948</td>\n",
       "      <td>0.0</td>\n",
       "      <td>0.0</td>\n",
       "      <td>3.06</td>\n",
       "      <td>12.71</td>\n",
       "      <td>55.64</td>\n",
       "      <td>...</td>\n",
       "      <td>8958</td>\n",
       "      <td>6584</td>\n",
       "      <td>46.919</td>\n",
       "      <td>3.551</td>\n",
       "      <td>120.213</td>\n",
       "      <td>2.029</td>\n",
       "      <td>2.917</td>\n",
       "      <td>164.469</td>\n",
       "      <td>20.796</td>\n",
       "      <td>0.634</td>\n",
       "    </tr>\n",
       "  </tbody>\n",
       "</table>\n",
       "<p>5 rows × 35 columns</p>\n",
       "</div>"
      ],
      "text/plain": [
       "   Week  Year  addrcode      DF_0    DF_wm1  DF_wm2  DF_wm3  RF_wm1  RF_wm2  \\\n",
       "0    15  2014    800101  0.000000  0.000000     0.0     0.0    3.07    0.08   \n",
       "1    16  2014    800101  0.000000  0.000000     0.0     0.0   29.34    3.07   \n",
       "2    17  2014    800101  0.000000  0.000000     0.0     0.0   55.64   29.34   \n",
       "3    18  2014    800101  0.228948  0.000000     0.0     0.0   12.71   55.64   \n",
       "4    19  2014    800101  0.000000  0.228948     0.0     0.0    3.06   12.71   \n",
       "\n",
       "   RF_wm3    ...      Age 45 - 60  Age > 60     bin   bowl   bucket  \\\n",
       "0    1.75    ...             8958      6584  46.919  3.551  120.213   \n",
       "1    0.08    ...             8958      6584  46.919  3.551  120.213   \n",
       "2    3.07    ...             8958      6584  46.919  3.551  120.213   \n",
       "3   29.34    ...             8958      6584  46.919  3.551  120.213   \n",
       "4   55.64    ...             8958      6584  46.919  3.551  120.213   \n",
       "\n",
       "   misc_short    jar  pottedplant    tire  misc_tall  \n",
       "0       2.029  2.917      164.469  20.796      0.634  \n",
       "1       2.029  2.917      164.469  20.796      0.634  \n",
       "2       2.029  2.917      164.469  20.796      0.634  \n",
       "3       2.029  2.917      164.469  20.796      0.634  \n",
       "4       2.029  2.917      164.469  20.796      0.634  \n",
       "\n",
       "[5 rows x 35 columns]"
      ]
     },
     "execution_count": 79,
     "metadata": {},
     "output_type": "execute_result"
    }
   ],
   "source": [
    "df_train.head()"
   ]
  },
  {
   "cell_type": "code",
   "execution_count": 96,
   "metadata": {},
   "outputs": [
    {
     "data": {
      "text/plain": [
       "array([   0.        ,    0.        ,   33.38464286, 3786.        ,\n",
       "       1934.        , 3354.        , 7153.        , 5710.        ,\n",
       "       5753.        , 8958.        , 6584.        ])"
      ]
     },
     "execution_count": 96,
     "metadata": {},
     "output_type": "execute_result"
    }
   ],
   "source": [
    "exogx_train =  df_train.iloc[:,[6,12,18,19,20,21,22,23,24,25,26]].values\n",
    "exogx_train[1]"
   ]
  },
  {
   "cell_type": "code",
   "execution_count": 87,
   "metadata": {},
   "outputs": [
    {
     "data": {
      "text/html": [
       "<div>\n",
       "<style scoped>\n",
       "    .dataframe tbody tr th:only-of-type {\n",
       "        vertical-align: middle;\n",
       "    }\n",
       "\n",
       "    .dataframe tbody tr th {\n",
       "        vertical-align: top;\n",
       "    }\n",
       "\n",
       "    .dataframe thead th {\n",
       "        text-align: right;\n",
       "    }\n",
       "</style>\n",
       "<table border=\"1\" class=\"dataframe\">\n",
       "  <thead>\n",
       "    <tr style=\"text-align: right;\">\n",
       "      <th></th>\n",
       "      <th>Week</th>\n",
       "      <th>Year</th>\n",
       "      <th>addrcode</th>\n",
       "      <th>DF_0</th>\n",
       "      <th>DF_wm1</th>\n",
       "      <th>DF_wm2</th>\n",
       "      <th>DF_wm3</th>\n",
       "      <th>RF_wm1</th>\n",
       "      <th>RF_wm2</th>\n",
       "      <th>RF_wm3</th>\n",
       "      <th>...</th>\n",
       "      <th>LST_wm5</th>\n",
       "      <th>LST_wm6</th>\n",
       "      <th>Age &lt; 7</th>\n",
       "      <th>Age 7 - 9</th>\n",
       "      <th>Age 10 - 14</th>\n",
       "      <th>Age 15 - 24</th>\n",
       "      <th>Age 25 - 34</th>\n",
       "      <th>Age 35 - 44</th>\n",
       "      <th>Age 45 - 60</th>\n",
       "      <th>Age &gt; 60</th>\n",
       "    </tr>\n",
       "  </thead>\n",
       "  <tbody>\n",
       "    <tr>\n",
       "      <th>0</th>\n",
       "      <td>7</td>\n",
       "      <td>2017</td>\n",
       "      <td>800101</td>\n",
       "      <td>3.434223</td>\n",
       "      <td>1.602637</td>\n",
       "      <td>1.144741</td>\n",
       "      <td>1.373689</td>\n",
       "      <td>0.00</td>\n",
       "      <td>19.79</td>\n",
       "      <td>68.64</td>\n",
       "      <td>...</td>\n",
       "      <td>25.900000</td>\n",
       "      <td>26.320000</td>\n",
       "      <td>3786</td>\n",
       "      <td>1934</td>\n",
       "      <td>3354</td>\n",
       "      <td>7153</td>\n",
       "      <td>5710</td>\n",
       "      <td>5753</td>\n",
       "      <td>8958</td>\n",
       "      <td>6584</td>\n",
       "    </tr>\n",
       "    <tr>\n",
       "      <th>1</th>\n",
       "      <td>8</td>\n",
       "      <td>2017</td>\n",
       "      <td>800101</td>\n",
       "      <td>0.457896</td>\n",
       "      <td>3.434223</td>\n",
       "      <td>1.602637</td>\n",
       "      <td>1.144741</td>\n",
       "      <td>0.00</td>\n",
       "      <td>0.00</td>\n",
       "      <td>19.79</td>\n",
       "      <td>...</td>\n",
       "      <td>26.101786</td>\n",
       "      <td>25.900000</td>\n",
       "      <td>3786</td>\n",
       "      <td>1934</td>\n",
       "      <td>3354</td>\n",
       "      <td>7153</td>\n",
       "      <td>5710</td>\n",
       "      <td>5753</td>\n",
       "      <td>8958</td>\n",
       "      <td>6584</td>\n",
       "    </tr>\n",
       "    <tr>\n",
       "      <th>2</th>\n",
       "      <td>9</td>\n",
       "      <td>2017</td>\n",
       "      <td>800101</td>\n",
       "      <td>0.686845</td>\n",
       "      <td>0.457896</td>\n",
       "      <td>3.434223</td>\n",
       "      <td>1.602637</td>\n",
       "      <td>14.36</td>\n",
       "      <td>0.00</td>\n",
       "      <td>0.00</td>\n",
       "      <td>...</td>\n",
       "      <td>27.526429</td>\n",
       "      <td>26.101786</td>\n",
       "      <td>3786</td>\n",
       "      <td>1934</td>\n",
       "      <td>3354</td>\n",
       "      <td>7153</td>\n",
       "      <td>5710</td>\n",
       "      <td>5753</td>\n",
       "      <td>8958</td>\n",
       "      <td>6584</td>\n",
       "    </tr>\n",
       "    <tr>\n",
       "      <th>3</th>\n",
       "      <td>10</td>\n",
       "      <td>2017</td>\n",
       "      <td>800101</td>\n",
       "      <td>0.686845</td>\n",
       "      <td>0.686845</td>\n",
       "      <td>0.457896</td>\n",
       "      <td>3.434223</td>\n",
       "      <td>0.00</td>\n",
       "      <td>14.36</td>\n",
       "      <td>0.00</td>\n",
       "      <td>...</td>\n",
       "      <td>28.921429</td>\n",
       "      <td>27.526429</td>\n",
       "      <td>3786</td>\n",
       "      <td>1934</td>\n",
       "      <td>3354</td>\n",
       "      <td>7153</td>\n",
       "      <td>5710</td>\n",
       "      <td>5753</td>\n",
       "      <td>8958</td>\n",
       "      <td>6584</td>\n",
       "    </tr>\n",
       "    <tr>\n",
       "      <th>4</th>\n",
       "      <td>11</td>\n",
       "      <td>2017</td>\n",
       "      <td>800101</td>\n",
       "      <td>0.228948</td>\n",
       "      <td>0.686845</td>\n",
       "      <td>0.686845</td>\n",
       "      <td>0.457896</td>\n",
       "      <td>8.37</td>\n",
       "      <td>0.00</td>\n",
       "      <td>14.36</td>\n",
       "      <td>...</td>\n",
       "      <td>29.655000</td>\n",
       "      <td>28.921429</td>\n",
       "      <td>3786</td>\n",
       "      <td>1934</td>\n",
       "      <td>3354</td>\n",
       "      <td>7153</td>\n",
       "      <td>5710</td>\n",
       "      <td>5753</td>\n",
       "      <td>8958</td>\n",
       "      <td>6584</td>\n",
       "    </tr>\n",
       "  </tbody>\n",
       "</table>\n",
       "<p>5 rows × 27 columns</p>\n",
       "</div>"
      ],
      "text/plain": [
       "   Week  Year  addrcode      DF_0    DF_wm1    DF_wm2    DF_wm3  RF_wm1  \\\n",
       "0     7  2017    800101  3.434223  1.602637  1.144741  1.373689    0.00   \n",
       "1     8  2017    800101  0.457896  3.434223  1.602637  1.144741    0.00   \n",
       "2     9  2017    800101  0.686845  0.457896  3.434223  1.602637   14.36   \n",
       "3    10  2017    800101  0.686845  0.686845  0.457896  3.434223    0.00   \n",
       "4    11  2017    800101  0.228948  0.686845  0.686845  0.457896    8.37   \n",
       "\n",
       "   RF_wm2  RF_wm3    ...       LST_wm5    LST_wm6  Age < 7  Age 7 - 9  \\\n",
       "0   19.79   68.64    ...     25.900000  26.320000     3786       1934   \n",
       "1    0.00   19.79    ...     26.101786  25.900000     3786       1934   \n",
       "2    0.00    0.00    ...     27.526429  26.101786     3786       1934   \n",
       "3   14.36    0.00    ...     28.921429  27.526429     3786       1934   \n",
       "4    0.00   14.36    ...     29.655000  28.921429     3786       1934   \n",
       "\n",
       "   Age 10 - 14  Age 15 - 24  Age 25 - 34  Age 35 - 44  Age 45 - 60  Age > 60  \n",
       "0         3354         7153         5710         5753         8958      6584  \n",
       "1         3354         7153         5710         5753         8958      6584  \n",
       "2         3354         7153         5710         5753         8958      6584  \n",
       "3         3354         7153         5710         5753         8958      6584  \n",
       "4         3354         7153         5710         5753         8958      6584  \n",
       "\n",
       "[5 rows x 27 columns]"
      ]
     },
     "execution_count": 87,
     "metadata": {},
     "output_type": "execute_result"
    }
   ],
   "source": [
    "df_test.head()"
   ]
  },
  {
   "cell_type": "code",
   "execution_count": 136,
   "metadata": {},
   "outputs": [
    {
     "data": {
      "text/plain": [
       "7848"
      ]
     },
     "execution_count": 136,
     "metadata": {},
     "output_type": "execute_result"
    }
   ],
   "source": [
    "exogx_test =  df_test.iloc[:,[6,12,18,19,20,21,22,23,24,25,26]].values\n",
    "exgox_test = np.array(exogx_test)\n",
    "len(exgox_test)"
   ]
  },
  {
   "cell_type": "markdown",
   "metadata": {},
   "source": [
    "## Fitting the model"
   ]
  },
  {
   "cell_type": "code",
   "execution_count": 83,
   "metadata": {},
   "outputs": [],
   "source": [
    "fit0 = sm.tsa.ARIMA(train, (0,0,0),exog = exogx_train).fit()\n",
    "pred0 = fit.predict(steps = 1, exog = exogx_test)"
   ]
  },
  {
   "cell_type": "code",
   "execution_count": 84,
   "metadata": {},
   "outputs": [
    {
     "data": {
      "text/plain": [
       "24046"
      ]
     },
     "execution_count": 84,
     "metadata": {},
     "output_type": "execute_result"
    }
   ],
   "source": [
    "len(pred0)"
   ]
  },
  {
   "cell_type": "code",
   "execution_count": 104,
   "metadata": {},
   "outputs": [
    {
     "name": "stderr",
     "output_type": "stream",
     "text": [
      "/usr/local/lib/python3.6/site-packages/statsmodels/base/model.py:488: HessianInversionWarning: Inverting hessian failed, no bse or cov_params available\n",
      "  'available', HessianInversionWarning)\n"
     ]
    },
    {
     "data": {
      "text/plain": [
       "array([ 0.02737678,  0.0439902 ,  0.06189429, ..., -0.33926155,\n",
       "       -0.30402143,  0.62005963])"
      ]
     },
     "execution_count": 104,
     "metadata": {},
     "output_type": "execute_result"
    }
   ],
   "source": [
    "fit = sm.tsa.ARIMA(train, (3,1,2),exog = exogx_train).fit()\n",
    "fit.fittedvalues"
   ]
  },
  {
   "cell_type": "code",
   "execution_count": 126,
   "metadata": {},
   "outputs": [
    {
     "ename": "ValueError",
     "evalue": "new exog needed for each step",
     "output_type": "error",
     "traceback": [
      "\u001b[0;31m---------------------------------------------------------------------------\u001b[0m",
      "\u001b[0;31mValueError\u001b[0m                                Traceback (most recent call last)",
      "\u001b[0;32m<ipython-input-126-7a730fd3aab4>\u001b[0m in \u001b[0;36m<module>\u001b[0;34m\u001b[0m\n\u001b[0;32m----> 1\u001b[0;31m \u001b[0mpred\u001b[0m \u001b[0;34m=\u001b[0m \u001b[0mfit\u001b[0m\u001b[0;34m.\u001b[0m\u001b[0mforecast\u001b[0m\u001b[0;34m(\u001b[0m\u001b[0msteps\u001b[0m \u001b[0;34m=\u001b[0m \u001b[0;36m1\u001b[0m\u001b[0;34m,\u001b[0m \u001b[0mexog\u001b[0m \u001b[0;34m=\u001b[0m \u001b[0mexogx_test\u001b[0m\u001b[0;34m)\u001b[0m\u001b[0;34m\u001b[0m\u001b[0m\n\u001b[0m",
      "\u001b[0;32m/usr/local/lib/python3.6/site-packages/statsmodels/tsa/arima_model.py\u001b[0m in \u001b[0;36mforecast\u001b[0;34m(self, steps, exog, alpha)\u001b[0m\n\u001b[1;32m   1873\u001b[0m                 \u001b[0mexog\u001b[0m \u001b[0;34m=\u001b[0m \u001b[0mexog\u001b[0m\u001b[0;34m[\u001b[0m\u001b[0;34m:\u001b[0m\u001b[0;34m,\u001b[0m \u001b[0;32mNone\u001b[0m\u001b[0;34m]\u001b[0m\u001b[0;34m\u001b[0m\u001b[0m\n\u001b[1;32m   1874\u001b[0m             \u001b[0;32mif\u001b[0m \u001b[0mexog\u001b[0m\u001b[0;34m.\u001b[0m\u001b[0mshape\u001b[0m\u001b[0;34m[\u001b[0m\u001b[0;36m0\u001b[0m\u001b[0;34m]\u001b[0m \u001b[0;34m!=\u001b[0m \u001b[0msteps\u001b[0m\u001b[0;34m:\u001b[0m\u001b[0;34m\u001b[0m\u001b[0m\n\u001b[0;32m-> 1875\u001b[0;31m                 \u001b[0;32mraise\u001b[0m \u001b[0mValueError\u001b[0m\u001b[0;34m(\u001b[0m\u001b[0;34m\"new exog needed for each step\"\u001b[0m\u001b[0;34m)\u001b[0m\u001b[0;34m\u001b[0m\u001b[0m\n\u001b[0m\u001b[1;32m   1876\u001b[0m             \u001b[0;31m# prepend in-sample exog observations\u001b[0m\u001b[0;34m\u001b[0m\u001b[0;34m\u001b[0m\u001b[0m\n\u001b[1;32m   1877\u001b[0m             \u001b[0;32mif\u001b[0m \u001b[0mself\u001b[0m\u001b[0;34m.\u001b[0m\u001b[0mk_ar\u001b[0m \u001b[0;34m>\u001b[0m \u001b[0;36m0\u001b[0m\u001b[0;34m:\u001b[0m\u001b[0;34m\u001b[0m\u001b[0m\n",
      "\u001b[0;31mValueError\u001b[0m: new exog needed for each step"
     ]
    }
   ],
   "source": [
    "pred = fit.forecast(steps = 1, exog = exogx_test)"
   ]
  },
  {
   "cell_type": "code",
   "execution_count": 86,
   "metadata": {},
   "outputs": [
    {
     "data": {
      "text/plain": [
       "24046"
      ]
     },
     "execution_count": 86,
     "metadata": {},
     "output_type": "execute_result"
    }
   ],
   "source": [
    "len(pred)"
   ]
  },
  {
   "cell_type": "code",
   "execution_count": 128,
   "metadata": {},
   "outputs": [
    {
     "name": "stderr",
     "output_type": "stream",
     "text": [
      "/usr/local/lib/python3.6/site-packages/statsmodels/base/model.py:508: ConvergenceWarning: Maximum Likelihood optimization failed to converge. Check mle_retvals\n",
      "  \"Check mle_retvals\", ConvergenceWarning)\n"
     ]
    }
   ],
   "source": [
    "model = sm.tsa.statespace.SARIMAX(train, trend='c', order=(1,1,1),seasonal_order=(0,1,1,12),exog= exogx_train)\n",
    "model_fit = model.fit()"
   ]
  },
  {
   "cell_type": "code",
   "execution_count": 144,
   "metadata": {},
   "outputs": [],
   "source": [
    "predicted = model_fit.predict(step=1, exog=exogx_test, dynamic=True)"
   ]
  },
  {
   "cell_type": "code",
   "execution_count": 142,
   "metadata": {},
   "outputs": [
    {
     "data": {
      "text/plain": [
       "24047"
      ]
     },
     "execution_count": 142,
     "metadata": {},
     "output_type": "execute_result"
    }
   ],
   "source": [
    "len(predicted)"
   ]
  },
  {
   "cell_type": "code",
   "execution_count": 139,
   "metadata": {},
   "outputs": [],
   "source": [
    "df_predicted = pd.DataFrame(predicted)\n",
    "df_compare_addrcode = pd.concat([df_series_week_addrcode, df_predicted], axis = 1)\n",
    "df_compare_addrcode.columns = [['Week','Year','addrcode','actual','predicted']]\n",
    "#df_compare_addrcode.to_csv('LGBM_subdist_withCD.csv', encoding = 'utf-8')"
   ]
  },
  {
   "cell_type": "code",
   "execution_count": null,
   "metadata": {},
   "outputs": [],
   "source": []
  }
 ],
 "metadata": {
  "kernelspec": {
   "display_name": "Python 3",
   "language": "python",
   "name": "python3"
  },
  "language_info": {
   "codemirror_mode": {
    "name": "ipython",
    "version": 3
   },
   "file_extension": ".py",
   "mimetype": "text/x-python",
   "name": "python",
   "nbconvert_exporter": "python",
   "pygments_lexer": "ipython3",
   "version": "3.6.5"
  }
 },
 "nbformat": 4,
 "nbformat_minor": 2
}
