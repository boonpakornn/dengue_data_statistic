{
 "cells": [
  {
   "cell_type": "code",
   "execution_count": 74,
   "metadata": {},
   "outputs": [],
   "source": [
    "import lightgbm as lgb\n",
    "import numpy as np\n",
    "import matplotlib.pyplot as plt\n",
    "import os\n",
    "import pandas as pd\n",
    "from sklearn.metrics import mean_squared_error"
   ]
  },
  {
   "cell_type": "markdown",
   "metadata": {},
   "source": [
    "### [Without CD]"
   ]
  },
  {
   "cell_type": "code",
   "execution_count": 79,
   "metadata": {},
   "outputs": [],
   "source": [
    "df_train =  pd.read_csv(os.path.join('Data','Modeling','Training&Testing','train_subdist.csv'), header=0, skiprows=0)\n",
    "df_train = df_train.drop('Unnamed: 0', axis = 1)\n",
    "df_test = pd.read_csv(os.path.join('Data','Modeling','Training&Testing','test_subdist.csv'), header=0, skiprows=0)\n",
    "df_test = df_test.drop('Unnamed: 0', axis = 1)\n",
    "df_test_week_addrcode = df_test.iloc[:,[0,1,2]]\n",
    "\n",
    "# Importing the dataset\n",
    "X_train = df_train.iloc[:,[6,12,18,19,20,21,22,23,24,25,26]]\n",
    "y_train = df_train.iloc[:,[3]]\n",
    "X_test = df_test.iloc[:,[6,12,18,19,20,21,22,23,24,25,26]]\n",
    "y_test = df_test.iloc[:,[3]]\n",
    "\n",
    "\n",
    "# Splitting the dataset into the Training set and Test set\n",
    "#from sklearn.cross_validation import train_test_split\n",
    "#X_train, X_test, Y_train, Y_test = train_test_split(X, Y, test_size = 0.25, random_state = 0)\n",
    "\n",
    "lgb_train = lgb.Dataset(X_train, y_train)\n",
    "lgb_eval = lgb.Dataset(X_test, y_test, reference=lgb_train)"
   ]
  },
  {
   "cell_type": "code",
   "execution_count": 80,
   "metadata": {},
   "outputs": [
    {
     "name": "stdout",
     "output_type": "stream",
     "text": [
      "Starting training...\n",
      "[1]\tvalid_0's l2: 0.738732\tvalid_0's l1: 0.516486\n",
      "Training until validation scores don't improve for 5 rounds.\n",
      "[2]\tvalid_0's l2: 0.738056\tvalid_0's l1: 0.516336\n",
      "[3]\tvalid_0's l2: 0.736778\tvalid_0's l1: 0.515487\n",
      "[4]\tvalid_0's l2: 0.7357\tvalid_0's l1: 0.514884\n",
      "[5]\tvalid_0's l2: 0.734812\tvalid_0's l1: 0.514011\n",
      "[6]\tvalid_0's l2: 0.734041\tvalid_0's l1: 0.513223\n",
      "[7]\tvalid_0's l2: 0.733705\tvalid_0's l1: 0.51245\n",
      "[8]\tvalid_0's l2: 0.732998\tvalid_0's l1: 0.511504\n",
      "[9]\tvalid_0's l2: 0.732626\tvalid_0's l1: 0.510584\n",
      "[10]\tvalid_0's l2: 0.732474\tvalid_0's l1: 0.50997\n",
      "[11]\tvalid_0's l2: 0.732451\tvalid_0's l1: 0.509705\n",
      "[12]\tvalid_0's l2: 0.732674\tvalid_0's l1: 0.509366\n",
      "[13]\tvalid_0's l2: 0.732718\tvalid_0's l1: 0.508932\n",
      "[14]\tvalid_0's l2: 0.733235\tvalid_0's l1: 0.508865\n",
      "[15]\tvalid_0's l2: 0.733874\tvalid_0's l1: 0.508788\n",
      "[16]\tvalid_0's l2: 0.734309\tvalid_0's l1: 0.508222\n",
      "Early stopping, best iteration is:\n",
      "[11]\tvalid_0's l2: 0.732451\tvalid_0's l1: 0.509705\n"
     ]
    }
   ],
   "source": [
    "params = {\n",
    "    'boosting_type': 'gbdt',\n",
    "    'objective': 'regression',\n",
    "    'metric': {'l2', 'l1'},\n",
    "    'num_leaves': 31,\n",
    "    'learning_rate': 0.05,\n",
    "    'feature_fraction': 0.9,\n",
    "    'bagging_fraction': 0.8,\n",
    "    'bagging_freq': 5,\n",
    "    'verbose': 0\n",
    "}\n",
    "print('Starting training...')\n",
    "# train\n",
    "gbm = lgb.train(params,\n",
    "                lgb_train,\n",
    "                num_boost_round=20,\n",
    "                valid_sets=lgb_eval,\n",
    "                early_stopping_rounds=5)\n",
    "#print('Saving model...')\n",
    "# save model to file\n",
    "#gbm.save_model('model.txt')"
   ]
  },
  {
   "cell_type": "code",
   "execution_count": 81,
   "metadata": {},
   "outputs": [
    {
     "name": "stdout",
     "output_type": "stream",
     "text": [
      "Starting predicting...\n",
      "The rmse of prediction is: 0.8558334449512031\n"
     ]
    }
   ],
   "source": [
    "print('Starting predicting...')\n",
    "# predict\n",
    "y_pred = gbm.predict(X_test, num_iteration=gbm.best_iteration)\n",
    "# eval\n",
    "print('The rmse of prediction is:', mean_squared_error(y_test, y_pred) ** 0.5)"
   ]
  },
  {
   "cell_type": "markdown",
   "metadata": {},
   "source": [
    "### [With CD]"
   ]
  },
  {
   "cell_type": "code",
   "execution_count": 82,
   "metadata": {},
   "outputs": [],
   "source": [
    "df_train =  pd.read_csv(os.path.join('Data','Modeling','Training&Testing','train_subdist.csv'), header=0, skiprows=0)\n",
    "df_train = df_train.drop('Unnamed: 0', axis = 1)\n",
    "df_test = pd.read_csv(os.path.join('Data','Modeling','Training&Testing','test_subdist.csv'), header=0, skiprows=0)\n",
    "df_test = df_test.drop('Unnamed: 0', axis = 1)\n",
    "df_test_week_addrcode = df_test.iloc[:,[0,1,2]]\n",
    "\n",
    "# Importing the dataset\n",
    "X_train = df_train.iloc[:,[6,12,18,19,20,21,22,23,24,25,26,27,28,29,30,31,32,33,34]]\n",
    "y_train = df_train.iloc[:,[3]]\n",
    "X_test = df_test.iloc[:,[6,12,18,19,20,21,22,23,24,25,26,27,28,29,30,31,32,33,34]]\n",
    "y_test = df_test.iloc[:,[3]]\n",
    "\n",
    "\n",
    "# Splitting the dataset into the Training set and Test set\n",
    "#from sklearn.cross_validation import train_test_split\n",
    "#X_train, X_test, Y_train, Y_test = train_test_split(X, Y, test_size = 0.25, random_state = 0)\n",
    "\n",
    "lgb_train = lgb.Dataset(X_train, y_train)\n",
    "lgb_eval = lgb.Dataset(X_test, y_test, reference=lgb_train)"
   ]
  },
  {
   "cell_type": "code",
   "execution_count": 83,
   "metadata": {},
   "outputs": [
    {
     "name": "stdout",
     "output_type": "stream",
     "text": [
      "Starting training...\n",
      "[1]\tvalid_0's l2: 0.738482\tvalid_0's l1: 0.516062\n",
      "Training until validation scores don't improve for 5 rounds.\n",
      "[2]\tvalid_0's l2: 0.736851\tvalid_0's l1: 0.515167\n",
      "[3]\tvalid_0's l2: 0.735482\tvalid_0's l1: 0.514037\n",
      "[4]\tvalid_0's l2: 0.73457\tvalid_0's l1: 0.513525\n",
      "[5]\tvalid_0's l2: 0.733468\tvalid_0's l1: 0.512624\n",
      "[6]\tvalid_0's l2: 0.733072\tvalid_0's l1: 0.512263\n",
      "[7]\tvalid_0's l2: 0.732915\tvalid_0's l1: 0.511783\n",
      "[8]\tvalid_0's l2: 0.732875\tvalid_0's l1: 0.511177\n",
      "[9]\tvalid_0's l2: 0.73291\tvalid_0's l1: 0.510546\n",
      "[10]\tvalid_0's l2: 0.732559\tvalid_0's l1: 0.510378\n",
      "[11]\tvalid_0's l2: 0.732669\tvalid_0's l1: 0.509976\n",
      "[12]\tvalid_0's l2: 0.7329\tvalid_0's l1: 0.509589\n",
      "[13]\tvalid_0's l2: 0.733239\tvalid_0's l1: 0.509913\n",
      "[14]\tvalid_0's l2: 0.73331\tvalid_0's l1: 0.510281\n",
      "[15]\tvalid_0's l2: 0.733721\tvalid_0's l1: 0.509998\n",
      "Early stopping, best iteration is:\n",
      "[10]\tvalid_0's l2: 0.732559\tvalid_0's l1: 0.510378\n"
     ]
    }
   ],
   "source": [
    "params = {\n",
    "    'boosting_type': 'gbdt',\n",
    "    'objective': 'regression',\n",
    "    'metric': {'l2', 'l1'},\n",
    "    'num_leaves': 31,\n",
    "    'learning_rate': 0.05,\n",
    "    'feature_fraction': 0.9,\n",
    "    'bagging_fraction': 0.8,\n",
    "    'bagging_freq': 5,\n",
    "    'verbose': 0\n",
    "}\n",
    "print('Starting training...')\n",
    "# train\n",
    "gbm = lgb.train(params,\n",
    "                lgb_train,\n",
    "                num_boost_round=20,\n",
    "                valid_sets=lgb_eval,\n",
    "                early_stopping_rounds=5)\n",
    "#print('Saving model...')\n",
    "# save model to file\n",
    "#gbm.save_model('model.txt')"
   ]
  },
  {
   "cell_type": "code",
   "execution_count": 84,
   "metadata": {},
   "outputs": [
    {
     "name": "stdout",
     "output_type": "stream",
     "text": [
      "Starting predicting...\n",
      "The rmse of prediction is: 0.8558967769119842\n"
     ]
    }
   ],
   "source": [
    "print('Starting predicting...')\n",
    "# predict\n",
    "y_pred = gbm.predict(X_test, num_iteration=gbm.best_iteration)\n",
    "# eval\n",
    "print('The rmse of prediction is:', mean_squared_error(y_test, y_pred) ** 0.5)"
   ]
  }
 ],
 "metadata": {
  "kernelspec": {
   "display_name": "Python 3",
   "language": "python",
   "name": "python3"
  },
  "language_info": {
   "codemirror_mode": {
    "name": "ipython",
    "version": 3
   },
   "file_extension": ".py",
   "mimetype": "text/x-python",
   "name": "python",
   "nbconvert_exporter": "python",
   "pygments_lexer": "ipython3",
   "version": "3.6.5"
  }
 },
 "nbformat": 4,
 "nbformat_minor": 2
}
