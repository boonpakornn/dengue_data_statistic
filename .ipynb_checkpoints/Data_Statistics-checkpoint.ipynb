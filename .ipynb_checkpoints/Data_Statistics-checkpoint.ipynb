{
 "cells": [
  {
   "cell_type": "markdown",
   "metadata": {},
   "source": [
    "# Data Statistics"
   ]
  },
  {
   "cell_type": "code",
   "execution_count": 1,
   "metadata": {},
   "outputs": [],
   "source": [
    "import pandas as pd\n",
    "import os\n",
    "import numpy as np\n",
    "import numpy\n",
    "import glob"
   ]
  },
  {
   "cell_type": "markdown",
   "metadata": {},
   "source": [
    "## Data dictionary"
   ]
  },
  {
   "cell_type": "code",
   "execution_count": null,
   "metadata": {},
   "outputs": [],
   "source": [
    "df_dic = pd.read_csv(os.path.join('Data','Other','Dictionary.csv'))\n",
    "df_dic['TA_ID'] = df_dic['TA_ID'].astype(str)\n",
    "df_dic.head()"
   ]
  },
  {
   "cell_type": "code",
   "execution_count": null,
   "metadata": {},
   "outputs": [],
   "source": [
    "df_dic_bangkok_subdist = df_dic.loc[df_dic['TA_ID'].str[:2] == '10']\n",
    "bangkok_subdist = df_dic_bangkok_subdist['TA_ID'].values\n",
    "df_dic_nakhon_subdist = df_dic.loc[df_dic['TA_ID'].str[:2] == '80']\n",
    "nakhon_subdist = df_dic_nakhon_subdist['TA_ID'].values\n",
    "df_dic_krabi_subdist = df_dic.loc[df_dic['TA_ID'].str[:2] == '81']\n",
    "krabi_subdist = df_dic_krabi_subdist['TA_ID'].values"
   ]
  },
  {
   "cell_type": "markdown",
   "metadata": {},
   "source": [
    "## Monthly Breeding Site Detection Data"
   ]
  },
  {
   "cell_type": "code",
   "execution_count": null,
   "metadata": {},
   "outputs": [],
   "source": [
    "df_detection = pd.read_csv(os.path.join('Data','Breeding-sites','csv','addrcode-index','detection.csv'))\n",
    "df_detection.head()"
   ]
  },
  {
   "cell_type": "code",
   "execution_count": null,
   "metadata": {},
   "outputs": [],
   "source": [
    "df_detection['date'] = pd.to_datetime(df_detection['date'],format = '%Y-%m-%d')\n",
    "df_detection['Year'] = df_detection['date'].dt.year\n",
    "df_detection['Month'] = df_detection['date'].dt.month\n",
    "df_detection['addrcode'] = df_detection['addrcode'].astype(str)\n",
    "df_detection['Year'] = df_detection['Year'].astype(str)\n",
    "df_detection['Month'] = df_detection['Month'].astype(str)\n",
    "df_detection = df_detection[['date','Year','Month','addrcode','bin','bowl','bucket','cup','jar','pottedplant','tire','vase','total']]\n",
    "df_detection.head()"
   ]
  },
  {
   "cell_type": "code",
   "execution_count": null,
   "metadata": {},
   "outputs": [],
   "source": [
    "df_detectionmonth = df_detection.groupby([df_detection['addrcode'].str[:2],df_detection['Year'],df_detection['Month']]).size().reset_index(name ='Count')\n",
    "df_detectionmonth.head()"
   ]
  },
  {
   "cell_type": "code",
   "execution_count": null,
   "metadata": {},
   "outputs": [],
   "source": [
    "df_detectionyear = df_detectionmonth.groupby([df_detectionmonth['addrcode'].str[:2],df_detectionmonth['Year']]).size().reset_index(name = 'NumMonth')\n",
    "df_detectionyear"
   ]
  },
  {
   "cell_type": "markdown",
   "metadata": {},
   "source": [
    "## Dengue Data"
   ]
  },
  {
   "cell_type": "markdown",
   "metadata": {},
   "source": [
    "### Compare sub-district in Bangkok"
   ]
  },
  {
   "cell_type": "code",
   "execution_count": null,
   "metadata": {},
   "outputs": [],
   "source": [
    "df_new_dic = pd.read_csv(os.path.join('Data','Other','Newver-Dictionary.csv'))\n",
    "df_new_dic['PV_IDN'] = df_new_dic['PV_IDN'].astype(str)\n",
    "df_new_dic = df_new_dic.loc[df_new_dic['PV_IDN'] == '10']\n",
    "df_new_dic.head()"
   ]
  },
  {
   "cell_type": "code",
   "execution_count": null,
   "metadata": {},
   "outputs": [],
   "source": [
    "df_dic_bangkok_subdist.head()"
   ]
  },
  {
   "cell_type": "code",
   "execution_count": null,
   "metadata": {},
   "outputs": [],
   "source": [
    "df_dic_bangkok_compare = df_dic_bangkok_subdist.iloc[:,[0,1]]\n",
    "df_dic_bangkok_compare.head()"
   ]
  },
  {
   "cell_type": "code",
   "execution_count": null,
   "metadata": {},
   "outputs": [],
   "source": [
    "df_new_dic_bangkok = df_new_dic.iloc[:,[0,1]]\n",
    "df_new_dic_bangkok.head()"
   ]
  },
  {
   "cell_type": "code",
   "execution_count": null,
   "metadata": {},
   "outputs": [],
   "source": [
    "df_new_dic_bangkok.columns = ['TA_ID_NEW', 'TAMBON_T']\n",
    "df_new_dic_bangkok.head()"
   ]
  },
  {
   "cell_type": "code",
   "execution_count": null,
   "metadata": {},
   "outputs": [],
   "source": [
    "result = pd.merge(df_dic_bangkok_compare,df_new_dic_bangkok, on = 'TAMBON_T',how = 'outer')\n",
    "result.head(10)\n",
    "#result.to_csv('compare_subdist_bangkok.csv', encoding = 'utf-8')"
   ]
  },
  {
   "cell_type": "markdown",
   "metadata": {},
   "source": [
    "## Combine Address Code into one column"
   ]
  },
  {
   "cell_type": "code",
   "execution_count": null,
   "metadata": {},
   "outputs": [],
   "source": [
    "df_dengue_2014_2018 = pd.read_csv(os.path.join('Data','Dengue-cases','Dengue fever data','DF_5YEAR_WeekNum.csv'), low_memory = False)\n",
    "df_dengue_2014_2018 = df_dengue_2014_2018.drop('Unnamed: 0', axis = 1)\n",
    "df_dengue_2014_2018['ADDRCODE'] = df_dengue_2014_2018['ADDRCODE'].astype(str)\n",
    "df_dengue_2014_2018['PROVINCE'] = df_dengue_2014_2018['PROVINCE'].astype(str)\n",
    "df_dengue_2014_2018.head()\n"
   ]
  },
  {
   "cell_type": "code",
   "execution_count": null,
   "metadata": {},
   "outputs": [],
   "source": [
    "size = len(df_dengue_2014_2018)\n",
    "size"
   ]
  },
  {
   "cell_type": "code",
   "execution_count": null,
   "metadata": {},
   "outputs": [],
   "source": [
    "addrcode = []\n",
    "for i in range(size):\n",
    "    if len(df_dengue_2014_2018['ADDRCODE'][i]) == 3:\n",
    "        addrcode.append(df_dengue_2014_2018['PROVINCE'][i]+'0'+df_dengue_2014_2018['ADDRCODE'][i])\n",
    "    elif len(df_dengue_2014_2018['ADDRCODE'][i]) == 4:\n",
    "        addrcode.append(df_dengue_2014_2018['PROVINCE'][i]+df_dengue_2014_2018['ADDRCODE'][i])\n",
    "    elif len(df_dengue_2014_2018['ADDRCODE'][i]) == 5:\n",
    "        addrcode.append(df_dengue_2014_2018['PROVINCE'][i]+'0'+df_dengue_2014_2018['ADDRCODE'].str[:3][i])\n",
    "    elif len(df_dengue_2014_2018['ADDRCODE'][i]) == 6:\n",
    "        addrcode.append(df_dengue_2014_2018['PROVINCE'][i]+df_dengue_2014_2018['ADDRCODE'].str[:4][i])\n",
    "    "
   ]
  },
  {
   "cell_type": "code",
   "execution_count": null,
   "metadata": {},
   "outputs": [],
   "source": [
    "df_dengue_2014_2018['addrcode'] = addrcode\n",
    "df_dengue_2014_2018 = df_dengue_2014_2018.drop('ADDRCODE', axis = 1)\n",
    "df_dengue_2014_2018 = df_dengue_2014_2018.drop('PROVINCE', axis = 1)\n",
    "df_dengue_2014_2018 = df_dengue_2014_2018[['addrcode','DATESICK','Year','Month','Day','Weeknum']]\n",
    "df_dengue_2014_2018.columns = ['ADDRCODE','DATESICK','Year','Month','Day','WeekNum']"
   ]
  },
  {
   "cell_type": "code",
   "execution_count": null,
   "metadata": {},
   "outputs": [],
   "source": [
    "df_dengue_2014_2018.head()\n",
    "#df_dengue_2014_2018.to_csv('DF_5YEAR_FINAL.csv', encoding = 'utf-8')"
   ]
  },
  {
   "cell_type": "code",
   "execution_count": null,
   "metadata": {},
   "outputs": [],
   "source": [
    "df_dengue_999999 = df_dengue_2014_2018.loc[df_dengue_2014_2018['ADDRCODE'].str[:4] == '1099']\n",
    "df_dengue_999999"
   ]
  },
  {
   "cell_type": "markdown",
   "metadata": {},
   "source": [
    "## Weekly Dengue cases Data "
   ]
  },
  {
   "cell_type": "code",
   "execution_count": null,
   "metadata": {},
   "outputs": [],
   "source": [
    "list = ['100206','100212','100214','100308','100501','100905','100910',\n",
    "        '101101','101201','101903','102001','102101','102301','102702',\n",
    "        '102703','102704','102705','102901','103202','103402','104002',\n",
    "        '105002','109999',\n",
    "        '800206','800208','800805','801004','801005','801302','801309',\n",
    "        '801503','802701',\n",
    "        '810030','810040','810050','810101','810104','810301','810302',\n",
    "        '810408','810502','810706','810766','810802','811150','813037',\n",
    "        '814011','814012','814031','814034','814036','814038','814039',\n",
    "        '814054','814056','814057','814076','801201','810102'] \n",
    "\n",
    "df_denguecase_weekly = pd.read_csv(os.path.join('Data','Dengue-cases','Dengue fever data','DF_5YEAR_AGG.csv'))\n",
    "df_denguecase_weekly = df_denguecase_weekly.drop('Unnamed: 0', axis = 1)\n",
    "#df_denguecase_weekly.columns = ['addrcode','Year','WeekNum','NumberCases']\n",
    "df_denguecase_weekly['addrcode'] = df_denguecase_weekly['addrcode'].astype(str)\n",
    "df_denguecase_weekly = df_denguecase_weekly.sort_values(['addrcode','Year','WeekNum'])\n",
    "# for i in range(len(list)):\n",
    "#     df_denguecase_weekly = df_denguecase_weekly[df_denguecase_weekly.addrcode != list[i]]\n",
    "# df_denguecase_weekly = df_denguecase_weekly.reset_index()\n",
    "# df_denguecase_weekly = df_denguecase_weekly.drop('index',axis = 1)\n",
    "# df_denguecase_weekly.to_csv('DF_clean.csv',encoding = 'utf-8')\n",
    "#df_denguecase_weekly.tail()"
   ]
  },
  {
   "cell_type": "markdown",
   "metadata": {},
   "source": [
    "## Total number of Dengue cases in each province"
   ]
  },
  {
   "cell_type": "code",
   "execution_count": null,
   "metadata": {},
   "outputs": [],
   "source": [
    "aggregation_function = {'NumberCases': 'sum'}\n",
    "df_weekly_province = df_denguecase_weekly.groupby([df_denguecase_weekly['addrcode'].str[:2]]).aggregate(aggregation_function).reset_index()\n",
    "df_weekly_province"
   ]
  },
  {
   "cell_type": "code",
   "execution_count": null,
   "metadata": {},
   "outputs": [],
   "source": [
    "df_denguecase_weekly.tail()"
   ]
  },
  {
   "cell_type": "markdown",
   "metadata": {},
   "source": [
    "## Monthly Dengue cases Data"
   ]
  },
  {
   "cell_type": "code",
   "execution_count": 21,
   "metadata": {},
   "outputs": [
    {
     "data": {
      "text/html": [
       "<div>\n",
       "<style scoped>\n",
       "    .dataframe tbody tr th:only-of-type {\n",
       "        vertical-align: middle;\n",
       "    }\n",
       "\n",
       "    .dataframe tbody tr th {\n",
       "        vertical-align: top;\n",
       "    }\n",
       "\n",
       "    .dataframe thead th {\n",
       "        text-align: right;\n",
       "    }\n",
       "</style>\n",
       "<table border=\"1\" class=\"dataframe\">\n",
       "  <thead>\n",
       "    <tr style=\"text-align: right;\">\n",
       "      <th></th>\n",
       "      <th>addrcode</th>\n",
       "      <th>Year</th>\n",
       "      <th>Week</th>\n",
       "      <th>Cases</th>\n",
       "    </tr>\n",
       "  </thead>\n",
       "  <tbody>\n",
       "    <tr>\n",
       "      <th>0</th>\n",
       "      <td>100101</td>\n",
       "      <td>2014</td>\n",
       "      <td>1</td>\n",
       "      <td>0</td>\n",
       "    </tr>\n",
       "    <tr>\n",
       "      <th>1</th>\n",
       "      <td>100101</td>\n",
       "      <td>2014</td>\n",
       "      <td>2</td>\n",
       "      <td>0</td>\n",
       "    </tr>\n",
       "    <tr>\n",
       "      <th>2</th>\n",
       "      <td>100101</td>\n",
       "      <td>2014</td>\n",
       "      <td>3</td>\n",
       "      <td>0</td>\n",
       "    </tr>\n",
       "    <tr>\n",
       "      <th>3</th>\n",
       "      <td>100101</td>\n",
       "      <td>2014</td>\n",
       "      <td>4</td>\n",
       "      <td>0</td>\n",
       "    </tr>\n",
       "    <tr>\n",
       "      <th>4</th>\n",
       "      <td>100101</td>\n",
       "      <td>2014</td>\n",
       "      <td>5</td>\n",
       "      <td>0</td>\n",
       "    </tr>\n",
       "  </tbody>\n",
       "</table>\n",
       "</div>"
      ],
      "text/plain": [
       "   addrcode  Year Week  Cases\n",
       "0    100101  2014    1      0\n",
       "1    100101  2014    2      0\n",
       "2    100101  2014    3      0\n",
       "3    100101  2014    4      0\n",
       "4    100101  2014    5      0"
      ]
     },
     "execution_count": 21,
     "metadata": {},
     "output_type": "execute_result"
    }
   ],
   "source": [
    "df_month_df = pd.read_csv(os.path.join('Data','Dengue-cases','Dengue fever data','DF.csv'))\n",
    "df_month_df['WeekNum'] = df_month_df['WeekNum'].astype(str)\n",
    "df_month_df['Year'] = df_month_df['Year'].astype(str)\n",
    "df_month_df.columns = ['addrcode','Year','Week','Cases']\n",
    "df_month_df.head()"
   ]
  },
  {
   "cell_type": "code",
   "execution_count": 22,
   "metadata": {},
   "outputs": [],
   "source": [
    "weekyear = []\n",
    "for i in range(len(df_month_df)):\n",
    "    if len(df_month_df['Week'][i]) == 1:\n",
    "        weekyear.append(df_month_df['Year'][i] + '0' + df_month_df['Week'][i])\n",
    "    elif len(df_month_df['Week'][i]) == 2:\n",
    "        weekyear.append(df_month_df['Year'][i] + df_month_df['Week'][i])"
   ]
  },
  {
   "cell_type": "code",
   "execution_count": 23,
   "metadata": {},
   "outputs": [
    {
     "data": {
      "text/html": [
       "<div>\n",
       "<style scoped>\n",
       "    .dataframe tbody tr th:only-of-type {\n",
       "        vertical-align: middle;\n",
       "    }\n",
       "\n",
       "    .dataframe tbody tr th {\n",
       "        vertical-align: top;\n",
       "    }\n",
       "\n",
       "    .dataframe thead th {\n",
       "        text-align: right;\n",
       "    }\n",
       "</style>\n",
       "<table border=\"1\" class=\"dataframe\">\n",
       "  <thead>\n",
       "    <tr style=\"text-align: right;\">\n",
       "      <th></th>\n",
       "      <th>addrcode</th>\n",
       "      <th>Year</th>\n",
       "      <th>Week</th>\n",
       "      <th>Cases</th>\n",
       "      <th>WeekYear</th>\n",
       "    </tr>\n",
       "  </thead>\n",
       "  <tbody>\n",
       "    <tr>\n",
       "      <th>0</th>\n",
       "      <td>100101</td>\n",
       "      <td>2014</td>\n",
       "      <td>1</td>\n",
       "      <td>0</td>\n",
       "      <td>201401</td>\n",
       "    </tr>\n",
       "    <tr>\n",
       "      <th>1</th>\n",
       "      <td>100101</td>\n",
       "      <td>2014</td>\n",
       "      <td>2</td>\n",
       "      <td>0</td>\n",
       "      <td>201402</td>\n",
       "    </tr>\n",
       "    <tr>\n",
       "      <th>2</th>\n",
       "      <td>100101</td>\n",
       "      <td>2014</td>\n",
       "      <td>3</td>\n",
       "      <td>0</td>\n",
       "      <td>201403</td>\n",
       "    </tr>\n",
       "    <tr>\n",
       "      <th>3</th>\n",
       "      <td>100101</td>\n",
       "      <td>2014</td>\n",
       "      <td>4</td>\n",
       "      <td>0</td>\n",
       "      <td>201404</td>\n",
       "    </tr>\n",
       "    <tr>\n",
       "      <th>4</th>\n",
       "      <td>100101</td>\n",
       "      <td>2014</td>\n",
       "      <td>5</td>\n",
       "      <td>0</td>\n",
       "      <td>201405</td>\n",
       "    </tr>\n",
       "  </tbody>\n",
       "</table>\n",
       "</div>"
      ],
      "text/plain": [
       "   addrcode  Year Week  Cases  WeekYear\n",
       "0    100101  2014    1      0    201401\n",
       "1    100101  2014    2      0    201402\n",
       "2    100101  2014    3      0    201403\n",
       "3    100101  2014    4      0    201404\n",
       "4    100101  2014    5      0    201405"
      ]
     },
     "execution_count": 23,
     "metadata": {},
     "output_type": "execute_result"
    }
   ],
   "source": [
    "df_month_df['WeekYear'] = weekyear\n",
    "df_month_df['WeekYear'] = df_month_df['WeekYear'].astype(int)\n",
    "df_month_df.head()"
   ]
  },
  {
   "cell_type": "code",
   "execution_count": 24,
   "metadata": {},
   "outputs": [
    {
     "data": {
      "text/html": [
       "<div>\n",
       "<style scoped>\n",
       "    .dataframe tbody tr th:only-of-type {\n",
       "        vertical-align: middle;\n",
       "    }\n",
       "\n",
       "    .dataframe tbody tr th {\n",
       "        vertical-align: top;\n",
       "    }\n",
       "\n",
       "    .dataframe thead th {\n",
       "        text-align: right;\n",
       "    }\n",
       "</style>\n",
       "<table border=\"1\" class=\"dataframe\">\n",
       "  <thead>\n",
       "    <tr style=\"text-align: right;\">\n",
       "      <th></th>\n",
       "      <th>addrcode</th>\n",
       "      <th>Year</th>\n",
       "      <th>Week</th>\n",
       "      <th>Cases</th>\n",
       "      <th>Month</th>\n",
       "    </tr>\n",
       "  </thead>\n",
       "  <tbody>\n",
       "    <tr>\n",
       "      <th>0</th>\n",
       "      <td>100101</td>\n",
       "      <td>2014</td>\n",
       "      <td>1</td>\n",
       "      <td>0</td>\n",
       "      <td>1</td>\n",
       "    </tr>\n",
       "    <tr>\n",
       "      <th>1</th>\n",
       "      <td>100101</td>\n",
       "      <td>2014</td>\n",
       "      <td>2</td>\n",
       "      <td>0</td>\n",
       "      <td>1</td>\n",
       "    </tr>\n",
       "    <tr>\n",
       "      <th>2</th>\n",
       "      <td>100101</td>\n",
       "      <td>2014</td>\n",
       "      <td>3</td>\n",
       "      <td>0</td>\n",
       "      <td>1</td>\n",
       "    </tr>\n",
       "    <tr>\n",
       "      <th>3</th>\n",
       "      <td>100101</td>\n",
       "      <td>2014</td>\n",
       "      <td>4</td>\n",
       "      <td>0</td>\n",
       "      <td>1</td>\n",
       "    </tr>\n",
       "    <tr>\n",
       "      <th>4</th>\n",
       "      <td>100101</td>\n",
       "      <td>2014</td>\n",
       "      <td>5</td>\n",
       "      <td>0</td>\n",
       "      <td>2</td>\n",
       "    </tr>\n",
       "  </tbody>\n",
       "</table>\n",
       "</div>"
      ],
      "text/plain": [
       "   addrcode  Year Week  Cases  Month\n",
       "0    100101  2014    1      0      1\n",
       "1    100101  2014    2      0      1\n",
       "2    100101  2014    3      0      1\n",
       "3    100101  2014    4      0      1\n",
       "4    100101  2014    5      0      2"
      ]
     },
     "execution_count": 24,
     "metadata": {},
     "output_type": "execute_result"
    }
   ],
   "source": [
    "df_month_df['LastDayWeek'] = pd.to_datetime((df_month_df['WeekYear']-1).astype(str) + \"6\", format=\"%Y%U%w\")\n",
    "df_month_df['Month'] = pd.DatetimeIndex(df_month_df['LastDayWeek']).month\n",
    "df_month_df = df_month_df.drop(['LastDayWeek','WeekYear'], axis =1)\n",
    "df_month_df.head()"
   ]
  },
  {
   "cell_type": "code",
   "execution_count": 25,
   "metadata": {},
   "outputs": [
    {
     "data": {
      "text/html": [
       "<div>\n",
       "<style scoped>\n",
       "    .dataframe tbody tr th:only-of-type {\n",
       "        vertical-align: middle;\n",
       "    }\n",
       "\n",
       "    .dataframe tbody tr th {\n",
       "        vertical-align: top;\n",
       "    }\n",
       "\n",
       "    .dataframe thead th {\n",
       "        text-align: right;\n",
       "    }\n",
       "</style>\n",
       "<table border=\"1\" class=\"dataframe\">\n",
       "  <thead>\n",
       "    <tr style=\"text-align: right;\">\n",
       "      <th></th>\n",
       "      <th>addrcode</th>\n",
       "      <th>Year</th>\n",
       "      <th>Month</th>\n",
       "      <th>Cases</th>\n",
       "    </tr>\n",
       "  </thead>\n",
       "  <tbody>\n",
       "    <tr>\n",
       "      <th>0</th>\n",
       "      <td>100101</td>\n",
       "      <td>2014</td>\n",
       "      <td>1</td>\n",
       "      <td>0</td>\n",
       "    </tr>\n",
       "    <tr>\n",
       "      <th>1</th>\n",
       "      <td>100101</td>\n",
       "      <td>2014</td>\n",
       "      <td>2</td>\n",
       "      <td>0</td>\n",
       "    </tr>\n",
       "    <tr>\n",
       "      <th>2</th>\n",
       "      <td>100101</td>\n",
       "      <td>2014</td>\n",
       "      <td>3</td>\n",
       "      <td>0</td>\n",
       "    </tr>\n",
       "    <tr>\n",
       "      <th>3</th>\n",
       "      <td>100101</td>\n",
       "      <td>2014</td>\n",
       "      <td>4</td>\n",
       "      <td>0</td>\n",
       "    </tr>\n",
       "    <tr>\n",
       "      <th>4</th>\n",
       "      <td>100101</td>\n",
       "      <td>2014</td>\n",
       "      <td>5</td>\n",
       "      <td>0</td>\n",
       "    </tr>\n",
       "  </tbody>\n",
       "</table>\n",
       "</div>"
      ],
      "text/plain": [
       "   addrcode  Year  Month  Cases\n",
       "0    100101  2014      1      0\n",
       "1    100101  2014      2      0\n",
       "2    100101  2014      3      0\n",
       "3    100101  2014      4      0\n",
       "4    100101  2014      5      0"
      ]
     },
     "execution_count": 25,
     "metadata": {},
     "output_type": "execute_result"
    }
   ],
   "source": [
    "df_month_df = df_month_df.groupby([df_month_df['addrcode'],df_month_df['Year'],df_month_df['Month']]).sum().reset_index()\n",
    "df_month_df.head()"
   ]
  },
  {
   "cell_type": "code",
   "execution_count": 16,
   "metadata": {},
   "outputs": [],
   "source": [
    "#df_month_df.to_csv('Data/Dengue-cases/Dengue fever data/DF_monthly.csv', encoding = 'utf-8')"
   ]
  },
  {
   "cell_type": "code",
   "execution_count": 27,
   "metadata": {},
   "outputs": [
    {
     "data": {
      "text/html": [
       "<div>\n",
       "<style scoped>\n",
       "    .dataframe tbody tr th:only-of-type {\n",
       "        vertical-align: middle;\n",
       "    }\n",
       "\n",
       "    .dataframe tbody tr th {\n",
       "        vertical-align: top;\n",
       "    }\n",
       "\n",
       "    .dataframe thead th {\n",
       "        text-align: right;\n",
       "    }\n",
       "</style>\n",
       "<table border=\"1\" class=\"dataframe\">\n",
       "  <thead>\n",
       "    <tr style=\"text-align: right;\">\n",
       "      <th></th>\n",
       "      <th>addrcode</th>\n",
       "      <th>Year</th>\n",
       "      <th>Month</th>\n",
       "      <th>Cases</th>\n",
       "    </tr>\n",
       "  </thead>\n",
       "  <tbody>\n",
       "    <tr>\n",
       "      <th>0</th>\n",
       "      <td>1001</td>\n",
       "      <td>2014</td>\n",
       "      <td>1</td>\n",
       "      <td>1</td>\n",
       "    </tr>\n",
       "    <tr>\n",
       "      <th>1</th>\n",
       "      <td>1001</td>\n",
       "      <td>2014</td>\n",
       "      <td>2</td>\n",
       "      <td>2</td>\n",
       "    </tr>\n",
       "    <tr>\n",
       "      <th>2</th>\n",
       "      <td>1001</td>\n",
       "      <td>2014</td>\n",
       "      <td>3</td>\n",
       "      <td>2</td>\n",
       "    </tr>\n",
       "    <tr>\n",
       "      <th>3</th>\n",
       "      <td>1001</td>\n",
       "      <td>2014</td>\n",
       "      <td>4</td>\n",
       "      <td>2</td>\n",
       "    </tr>\n",
       "    <tr>\n",
       "      <th>4</th>\n",
       "      <td>1001</td>\n",
       "      <td>2014</td>\n",
       "      <td>5</td>\n",
       "      <td>5</td>\n",
       "    </tr>\n",
       "  </tbody>\n",
       "</table>\n",
       "</div>"
      ],
      "text/plain": [
       "  addrcode  Year  Month  Cases\n",
       "0     1001  2014      1      1\n",
       "1     1001  2014      2      2\n",
       "2     1001  2014      3      2\n",
       "3     1001  2014      4      2\n",
       "4     1001  2014      5      5"
      ]
     },
     "execution_count": 27,
     "metadata": {},
     "output_type": "execute_result"
    }
   ],
   "source": [
    "df_month_df['addrcode'] = df_month_df['addrcode'].astype(str)\n",
    "df_month_df_dist = df_month_df.groupby([df_month_df['addrcode'].str[:4],df_month_df['Year'],df_month_df['Month']]).sum().reset_index()\n",
    "df_month_df_dist.head()"
   ]
  },
  {
   "cell_type": "code",
   "execution_count": 28,
   "metadata": {},
   "outputs": [],
   "source": [
    "df_month_df_dist.to_csv('Data/Dengue-cases/Dengue fever data/DF_monthly_dist.csv', encoding = 'utf-8')"
   ]
  },
  {
   "cell_type": "markdown",
   "metadata": {},
   "source": [
    "## Checking missing sub-district of Container detection"
   ]
  },
  {
   "cell_type": "code",
   "execution_count": null,
   "metadata": {},
   "outputs": [],
   "source": [
    "df_detection = pd.read_csv(os.path.join('Data','Breeding-sites','csv','addrcode-index','detection.csv'))\n",
    "df_detection.head()"
   ]
  },
  {
   "cell_type": "code",
   "execution_count": null,
   "metadata": {},
   "outputs": [],
   "source": [
    "df_allsub = pd.read_csv(os.path.join('Data','Climatic Data Result','addrcode_subdistrict.csv'))\n",
    "df_allsub.head()"
   ]
  },
  {
   "cell_type": "code",
   "execution_count": null,
   "metadata": {},
   "outputs": [],
   "source": [
    "df_missing = pd.merge(df_detection,df_allsub, how = 'outer', on = 'addrcode')\n",
    "df_missing.head()\n",
    "#df_missing.to_csv('detection_check.csv', encoding = 'utf-8')"
   ]
  },
  {
   "cell_type": "markdown",
   "metadata": {},
   "source": [
    "## Delete missing sub-district for Container detection"
   ]
  },
  {
   "cell_type": "code",
   "execution_count": null,
   "metadata": {},
   "outputs": [],
   "source": [
    "invalid = ['801302','801503','810101','810301','810302','810502','810802','801201','810102']"
   ]
  },
  {
   "cell_type": "code",
   "execution_count": null,
   "metadata": {},
   "outputs": [],
   "source": [
    "df_rainfall = pd.read_csv(os.path.join('Data','Climatic Data','Rainfall_Nakhon_Krabi.csv'))\n",
    "df_rainfall = df_rainfall.drop('Unnamed: 0',axis = 1)\n",
    "df_rainfall['addrcode'] = df_rainfall['addrcode'].astype(str)\n",
    "df_rainfall.head()"
   ]
  },
  {
   "cell_type": "code",
   "execution_count": null,
   "metadata": {},
   "outputs": [],
   "source": [
    "len(df_rainfall)"
   ]
  },
  {
   "cell_type": "code",
   "execution_count": null,
   "metadata": {},
   "outputs": [],
   "source": [
    "for i in range(len(invalid)):\n",
    "    df_rainfall = df_rainfall[df_rainfall.addrcode != invalid[i]]"
   ]
  },
  {
   "cell_type": "code",
   "execution_count": null,
   "metadata": {},
   "outputs": [],
   "source": [
    "len(df_rainfall)"
   ]
  },
  {
   "cell_type": "code",
   "execution_count": null,
   "metadata": {},
   "outputs": [],
   "source": [
    "df_rainfall.to_csv('Rainfall_Nakhon_Krabi_Autocorrelation.csv', encoding ='utf-8')"
   ]
  },
  {
   "cell_type": "markdown",
   "metadata": {},
   "source": [
    "## Creating DF "
   ]
  },
  {
   "cell_type": "code",
   "execution_count": null,
   "metadata": {},
   "outputs": [],
   "source": [
    "df_allsub = pd.read_csv(os.path.join('Data','Climatic Data Result','addrcode_subdistrict.csv'))\n",
    "df_allsub['addrcode'][0]"
   ]
  },
  {
   "cell_type": "code",
   "execution_count": null,
   "metadata": {},
   "outputs": [],
   "source": [
    "df_dengue = pd.DataFrame(columns=['addrcode','Year','WeekNum','NumberCases'])\n",
    "df_dengue"
   ]
  },
  {
   "cell_type": "code",
   "execution_count": null,
   "metadata": {},
   "outputs": [],
   "source": [
    "len(df_allsub)"
   ]
  },
  {
   "cell_type": "code",
   "execution_count": null,
   "metadata": {},
   "outputs": [],
   "source": [
    "size = len(df_dengue)"
   ]
  },
  {
   "cell_type": "code",
   "execution_count": null,
   "metadata": {},
   "outputs": [],
   "source": [
    "count = 0"
   ]
  },
  {
   "cell_type": "code",
   "execution_count": null,
   "metadata": {},
   "outputs": [],
   "source": [
    "\n",
    "for i in range(len(df_allsub)):\n",
    "    for j in range(52):\n",
    "        df_dengue.loc[count] = [df_allsub['addrcode'][i],2014,j+1,0]\n",
    "        count = count+1\n",
    "    for k in range(53):\n",
    "        df_dengue.loc[count] = [df_allsub['addrcode'][i],2015,k+1,0]\n",
    "        count = count+1\n",
    "    for l in range(52):\n",
    "        df_dengue.loc[count] = [df_allsub['addrcode'][i],2016,l+1,0]\n",
    "        count = count+1\n",
    "    for m in range(52):\n",
    "        df_dengue.loc[count] = [df_allsub['addrcode'][i],2017,m+1,0]\n",
    "        count = count+1\n",
    "    for n in range(24):\n",
    "        df_dengue.loc[count] = [df_allsub['addrcode'][i],2018,n+1,0]\n",
    "        count = count+1"
   ]
  },
  {
   "cell_type": "code",
   "execution_count": null,
   "metadata": {},
   "outputs": [],
   "source": [
    "df_dengue\n",
    "df_dengue.to_csv('DF_0.csv',encoding = 'utf-8')"
   ]
  },
  {
   "cell_type": "code",
   "execution_count": null,
   "metadata": {},
   "outputs": [],
   "source": [
    "df_dengue_agg = pd.read_csv(os.path.join('Data','Dengue-cases','Dengue fever Data','DF_5YEAR_AGG.csv'))\n",
    "df_dengue_agg = df_dengue_agg.drop('Unnamed: 0',axis = 1)\n",
    "df_dengue_agg.head()"
   ]
  },
  {
   "cell_type": "code",
   "execution_count": null,
   "metadata": {},
   "outputs": [],
   "source": [
    "list = ['100206','100212','100214','100308','100501','100905','100910',\n",
    "        '101101','101201','101903','102001','102101','102301','102702',\n",
    "        '102703','102704','102705','102901','103202','103402','104002',\n",
    "        '105002','109999',\n",
    "        '800104','800206','800208','800805','801004','801005','801302',\n",
    "        '801309','801503','802701',\n",
    "        '810030','810040','810050','810101','810104','810301','810302',\n",
    "        '810408','810502','810706','810766','810802','811150','813037',\n",
    "        '814011','814012','814031','814034','814036','814038','814039',\n",
    "        '814054','814056','814057','814076','801201','810102'] \n",
    "\n",
    "df_dengue = pd.read_csv(os.path.join('Data','Dengue-cases','Dengue fever data','DF_0.csv'))\n",
    "df_dengue = df_dengue.drop('Unnamed: 0', axis = 1)\n",
    "df_dengue['addrcode'] = df_dengue['addrcode'].astype(str)\n",
    "df_dengue_agg['addrcode'] = df_dengue_agg['addrcode'].astype(str)\n",
    "df_dengue = df_dengue.sort_values(['addrcode','Year','WeekNum'])\n",
    "for i in range(len(list)):\n",
    "     df_dengue = df_dengue[df_dengue.addrcode != list[i]]\n",
    "for i in range(len(list)):\n",
    "     df_dengue_agg = df_dengue_agg[df_dengue_agg.addrcode != list[i]]\n",
    "df_dengue = df_dengue.reset_index()\n",
    "df_dengue = df_dengue.drop('index',axis = 1)\n",
    "#df_dengue.to_csv('DF_00.csv',encoding = 'utf-8')\n",
    "#df_denguecase_weekly.tail()"
   ]
  },
  {
   "cell_type": "code",
   "execution_count": null,
   "metadata": {},
   "outputs": [],
   "source": [
    "len(df_dengue)"
   ]
  },
  {
   "cell_type": "code",
   "execution_count": null,
   "metadata": {},
   "outputs": [],
   "source": [
    "df_df = df_dengue.append(df_dengue_agg)\n",
    "df_df['addrcode'] = df_df['addrcode'].astype(str)"
   ]
  },
  {
   "cell_type": "code",
   "execution_count": null,
   "metadata": {},
   "outputs": [],
   "source": [
    "df_df = df_df.reset_index()\n",
    "df_df = df_df.drop('index', axis = 1)\n",
    "df_df.head()"
   ]
  },
  {
   "cell_type": "code",
   "execution_count": null,
   "metadata": {},
   "outputs": [],
   "source": [
    "aggregation_function = {'NumberCases': 'sum'}\n",
    "df_df = df_df.groupby([df_df['addrcode'],df_df['Year'],df_df['WeekNum']]).aggregate(aggregation_function).reset_index()\n",
    "df_df.head()\n",
    "len(df_df)"
   ]
  },
  {
   "cell_type": "code",
   "execution_count": null,
   "metadata": {},
   "outputs": [],
   "source": [
    "df_df.to_csv('DF.csv',encoding = 'utf-8')"
   ]
  },
  {
   "cell_type": "markdown",
   "metadata": {},
   "source": [
    "## Dengue Case per Area"
   ]
  },
  {
   "cell_type": "code",
   "execution_count": null,
   "metadata": {},
   "outputs": [],
   "source": [
    "df_dengue = pd.read_csv(os.path.join('Data','Dengue-cases','Dengue fever data','DF.csv'))\n",
    "df_dengue['addrcode'] = df_dengue['addrcode'].astype(str)\n",
    "df_dengue.head()"
   ]
  },
  {
   "cell_type": "code",
   "execution_count": null,
   "metadata": {},
   "outputs": [],
   "source": [
    "df_subdist_area = pd.read_csv(os.path.join('Data','Area and GSV','csv','subdistricts-area.csv'))\n",
    "df_subdist_area['addrcode'] = df_subdist_area['addrcode'].astype(str)\n",
    "df_subdist_area.head()"
   ]
  },
  {
   "cell_type": "code",
   "execution_count": null,
   "metadata": {},
   "outputs": [],
   "source": [
    "aggregation_function = {'area': 'sum'}\n",
    "df_dist_area = df_subdist_area.groupby(df_subdist_area['addrcode'].str[:4]).aggregate(aggregation_function).reset_index()\n",
    "df_dist_area.head()"
   ]
  },
  {
   "cell_type": "code",
   "execution_count": null,
   "metadata": {},
   "outputs": [],
   "source": [
    "df_df_area = pd.merge(df_dengue,df_subdist_area, on = 'addrcode', how = 'inner')\n",
    "df_df_area['area'] = df_df_area['area']/10\n",
    "df_df_area['DFpA'] = df_df_area['NumberCases']/df_df_area['area']\n",
    "df_df_area.tail()"
   ]
  },
  {
   "cell_type": "code",
   "execution_count": null,
   "metadata": {},
   "outputs": [],
   "source": [
    "df_df_area.to_csv('DFpArea.csv', encoding='utf-8')"
   ]
  },
  {
   "cell_type": "markdown",
   "metadata": {},
   "source": [
    "## Dengue case per 10000 population"
   ]
  },
  {
   "cell_type": "markdown",
   "metadata": {},
   "source": [
    "### [Subdistrict]"
   ]
  },
  {
   "cell_type": "code",
   "execution_count": null,
   "metadata": {},
   "outputs": [],
   "source": [
    "df_dengue = pd.read_csv(os.path.join('Data','Dengue-cases','Dengue fever data','DF.csv'))\n",
    "df_dengue['addrcode'] = df_dengue['addrcode'].astype(str)\n",
    "df_dengue.head()"
   ]
  },
  {
   "cell_type": "code",
   "execution_count": null,
   "metadata": {},
   "outputs": [],
   "source": [
    "df_pop = pd.read_csv(os.path.join('Data','Population','addrcode-index','Population.csv'))\n",
    "df_pop['addrcode'] = df_pop['addrcode'].astype(str)\n",
    "df_pop.columns = ['addrcode','population']\n",
    "df_pop.head()"
   ]
  },
  {
   "cell_type": "code",
   "execution_count": null,
   "metadata": {},
   "outputs": [],
   "source": [
    "df_df_pop = pd.merge(df_dengue, df_pop, how ='inner', on = 'addrcode')\n",
    "df_df_pop['population'] = df_df_pop['population'] / 10000\n",
    "df_df_pop['DFp10000Pop'] = df_df_pop['NumberCases']/df_df_pop['population']\n",
    "df_df_pop.tail()"
   ]
  },
  {
   "cell_type": "code",
   "execution_count": null,
   "metadata": {},
   "outputs": [],
   "source": [
    "#df_df_pop.to_csv('DF_10000Population_details.csv', encoding='utf-8')"
   ]
  },
  {
   "cell_type": "markdown",
   "metadata": {},
   "source": [
    "### District level"
   ]
  },
  {
   "cell_type": "code",
   "execution_count": null,
   "metadata": {},
   "outputs": [],
   "source": [
    "df_df_pop = pd.merge(df_dengue, df_pop, how ='inner', on = 'addrcode')\n",
    "df_df_pop.head()"
   ]
  },
  {
   "cell_type": "code",
   "execution_count": null,
   "metadata": {},
   "outputs": [],
   "source": [
    "aggregation_function = {'NumberCases': 'sum', 'population': 'sum'}\n",
    "df_df_pop_dist = df_df_pop.groupby([df_df_pop['addrcode'].str[:4], df_df_pop['Year'], df_df_pop['WeekNum']]).aggregate(aggregation_function).reset_index()\n",
    "df_df_pop_dist.head()"
   ]
  },
  {
   "cell_type": "code",
   "execution_count": null,
   "metadata": {},
   "outputs": [],
   "source": [
    "df_df_pop_dist['population'] = df_df_pop_dist['population'] / 10000\n",
    "df_df_pop_dist['DFp10000Pop'] = df_df_pop_dist['NumberCases']/df_df_pop_dist['population']\n",
    "df_df_pop_dist.head()"
   ]
  },
  {
   "cell_type": "code",
   "execution_count": null,
   "metadata": {},
   "outputs": [],
   "source": [
    "df_df_pop_dist.to_csv('DF_10000Population_dist_details.csv', encoding='utf-8')"
   ]
  },
  {
   "cell_type": "markdown",
   "metadata": {},
   "source": [
    "## Container Density Per Area [Sub-district]"
   ]
  },
  {
   "cell_type": "code",
   "execution_count": null,
   "metadata": {},
   "outputs": [],
   "source": [
    "df_detection = pd.read_csv(os.path.join('Data','Breeding-sites','csv','addrcode-index','detection.csv'))\n",
    "df_detection['addrcode'] = df_detection['addrcode'].astype(str)\n",
    "df_detection = df_detection.drop('date',axis = 1)"
   ]
  },
  {
   "cell_type": "code",
   "execution_count": null,
   "metadata": {},
   "outputs": [],
   "source": [
    "list = ['102702','102703']\n",
    "for i in range(len(list)):\n",
    "     df_detection = df_detection[df_detection.addrcode != list[i]]\n"
   ]
  },
  {
   "cell_type": "code",
   "execution_count": null,
   "metadata": {},
   "outputs": [],
   "source": [
    "df_detection_bangkok = df_detection.loc[df_detection['addrcode'].str[:2] == '10']\n",
    "df_detection_bangkok = df_detection_bangkok.reset_index()\n",
    "df_detection_bangkok = df_detection_bangkok.drop('index',axis = 1)\n",
    "df_detection_bangkok.to_csv('container_bangkok_subdist.csv',encoding = 'utf-8')\n",
    "df_detection_krabi = df_detection.loc[df_detection['addrcode'].str[:2] == '81']\n",
    "df_detection_krabi = df_detection_krabi.reset_index()\n",
    "df_detection_krabi = df_detection_krabi.drop('index',axis = 1)\n",
    "df_detection_krabi.to_csv('container_krabi_subdist.csv',encoding = 'utf-8')\n",
    "df_detection_nst = df_detection.loc[df_detection['addrcode'].str[:2] == '80']\n",
    "df_detection_nst = df_detection_nst.reset_index()\n",
    "df_detection_nst = df_detection_nst.drop('index',axis = 1)\n",
    "df_detection_nst.to_csv('container_NST_subdist.csv',encoding = 'utf-8')"
   ]
  },
  {
   "cell_type": "code",
   "execution_count": null,
   "metadata": {},
   "outputs": [],
   "source": [
    "## for Bangkok, NST, Krabi\n",
    "df_cd = pd.merge(df_detection_nst,df_subdist_area, on = 'addrcode', how = 'inner')\n",
    "df_cd['area'] = df_cd['area']/10\n",
    "df_cd.head()"
   ]
  },
  {
   "cell_type": "code",
   "execution_count": null,
   "metadata": {},
   "outputs": [],
   "source": [
    "df_cd['bin'] = df_cd['bin']/df_cd['area']\n",
    "df_cd['bin'] = df_cd['bin'].round(3)\n",
    "df_cd['bowl'] = df_cd['bowl']/df_cd['area']\n",
    "df_cd['bowl'] = df_cd['bowl'].round(3)\n",
    "df_cd['bucket'] = df_cd['bucket']/df_cd['area']\n",
    "df_cd['bucket'] = df_cd['bucket'].round(3)\n",
    "df_cd['misc_short'] = df_cd['misc_short']/df_cd['area']\n",
    "df_cd['misc_short'] = df_cd['misc_short'].round(3)\n",
    "df_cd['jar'] = df_cd['jar']/df_cd['area']\n",
    "df_cd['jar'] = df_cd['jar'].round(3)\n",
    "df_cd['pottedplant'] = df_cd['pottedplant']/df_cd['area']\n",
    "df_cd['pottedplant'] = df_cd['pottedplant'].round(3)\n",
    "df_cd['tire'] = df_cd['tire']/df_cd['area']\n",
    "df_cd['tire'] = df_cd['tire'].round(3)\n",
    "df_cd['misc_tall'] = df_cd['misc_tall']/df_cd['area']\n",
    "df_cd['misc_tall'] = df_cd['misc_tall'].round(3)\n",
    "df_cd['total'] = df_cd['total']/df_cd['area']\n",
    "df_cd['total'] = df_cd['total'].round(3)\n",
    "df_cd = df_cd.drop('area', axis =1)\n",
    "df_cd.head()"
   ]
  },
  {
   "cell_type": "code",
   "execution_count": null,
   "metadata": {},
   "outputs": [],
   "source": [
    "df_cd.to_csv('CD_NST_subdist.csv', encoding='utf-8')"
   ]
  },
  {
   "cell_type": "markdown",
   "metadata": {},
   "source": [
    "## Container Density [District]"
   ]
  },
  {
   "cell_type": "code",
   "execution_count": null,
   "metadata": {},
   "outputs": [],
   "source": [
    "df_detection = pd.read_csv(os.path.join('Data','Breeding-sites','csv','addrcode-index','detection.csv'))\n",
    "df_detection['addrcode'] = df_detection['addrcode'].astype(str)\n",
    "df_detection = df_detection.drop('date',axis = 1)\n",
    "list = ['102702','102703']\n",
    "for i in range(len(list)):\n",
    "     df_detection = df_detection[df_detection.addrcode != list[i]]"
   ]
  },
  {
   "cell_type": "code",
   "execution_count": null,
   "metadata": {},
   "outputs": [],
   "source": [
    "aggregation_function = {'bin': 'sum', 'bowl': 'sum','bucket': 'sum', 'misc_short': 'sum', 'jar': 'sum', 'pottedplant': 'sum', 'tire': 'sum', 'misc_tall': 'sum', 'total': 'sum'}\n",
    "df_detection_dist = df_detection.groupby(df_detection['addrcode'].str[:4]).aggregate(aggregation_function).reset_index()\n",
    "df_detection_dist.head()"
   ]
  },
  {
   "cell_type": "code",
   "execution_count": null,
   "metadata": {},
   "outputs": [],
   "source": [
    "df_detection_bangkok = df_detection_dist.loc[df_detection_dist['addrcode'].str[:2] == '10']\n",
    "df_detection_bangkok = df_detection_bangkok.reset_index()\n",
    "df_detection_bangkok = df_detection_bangkok.drop('index',axis = 1)\n",
    "df_detection_bangkok.to_csv('container_bangkok_dist.csv',encoding = 'utf-8')\n",
    "df_detection_krabi = df_detection_dist.loc[df_detection_dist['addrcode'].str[:2] == '81']\n",
    "df_detection_krabi = df_detection_krabi.reset_index()\n",
    "df_detection_krabi = df_detection_krabi.drop('index',axis = 1)\n",
    "df_detection_krabi.to_csv('container_krabi_dist.csv',encoding = 'utf-8')\n",
    "df_detection_nst = df_detection_dist.loc[df_detection_dist['addrcode'].str[:2] == '80']\n",
    "df_detection_nst = df_detection_nst.reset_index()\n",
    "df_detection_nst = df_detection_nst.drop('index',axis = 1)\n",
    "df_detection_nst.to_csv('container_NST_dist.csv',encoding = 'utf-8')"
   ]
  },
  {
   "cell_type": "code",
   "execution_count": null,
   "metadata": {},
   "outputs": [],
   "source": [
    "## for Bangkok, NST, Krabi\n",
    "df_cd = pd.merge(df_detection_nst,df_dist_area, on = 'addrcode', how = 'inner')\n",
    "df_cd['area'] = df_cd['area']/10\n",
    "df_cd.head()"
   ]
  },
  {
   "cell_type": "code",
   "execution_count": null,
   "metadata": {},
   "outputs": [],
   "source": [
    "df_cd['bin'] = df_cd['bin']/df_cd['area']\n",
    "df_cd['bin'] = df_cd['bin'].round(3)\n",
    "df_cd['bowl'] = df_cd['bowl']/df_cd['area']\n",
    "df_cd['bowl'] = df_cd['bowl'].round(3)\n",
    "df_cd['bucket'] = df_cd['bucket']/df_cd['area']\n",
    "df_cd['bucket'] = df_cd['bucket'].round(3)\n",
    "df_cd['misc_short'] = df_cd['misc_short']/df_cd['area']\n",
    "df_cd['misc_short'] = df_cd['misc_short'].round(3)\n",
    "df_cd['jar'] = df_cd['jar']/df_cd['area']\n",
    "df_cd['jar'] = df_cd['jar'].round(3)\n",
    "df_cd['pottedplant'] = df_cd['pottedplant']/df_cd['area']\n",
    "df_cd['pottedplant'] = df_cd['pottedplant'].round(3)\n",
    "df_cd['tire'] = df_cd['tire']/df_cd['area']\n",
    "df_cd['tire'] = df_cd['tire'].round(3)\n",
    "df_cd['misc_tall'] = df_cd['misc_tall']/df_cd['area']\n",
    "df_cd['misc_tall'] = df_cd['misc_tall'].round(3)\n",
    "df_cd['total'] = df_cd['total']/df_cd['area']\n",
    "df_cd['total'] = df_cd['total'].round(3)\n",
    "df_cd = df_cd.drop('area', axis =1)\n",
    "df_cd.head()"
   ]
  },
  {
   "cell_type": "code",
   "execution_count": null,
   "metadata": {},
   "outputs": [],
   "source": [
    "df_cd.to_csv('CD_NST_dist.csv', encoding='utf-8')"
   ]
  },
  {
   "cell_type": "markdown",
   "metadata": {},
   "source": [
    "## Container Density per Population [Subdistrict]"
   ]
  },
  {
   "cell_type": "code",
   "execution_count": 29,
   "metadata": {},
   "outputs": [],
   "source": [
    "df_detection = pd.read_csv(os.path.join('Data','Breeding-sites','csv','addrcode-index','detection.csv'))\n",
    "df_detection['addrcode'] = df_detection['addrcode'].astype(str)\n",
    "df_detection = df_detection.drop('date',axis = 1)"
   ]
  },
  {
   "cell_type": "code",
   "execution_count": 30,
   "metadata": {},
   "outputs": [],
   "source": [
    "list = ['102702','102703']\n",
    "for i in range(len(list)):\n",
    "     df_detection = df_detection[df_detection.addrcode != list[i]]"
   ]
  },
  {
   "cell_type": "code",
   "execution_count": 31,
   "metadata": {},
   "outputs": [],
   "source": [
    "df_detection_bangkok = df_detection.loc[df_detection['addrcode'].str[:2] == '10']\n",
    "df_detection_bangkok = df_detection_bangkok.reset_index()\n",
    "df_detection_bangkok = df_detection_bangkok.drop('index',axis = 1)\n",
    "#df_detection_bangkok.to_csv('container_bangkok_subdist.csv',encoding = 'utf-8')\n",
    "df_detection_krabi = df_detection.loc[df_detection['addrcode'].str[:2] == '81']\n",
    "df_detection_krabi = df_detection_krabi.reset_index()\n",
    "df_detection_krabi = df_detection_krabi.drop('index',axis = 1)\n",
    "#df_detection_krabi.to_csv('container_krabi_subdist.csv',encoding = 'utf-8')\n",
    "df_detection_nst = df_detection.loc[df_detection['addrcode'].str[:2] == '80']\n",
    "df_detection_nst = df_detection_nst.reset_index()\n",
    "df_detection_nst = df_detection_nst.drop('index',axis = 1)\n",
    "#df_detection_nst.to_csv('container_NST_subdist.csv',encoding = 'utf-8')"
   ]
  },
  {
   "cell_type": "code",
   "execution_count": 37,
   "metadata": {},
   "outputs": [
    {
     "data": {
      "text/html": [
       "<div>\n",
       "<style scoped>\n",
       "    .dataframe tbody tr th:only-of-type {\n",
       "        vertical-align: middle;\n",
       "    }\n",
       "\n",
       "    .dataframe tbody tr th {\n",
       "        vertical-align: top;\n",
       "    }\n",
       "\n",
       "    .dataframe thead th {\n",
       "        text-align: right;\n",
       "    }\n",
       "</style>\n",
       "<table border=\"1\" class=\"dataframe\">\n",
       "  <thead>\n",
       "    <tr style=\"text-align: right;\">\n",
       "      <th></th>\n",
       "      <th>addrcode</th>\n",
       "      <th>Total</th>\n",
       "    </tr>\n",
       "  </thead>\n",
       "  <tbody>\n",
       "    <tr>\n",
       "      <th>0</th>\n",
       "      <td>100101</td>\n",
       "      <td>3715</td>\n",
       "    </tr>\n",
       "    <tr>\n",
       "      <th>1</th>\n",
       "      <td>100102</td>\n",
       "      <td>11226</td>\n",
       "    </tr>\n",
       "    <tr>\n",
       "      <th>2</th>\n",
       "      <td>100103</td>\n",
       "      <td>3328</td>\n",
       "    </tr>\n",
       "    <tr>\n",
       "      <th>3</th>\n",
       "      <td>100104</td>\n",
       "      <td>3309</td>\n",
       "    </tr>\n",
       "    <tr>\n",
       "      <th>4</th>\n",
       "      <td>100105</td>\n",
       "      <td>3214</td>\n",
       "    </tr>\n",
       "  </tbody>\n",
       "</table>\n",
       "</div>"
      ],
      "text/plain": [
       "  addrcode  Total\n",
       "0   100101   3715\n",
       "1   100102  11226\n",
       "2   100103   3328\n",
       "3   100104   3309\n",
       "4   100105   3214"
      ]
     },
     "execution_count": 37,
     "metadata": {},
     "output_type": "execute_result"
    }
   ],
   "source": [
    "df_pop = pd.read_csv(os.path.join('Data','Population','addrcode-index','Population.csv'))\n",
    "df_pop['addrcode'] = df_pop['addrcode'].astype(str)\n",
    "df_pop.head()"
   ]
  },
  {
   "cell_type": "code",
   "execution_count": 55,
   "metadata": {},
   "outputs": [
    {
     "data": {
      "text/html": [
       "<div>\n",
       "<style scoped>\n",
       "    .dataframe tbody tr th:only-of-type {\n",
       "        vertical-align: middle;\n",
       "    }\n",
       "\n",
       "    .dataframe tbody tr th {\n",
       "        vertical-align: top;\n",
       "    }\n",
       "\n",
       "    .dataframe thead th {\n",
       "        text-align: right;\n",
       "    }\n",
       "</style>\n",
       "<table border=\"1\" class=\"dataframe\">\n",
       "  <thead>\n",
       "    <tr style=\"text-align: right;\">\n",
       "      <th></th>\n",
       "      <th>addrcode</th>\n",
       "      <th>bin</th>\n",
       "      <th>bowl</th>\n",
       "      <th>bucket</th>\n",
       "      <th>misc_short</th>\n",
       "      <th>jar</th>\n",
       "      <th>pottedplant</th>\n",
       "      <th>tire</th>\n",
       "      <th>misc_tall</th>\n",
       "      <th>total</th>\n",
       "      <th>population</th>\n",
       "    </tr>\n",
       "  </thead>\n",
       "  <tbody>\n",
       "    <tr>\n",
       "      <th>0</th>\n",
       "      <td>810503</td>\n",
       "      <td>32</td>\n",
       "      <td>1</td>\n",
       "      <td>307</td>\n",
       "      <td>10</td>\n",
       "      <td>9</td>\n",
       "      <td>104</td>\n",
       "      <td>38</td>\n",
       "      <td>1</td>\n",
       "      <td>502</td>\n",
       "      <td>4943</td>\n",
       "    </tr>\n",
       "    <tr>\n",
       "      <th>1</th>\n",
       "      <td>810507</td>\n",
       "      <td>80</td>\n",
       "      <td>2</td>\n",
       "      <td>253</td>\n",
       "      <td>3</td>\n",
       "      <td>16</td>\n",
       "      <td>146</td>\n",
       "      <td>55</td>\n",
       "      <td>0</td>\n",
       "      <td>555</td>\n",
       "      <td>4344</td>\n",
       "    </tr>\n",
       "    <tr>\n",
       "      <th>2</th>\n",
       "      <td>810604</td>\n",
       "      <td>87</td>\n",
       "      <td>1</td>\n",
       "      <td>160</td>\n",
       "      <td>5</td>\n",
       "      <td>35</td>\n",
       "      <td>175</td>\n",
       "      <td>31</td>\n",
       "      <td>2</td>\n",
       "      <td>496</td>\n",
       "      <td>5872</td>\n",
       "    </tr>\n",
       "    <tr>\n",
       "      <th>3</th>\n",
       "      <td>810205</td>\n",
       "      <td>33</td>\n",
       "      <td>1</td>\n",
       "      <td>263</td>\n",
       "      <td>2</td>\n",
       "      <td>21</td>\n",
       "      <td>112</td>\n",
       "      <td>28</td>\n",
       "      <td>0</td>\n",
       "      <td>460</td>\n",
       "      <td>9386</td>\n",
       "    </tr>\n",
       "    <tr>\n",
       "      <th>4</th>\n",
       "      <td>810508</td>\n",
       "      <td>48</td>\n",
       "      <td>1</td>\n",
       "      <td>214</td>\n",
       "      <td>2</td>\n",
       "      <td>18</td>\n",
       "      <td>143</td>\n",
       "      <td>36</td>\n",
       "      <td>0</td>\n",
       "      <td>462</td>\n",
       "      <td>3906</td>\n",
       "    </tr>\n",
       "  </tbody>\n",
       "</table>\n",
       "</div>"
      ],
      "text/plain": [
       "  addrcode  bin  bowl  bucket  misc_short  jar  pottedplant  tire  misc_tall  \\\n",
       "0   810503   32     1     307          10    9          104    38          1   \n",
       "1   810507   80     2     253           3   16          146    55          0   \n",
       "2   810604   87     1     160           5   35          175    31          2   \n",
       "3   810205   33     1     263           2   21          112    28          0   \n",
       "4   810508   48     1     214           2   18          143    36          0   \n",
       "\n",
       "   total  population  \n",
       "0    502        4943  \n",
       "1    555        4344  \n",
       "2    496        5872  \n",
       "3    460        9386  \n",
       "4    462        3906  "
      ]
     },
     "execution_count": 55,
     "metadata": {},
     "output_type": "execute_result"
    }
   ],
   "source": [
    "## for Bangkok, NST, Krabi\n",
    "df_cd = pd.merge(df_detection_krabi,df_pop, on = 'addrcode', how = 'inner')\n",
    "df_cd.columns = ['addrcode','bin','bowl','bucket','misc_short','jar','pottedplant','tire','misc_tall','total','population']\n",
    "df_cd.head()"
   ]
  },
  {
   "cell_type": "code",
   "execution_count": 56,
   "metadata": {},
   "outputs": [
    {
     "data": {
      "text/html": [
       "<div>\n",
       "<style scoped>\n",
       "    .dataframe tbody tr th:only-of-type {\n",
       "        vertical-align: middle;\n",
       "    }\n",
       "\n",
       "    .dataframe tbody tr th {\n",
       "        vertical-align: top;\n",
       "    }\n",
       "\n",
       "    .dataframe thead th {\n",
       "        text-align: right;\n",
       "    }\n",
       "</style>\n",
       "<table border=\"1\" class=\"dataframe\">\n",
       "  <thead>\n",
       "    <tr style=\"text-align: right;\">\n",
       "      <th></th>\n",
       "      <th>addrcode</th>\n",
       "      <th>bin</th>\n",
       "      <th>bowl</th>\n",
       "      <th>bucket</th>\n",
       "      <th>misc_short</th>\n",
       "      <th>jar</th>\n",
       "      <th>pottedplant</th>\n",
       "      <th>tire</th>\n",
       "      <th>misc_tall</th>\n",
       "      <th>total</th>\n",
       "    </tr>\n",
       "  </thead>\n",
       "  <tbody>\n",
       "    <tr>\n",
       "      <th>0</th>\n",
       "      <td>810503</td>\n",
       "      <td>0.647</td>\n",
       "      <td>0.020</td>\n",
       "      <td>6.211</td>\n",
       "      <td>0.202</td>\n",
       "      <td>0.182</td>\n",
       "      <td>2.104</td>\n",
       "      <td>0.769</td>\n",
       "      <td>0.020</td>\n",
       "      <td>10.156</td>\n",
       "    </tr>\n",
       "    <tr>\n",
       "      <th>1</th>\n",
       "      <td>810507</td>\n",
       "      <td>1.842</td>\n",
       "      <td>0.046</td>\n",
       "      <td>5.824</td>\n",
       "      <td>0.069</td>\n",
       "      <td>0.368</td>\n",
       "      <td>3.361</td>\n",
       "      <td>1.266</td>\n",
       "      <td>0.000</td>\n",
       "      <td>12.776</td>\n",
       "    </tr>\n",
       "    <tr>\n",
       "      <th>2</th>\n",
       "      <td>810604</td>\n",
       "      <td>1.482</td>\n",
       "      <td>0.017</td>\n",
       "      <td>2.725</td>\n",
       "      <td>0.085</td>\n",
       "      <td>0.596</td>\n",
       "      <td>2.980</td>\n",
       "      <td>0.528</td>\n",
       "      <td>0.034</td>\n",
       "      <td>8.447</td>\n",
       "    </tr>\n",
       "    <tr>\n",
       "      <th>3</th>\n",
       "      <td>810205</td>\n",
       "      <td>0.352</td>\n",
       "      <td>0.011</td>\n",
       "      <td>2.802</td>\n",
       "      <td>0.021</td>\n",
       "      <td>0.224</td>\n",
       "      <td>1.193</td>\n",
       "      <td>0.298</td>\n",
       "      <td>0.000</td>\n",
       "      <td>4.901</td>\n",
       "    </tr>\n",
       "    <tr>\n",
       "      <th>4</th>\n",
       "      <td>810508</td>\n",
       "      <td>1.229</td>\n",
       "      <td>0.026</td>\n",
       "      <td>5.479</td>\n",
       "      <td>0.051</td>\n",
       "      <td>0.461</td>\n",
       "      <td>3.661</td>\n",
       "      <td>0.922</td>\n",
       "      <td>0.000</td>\n",
       "      <td>11.828</td>\n",
       "    </tr>\n",
       "  </tbody>\n",
       "</table>\n",
       "</div>"
      ],
      "text/plain": [
       "  addrcode    bin   bowl  bucket  misc_short    jar  pottedplant   tire  \\\n",
       "0   810503  0.647  0.020   6.211       0.202  0.182        2.104  0.769   \n",
       "1   810507  1.842  0.046   5.824       0.069  0.368        3.361  1.266   \n",
       "2   810604  1.482  0.017   2.725       0.085  0.596        2.980  0.528   \n",
       "3   810205  0.352  0.011   2.802       0.021  0.224        1.193  0.298   \n",
       "4   810508  1.229  0.026   5.479       0.051  0.461        3.661  0.922   \n",
       "\n",
       "   misc_tall   total  \n",
       "0      0.020  10.156  \n",
       "1      0.000  12.776  \n",
       "2      0.034   8.447  \n",
       "3      0.000   4.901  \n",
       "4      0.000  11.828  "
      ]
     },
     "execution_count": 56,
     "metadata": {},
     "output_type": "execute_result"
    }
   ],
   "source": [
    "df_cd['bin'] = df_cd['bin']/(df_cd['population']/100)\n",
    "df_cd['bin'] = df_cd['bin'].round(3)\n",
    "df_cd['bowl'] = df_cd['bowl']/(df_cd['population']/100)\n",
    "df_cd['bowl'] = df_cd['bowl'].round(3)\n",
    "df_cd['bucket'] = df_cd['bucket']/(df_cd['population']/100)\n",
    "df_cd['bucket'] = df_cd['bucket'].round(3)\n",
    "df_cd['misc_short'] = df_cd['misc_short']/(df_cd['population']/100)\n",
    "df_cd['misc_short'] = df_cd['misc_short'].round(3)\n",
    "df_cd['jar'] = df_cd['jar']/(df_cd['population']/100)\n",
    "df_cd['jar'] = df_cd['jar'].round(3)\n",
    "df_cd['pottedplant'] = df_cd['pottedplant']/(df_cd['population']/100)\n",
    "df_cd['pottedplant'] = df_cd['pottedplant'].round(3)\n",
    "df_cd['tire'] = df_cd['tire']/(df_cd['population']/100)\n",
    "df_cd['tire'] = df_cd['tire'].round(3)\n",
    "df_cd['misc_tall'] = df_cd['misc_tall']/(df_cd['population']/100)\n",
    "df_cd['misc_tall'] = df_cd['misc_tall'].round(3)\n",
    "df_cd['total'] = df_cd['total']/(df_cd['population']/100)\n",
    "df_cd['total'] = df_cd['total'].round(3)\n",
    "df_cd = df_cd.drop('population', axis =1)\n",
    "df_cd.head()"
   ]
  },
  {
   "cell_type": "code",
   "execution_count": 57,
   "metadata": {},
   "outputs": [],
   "source": [
    "df_cd.to_csv('Data/Container Density/Subdistrict Level/CD_krabi_subdist_pop.csv')"
   ]
  },
  {
   "cell_type": "markdown",
   "metadata": {},
   "source": [
    "## DF per 100 Population"
   ]
  },
  {
   "cell_type": "code",
   "execution_count": null,
   "metadata": {},
   "outputs": [],
   "source": [
    "df_df100pop = pd.read_csv('DFp100Population.csv')\n",
    "df_df100pop = df_df100pop.drop('Unnamed: 0',axis = 1)\n",
    "\n",
    "aggregation_function = {'DFp100Pop': 'sum'}\n",
    "df_df100pop = df_df100pop.groupby(df_df100pop['addrcode']).aggregate(aggregation_function).reset_index()\n",
    "df_df100pop.head()"
   ]
  },
  {
   "cell_type": "markdown",
   "metadata": {},
   "source": [
    "## CD concat DF"
   ]
  },
  {
   "cell_type": "code",
   "execution_count": null,
   "metadata": {},
   "outputs": [],
   "source": [
    "df_cddf = pd.merge(df_cd,df_df100pop, on = 'addrcode', how = 'inner')\n",
    "df_cddf['addrcode'] = df_cddf['addrcode'].astype(str)\n",
    "df_cddf.head()"
   ]
  },
  {
   "cell_type": "code",
   "execution_count": null,
   "metadata": {},
   "outputs": [],
   "source": [
    "df_cddf_bkk = df_cddf.loc[df_cddf['addrcode'].str[:2] == '10']\n",
    "df_cddf_bkk.to_csv('CD+DF100Pop_Bangkok.csv', encoding = 'utf-8')"
   ]
  },
  {
   "cell_type": "code",
   "execution_count": null,
   "metadata": {},
   "outputs": [],
   "source": [
    "df_cddf_nst = df_cddf.loc[df_cddf['addrcode'].str[:2] == '80']\n",
    "df_cddf_nst.to_csv('CD+DF100Pop_NST.csv', encoding = 'utf-8')"
   ]
  },
  {
   "cell_type": "code",
   "execution_count": null,
   "metadata": {},
   "outputs": [],
   "source": [
    "df_cddf_krabi = df_cddf.loc[df_cddf['addrcode'].str[:2] == '81']\n",
    "df_cddf_krabi.to_csv('CD+DF100Pop_Krabi.csv', encoding = 'utf-8')"
   ]
  },
  {
   "cell_type": "markdown",
   "metadata": {},
   "source": [
    "## Area and Image Coverage"
   ]
  },
  {
   "cell_type": "code",
   "execution_count": null,
   "metadata": {},
   "outputs": [],
   "source": [
    "list = ['100206','100212','100214','100308','100501','100905','100910',\n",
    "        '101101','101201','101903','102001','102101','102301','102702',\n",
    "        '102703','102704','102705','102901','103202','103402','104002',\n",
    "        '105002','109999',\n",
    "        '800104','800206','800208','800805','801004','801005','801302',\n",
    "        '801309','801503','802701',\n",
    "        '810030','810040','810050','810101','810104','810301','810302',\n",
    "        '810408','810502','810706','810766','810802','811150','813037',\n",
    "        '814011','814012','814031','814034','814036','814038','814039',\n",
    "        '814054','814056','814057','814076','801201','810102'] "
   ]
  },
  {
   "cell_type": "code",
   "execution_count": null,
   "metadata": {},
   "outputs": [],
   "source": [
    "df_area = pd.read_csv(os.path.join('Data','Area and GSV','csv','gsv-coverage.csv'))\n",
    "df_area['addrcode'] = df_area['addrcode'].astype(str)\n",
    "for i in range(len(list)):\n",
    "     df_area = df_area[df_area.addrcode != list[i]]\n",
    "aggregation_function = {'land_area': 'sum','image_area' : 'sum'}\n",
    "df_area = df_area.groupby(df_area['addrcode']).aggregate(aggregation_function).reset_index()\n",
    "len(df_area)"
   ]
  },
  {
   "cell_type": "code",
   "execution_count": null,
   "metadata": {},
   "outputs": [],
   "source": [
    "df_area['image_coverage'] = df_area['image_area']/df_area['land_area']*100\n",
    "df_area['image_coverage'] = df_area['image_coverage'].astype(float)\n",
    "df_area['image_coverage'].loc[df_area['image_coverage'] > 100] = 100\n",
    "df_area['image_coverage'] = df_area['image_coverage'].round(2)"
   ]
  },
  {
   "cell_type": "code",
   "execution_count": null,
   "metadata": {},
   "outputs": [],
   "source": [
    "df_area_bangkok = df_area.loc[df_area['addrcode'].str[:2] == '10'].reset_index()\n",
    "df_area_bangkok = df_area_bangkok.drop('index', axis = 1)\n",
    "df_area_bangkok.to_csv('image_coverage_bangkok.csv', encoding ='utf-8')\n",
    "df_area_nst = df_area.loc[df_area['addrcode'].str[:2] == '80'].reset_index()\n",
    "df_area_nst = df_area_nst.drop('index', axis = 1)\n",
    "df_area_nst.to_csv('image_coverage_nst.csv', encoding ='utf-8')\n",
    "df_area_krabi = df_area.loc[df_area['addrcode'].str[:2] == '81'].reset_index()\n",
    "df_area_krabi = df_area_krabi.drop('index', axis = 1)\n",
    "df_area_krabi.to_csv('image_coverage_krabi.csv', encoding ='utf-8')"
   ]
  },
  {
   "cell_type": "markdown",
   "metadata": {},
   "source": [
    "## Matching population Data"
   ]
  },
  {
   "cell_type": "code",
   "execution_count": null,
   "metadata": {},
   "outputs": [],
   "source": [
    "df_dic_nakhon_subdist.head()"
   ]
  },
  {
   "cell_type": "code",
   "execution_count": null,
   "metadata": {},
   "outputs": [],
   "source": [
    "df_pop_nakhon = pd.read_csv(os.path.join('Data','Population','full-info','Nakhon-population-details.csv'))\n",
    "df_pop_nakhon['addrcode'] = df_pop_nakhon['addrcode'].astype(str)\n",
    "df_pop_nakhon.head()"
   ]
  },
  {
   "cell_type": "code",
   "execution_count": null,
   "metadata": {},
   "outputs": [],
   "source": [
    "list = ['100206','100212','100214','100308','100501','100905','100910',\n",
    "        '101101','101201','101903','102001','102101','102301','102702',\n",
    "        '102703','102704','102705','102901','103202','103402','104002',\n",
    "        '105002','109999',\n",
    "        '800104','800206','800208','800805','801004','801005','801302',\n",
    "        '801309','801503','802701',\n",
    "        '810030','810040','810050','810101','810104','810301','810302',\n",
    "        '810408','810502','810706','810766','810802','811150','813037',\n",
    "        '814011','814012','814031','814034','814036','814038','814039',\n",
    "        '814054','814056','814057','814076','801201','810102'] \n",
    "\n",
    "for i in range(len(list)):\n",
    "     df_pop_nakhon = df_pop_nakhon[df_pop_nakhon.addrcode != list[i]]"
   ]
  },
  {
   "cell_type": "code",
   "execution_count": null,
   "metadata": {},
   "outputs": [],
   "source": [
    "len(df_pop_nakhon)\n",
    "df_pop_nakhon = df_pop_nakhon.reset_index()\n",
    "df_pop_nakhon = df_pop_nakhon.drop(['index','name'], axis  =1)\n",
    "df_pop_nakhon.head()"
   ]
  },
  {
   "cell_type": "code",
   "execution_count": null,
   "metadata": {},
   "outputs": [],
   "source": [
    "df_pop_nakhon.to_csv('Nakhon-population-details.csv', encoding = 'utf-8')"
   ]
  },
  {
   "cell_type": "markdown",
   "metadata": {},
   "source": [
    "## District level Population data [Full-info]"
   ]
  },
  {
   "cell_type": "code",
   "execution_count": null,
   "metadata": {},
   "outputs": [],
   "source": [
    "df_pop = pd.read_csv(os.path.join('Data','Population','full-info','Krabi-population-details.csv'))\n",
    "#df_pop = df_pop.drop('district', axis =1)\n",
    "df_pop['addrcode'] = df_pop['addrcode'].astype(str)\n",
    "df_pop.head()"
   ]
  },
  {
   "cell_type": "code",
   "execution_count": null,
   "metadata": {},
   "outputs": [],
   "source": [
    "df_pop_dist = df_pop.groupby('district').sum()\n",
    "df_pop_dist.head()"
   ]
  },
  {
   "cell_type": "code",
   "execution_count": null,
   "metadata": {},
   "outputs": [],
   "source": [
    "df_pop_dist.to_csv(os.path.join('Data','Population','full-info','Krabi-population-details-district.csv'))"
   ]
  },
  {
   "cell_type": "markdown",
   "metadata": {},
   "source": [
    "## Outbreak Detection"
   ]
  },
  {
   "cell_type": "code",
   "execution_count": 120,
   "metadata": {},
   "outputs": [
    {
     "name": "stderr",
     "output_type": "stream",
     "text": [
      "100%|██████████| 72/72 [00:00<00:00, 192595.59it/s]\n"
     ]
    },
    {
     "data": {
      "text/plain": [
       "72"
      ]
     },
     "execution_count": 120,
     "metadata": {},
     "output_type": "execute_result"
    }
   ],
   "source": [
    "from tqdm import tqdm\n",
    "from os import listdir\n",
    "path = '/Users/boonpakorn/Documents/GitHub/dengue_data_statistics/Data/Modeling/Outbreak Detection/'\n",
    "filename = []\n",
    "filelist= listdir(path)\n",
    "for f in tqdm(filelist):\n",
    "    filename.append(f)\n",
    "len(filename)"
   ]
  },
  {
   "cell_type": "code",
   "execution_count": 121,
   "metadata": {},
   "outputs": [],
   "source": [
    "for filename in filename:\n",
    "    outbreak1 = []\n",
    "    outbreak2 = []\n",
    "    df_outbreak = pd.read_csv(os.path.join(path+filename), index_col = 0)\n",
    "    df_outbreak = df_outbreak.iloc[:,[0,1,2,3,4,5,6,7,8,9,10,11,12,13,14,15,16,17,18,19,20,21,22,23,24,25,26,27,28,29]]\n",
    "    df_outbreak['DF_AVG'] = df_outbreak['DF_0'].mean()\n",
    "    df_outbreak['DF_SD'] = df_outbreak['DF_0'].std()\n",
    "    df_outbreak['AVG_1SD'] = df_outbreak['DF_AVG'] + df_outbreak['DF_SD']\n",
    "    df_outbreak['AVG_2SD'] = df_outbreak['DF_AVG'] + (2 * df_outbreak['DF_SD'])\n",
    "    df_outbreak['OB1'] = None\n",
    "    df_outbreak['OB1'].loc[df_outbreak['DF_0'] > df_outbreak['AVG_1SD']] = 1\n",
    "    df_outbreak['OB1'].loc[df_outbreak['DF_0'] <= df_outbreak['AVG_1SD']] = 0\n",
    "    df_outbreak['OB2'] = None\n",
    "    df_outbreak['OB2'].loc[df_outbreak['DF_0'] > df_outbreak['AVG_2SD']] = 1\n",
    "    df_outbreak['OB2'].loc[df_outbreak['DF_0'] <= df_outbreak['AVG_2SD']] = 0\n",
    "    \n",
    "    df_outbreak['DF_AVGs'] = df_outbreak['DFma_0'].mean()\n",
    "    df_outbreak['DF_SDs'] = df_outbreak['DFma_0'].std()\n",
    "    df_outbreak['AVG_1SDs'] = df_outbreak['DF_AVGs'] + df_outbreak['DF_SDs']\n",
    "    df_outbreak['AVG_2SDs'] = df_outbreak['DF_AVGs'] + (2 * df_outbreak['DF_SDs'])\n",
    "    df_outbreak['OB1s'] = None\n",
    "    df_outbreak['OB1s'].loc[df_outbreak['DFma_0'] > df_outbreak['AVG_1SDs']] = 1\n",
    "    df_outbreak['OB1s'].loc[df_outbreak['DFma_0'] <= df_outbreak['AVG_1SDs']] = 0\n",
    "    df_outbreak['OB2s'] = None\n",
    "    df_outbreak['OB2s'].loc[df_outbreak['DFma_0'] > df_outbreak['AVG_2SDs']] = 1\n",
    "    df_outbreak['OB2s'].loc[df_outbreak['DFma_0'] <= df_outbreak['AVG_2SDs']] = 0\n",
    "    \n",
    "    df_outbreak.to_csv(path+filename , encoding = 'utf-8')\n"
   ]
  },
  {
   "cell_type": "markdown",
   "metadata": {},
   "source": [
    "## Image coverage vs Container Counts"
   ]
  },
  {
   "cell_type": "code",
   "execution_count": 32,
   "metadata": {},
   "outputs": [],
   "source": [
    "province = 'krabi'"
   ]
  },
  {
   "cell_type": "code",
   "execution_count": 33,
   "metadata": {},
   "outputs": [
    {
     "data": {
      "text/html": [
       "<div>\n",
       "<style scoped>\n",
       "    .dataframe tbody tr th:only-of-type {\n",
       "        vertical-align: middle;\n",
       "    }\n",
       "\n",
       "    .dataframe tbody tr th {\n",
       "        vertical-align: top;\n",
       "    }\n",
       "\n",
       "    .dataframe thead th {\n",
       "        text-align: right;\n",
       "    }\n",
       "</style>\n",
       "<table border=\"1\" class=\"dataframe\">\n",
       "  <thead>\n",
       "    <tr style=\"text-align: right;\">\n",
       "      <th></th>\n",
       "      <th>addrcode</th>\n",
       "      <th>image_coverage</th>\n",
       "    </tr>\n",
       "  </thead>\n",
       "  <tbody>\n",
       "    <tr>\n",
       "      <th>0</th>\n",
       "      <td>810103</td>\n",
       "      <td>9.72</td>\n",
       "    </tr>\n",
       "    <tr>\n",
       "      <th>1</th>\n",
       "      <td>810105</td>\n",
       "      <td>3.75</td>\n",
       "    </tr>\n",
       "    <tr>\n",
       "      <th>2</th>\n",
       "      <td>810106</td>\n",
       "      <td>3.66</td>\n",
       "    </tr>\n",
       "    <tr>\n",
       "      <th>3</th>\n",
       "      <td>810111</td>\n",
       "      <td>2.42</td>\n",
       "    </tr>\n",
       "    <tr>\n",
       "      <th>4</th>\n",
       "      <td>810115</td>\n",
       "      <td>7.16</td>\n",
       "    </tr>\n",
       "  </tbody>\n",
       "</table>\n",
       "</div>"
      ],
      "text/plain": [
       "  addrcode  image_coverage\n",
       "0   810103            9.72\n",
       "1   810105            3.75\n",
       "2   810106            3.66\n",
       "3   810111            2.42\n",
       "4   810115            7.16"
      ]
     },
     "execution_count": 33,
     "metadata": {},
     "output_type": "execute_result"
    }
   ],
   "source": [
    "df_image = pd.read_csv(os.path.join('Data','Area and GSV','image_coverage','image_coverage_'+province+'.csv'))\n",
    "df_image = df_image.drop(['Unnamed: 0','land_area','image_area'], axis = 1)\n",
    "df_image['addrcode'] = df_image['addrcode'].astype(str)\n",
    "df_image.head()"
   ]
  },
  {
   "cell_type": "code",
   "execution_count": 34,
   "metadata": {},
   "outputs": [
    {
     "data": {
      "text/html": [
       "<div>\n",
       "<style scoped>\n",
       "    .dataframe tbody tr th:only-of-type {\n",
       "        vertical-align: middle;\n",
       "    }\n",
       "\n",
       "    .dataframe tbody tr th {\n",
       "        vertical-align: top;\n",
       "    }\n",
       "\n",
       "    .dataframe thead th {\n",
       "        text-align: right;\n",
       "    }\n",
       "</style>\n",
       "<table border=\"1\" class=\"dataframe\">\n",
       "  <thead>\n",
       "    <tr style=\"text-align: right;\">\n",
       "      <th></th>\n",
       "      <th>addrcode</th>\n",
       "      <th>total</th>\n",
       "    </tr>\n",
       "  </thead>\n",
       "  <tbody>\n",
       "    <tr>\n",
       "      <th>0</th>\n",
       "      <td>810503</td>\n",
       "      <td>502</td>\n",
       "    </tr>\n",
       "    <tr>\n",
       "      <th>1</th>\n",
       "      <td>810507</td>\n",
       "      <td>555</td>\n",
       "    </tr>\n",
       "    <tr>\n",
       "      <th>2</th>\n",
       "      <td>810604</td>\n",
       "      <td>496</td>\n",
       "    </tr>\n",
       "    <tr>\n",
       "      <th>3</th>\n",
       "      <td>810205</td>\n",
       "      <td>460</td>\n",
       "    </tr>\n",
       "    <tr>\n",
       "      <th>4</th>\n",
       "      <td>810508</td>\n",
       "      <td>462</td>\n",
       "    </tr>\n",
       "  </tbody>\n",
       "</table>\n",
       "</div>"
      ],
      "text/plain": [
       "  addrcode  total\n",
       "0   810503    502\n",
       "1   810507    555\n",
       "2   810604    496\n",
       "3   810205    460\n",
       "4   810508    462"
      ]
     },
     "execution_count": 34,
     "metadata": {},
     "output_type": "execute_result"
    }
   ],
   "source": [
    "df_count = pd.read_csv(os.path.join('Data','Container Density','Subdistrict Level','container_'+province+'_subdist.csv'), index_col = 0)\n",
    "df_count = df_count.iloc[:,[0,9]]\n",
    "df_count['addrcode'] = df_count['addrcode'].astype(str)\n",
    "df_count.head()"
   ]
  },
  {
   "cell_type": "code",
   "execution_count": 35,
   "metadata": {},
   "outputs": [
    {
     "data": {
      "text/html": [
       "<div>\n",
       "<style scoped>\n",
       "    .dataframe tbody tr th:only-of-type {\n",
       "        vertical-align: middle;\n",
       "    }\n",
       "\n",
       "    .dataframe tbody tr th {\n",
       "        vertical-align: top;\n",
       "    }\n",
       "\n",
       "    .dataframe thead tr th {\n",
       "        text-align: left;\n",
       "    }\n",
       "</style>\n",
       "<table border=\"1\" class=\"dataframe\">\n",
       "  <thead>\n",
       "    <tr>\n",
       "      <th></th>\n",
       "      <th>addrcode</th>\n",
       "      <th>coverage</th>\n",
       "      <th>count</th>\n",
       "    </tr>\n",
       "  </thead>\n",
       "  <tbody>\n",
       "    <tr>\n",
       "      <th>0</th>\n",
       "      <td>810103</td>\n",
       "      <td>9.72</td>\n",
       "      <td>1039</td>\n",
       "    </tr>\n",
       "    <tr>\n",
       "      <th>1</th>\n",
       "      <td>810105</td>\n",
       "      <td>3.75</td>\n",
       "      <td>76</td>\n",
       "    </tr>\n",
       "    <tr>\n",
       "      <th>2</th>\n",
       "      <td>810106</td>\n",
       "      <td>3.66</td>\n",
       "      <td>396</td>\n",
       "    </tr>\n",
       "    <tr>\n",
       "      <th>3</th>\n",
       "      <td>810111</td>\n",
       "      <td>2.42</td>\n",
       "      <td>146</td>\n",
       "    </tr>\n",
       "    <tr>\n",
       "      <th>4</th>\n",
       "      <td>810115</td>\n",
       "      <td>7.16</td>\n",
       "      <td>339</td>\n",
       "    </tr>\n",
       "  </tbody>\n",
       "</table>\n",
       "</div>"
      ],
      "text/plain": [
       "  addrcode coverage count\n",
       "0   810103     9.72  1039\n",
       "1   810105     3.75    76\n",
       "2   810106     3.66   396\n",
       "3   810111     2.42   146\n",
       "4   810115     7.16   339"
      ]
     },
     "execution_count": 35,
     "metadata": {},
     "output_type": "execute_result"
    }
   ],
   "source": [
    "df_image_count = pd.merge(df_image, df_count, how = 'inner')\n",
    "df_image_count.columns = [['addrcode','coverage','count']]\n",
    "df_image_count.head()"
   ]
  },
  {
   "cell_type": "code",
   "execution_count": 36,
   "metadata": {},
   "outputs": [],
   "source": [
    "df_image_count.to_csv('Data/Scatter/ImageCount_'+province+'.csv', encoding = 'utf-8')"
   ]
  },
  {
   "cell_type": "markdown",
   "metadata": {},
   "source": [
    "## Population vs Container Counts"
   ]
  },
  {
   "cell_type": "code",
   "execution_count": 56,
   "metadata": {},
   "outputs": [
    {
     "data": {
      "text/html": [
       "<div>\n",
       "<style scoped>\n",
       "    .dataframe tbody tr th:only-of-type {\n",
       "        vertical-align: middle;\n",
       "    }\n",
       "\n",
       "    .dataframe tbody tr th {\n",
       "        vertical-align: top;\n",
       "    }\n",
       "\n",
       "    .dataframe thead th {\n",
       "        text-align: right;\n",
       "    }\n",
       "</style>\n",
       "<table border=\"1\" class=\"dataframe\">\n",
       "  <thead>\n",
       "    <tr style=\"text-align: right;\">\n",
       "      <th></th>\n",
       "      <th>addrcode</th>\n",
       "      <th>Total</th>\n",
       "    </tr>\n",
       "  </thead>\n",
       "  <tbody>\n",
       "    <tr>\n",
       "      <th>0</th>\n",
       "      <td>1001</td>\n",
       "      <td>50708</td>\n",
       "    </tr>\n",
       "    <tr>\n",
       "      <th>1</th>\n",
       "      <td>1002</td>\n",
       "      <td>91338</td>\n",
       "    </tr>\n",
       "    <tr>\n",
       "      <th>2</th>\n",
       "      <td>1003</td>\n",
       "      <td>166831</td>\n",
       "    </tr>\n",
       "    <tr>\n",
       "      <th>3</th>\n",
       "      <td>1004</td>\n",
       "      <td>37675</td>\n",
       "    </tr>\n",
       "    <tr>\n",
       "      <th>4</th>\n",
       "      <td>1005</td>\n",
       "      <td>187466</td>\n",
       "    </tr>\n",
       "  </tbody>\n",
       "</table>\n",
       "</div>"
      ],
      "text/plain": [
       "  addrcode   Total\n",
       "0     1001   50708\n",
       "1     1002   91338\n",
       "2     1003  166831\n",
       "3     1004   37675\n",
       "4     1005  187466"
      ]
     },
     "execution_count": 56,
     "metadata": {},
     "output_type": "execute_result"
    }
   ],
   "source": [
    "df_pop = pd.read_csv(os.path.join('Data','Population','addrcode-index','Population.csv'))\n",
    "df_pop['addrcode'] = df_pop['addrcode'].astype(str)\n",
    "df_pop = df_pop.groupby(df_pop['addrcode'].str[:4]).sum().reset_index()\n",
    "df_pop.head()"
   ]
  },
  {
   "cell_type": "code",
   "execution_count": 57,
   "metadata": {},
   "outputs": [
    {
     "data": {
      "text/html": [
       "<div>\n",
       "<style scoped>\n",
       "    .dataframe tbody tr th:only-of-type {\n",
       "        vertical-align: middle;\n",
       "    }\n",
       "\n",
       "    .dataframe tbody tr th {\n",
       "        vertical-align: top;\n",
       "    }\n",
       "\n",
       "    .dataframe thead th {\n",
       "        text-align: right;\n",
       "    }\n",
       "</style>\n",
       "<table border=\"1\" class=\"dataframe\">\n",
       "  <thead>\n",
       "    <tr style=\"text-align: right;\">\n",
       "      <th></th>\n",
       "      <th>addrcode</th>\n",
       "      <th>total</th>\n",
       "    </tr>\n",
       "  </thead>\n",
       "  <tbody>\n",
       "    <tr>\n",
       "      <th>0</th>\n",
       "      <td>1001</td>\n",
       "      <td>2527</td>\n",
       "    </tr>\n",
       "    <tr>\n",
       "      <th>1</th>\n",
       "      <td>1002</td>\n",
       "      <td>1158</td>\n",
       "    </tr>\n",
       "    <tr>\n",
       "      <th>2</th>\n",
       "      <td>1003</td>\n",
       "      <td>7432</td>\n",
       "    </tr>\n",
       "    <tr>\n",
       "      <th>3</th>\n",
       "      <td>1004</td>\n",
       "      <td>1956</td>\n",
       "    </tr>\n",
       "    <tr>\n",
       "      <th>4</th>\n",
       "      <td>1005</td>\n",
       "      <td>14879</td>\n",
       "    </tr>\n",
       "  </tbody>\n",
       "</table>\n",
       "</div>"
      ],
      "text/plain": [
       "  addrcode  total\n",
       "0     1001   2527\n",
       "1     1002   1158\n",
       "2     1003   7432\n",
       "3     1004   1956\n",
       "4     1005  14879"
      ]
     },
     "execution_count": 57,
     "metadata": {},
     "output_type": "execute_result"
    }
   ],
   "source": [
    "df_count_bangkok = pd.read_csv(os.path.join('Data','Container Density','Subdistrict Level','container_bangkok_subdist.csv'), index_col = 0)\n",
    "df_count_nst = pd.read_csv(os.path.join('Data','Container Density','Subdistrict Level','container_nst_subdist.csv'), index_col = 0)\n",
    "df_count_krabi = pd.read_csv(os.path.join('Data','Container Density','Subdistrict Level','container_krabi_subdist.csv'), index_col = 0)\n",
    "df_count = pd.concat([df_count_bangkok, df_count_nst, df_count_krabi])\n",
    "df_count = df_count.iloc[:,[0,9]]\n",
    "df_count['addrcode'] = df_count['addrcode'].astype(str)\n",
    "df_count = df_count.groupby(df_count['addrcode'].str[:4]).sum().reset_index()\n",
    "df_count.head()"
   ]
  },
  {
   "cell_type": "code",
   "execution_count": 58,
   "metadata": {},
   "outputs": [
    {
     "data": {
      "text/html": [
       "<div>\n",
       "<style scoped>\n",
       "    .dataframe tbody tr th:only-of-type {\n",
       "        vertical-align: middle;\n",
       "    }\n",
       "\n",
       "    .dataframe tbody tr th {\n",
       "        vertical-align: top;\n",
       "    }\n",
       "\n",
       "    .dataframe thead th {\n",
       "        text-align: right;\n",
       "    }\n",
       "</style>\n",
       "<table border=\"1\" class=\"dataframe\">\n",
       "  <thead>\n",
       "    <tr style=\"text-align: right;\">\n",
       "      <th></th>\n",
       "      <th>addrcode</th>\n",
       "      <th>Population</th>\n",
       "      <th>Counts</th>\n",
       "    </tr>\n",
       "  </thead>\n",
       "  <tbody>\n",
       "    <tr>\n",
       "      <th>0</th>\n",
       "      <td>1001</td>\n",
       "      <td>50708</td>\n",
       "      <td>2527</td>\n",
       "    </tr>\n",
       "    <tr>\n",
       "      <th>1</th>\n",
       "      <td>1002</td>\n",
       "      <td>91338</td>\n",
       "      <td>1158</td>\n",
       "    </tr>\n",
       "    <tr>\n",
       "      <th>2</th>\n",
       "      <td>1003</td>\n",
       "      <td>166831</td>\n",
       "      <td>7432</td>\n",
       "    </tr>\n",
       "    <tr>\n",
       "      <th>3</th>\n",
       "      <td>1004</td>\n",
       "      <td>37675</td>\n",
       "      <td>1956</td>\n",
       "    </tr>\n",
       "    <tr>\n",
       "      <th>4</th>\n",
       "      <td>1005</td>\n",
       "      <td>187466</td>\n",
       "      <td>14879</td>\n",
       "    </tr>\n",
       "  </tbody>\n",
       "</table>\n",
       "</div>"
      ],
      "text/plain": [
       "  addrcode  Population  Counts\n",
       "0     1001       50708    2527\n",
       "1     1002       91338    1158\n",
       "2     1003      166831    7432\n",
       "3     1004       37675    1956\n",
       "4     1005      187466   14879"
      ]
     },
     "execution_count": 58,
     "metadata": {},
     "output_type": "execute_result"
    }
   ],
   "source": [
    "df_pop_count = pd.merge(df_pop, df_count, how = 'inner')\n",
    "df_pop_count.columns = ['addrcode','Population','Counts']\n",
    "df_pop_count.head()"
   ]
  },
  {
   "cell_type": "code",
   "execution_count": 59,
   "metadata": {},
   "outputs": [
    {
     "data": {
      "text/html": [
       "<div>\n",
       "<style scoped>\n",
       "    .dataframe tbody tr th:only-of-type {\n",
       "        vertical-align: middle;\n",
       "    }\n",
       "\n",
       "    .dataframe tbody tr th {\n",
       "        vertical-align: top;\n",
       "    }\n",
       "\n",
       "    .dataframe thead th {\n",
       "        text-align: right;\n",
       "    }\n",
       "</style>\n",
       "<table border=\"1\" class=\"dataframe\">\n",
       "  <thead>\n",
       "    <tr style=\"text-align: right;\">\n",
       "      <th></th>\n",
       "      <th>addrcode</th>\n",
       "      <th>land_area</th>\n",
       "    </tr>\n",
       "  </thead>\n",
       "  <tbody>\n",
       "    <tr>\n",
       "      <th>0</th>\n",
       "      <td>1001</td>\n",
       "      <td>49.81</td>\n",
       "    </tr>\n",
       "    <tr>\n",
       "      <th>1</th>\n",
       "      <td>1002</td>\n",
       "      <td>53.07</td>\n",
       "    </tr>\n",
       "    <tr>\n",
       "      <th>2</th>\n",
       "      <td>1003</td>\n",
       "      <td>2004.40</td>\n",
       "    </tr>\n",
       "    <tr>\n",
       "      <th>3</th>\n",
       "      <td>1004</td>\n",
       "      <td>37.26</td>\n",
       "    </tr>\n",
       "    <tr>\n",
       "      <th>4</th>\n",
       "      <td>1005</td>\n",
       "      <td>380.54</td>\n",
       "    </tr>\n",
       "  </tbody>\n",
       "</table>\n",
       "</div>"
      ],
      "text/plain": [
       "  addrcode  land_area\n",
       "0     1001      49.81\n",
       "1     1002      53.07\n",
       "2     1003    2004.40\n",
       "3     1004      37.26\n",
       "4     1005     380.54"
      ]
     },
     "execution_count": 59,
     "metadata": {},
     "output_type": "execute_result"
    }
   ],
   "source": [
    "df_image_bangkok = pd.read_csv(os.path.join('Data','Area and GSV','image_coverage','image_coverage_bangkok.csv'))\n",
    "df_image_nst = pd.read_csv(os.path.join('Data','Area and GSV','image_coverage','image_coverage_nst.csv'))\n",
    "df_image_krabi = pd.read_csv(os.path.join('Data','Area and GSV','image_coverage','image_coverage_krabi.csv'))\n",
    "df_image = pd.concat([df_image_bangkok, df_image_nst, df_image_krabi])\n",
    "df_image = df_image.drop(['Unnamed: 0','image_area','image_coverage'], axis = 1)\n",
    "df_image['addrcode'] = df_image['addrcode'].astype(str)\n",
    "df_image = df_image.groupby(df_image['addrcode'].str[:4]).sum().reset_index()\n",
    "df_image.head()"
   ]
  },
  {
   "cell_type": "code",
   "execution_count": 60,
   "metadata": {},
   "outputs": [
    {
     "data": {
      "text/html": [
       "<div>\n",
       "<style scoped>\n",
       "    .dataframe tbody tr th:only-of-type {\n",
       "        vertical-align: middle;\n",
       "    }\n",
       "\n",
       "    .dataframe tbody tr th {\n",
       "        vertical-align: top;\n",
       "    }\n",
       "\n",
       "    .dataframe thead th {\n",
       "        text-align: right;\n",
       "    }\n",
       "</style>\n",
       "<table border=\"1\" class=\"dataframe\">\n",
       "  <thead>\n",
       "    <tr style=\"text-align: right;\">\n",
       "      <th></th>\n",
       "      <th>addrcode</th>\n",
       "      <th>Population</th>\n",
       "      <th>Counts</th>\n",
       "      <th>Pop Density</th>\n",
       "    </tr>\n",
       "  </thead>\n",
       "  <tbody>\n",
       "    <tr>\n",
       "      <th>0</th>\n",
       "      <td>1001</td>\n",
       "      <td>50708</td>\n",
       "      <td>2527</td>\n",
       "      <td>1018.028508</td>\n",
       "    </tr>\n",
       "    <tr>\n",
       "      <th>1</th>\n",
       "      <td>1002</td>\n",
       "      <td>91338</td>\n",
       "      <td>1158</td>\n",
       "      <td>1721.085359</td>\n",
       "    </tr>\n",
       "    <tr>\n",
       "      <th>2</th>\n",
       "      <td>1003</td>\n",
       "      <td>166831</td>\n",
       "      <td>7432</td>\n",
       "      <td>83.232389</td>\n",
       "    </tr>\n",
       "    <tr>\n",
       "      <th>3</th>\n",
       "      <td>1004</td>\n",
       "      <td>37675</td>\n",
       "      <td>1956</td>\n",
       "      <td>1011.137950</td>\n",
       "    </tr>\n",
       "    <tr>\n",
       "      <th>4</th>\n",
       "      <td>1005</td>\n",
       "      <td>187466</td>\n",
       "      <td>14879</td>\n",
       "      <td>492.631524</td>\n",
       "    </tr>\n",
       "  </tbody>\n",
       "</table>\n",
       "</div>"
      ],
      "text/plain": [
       "  addrcode  Population  Counts  Pop Density\n",
       "0     1001       50708    2527  1018.028508\n",
       "1     1002       91338    1158  1721.085359\n",
       "2     1003      166831    7432    83.232389\n",
       "3     1004       37675    1956  1011.137950\n",
       "4     1005      187466   14879   492.631524"
      ]
     },
     "execution_count": 60,
     "metadata": {},
     "output_type": "execute_result"
    }
   ],
   "source": [
    "df_pop_count['Pop Density'] = df_pop_count['Population']/ df_image['land_area']\n",
    "df_pop_count.head()"
   ]
  },
  {
   "cell_type": "code",
   "execution_count": 61,
   "metadata": {},
   "outputs": [],
   "source": [
    "df_pop_count.to_csv('Data/Scatter/PopCount.csv', encoding = 'utf-8')"
   ]
  },
  {
   "cell_type": "markdown",
   "metadata": {},
   "source": [
    "# Mapping Addrcode with new Code"
   ]
  },
  {
   "cell_type": "code",
   "execution_count": 30,
   "metadata": {},
   "outputs": [
    {
     "data": {
      "text/html": [
       "<div>\n",
       "<style scoped>\n",
       "    .dataframe tbody tr th:only-of-type {\n",
       "        vertical-align: middle;\n",
       "    }\n",
       "\n",
       "    .dataframe tbody tr th {\n",
       "        vertical-align: top;\n",
       "    }\n",
       "\n",
       "    .dataframe thead th {\n",
       "        text-align: right;\n",
       "    }\n",
       "</style>\n",
       "<table border=\"1\" class=\"dataframe\">\n",
       "  <thead>\n",
       "    <tr style=\"text-align: right;\">\n",
       "      <th></th>\n",
       "      <th>addrcode</th>\n",
       "    </tr>\n",
       "  </thead>\n",
       "  <tbody>\n",
       "    <tr>\n",
       "      <th>0</th>\n",
       "      <td>100101</td>\n",
       "    </tr>\n",
       "    <tr>\n",
       "      <th>1</th>\n",
       "      <td>100102</td>\n",
       "    </tr>\n",
       "    <tr>\n",
       "      <th>2</th>\n",
       "      <td>100103</td>\n",
       "    </tr>\n",
       "    <tr>\n",
       "      <th>3</th>\n",
       "      <td>100104</td>\n",
       "    </tr>\n",
       "    <tr>\n",
       "      <th>4</th>\n",
       "      <td>100105</td>\n",
       "    </tr>\n",
       "  </tbody>\n",
       "</table>\n",
       "</div>"
      ],
      "text/plain": [
       "  addrcode\n",
       "0   100101\n",
       "1   100102\n",
       "2   100103\n",
       "3   100104\n",
       "4   100105"
      ]
     },
     "execution_count": 30,
     "metadata": {},
     "output_type": "execute_result"
    }
   ],
   "source": [
    "df_addrcode = pd.read_csv(os.path.join('Data','Area and GSV','available_addrcode_subdistrict.csv'))\n",
    "df_addrcode['addrcode'] = df_addrcode['addrcode'].astype(str)\n",
    "df_addrcode.head()"
   ]
  },
  {
   "cell_type": "code",
   "execution_count": 31,
   "metadata": {},
   "outputs": [],
   "source": [
    "list = []\n",
    "for i in range(len(df_addrcode)):\n",
    "    if df_addrcode['addrcode'][i][:2] == '10':\n",
    "        list.append('A' + df_addrcode['addrcode'][i][2:])\n",
    "    elif df_addrcode['addrcode'][i][:2] == '80':\n",
    "        list.append('B' + df_addrcode['addrcode'][i][2:])\n",
    "    elif df_addrcode['addrcode'][i][:2] == '81':\n",
    "        list.append('C' + df_addrcode['addrcode'][i][2:])"
   ]
  },
  {
   "cell_type": "code",
   "execution_count": 33,
   "metadata": {},
   "outputs": [
    {
     "data": {
      "text/html": [
       "<div>\n",
       "<style scoped>\n",
       "    .dataframe tbody tr th:only-of-type {\n",
       "        vertical-align: middle;\n",
       "    }\n",
       "\n",
       "    .dataframe tbody tr th {\n",
       "        vertical-align: top;\n",
       "    }\n",
       "\n",
       "    .dataframe thead th {\n",
       "        text-align: right;\n",
       "    }\n",
       "</style>\n",
       "<table border=\"1\" class=\"dataframe\">\n",
       "  <thead>\n",
       "    <tr style=\"text-align: right;\">\n",
       "      <th></th>\n",
       "      <th>addrcode</th>\n",
       "      <th>code</th>\n",
       "    </tr>\n",
       "  </thead>\n",
       "  <tbody>\n",
       "    <tr>\n",
       "      <th>0</th>\n",
       "      <td>100101</td>\n",
       "      <td>A0101</td>\n",
       "    </tr>\n",
       "    <tr>\n",
       "      <th>1</th>\n",
       "      <td>100102</td>\n",
       "      <td>A0102</td>\n",
       "    </tr>\n",
       "    <tr>\n",
       "      <th>2</th>\n",
       "      <td>100103</td>\n",
       "      <td>A0103</td>\n",
       "    </tr>\n",
       "    <tr>\n",
       "      <th>3</th>\n",
       "      <td>100104</td>\n",
       "      <td>A0104</td>\n",
       "    </tr>\n",
       "    <tr>\n",
       "      <th>4</th>\n",
       "      <td>100105</td>\n",
       "      <td>A0105</td>\n",
       "    </tr>\n",
       "  </tbody>\n",
       "</table>\n",
       "</div>"
      ],
      "text/plain": [
       "  addrcode   code\n",
       "0   100101  A0101\n",
       "1   100102  A0102\n",
       "2   100103  A0103\n",
       "3   100104  A0104\n",
       "4   100105  A0105"
      ]
     },
     "execution_count": 33,
     "metadata": {},
     "output_type": "execute_result"
    }
   ],
   "source": [
    "df_addrcode['code'] = list\n",
    "df_addrcode.head()"
   ]
  },
  {
   "cell_type": "code",
   "execution_count": 36,
   "metadata": {},
   "outputs": [],
   "source": [
    "df_addrcode.to_csv('Data/Area and GSV/available_newcode_subdistrict.csv', encoding = 'utf-8')"
   ]
  },
  {
   "cell_type": "code",
   "execution_count": null,
   "metadata": {},
   "outputs": [],
   "source": []
  }
 ],
 "metadata": {
  "kernelspec": {
   "display_name": "Python 3",
   "language": "python",
   "name": "python3"
  },
  "language_info": {
   "codemirror_mode": {
    "name": "ipython",
    "version": 3
   },
   "file_extension": ".py",
   "mimetype": "text/x-python",
   "name": "python",
   "nbconvert_exporter": "python",
   "pygments_lexer": "ipython3",
   "version": "3.6.5"
  }
 },
 "nbformat": 4,
 "nbformat_minor": 2
}
