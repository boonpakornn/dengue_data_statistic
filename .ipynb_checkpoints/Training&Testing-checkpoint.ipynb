{
 "cells": [
  {
   "cell_type": "code",
   "execution_count": 2,
   "metadata": {},
   "outputs": [],
   "source": [
    "import pandas as pd\n",
    "import os"
   ]
  },
  {
   "cell_type": "markdown",
   "metadata": {},
   "source": [
    "## Training & Testing Data"
   ]
  },
  {
   "cell_type": "markdown",
   "metadata": {},
   "source": [
    "## Subdistrict"
   ]
  },
  {
   "cell_type": "markdown",
   "metadata": {},
   "source": [
    "### 2014-2016 [Training]"
   ]
  },
  {
   "cell_type": "code",
   "execution_count": 8,
   "metadata": {},
   "outputs": [],
   "source": [
    "df_rain = pd.read_csv(os.path.join('Data','Climatic Data','Rainfall_Nakhon_Krabi.csv'))\n",
    "df_rain = df_rain.drop('Unnamed: 0', axis =1 )\n",
    "df_rain['addrcode'] = df_rain['addrcode'].astype(str)\n",
    "df_rain = df_rain.loc[df_rain['addrcode'].str[:2] == '80']\n",
    "df_lst_2014 = pd.read_csv(os.path.join('Data','Climatic Data','LST_weekly_NST_2014.csv'))\n",
    "df_lst_2014 = df_lst_2014.drop('Unnamed: 0', axis =1 )\n",
    "df_lst_2014['addrcode'] = df_lst_2014['addrcode'].astype(str)\n",
    "df_lst_2014['Year'] = df_lst_2014['Year'].astype(str)\n",
    "df_lst_2015 = pd.read_csv(os.path.join('Data','Climatic Data','LST_weekly_NST_2015.csv'))\n",
    "df_lst_2015 = df_lst_2015.drop('Unnamed: 0', axis =1 )\n",
    "df_lst_2015['addrcode'] = df_lst_2015['addrcode'].astype(str)\n",
    "df_lst_2015['Year'] = df_lst_2015['Year'].astype(str)\n",
    "df_lst_2016 = pd.read_csv(os.path.join('Data','Climatic Data','LST_weekly_NST_2016.csv'))\n",
    "df_lst_2016 = df_lst_2016.drop('Unnamed: 0', axis =1 )\n",
    "df_lst_2016['addrcode'] = df_lst_2016['addrcode'].astype(str)\n",
    "df_lst_2016['Year'] = df_lst_2016['Year'].astype(str)\n",
    "df_df10000pop = pd.read_csv(os.path.join('Data','Dengue-cases','Dengue fever data','Manipulated','Subdistrict','DF_10000Population_details.csv'))\n",
    "df_df10000pop['addrcode'] = df_df10000pop['addrcode'].astype(str)\n",
    "df_df10000pop = df_df10000pop.loc[df_df10000pop['addrcode'].str[:2] == '80']"
   ]
  },
  {
   "cell_type": "code",
   "execution_count": null,
   "metadata": {},
   "outputs": [],
   "source": [
    "df_rain = df_rain.loc[df_rain['Year'] < 2017]\n",
    "df_rain = df_rain.sort_values(['Week','Year','addrcode'])\n",
    "df_rain = df_rain[['Week','Year','addrcode','rainfall']]\n",
    "df_rain['Year'] = df_rain['Year'].astype(str)\n",
    "len(df_rain)"
   ]
  },
  {
   "cell_type": "code",
   "execution_count": null,
   "metadata": {},
   "outputs": [],
   "source": [
    "df_lst_2014 = df_lst_2014.loc[df_lst_2014['Week'] > 8]\n",
    "df_lst_2014.head()"
   ]
  },
  {
   "cell_type": "code",
   "execution_count": null,
   "metadata": {},
   "outputs": [],
   "source": [
    "frame = [df_lst_2014, df_lst_2015, df_lst_2016]\n",
    "df_lst = pd.concat(frame)\n",
    "df_lst['addrcode'] = df_lst['addrcode'].astype(str)\n",
    "len(df_lst)"
   ]
  },
  {
   "cell_type": "code",
   "execution_count": null,
   "metadata": {},
   "outputs": [],
   "source": [
    "df_rain_lst = pd.merge(df_rain,df_lst, how = 'inner', on = ['Week','Year','addrcode'])\n",
    "df_rain_lst.head()"
   ]
  },
  {
   "cell_type": "code",
   "execution_count": null,
   "metadata": {},
   "outputs": [],
   "source": [
    "df_df = pd.read_csv(os.path.join('Data','Dengue-cases','Dengue fever data','DF_10000Population.csv'))\n",
    "df_df = df_df.drop(['Unnamed: 0','NumberCases','population'], axis = 1)\n",
    "df_df.columns = ['addrcode','Year','Week','DF10000Pop']\n",
    "df_df['addrcode'] = df_df['addrcode'].astype(str)\n",
    "df_df['Year'] = df_df['Year'].astype(str)\n",
    "df_df.head()"
   ]
  },
  {
   "cell_type": "code",
   "execution_count": null,
   "metadata": {},
   "outputs": [],
   "source": [
    "df_rain_lst_df = pd.merge(df_rain_lst, df_df, how = 'inner', on = ['Year','Week','addrcode'])\n",
    "df_rain_lst_df.head()"
   ]
  },
  {
   "cell_type": "code",
   "execution_count": null,
   "metadata": {},
   "outputs": [],
   "source": [
    "df_cd = pd.read_csv(os.path.join('Data','Container Density','Subdistrict Level','CD_NST_subdist.csv'))\n",
    "df_cd = df_cd.drop(['Unnamed: 0','total'],axis = 1)\n",
    "df_cd['addrcode'] = df_cd['addrcode'].astype(str)\n",
    "df_cd.head()"
   ]
  },
  {
   "cell_type": "code",
   "execution_count": null,
   "metadata": {},
   "outputs": [],
   "source": [
    "df_rain_lst_df = pd.merge(df_rain_lst, df_df, how = 'inner', on = ['Year','Week','addrcode'])\n",
    "df_rain_lst_df.head()"
   ]
  },
  {
   "cell_type": "code",
   "execution_count": null,
   "metadata": {},
   "outputs": [],
   "source": [
    "df_cd = pd.read_csv(os.path.join('Data','Container Density','Subdistrict Level','CD_NST_subdist.csv'))\n",
    "df_cd = df_cd.drop(['Unnamed: 0','total'],axis = 1)\n",
    "df_cd['addrcode'] = df_cd['addrcode'].astype(str)\n",
    "df_cd.head()"
   ]
  },
  {
   "cell_type": "code",
   "execution_count": null,
   "metadata": {},
   "outputs": [],
   "source": [
    "df_rain_lst_df_cd = pd.merge(df_rain_lst_df, df_cd, how = 'inner', on ='addrcode')\n",
    "df_rain_lst_df_cd.head()"
   ]
  },
  {
   "cell_type": "code",
   "execution_count": null,
   "metadata": {},
   "outputs": [],
   "source": [
    "df_pop = pd.read_csv(os.path.join('Data','Population','full-info','Nakhon-population-details.csv'))\n",
    "df_pop = df_pop.drop('district', axis = 1)\n",
    "df_pop['addrcode'] = df_pop['addrcode'].astype(str)\n",
    "df_pop.head()"
   ]
  },
  {
   "cell_type": "code",
   "execution_count": null,
   "metadata": {},
   "outputs": [],
   "source": [
    "df_rain_lst_df_cd_pop = pd.merge(df_rain_lst_df_cd, df_pop, how = 'inner', on ='addrcode')\n",
    "df_rain_lst_df_cd_pop.head()"
   ]
  },
  {
   "cell_type": "code",
   "execution_count": null,
   "metadata": {},
   "outputs": [],
   "source": [
    "df_rain_lst_df_cd_pop = df_rain_lst_df_cd_pop.sort_values(['addrcode','Year'])\n",
    "df_rain_lst_df_cd_pop.head()\n",
    "#df_rain_lst_df_cd_pop.to_csv('train_original.csv', encoding ='utf-8')\n",
    "## After export training data, add lag week 1-6 manually"
   ]
  },
  {
   "cell_type": "code",
   "execution_count": null,
   "metadata": {},
   "outputs": [],
   "source": [
    "df_train_lag = pd.read_csv(os.path.join('Data','Modeling','Training&Testing','train_original.csv'))\n",
    "df_train_lag = df_train_lag.drop('Unnamed: 0', axis = 1)\n",
    "df_train_lag['WeekYear'] = df_train_lag[['Week','Year']].astype(str).sum(axis=1)\n",
    "df_train_lag['WeekYear'] = df_train_lag['WeekYear'].astype(str).str[:-2]\n",
    "df_train_lag.head()"
   ]
  },
  {
   "cell_type": "code",
   "execution_count": null,
   "metadata": {},
   "outputs": [],
   "source": [
    "list = ['92014','102014','112014','122014','132014','142014','472016','482016','492016','502016','512016','522016']\n",
    "\n",
    "for i in range(len(list)):\n",
    "     df_train_lag = df_train_lag[df_train_lag.WeekYear != list[i]]"
   ]
  },
  {
   "cell_type": "code",
   "execution_count": null,
   "metadata": {},
   "outputs": [],
   "source": [
    "df_train_lag = df_train_lag.reset_index()\n",
    "df_train_lag = df_train_lag.drop(['index','WeekYear'], axis = 1)\n",
    "df_train_lag.head()"
   ]
  },
  {
   "cell_type": "code",
   "execution_count": null,
   "metadata": {},
   "outputs": [],
   "source": [
    "df_train_lag.to_csv('Data/Modeling/Training&Testing/train_subdist.csv', encoding ='utf-8')"
   ]
  },
  {
   "cell_type": "markdown",
   "metadata": {},
   "source": [
    "## District Level"
   ]
  },
  {
   "cell_type": "code",
   "execution_count": null,
   "metadata": {},
   "outputs": [],
   "source": [
    "df_rain = pd.read_csv(os.path.join('Data','Climatic Data','Rainfall_Nakhon_Krabi.csv'))\n",
    "df_rain = df_rain.drop('Unnamed: 0', axis =1 )\n",
    "df_rain['addrcode'] = df_rain['addrcode'].astype(str)\n",
    "df_rain = df_rain.loc[df_rain['addrcode'].str[:2] == '80']\n",
    "df_lst_2014 = pd.read_csv(os.path.join('Data','Climatic Data','LST_weekly_NST_2014.csv'))\n",
    "df_lst_2014 = df_lst_2014.drop('Unnamed: 0', axis =1 )\n",
    "df_lst_2014['addrcode'] = df_lst_2014['addrcode'].astype(str)\n",
    "df_lst_2014['Year'] = df_lst_2014['Year'].astype(str)\n",
    "df_lst_2015 = pd.read_csv(os.path.join('Data','Climatic Data','LST_weekly_NST_2015.csv'))\n",
    "df_lst_2015 = df_lst_2015.drop('Unnamed: 0', axis =1 )\n",
    "df_lst_2015['addrcode'] = df_lst_2015['addrcode'].astype(str)\n",
    "df_lst_2015['Year'] = df_lst_2015['Year'].astype(str)\n",
    "df_lst_2016 = pd.read_csv(os.path.join('Data','Climatic Data','LST_weekly_NST_2016.csv'))\n",
    "df_lst_2016 = df_lst_2016.drop('Unnamed: 0', axis =1 )\n",
    "df_lst_2016['addrcode'] = df_lst_2016['addrcode'].astype(str)\n",
    "df_lst_2016['Year'] = df_lst_2016['Year'].astype(str)\n",
    "df_df10000pop_dist = pd.read_csv(os.path.join('Data','Dengue-cases','Dengue fever data','Manipulated','DF_10000Population_dist_details.csv'))\n",
    "df_df10000pop_dist = df_df10000pop_dist.drop('Unnamed: 0', axis = 1)"
   ]
  },
  {
   "cell_type": "code",
   "execution_count": null,
   "metadata": {},
   "outputs": [],
   "source": [
    "df_rain = df_rain.loc[df_rain['Year'] < 2017]\n",
    "df_rain = df_rain.sort_values(['Week','Year','addrcode'])\n",
    "df_rain = df_rain[['Week','Year','addrcode','rainfall']]\n",
    "df_rain['Year'] = df_rain['Year'].astype(str)\n",
    "df_lst_2014 = df_lst_2014.loc[df_lst_2014['Week'] > 8]\n",
    "frame = [df_lst_2014, df_lst_2015, df_lst_2016]\n",
    "df_lst = pd.concat(frame)\n",
    "df_lst['addrcode'] = df_lst['addrcode'].astype(str)\n",
    "df_rain_lst = pd.merge(df_rain,df_lst, how = 'inner', on = ['Week','Year','addrcode'])\n",
    "df_rain_lst['addrcode'] = df_rain_lst['addrcode'].astype(str)\n",
    "df_rain_lst.head()"
   ]
  },
  {
   "cell_type": "code",
   "execution_count": null,
   "metadata": {},
   "outputs": [],
   "source": [
    "aggregation_function = {'rainfall' : 'sum', 'temperature' : 'sum'}\n",
    "df_rain_lst_dist = df_rain_lst.groupby([df_rain_lst['addrcode'].str[:4],df_rain_lst['Week'],df_rain_lst['Year']]).aggregate(aggregation_function).reset_index()\n",
    "df_rain_lst_dist['addrcode'] = df_rain_lst_dist['addrcode'].astype(str)\n",
    "df_rain_lst_dist['Week'] = df_rain_lst_dist['Week'].astype(str)\n",
    "df_rain_lst_dist['Year'] = df_rain_lst_dist['Year'].astype(str)\n",
    "df_rain_lst_dist.head()"
   ]
  },
  {
   "cell_type": "code",
   "execution_count": null,
   "metadata": {},
   "outputs": [],
   "source": [
    "df_df10000pop_dist = df_df10000pop_dist.drop(['NumberCases','population'], axis =1)\n",
    "df_df10000pop_dist.columns = ['addrcode','Year','Week','DFp10000Pop']\n",
    "df_df10000pop_dist['addrcode'] = df_df10000pop_dist['addrcode'].astype(str)\n",
    "df_df10000pop_dist['Week'] = df_df10000pop_dist['Week'].astype(str)\n",
    "df_df10000pop_dist['Year'] = df_df10000pop_dist['Year'].astype(str)\n",
    "df_df10000pop_dist = df_df10000pop_dist[['addrcode','Week','Year','DFp10000Pop']]\n",
    "df_df10000pop_dist.head()"
   ]
  },
  {
   "cell_type": "code",
   "execution_count": null,
   "metadata": {},
   "outputs": [],
   "source": [
    "df_rain_lst_df_dist = pd.merge(df_rain_lst_dist, df_df10000pop_dist, how = 'inner', on = ['addrcode','Week','Year'])\n",
    "df_rain_lst_df_dist.to_csv('Data/Modeling/Training&Testing/train_dist_original.csv', encoding = 'utf-8')"
   ]
  },
  {
   "cell_type": "markdown",
   "metadata": {},
   "source": [
    "## 2017 [Testing]"
   ]
  },
  {
   "cell_type": "markdown",
   "metadata": {},
   "source": [
    "### Subdistrict"
   ]
  },
  {
   "cell_type": "code",
   "execution_count": null,
   "metadata": {},
   "outputs": [],
   "source": [
    "df_rain = pd.read_csv(os.path.join('Data','Climatic Data','Rainfall_Nakhon_Krabi.csv'))\n",
    "df_rain = df_rain.drop('Unnamed: 0', axis =1 )\n",
    "df_rain['addrcode'] = df_rain['addrcode'].astype(str)\n",
    "df_rain = df_rain.loc[df_rain['addrcode'].str[:2] == '80']\n",
    "df_lst_2017 = pd.read_csv(os.path.join('Data','Climatic Data','LST_weekly_NST_2017.csv'))\n",
    "df_lst_2017 = df_lst_2017.drop('Unnamed: 0', axis =1 )\n",
    "df_lst_2017['addrcode'] = df_lst_2017['addrcode'].astype(str)\n",
    "df_lst_2017['Year'] = df_lst_2017['Year'].astype(str)\n",
    "df_df10000pop = pd.read_csv(os.path.join('Data','Dengue-cases','Dengue fever data','DFp10000Population_NST.csv'))"
   ]
  },
  {
   "cell_type": "code",
   "execution_count": null,
   "metadata": {},
   "outputs": [],
   "source": [
    "df_rain = df_rain.loc[df_rain['Year'] == 2017]\n",
    "df_rain = df_rain.sort_values(['Week','Year','addrcode'])\n",
    "df_rain = df_rain[['Week','Year','addrcode','rainfall']]\n",
    "df_rain['Year'] = df_rain['Year'].astype(str)\n",
    "len(df_rain)"
   ]
  },
  {
   "cell_type": "code",
   "execution_count": null,
   "metadata": {},
   "outputs": [],
   "source": [
    "df_rain_lst = pd.merge(df_rain,df_lst_2017, how = 'inner', on = ['Week','Year','addrcode'])\n",
    "df_rain_lst.head()"
   ]
  },
  {
   "cell_type": "code",
   "execution_count": null,
   "metadata": {},
   "outputs": [],
   "source": [
    "df_df = pd.read_csv(os.path.join('Data','Dengue-cases','Dengue fever data','DF_10000Population.csv'))\n",
    "df_df = df_df.drop(['Unnamed: 0','NumberCases','population'], axis = 1)\n",
    "df_df.columns = ['addrcode','Year','Week','DF10000Pop']\n",
    "df_df['addrcode'] = df_df['addrcode'].astype(str)\n",
    "df_df['Year'] = df_df['Year'].astype(str)\n",
    "df_df.head()"
   ]
  },
  {
   "cell_type": "code",
   "execution_count": null,
   "metadata": {},
   "outputs": [],
   "source": [
    "df_rain_lst_df = pd.merge(df_rain_lst, df_df, how = 'inner', on = ['Year','Week','addrcode'])\n",
    "df_rain_lst_df.head()"
   ]
  },
  {
   "cell_type": "code",
   "execution_count": null,
   "metadata": {},
   "outputs": [],
   "source": [
    "df_cd = pd.read_csv(os.path.join('Data','Container Density','Subdistrict Level','CD_NST_subdist.csv'))\n",
    "df_cd = df_cd.drop(['Unnamed: 0','total'],axis = 1)\n",
    "df_cd['addrcode'] = df_cd['addrcode'].astype(str)\n",
    "df_cd.head()"
   ]
  },
  {
   "cell_type": "code",
   "execution_count": null,
   "metadata": {},
   "outputs": [],
   "source": [
    "df_rain_lst_df_cd = pd.merge(df_rain_lst_df, df_cd, how = 'inner', on ='addrcode')\n",
    "df_rain_lst_df_cd.head()"
   ]
  },
  {
   "cell_type": "code",
   "execution_count": null,
   "metadata": {},
   "outputs": [],
   "source": [
    "df_pop = pd.read_csv(os.path.join('Data','Population','full-info','Nakhon-population-details.csv'))\n",
    "df_pop = df_pop.drop('district', axis = 1)\n",
    "df_pop['addrcode'] = df_pop['addrcode'].astype(str)\n",
    "df_pop.head()"
   ]
  },
  {
   "cell_type": "code",
   "execution_count": null,
   "metadata": {},
   "outputs": [],
   "source": [
    "df_rain_lst_df_cd_pop = pd.merge(df_rain_lst_df_cd, df_pop, how = 'inner', on ='addrcode')\n",
    "df_rain_lst_df_cd_pop = df_rain_lst_df_cd_pop.sort_values(['addrcode','Year'])\n",
    "df_rain_lst_df_cd_pop.head()"
   ]
  },
  {
   "cell_type": "code",
   "execution_count": null,
   "metadata": {},
   "outputs": [],
   "source": [
    "df_rain_lst_df_cd_pop.to_csv('test_original.csv', encoding ='utf-8')"
   ]
  },
  {
   "cell_type": "code",
   "execution_count": null,
   "metadata": {},
   "outputs": [],
   "source": [
    "df_test_lag = pd.read_csv(os.path.join('Data','Modeling','training&Testing','test_original.csv'))\n",
    "df_test_lag = df_test_lag.drop('Unnamed: 0', axis = 1)\n",
    "df_test_lag['WeekYear'] = df_test_lag[['Week','Year']].astype(str).sum(axis=1)\n",
    "df_test_lag['WeekYear'] = df_test_lag['WeekYear'].astype(str).str[:-2]\n",
    "df_test_lag.head()"
   ]
  },
  {
   "cell_type": "code",
   "execution_count": null,
   "metadata": {},
   "outputs": [],
   "source": [
    "list = ['12017','22017','32017','42017','52017','62017','472017','482017','492017','502017','512017','522017']\n",
    "\n",
    "for i in range(len(list)):\n",
    "     df_test_lag = df_test_lag[df_test_lag.WeekYear != list[i]]"
   ]
  },
  {
   "cell_type": "code",
   "execution_count": null,
   "metadata": {},
   "outputs": [],
   "source": [
    "df_test_lag = df_test_lag.reset_index()\n",
    "df_test_lag = df_test_lag.drop(['index','WeekYear'], axis = 1)\n",
    "df_test_lag.head()"
   ]
  },
  {
   "cell_type": "code",
   "execution_count": null,
   "metadata": {},
   "outputs": [],
   "source": [
    "df_test_lag.to_csv('Data/Modeling/Training&Testing/test_subdist.csv', encoding ='utf-8')"
   ]
  },
  {
   "cell_type": "markdown",
   "metadata": {},
   "source": [
    "## District "
   ]
  },
  {
   "cell_type": "code",
   "execution_count": null,
   "metadata": {},
   "outputs": [],
   "source": [
    "df_rain = pd.read_csv(os.path.join('Data','Climatic Data','Rainfall_Nakhon_Krabi.csv'))\n",
    "df_rain = df_rain.drop('Unnamed: 0', axis =1 )\n",
    "df_rain['addrcode'] = df_rain['addrcode'].astype(str)\n",
    "df_rain = df_rain.loc[df_rain['addrcode'].str[:2] == '80']\n",
    "df_lst = pd.read_csv(os.path.join('Data','Climatic Data','LST_weekly_NST_2017.csv'))\n",
    "df_lst = df_lst_2017.drop('Unnamed: 0', axis =1 )\n",
    "df_lst['addrcode'] = df_lst['addrcode'].astype(str)\n",
    "df_lst['Week'] = df_lst['Week'].astype(str)\n",
    "df_lst['Year'] = df_lst['Year'].astype(str)\n",
    "df_df10000pop_dist = pd.read_csv(os.path.join('Data','Dengue-cases','Dengue fever data','Manipulated','DF_10000Population_dist_details.csv'))\n",
    "df_df10000pop_dist = df_df10000pop_dist.drop('Unnamed: 0', axis = 1)"
   ]
  },
  {
   "cell_type": "code",
   "execution_count": null,
   "metadata": {},
   "outputs": [],
   "source": [
    "df_rain = df_rain.loc[df_rain['Year'] == 2017]\n",
    "df_rain = df_rain.sort_values(['Week','Year','addrcode'])\n",
    "df_rain = df_rain[['Week','Year','addrcode','rainfall']]\n",
    "df_rain['Year'] = df_rain['Year'].astype(str)\n",
    "df_rain['Week'] = df_rain['Week'].astype(str)\n",
    "df_rain_lst = pd.merge(df_rain,df_lst, how = 'inner', on = ['Week','Year','addrcode'])\n",
    "df_rain_lst['addrcode'] = df_rain_lst['addrcode'].astype(str)\n",
    "df_rain_lst.head()"
   ]
  },
  {
   "cell_type": "code",
   "execution_count": null,
   "metadata": {},
   "outputs": [],
   "source": [
    "aggregation_function = {'rainfall' : 'sum', 'temperature' : 'sum'}\n",
    "df_rain_lst_dist = df_rain_lst.groupby([df_rain_lst['addrcode'].str[:4],df_rain_lst['Week'],df_rain_lst['Year']]).aggregate(aggregation_function).reset_index()\n",
    "df_rain_lst_dist['addrcode'] = df_rain_lst_dist['addrcode'].astype(str)\n",
    "df_rain_lst_dist['Week'] = df_rain_lst_dist['Week'].astype(str)\n",
    "df_rain_lst_dist['Year'] = df_rain_lst_dist['Year'].astype(str)\n",
    "df_rain_lst_dist.head()"
   ]
  },
  {
   "cell_type": "code",
   "execution_count": null,
   "metadata": {},
   "outputs": [],
   "source": [
    "df_df10000pop_dist = df_df10000pop_dist.drop(['NumberCases','population'], axis =1)\n",
    "df_df10000pop_dist.columns = ['addrcode','Year','Week','DFp10000Pop']\n",
    "df_df10000pop_dist['addrcode'] = df_df10000pop_dist['addrcode'].astype(str)\n",
    "df_df10000pop_dist['Week'] = df_df10000pop_dist['Week'].astype(str)\n",
    "df_df10000pop_dist['Year'] = df_df10000pop_dist['Year'].astype(str)\n",
    "df_df10000pop_dist = df_df10000pop_dist[['addrcode','Week','Year','DFp10000Pop']]\n",
    "df_df10000pop_dist.head()"
   ]
  },
  {
   "cell_type": "code",
   "execution_count": null,
   "metadata": {},
   "outputs": [],
   "source": [
    "df_rain_lst_df_dist = pd.merge(df_rain_lst_dist, df_df10000pop_dist, how = 'inner', on = ['addrcode','Week','Year'])\n",
    "df_rain_lst_df_dist.to_csv('Data/Modeling/Training&Testing/test_dist_original.csv', encoding = 'utf-8')"
   ]
  },
  {
   "cell_type": "markdown",
   "metadata": {},
   "source": [
    "## New Training & Testing Data [Dominique]"
   ]
  },
  {
   "cell_type": "markdown",
   "metadata": {},
   "source": [
    "## Subdistrict"
   ]
  },
  {
   "cell_type": "code",
   "execution_count": null,
   "metadata": {},
   "outputs": [],
   "source": [
    "df_area_pop = pd.read_csv(os.path.join('Data','Correlation','area_pop_nst.csv'), encoding = 'utf-8')\n",
    "df_area_pop = df_area_pop.drop('Unnamed: 0', axis = 1)\n",
    "df_area_pop = df_area_pop.iloc[:,[0,12,13,14,15,16,17,18,19]]\n",
    "df_area_pop['addrcode'] = df_area_pop['addrcode'].astype(str)\n",
    "df_area_pop.head()"
   ]
  },
  {
   "cell_type": "code",
   "execution_count": null,
   "metadata": {},
   "outputs": [],
   "source": [
    "df_area = pd.read_csv(os.path.join('Data','Area and GSV','image_coverage','image_coverage_nst.csv'))\n",
    "df_area = df_area.drop(['Unnamed: 0','image_coverage'], axis = 1)\n",
    "df_area['addrcode'] = df_area['addrcode'].astype(str)\n",
    "df_area['image/area'] = df_area['image_area']/ df_area['land_area']\n",
    "df_area['image/area'].loc[df_area['image/area'] > 1 ] = 1\n",
    "df_area['image/area'] = df_area['image/area'].round(2)\n",
    "df_area.head()"
   ]
  },
  {
   "cell_type": "code",
   "execution_count": null,
   "metadata": {},
   "outputs": [],
   "source": [
    "df_pop_total = pd.read_csv(os.path.join('Data','Population','addrcode-index','NST-population.csv'))\n",
    "df_pop_total['addrcode'] = df_pop_total['addrcode'].astype(str).str[:6]\n",
    "df_pop_total.head()"
   ]
  },
  {
   "cell_type": "code",
   "execution_count": null,
   "metadata": {},
   "outputs": [],
   "source": [
    "df_area_pop_total = pd.merge(df_area,df_pop_total, how = 'inner')\n",
    "df_area_pop_total['total_s'] = df_area_pop_total['image/area'] * df_area_pop_total['Total']\n",
    "df_area_pop_total = df_area_pop_total.iloc[:,[0,5]]\n",
    "df_area_pop_total['addrcode'] = df_area_pop_total['addrcode'].astype(str)\n",
    "df_area_pop_total.head()"
   ]
  },
  {
   "cell_type": "code",
   "execution_count": null,
   "metadata": {},
   "outputs": [],
   "source": [
    "df_pop_s = pd.merge(df_area_pop,df_area_pop_total, how = 'inner')\n",
    "df_pop_s.head()"
   ]
  },
  {
   "cell_type": "code",
   "execution_count": null,
   "metadata": {},
   "outputs": [],
   "source": [
    "df_container_count = pd.read_csv(os.path.join('Data','Container Density','Subdistrict Level','container_NST_subdist.csv'))\n",
    "df_container_count = df_container_count.drop('Unnamed: 0', axis = 1)\n",
    "df_container_count.head()"
   ]
  },
  {
   "cell_type": "code",
   "execution_count": null,
   "metadata": {},
   "outputs": [],
   "source": [
    "df_new_cd = pd.DataFrame(df_container_count['addrcode'])\n",
    "#==========\n",
    "a = 10\n",
    "#==========\n",
    "\n",
    "df_new_cd['bin_pop1s'] = a * df_container_count.iloc[:,1]/df_pop_s.iloc[:,1]\n",
    "df_new_cd['bin_pop2s'] = a * df_container_count.iloc[:,1]/df_pop_s.iloc[:,2]\n",
    "df_new_cd['bin_pop3s'] = a * df_container_count.iloc[:,1]/df_pop_s.iloc[:,3]\n",
    "df_new_cd['bin_pop4s'] = a * df_container_count.iloc[:,1]/df_pop_s.iloc[:,4]\n",
    "df_new_cd['bin_pop5s'] = a * df_container_count.iloc[:,1]/df_pop_s.iloc[:,5]\n",
    "df_new_cd['bin_pop6s'] = a * df_container_count.iloc[:,1]/df_pop_s.iloc[:,6]\n",
    "df_new_cd['bin_pop7s'] = a * df_container_count.iloc[:,1]/df_pop_s.iloc[:,7]\n",
    "df_new_cd['bin_pop8s'] = a * df_container_count.iloc[:,1]/df_pop_s.iloc[:,8]\n",
    "df_new_cd['bin_pop9s'] = a * df_container_count.iloc[:,1]/df_pop_s.iloc[:,9]\n",
    "\n",
    "df_new_cd['bowl_pop1s'] = a * df_container_count.iloc[:,2]/df_pop_s.iloc[:,1]\n",
    "df_new_cd['bowl_pop2s'] = a * df_container_count.iloc[:,2]/df_pop_s.iloc[:,2]\n",
    "df_new_cd['bowl_pop3s'] = a * df_container_count.iloc[:,2]/df_pop_s.iloc[:,3]\n",
    "df_new_cd['bowl_pop4s'] = a * df_container_count.iloc[:,2]/df_pop_s.iloc[:,4]\n",
    "df_new_cd['bowl_pop5s'] = a * df_container_count.iloc[:,2]/df_pop_s.iloc[:,5]\n",
    "df_new_cd['bowl_pop6s'] = a * df_container_count.iloc[:,2]/df_pop_s.iloc[:,6]\n",
    "df_new_cd['bowl_pop7s'] = a * df_container_count.iloc[:,2]/df_pop_s.iloc[:,7]\n",
    "df_new_cd['bowl_pop8s'] = a * df_container_count.iloc[:,2]/df_pop_s.iloc[:,8]\n",
    "df_new_cd['bowl_pop9s'] = a * df_container_count.iloc[:,2]/df_pop_s.iloc[:,9]\n",
    "\n",
    "df_new_cd['bucket_pop1s'] = a * df_container_count.iloc[:,3]/df_pop_s.iloc[:,1]\n",
    "df_new_cd['bucket_pop2s'] = a * df_container_count.iloc[:,3]/df_pop_s.iloc[:,2]\n",
    "df_new_cd['bucket_pop3s'] = a * df_container_count.iloc[:,3]/df_pop_s.iloc[:,3]\n",
    "df_new_cd['bucket_pop4s'] = a * df_container_count.iloc[:,3]/df_pop_s.iloc[:,4]\n",
    "df_new_cd['bucket_pop5s'] = a * df_container_count.iloc[:,3]/df_pop_s.iloc[:,5]\n",
    "df_new_cd['bucket_pop6s'] = a * df_container_count.iloc[:,3]/df_pop_s.iloc[:,6]\n",
    "df_new_cd['bucket_pop7s'] = a * df_container_count.iloc[:,3]/df_pop_s.iloc[:,7]\n",
    "df_new_cd['bucket_pop8s'] = a * df_container_count.iloc[:,3]/df_pop_s.iloc[:,8]\n",
    "df_new_cd['bucket_pop9s'] = a * df_container_count.iloc[:,3]/df_pop_s.iloc[:,9]\n",
    "\n",
    "df_new_cd['misc_short_pop1s'] = a * df_container_count.iloc[:,4]/df_pop_s.iloc[:,1]\n",
    "df_new_cd['misc_short_pop2s'] = a * df_container_count.iloc[:,4]/df_pop_s.iloc[:,2]\n",
    "df_new_cd['misc_short_pop3s'] = a * df_container_count.iloc[:,4]/df_pop_s.iloc[:,3]\n",
    "df_new_cd['misc_short_pop4s'] = a * df_container_count.iloc[:,4]/df_pop_s.iloc[:,4]\n",
    "df_new_cd['misc_short_pop5s'] = a * df_container_count.iloc[:,4]/df_pop_s.iloc[:,5]\n",
    "df_new_cd['misc_short_pop6s'] = a * df_container_count.iloc[:,4]/df_pop_s.iloc[:,6]\n",
    "df_new_cd['misc_short_pop7s'] = a * df_container_count.iloc[:,4]/df_pop_s.iloc[:,7]\n",
    "df_new_cd['misc_short_pop8s'] = a * df_container_count.iloc[:,4]/df_pop_s.iloc[:,8]\n",
    "df_new_cd['misc_short_pop9s'] = a * df_container_count.iloc[:,4]/df_pop_s.iloc[:,9]\n",
    "\n",
    "df_new_cd['jar_pop1s'] = a * df_container_count.iloc[:,5]/df_pop_s.iloc[:,1]\n",
    "df_new_cd['jar_pop2s'] = a * df_container_count.iloc[:,5]/df_pop_s.iloc[:,2]\n",
    "df_new_cd['jar_pop3s'] = a * df_container_count.iloc[:,5]/df_pop_s.iloc[:,3]\n",
    "df_new_cd['jar_pop4s'] = a * df_container_count.iloc[:,5]/df_pop_s.iloc[:,4]\n",
    "df_new_cd['jar_pop5s'] = a * df_container_count.iloc[:,5]/df_pop_s.iloc[:,5]\n",
    "df_new_cd['jar_pop6s'] = a * df_container_count.iloc[:,5]/df_pop_s.iloc[:,6]\n",
    "df_new_cd['jar_pop7s'] = a * df_container_count.iloc[:,5]/df_pop_s.iloc[:,7]\n",
    "df_new_cd['jar_pop8s'] = a * df_container_count.iloc[:,5]/df_pop_s.iloc[:,8]\n",
    "df_new_cd['jar_pop9s'] = a * df_container_count.iloc[:,5]/df_pop_s.iloc[:,9]\n",
    "\n",
    "df_new_cd['pottedplant_pop1s'] = a * df_container_count.iloc[:,6]/df_pop_s.iloc[:,1]\n",
    "df_new_cd['pottedplant_pop2s'] = a * df_container_count.iloc[:,6]/df_pop_s.iloc[:,2]\n",
    "df_new_cd['pottedplant_pop3s'] = a * df_container_count.iloc[:,6]/df_pop_s.iloc[:,3]\n",
    "df_new_cd['pottedplant_pop4s'] = a * df_container_count.iloc[:,6]/df_pop_s.iloc[:,4]\n",
    "df_new_cd['pottedplant_pop5s'] = a * df_container_count.iloc[:,6]/df_pop_s.iloc[:,5]\n",
    "df_new_cd['pottedplant_pop6s'] = a * df_container_count.iloc[:,6]/df_pop_s.iloc[:,6]\n",
    "df_new_cd['pottedplant_pop7s'] = a * df_container_count.iloc[:,6]/df_pop_s.iloc[:,7]\n",
    "df_new_cd['pottedplant_pop8s'] = a * df_container_count.iloc[:,6]/df_pop_s.iloc[:,8]\n",
    "df_new_cd['pottedplant_pop9s'] = a * df_container_count.iloc[:,6]/df_pop_s.iloc[:,9]\n",
    "\n",
    "df_new_cd['tire_pop1s'] = a * df_container_count.iloc[:,7]/df_pop_s.iloc[:,1]\n",
    "df_new_cd['tire_pop2s'] = a * df_container_count.iloc[:,7]/df_pop_s.iloc[:,2]\n",
    "df_new_cd['tire_pop3s'] = a * df_container_count.iloc[:,7]/df_pop_s.iloc[:,3]\n",
    "df_new_cd['tire_pop4s'] = a * df_container_count.iloc[:,7]/df_pop_s.iloc[:,4]\n",
    "df_new_cd['tire_pop5s'] = a * df_container_count.iloc[:,7]/df_pop_s.iloc[:,5]\n",
    "df_new_cd['tire_pop6s'] = a * df_container_count.iloc[:,7]/df_pop_s.iloc[:,6]\n",
    "df_new_cd['tire_pop7s'] = a * df_container_count.iloc[:,7]/df_pop_s.iloc[:,7]\n",
    "df_new_cd['tire_pop8s'] = a * df_container_count.iloc[:,7]/df_pop_s.iloc[:,8]\n",
    "df_new_cd['tire_pop9s'] = a * df_container_count.iloc[:,7]/df_pop_s.iloc[:,9]\n",
    "\n",
    "df_new_cd['misc_tall_pop1s'] = a * df_container_count.iloc[:,8]/df_pop_s.iloc[:,1]\n",
    "df_new_cd['misc_tall_pop2s'] = a * df_container_count.iloc[:,8]/df_pop_s.iloc[:,2]\n",
    "df_new_cd['misc_tall_pop3s'] = a * df_container_count.iloc[:,8]/df_pop_s.iloc[:,3]\n",
    "df_new_cd['misc_tall_pop4s'] = a * df_container_count.iloc[:,8]/df_pop_s.iloc[:,4]\n",
    "df_new_cd['misc_tall_pop5s'] = a * df_container_count.iloc[:,8]/df_pop_s.iloc[:,5]\n",
    "df_new_cd['misc_tall_pop6s'] = a * df_container_count.iloc[:,8]/df_pop_s.iloc[:,6]\n",
    "df_new_cd['misc_tall_pop7s'] = a * df_container_count.iloc[:,8]/df_pop_s.iloc[:,7]\n",
    "df_new_cd['misc_tall_pop8s'] = a * df_container_count.iloc[:,8]/df_pop_s.iloc[:,8]\n",
    "df_new_cd['misc_tall_pop9s'] = a * df_container_count.iloc[:,8]/df_pop_s.iloc[:,9]\n",
    "\n",
    "df_new_cd['total_pop1s'] = a * df_container_count.iloc[:,9]/df_pop_s.iloc[:,1]\n",
    "df_new_cd['total_pop2s'] = a * df_container_count.iloc[:,9]/df_pop_s.iloc[:,2]\n",
    "df_new_cd['total_pop3s'] = a * df_container_count.iloc[:,9]/df_pop_s.iloc[:,3]\n",
    "df_new_cd['total_pop4s'] = a * df_container_count.iloc[:,9]/df_pop_s.iloc[:,4]\n",
    "df_new_cd['total_pop5s'] = a * df_container_count.iloc[:,9]/df_pop_s.iloc[:,5]\n",
    "df_new_cd['total_pop6s'] = a * df_container_count.iloc[:,9]/df_pop_s.iloc[:,6]\n",
    "df_new_cd['total_pop7s'] = a * df_container_count.iloc[:,9]/df_pop_s.iloc[:,7]\n",
    "df_new_cd['total_pop8s'] = a * df_container_count.iloc[:,9]/df_pop_s.iloc[:,8]\n",
    "df_new_cd['total_pop9s'] = a * df_container_count.iloc[:,9]/df_pop_s.iloc[:,9]\n",
    "\n",
    "df_new_cd.head()"
   ]
  },
  {
   "cell_type": "markdown",
   "metadata": {},
   "source": [
    "### Training"
   ]
  },
  {
   "cell_type": "code",
   "execution_count": null,
   "metadata": {},
   "outputs": [],
   "source": [
    "df_train_old = pd.read_csv(os.path.join('Data','Modeling','Training&Testing','train_subdist_old.csv'), header=0, skiprows=0)\n",
    "df_train_old = df_train_old.drop('Unnamed: 0', axis = 1)\n",
    "df_train_old = df_train_old.iloc[:,[0,1,2,3,4,5,6,7,8,9,10,11,12,18,22]]\n",
    "df_train_old.head()"
   ]
  },
  {
   "cell_type": "code",
   "execution_count": null,
   "metadata": {},
   "outputs": [],
   "source": [
    "df_train_new = pd.merge(df_train_old,df_new_cd, how = 'inner')\n",
    "df_train_new.head()\n",
    "df_train_new.to_csv('Data/Modeling/Training&Testing/train_subdist_all.csv', encoding = 'utf-8')"
   ]
  },
  {
   "cell_type": "code",
   "execution_count": null,
   "metadata": {},
   "outputs": [],
   "source": [
    "df_train_new = df_train_new.iloc[:,[0,1,2,3,4,5,6,7,8,9,10,11,12,13,14,23,32,41,50,59,68,77,86,95]]\n",
    "df_train_new.head()"
   ]
  },
  {
   "cell_type": "code",
   "execution_count": null,
   "metadata": {},
   "outputs": [],
   "source": [
    "df_train_new.to_csv('Data/Modeling/Training&Testing/train_subdist_total.csv', encoding = 'utf-8')"
   ]
  },
  {
   "cell_type": "markdown",
   "metadata": {},
   "source": [
    "### Testing"
   ]
  },
  {
   "cell_type": "code",
   "execution_count": null,
   "metadata": {},
   "outputs": [],
   "source": [
    "df_test_old = pd.read_csv(os.path.join('Data','Modeling','Training&Testing','test_subdist_old.csv'), header=0, skiprows=0)\n",
    "df_test_old = df_test_old.drop('Unnamed: 0', axis = 1)\n",
    "df_test_old = df_test_old.iloc[:,[0,1,2,3,4,5,6,7,8,9,10,11,12,18,22]]\n",
    "df_test_old.head()"
   ]
  },
  {
   "cell_type": "code",
   "execution_count": null,
   "metadata": {},
   "outputs": [],
   "source": [
    "df_test_new = pd.merge(df_test_old,df_new_cd, how = 'inner')\n",
    "df_test_new.head()\n",
    "df_test_new.to_csv('Data/Modeling/Training&Testing/test_subdist_all.csv', encoding = 'utf-8')"
   ]
  },
  {
   "cell_type": "code",
   "execution_count": null,
   "metadata": {},
   "outputs": [],
   "source": [
    "df_test_new = df_test_new.iloc[:,[0,1,2,3,4,5,6,7,8,9,10,11,12,13,14,23,32,41,50,59,68,77,86,95]]\n",
    "df_test_new.head()"
   ]
  },
  {
   "cell_type": "code",
   "execution_count": null,
   "metadata": {},
   "outputs": [],
   "source": [
    "df_test_new.to_csv('Data/Modeling/Training&Testing/test_subdist_total.csv', encoding = 'utf-8')"
   ]
  },
  {
   "cell_type": "markdown",
   "metadata": {},
   "source": [
    "## District"
   ]
  },
  {
   "cell_type": "code",
   "execution_count": null,
   "metadata": {},
   "outputs": [],
   "source": [
    "df_area_pop = pd.read_csv(os.path.join('Data','Correlation','area_pop_nst_dist.csv'), encoding = 'utf-8')\n",
    "df_area_pop = df_area_pop.drop('Unnamed: 0', axis = 1)\n",
    "df_area_pop = df_area_pop.iloc[:,[0,12,13,14,15,16,17,18,19]]\n",
    "df_area_pop['addrcode'] = df_area_pop['addrcode'].astype(str)\n",
    "df_area_pop.head()"
   ]
  },
  {
   "cell_type": "code",
   "execution_count": null,
   "metadata": {},
   "outputs": [],
   "source": [
    "df_area = pd.read_csv(os.path.join('Data','Area and GSV','image_coverage','image_coverage_nst.csv'))\n",
    "df_area = df_area.drop(['Unnamed: 0','image_coverage'], axis = 1)\n",
    "df_area['addrcode'] = df_area['addrcode'].astype(str)\n",
    "df_area = df_area.groupby(df_area['addrcode'].str[:4]).sum().reset_index()\n",
    "df_area['image/area'] = df_area['image_area']/ df_area['land_area']\n",
    "df_area['image/area'].loc[df_area['image/area'] > 1 ] = 1\n",
    "df_area['image/area'] = df_area['image/area'].round(2)\n",
    "df_area.head()"
   ]
  },
  {
   "cell_type": "code",
   "execution_count": null,
   "metadata": {},
   "outputs": [],
   "source": [
    "df_pop_total = pd.read_csv(os.path.join('Data','Population','addrcode-index','NST-population.csv'))\n",
    "df_pop_total['addrcode'] = df_pop_total['addrcode'].astype(str).str[:6]\n",
    "df_pop_total = df_pop_total.groupby(df_pop_total['addrcode'].str[:4]).sum().reset_index()\n",
    "df_pop_total"
   ]
  },
  {
   "cell_type": "code",
   "execution_count": null,
   "metadata": {},
   "outputs": [],
   "source": [
    "df_area_pop_total = pd.merge(df_area,df_pop_total, how = 'inner')\n",
    "df_area_pop_total['total_s'] = df_area_pop_total['image/area'] * df_area_pop_total['Total']\n",
    "df_area_pop_total = df_area_pop_total.iloc[:,[0,5]]\n",
    "df_area_pop_total['addrcode'] = df_area_pop_total['addrcode'].astype(str)\n",
    "df_area_pop_total.head()"
   ]
  },
  {
   "cell_type": "code",
   "execution_count": null,
   "metadata": {},
   "outputs": [],
   "source": [
    "df_pop_s = pd.merge(df_area_pop,df_area_pop_total, how = 'inner')\n",
    "df_pop_s.head()"
   ]
  },
  {
   "cell_type": "code",
   "execution_count": null,
   "metadata": {},
   "outputs": [],
   "source": [
    "df_container_count = pd.read_csv(os.path.join('Data','Container Density','District Level','container_NST_dist.csv'))\n",
    "df_container_count = df_container_count.drop('Unnamed: 0', axis = 1)\n",
    "df_container_count.head()"
   ]
  },
  {
   "cell_type": "code",
   "execution_count": null,
   "metadata": {},
   "outputs": [],
   "source": [
    "df_new_cd = pd.DataFrame(df_container_count['addrcode'])\n",
    "#==========\n",
    "a = 10\n",
    "#==========\n",
    "\n",
    "df_new_cd['bin_pop1s'] = a * df_container_count.iloc[:,1]/df_pop_s.iloc[:,1]\n",
    "df_new_cd['bin_pop2s'] = a * df_container_count.iloc[:,1]/df_pop_s.iloc[:,2]\n",
    "df_new_cd['bin_pop3s'] = a * df_container_count.iloc[:,1]/df_pop_s.iloc[:,3]\n",
    "df_new_cd['bin_pop4s'] = a * df_container_count.iloc[:,1]/df_pop_s.iloc[:,4]\n",
    "df_new_cd['bin_pop5s'] = a * df_container_count.iloc[:,1]/df_pop_s.iloc[:,5]\n",
    "df_new_cd['bin_pop6s'] = a * df_container_count.iloc[:,1]/df_pop_s.iloc[:,6]\n",
    "df_new_cd['bin_pop7s'] = a * df_container_count.iloc[:,1]/df_pop_s.iloc[:,7]\n",
    "df_new_cd['bin_pop8s'] = a * df_container_count.iloc[:,1]/df_pop_s.iloc[:,8]\n",
    "df_new_cd['bin_pop9s'] = a * df_container_count.iloc[:,1]/df_pop_s.iloc[:,9]\n",
    "\n",
    "df_new_cd['bowl_pop1s'] = a * df_container_count.iloc[:,2]/df_pop_s.iloc[:,1]\n",
    "df_new_cd['bowl_pop2s'] = a * df_container_count.iloc[:,2]/df_pop_s.iloc[:,2]\n",
    "df_new_cd['bowl_pop3s'] = a * df_container_count.iloc[:,2]/df_pop_s.iloc[:,3]\n",
    "df_new_cd['bowl_pop4s'] = a * df_container_count.iloc[:,2]/df_pop_s.iloc[:,4]\n",
    "df_new_cd['bowl_pop5s'] = a * df_container_count.iloc[:,2]/df_pop_s.iloc[:,5]\n",
    "df_new_cd['bowl_pop6s'] = a * df_container_count.iloc[:,2]/df_pop_s.iloc[:,6]\n",
    "df_new_cd['bowl_pop7s'] = a * df_container_count.iloc[:,2]/df_pop_s.iloc[:,7]\n",
    "df_new_cd['bowl_pop8s'] = a * df_container_count.iloc[:,2]/df_pop_s.iloc[:,8]\n",
    "df_new_cd['bowl_pop9s'] = a * df_container_count.iloc[:,2]/df_pop_s.iloc[:,9]\n",
    "\n",
    "df_new_cd['bucket_pop1s'] = a * df_container_count.iloc[:,3]/df_pop_s.iloc[:,1]\n",
    "df_new_cd['bucket_pop2s'] = a * df_container_count.iloc[:,3]/df_pop_s.iloc[:,2]\n",
    "df_new_cd['bucket_pop3s'] = a * df_container_count.iloc[:,3]/df_pop_s.iloc[:,3]\n",
    "df_new_cd['bucket_pop4s'] = a * df_container_count.iloc[:,3]/df_pop_s.iloc[:,4]\n",
    "df_new_cd['bucket_pop5s'] = a * df_container_count.iloc[:,3]/df_pop_s.iloc[:,5]\n",
    "df_new_cd['bucket_pop6s'] = a * df_container_count.iloc[:,3]/df_pop_s.iloc[:,6]\n",
    "df_new_cd['bucket_pop7s'] = a * df_container_count.iloc[:,3]/df_pop_s.iloc[:,7]\n",
    "df_new_cd['bucket_pop8s'] = a * df_container_count.iloc[:,3]/df_pop_s.iloc[:,8]\n",
    "df_new_cd['bucket_pop9s'] = a * df_container_count.iloc[:,3]/df_pop_s.iloc[:,9]\n",
    "\n",
    "df_new_cd['misc_short_pop1s'] = a * df_container_count.iloc[:,4]/df_pop_s.iloc[:,1]\n",
    "df_new_cd['misc_short_pop2s'] = a * df_container_count.iloc[:,4]/df_pop_s.iloc[:,2]\n",
    "df_new_cd['misc_short_pop3s'] = a * df_container_count.iloc[:,4]/df_pop_s.iloc[:,3]\n",
    "df_new_cd['misc_short_pop4s'] = a * df_container_count.iloc[:,4]/df_pop_s.iloc[:,4]\n",
    "df_new_cd['misc_short_pop5s'] = a * df_container_count.iloc[:,4]/df_pop_s.iloc[:,5]\n",
    "df_new_cd['misc_short_pop6s'] = a * df_container_count.iloc[:,4]/df_pop_s.iloc[:,6]\n",
    "df_new_cd['misc_short_pop7s'] = a * df_container_count.iloc[:,4]/df_pop_s.iloc[:,7]\n",
    "df_new_cd['misc_short_pop8s'] = a * df_container_count.iloc[:,4]/df_pop_s.iloc[:,8]\n",
    "df_new_cd['misc_short_pop9s'] = a * df_container_count.iloc[:,4]/df_pop_s.iloc[:,9]\n",
    "\n",
    "df_new_cd['jar_pop1s'] = a * df_container_count.iloc[:,5]/df_pop_s.iloc[:,1]\n",
    "df_new_cd['jar_pop2s'] = a * df_container_count.iloc[:,5]/df_pop_s.iloc[:,2]\n",
    "df_new_cd['jar_pop3s'] = a * df_container_count.iloc[:,5]/df_pop_s.iloc[:,3]\n",
    "df_new_cd['jar_pop4s'] = a * df_container_count.iloc[:,5]/df_pop_s.iloc[:,4]\n",
    "df_new_cd['jar_pop5s'] = a * df_container_count.iloc[:,5]/df_pop_s.iloc[:,5]\n",
    "df_new_cd['jar_pop6s'] = a * df_container_count.iloc[:,5]/df_pop_s.iloc[:,6]\n",
    "df_new_cd['jar_pop7s'] = a * df_container_count.iloc[:,5]/df_pop_s.iloc[:,7]\n",
    "df_new_cd['jar_pop8s'] = a * df_container_count.iloc[:,5]/df_pop_s.iloc[:,8]\n",
    "df_new_cd['jar_pop9s'] = a * df_container_count.iloc[:,5]/df_pop_s.iloc[:,9]\n",
    "\n",
    "df_new_cd['pottedplant_pop1s'] = a * df_container_count.iloc[:,6]/df_pop_s.iloc[:,1]\n",
    "df_new_cd['pottedplant_pop2s'] = a * df_container_count.iloc[:,6]/df_pop_s.iloc[:,2]\n",
    "df_new_cd['pottedplant_pop3s'] = a * df_container_count.iloc[:,6]/df_pop_s.iloc[:,3]\n",
    "df_new_cd['pottedplant_pop4s'] = a * df_container_count.iloc[:,6]/df_pop_s.iloc[:,4]\n",
    "df_new_cd['pottedplant_pop5s'] = a * df_container_count.iloc[:,6]/df_pop_s.iloc[:,5]\n",
    "df_new_cd['pottedplant_pop6s'] = a * df_container_count.iloc[:,6]/df_pop_s.iloc[:,6]\n",
    "df_new_cd['pottedplant_pop7s'] = a * df_container_count.iloc[:,6]/df_pop_s.iloc[:,7]\n",
    "df_new_cd['pottedplant_pop8s'] = a * df_container_count.iloc[:,6]/df_pop_s.iloc[:,8]\n",
    "df_new_cd['pottedplant_pop9s'] = a * df_container_count.iloc[:,6]/df_pop_s.iloc[:,9]\n",
    "\n",
    "df_new_cd['tire_pop1s'] = a * df_container_count.iloc[:,7]/df_pop_s.iloc[:,1]\n",
    "df_new_cd['tire_pop2s'] = a * df_container_count.iloc[:,7]/df_pop_s.iloc[:,2]\n",
    "df_new_cd['tire_pop3s'] = a * df_container_count.iloc[:,7]/df_pop_s.iloc[:,3]\n",
    "df_new_cd['tire_pop4s'] = a * df_container_count.iloc[:,7]/df_pop_s.iloc[:,4]\n",
    "df_new_cd['tire_pop5s'] = a * df_container_count.iloc[:,7]/df_pop_s.iloc[:,5]\n",
    "df_new_cd['tire_pop6s'] = a * df_container_count.iloc[:,7]/df_pop_s.iloc[:,6]\n",
    "df_new_cd['tire_pop7s'] = a * df_container_count.iloc[:,7]/df_pop_s.iloc[:,7]\n",
    "df_new_cd['tire_pop8s'] = a * df_container_count.iloc[:,7]/df_pop_s.iloc[:,8]\n",
    "df_new_cd['tire_pop9s'] = a * df_container_count.iloc[:,7]/df_pop_s.iloc[:,9]\n",
    "\n",
    "df_new_cd['misc_tall_pop1s'] = a * df_container_count.iloc[:,8]/df_pop_s.iloc[:,1]\n",
    "df_new_cd['misc_tall_pop2s'] = a * df_container_count.iloc[:,8]/df_pop_s.iloc[:,2]\n",
    "df_new_cd['misc_tall_pop3s'] = a * df_container_count.iloc[:,8]/df_pop_s.iloc[:,3]\n",
    "df_new_cd['misc_tall_pop4s'] = a * df_container_count.iloc[:,8]/df_pop_s.iloc[:,4]\n",
    "df_new_cd['misc_tall_pop5s'] = a * df_container_count.iloc[:,8]/df_pop_s.iloc[:,5]\n",
    "df_new_cd['misc_tall_pop6s'] = a * df_container_count.iloc[:,8]/df_pop_s.iloc[:,6]\n",
    "df_new_cd['misc_tall_pop7s'] = a * df_container_count.iloc[:,8]/df_pop_s.iloc[:,7]\n",
    "df_new_cd['misc_tall_pop8s'] = a * df_container_count.iloc[:,8]/df_pop_s.iloc[:,8]\n",
    "df_new_cd['misc_tall_pop9s'] = a * df_container_count.iloc[:,8]/df_pop_s.iloc[:,9]\n",
    "\n",
    "df_new_cd['total_pop1s'] = a * df_container_count.iloc[:,9]/df_pop_s.iloc[:,1]\n",
    "df_new_cd['total_pop2s'] = a * df_container_count.iloc[:,9]/df_pop_s.iloc[:,2]\n",
    "df_new_cd['total_pop3s'] = a * df_container_count.iloc[:,9]/df_pop_s.iloc[:,3]\n",
    "df_new_cd['total_pop4s'] = a * df_container_count.iloc[:,9]/df_pop_s.iloc[:,4]\n",
    "df_new_cd['total_pop5s'] = a * df_container_count.iloc[:,9]/df_pop_s.iloc[:,5]\n",
    "df_new_cd['total_pop6s'] = a * df_container_count.iloc[:,9]/df_pop_s.iloc[:,6]\n",
    "df_new_cd['total_pop7s'] = a * df_container_count.iloc[:,9]/df_pop_s.iloc[:,7]\n",
    "df_new_cd['total_pop8s'] = a * df_container_count.iloc[:,9]/df_pop_s.iloc[:,8]\n",
    "df_new_cd['total_pop9s'] = a * df_container_count.iloc[:,9]/df_pop_s.iloc[:,9]\n",
    "\n",
    "df_new_cd.head()"
   ]
  },
  {
   "cell_type": "markdown",
   "metadata": {},
   "source": [
    "### Training"
   ]
  },
  {
   "cell_type": "code",
   "execution_count": null,
   "metadata": {},
   "outputs": [],
   "source": [
    "df_train_dist = pd.read_csv(os.path.join('Data','Modeling','Training&Testing','train_dist_original.csv'), header=0, skiprows=0)\n",
    "df_train_dist = df_train_dist.drop('Unnamed: 0', axis = 1)\n",
    "df_train_dist.head()"
   ]
  },
  {
   "cell_type": "code",
   "execution_count": null,
   "metadata": {},
   "outputs": [],
   "source": [
    "df_train_dist = pd.merge(df_train_dist, df_new_cd, how ='inner')\n",
    "df_train_dist.head()"
   ]
  },
  {
   "cell_type": "code",
   "execution_count": null,
   "metadata": {},
   "outputs": [],
   "source": [
    "#df_train_dist.to_csv('Data/Modeling/Training&Testing/train_dist_all.csv', encoding = 'utf-8')"
   ]
  },
  {
   "cell_type": "code",
   "execution_count": null,
   "metadata": {},
   "outputs": [],
   "source": [
    "df_train_dist = df_train_dist.iloc[:,[0,1,2,3,4,5,14,23,32,41,50,59,68,77,86]]\n",
    "df_train_dist.head()"
   ]
  },
  {
   "cell_type": "code",
   "execution_count": null,
   "metadata": {},
   "outputs": [],
   "source": [
    "df_train_dist.to_csv('Data/Modeling/Training&Testing/train_dist_total.csv', encoding = 'utf-8')"
   ]
  },
  {
   "cell_type": "code",
   "execution_count": null,
   "metadata": {},
   "outputs": [],
   "source": [
    "df_train_lag = pd.read_csv(os.path.join('Data','Modeling','Training&Testing','Backup','train_dist_all_lag.csv'))\n",
    "df_train_lag = df_train_lag.drop('Unnamed: 0', axis = 1)\n",
    "df_train_lag['WeekYear'] = df_train_lag[['Week','Year']].astype(str).sum(axis=1)\n",
    "df_train_lag['WeekYear'] = df_train_lag['WeekYear'].astype(str).str[:-2]\n",
    "df_train_lag.head()\n",
    "list = ['92014','102014','112014','122014','132014','142014','472016','482016','492016','502016','512016','522016']\n",
    "\n",
    "for i in range(len(list)):\n",
    "     df_train_lag = df_train_lag[df_train_lag.WeekYear != list[i]]\n",
    "\n",
    "df_train_lag.to_csv('Data/Modeling/Training&Testing/train_dist_all.csv', encoding = 'utf-8')"
   ]
  },
  {
   "cell_type": "markdown",
   "metadata": {},
   "source": [
    "### Testing"
   ]
  },
  {
   "cell_type": "code",
   "execution_count": null,
   "metadata": {},
   "outputs": [],
   "source": [
    "df_test_dist = pd.read_csv(os.path.join('Data','Modeling','Training&Testing','test_dist_original.csv'), header=0, skiprows=0)\n",
    "df_test_dist = df_test_dist.drop('Unnamed: 0', axis = 1)\n",
    "df_test_dist.head()"
   ]
  },
  {
   "cell_type": "code",
   "execution_count": null,
   "metadata": {},
   "outputs": [],
   "source": [
    "df_test_dist = pd.merge(df_test_dist, df_new_cd, how ='inner')\n",
    "df_test_dist.head()"
   ]
  },
  {
   "cell_type": "code",
   "execution_count": null,
   "metadata": {},
   "outputs": [],
   "source": [
    "df_test_dist.to_csv('Data/Modeling/Training&Testing/test_dist_all.csv', encoding = 'utf-8')"
   ]
  },
  {
   "cell_type": "code",
   "execution_count": null,
   "metadata": {},
   "outputs": [],
   "source": [
    "df_test_dist = df_test_dist.iloc[:,[0,1,2,3,4,5,14,23,32,41,50,59,68,77,86]]\n",
    "df_test_dist.head()"
   ]
  },
  {
   "cell_type": "code",
   "execution_count": null,
   "metadata": {},
   "outputs": [],
   "source": [
    "df_test_dist.to_csv('Data/Modeling/Training&Testing/test_dist_total.csv', encoding = 'utf-8')"
   ]
  },
  {
   "cell_type": "code",
   "execution_count": null,
   "metadata": {},
   "outputs": [],
   "source": [
    "df_test_lag = pd.read_csv(os.path.join('Data','Modeling','training&Testing','Backup','test_dist_all_lag.csv'))\n",
    "df_test_lag = df_test_lag.drop('Unnamed: 0', axis = 1)\n",
    "df_test_lag['WeekYear'] = df_test_lag[['Week','Year']].astype(str).sum(axis=1)\n",
    "df_test_lag['WeekYear'] = df_test_lag['WeekYear'].astype(str).str[:-2]\n",
    "df_test_lag.head()\n",
    "list = ['12017','22017','32017','42017','52017','62017','472017','482017','492017','502017','512017','522017']\n",
    "\n",
    "for i in range(len(list)):\n",
    "     df_test_lag = df_test_lag[df_test_lag.WeekYear != list[i]]\n",
    "        \n",
    "df_test_lag.to_csv('Data/Modeling/Training&Testing/test_dist_all.csv', encoding = 'utf-8')"
   ]
  }
 ],
 "metadata": {
  "kernelspec": {
   "display_name": "Python 3",
   "language": "python",
   "name": "python3"
  },
  "language_info": {
   "codemirror_mode": {
    "name": "ipython",
    "version": 3
   },
   "file_extension": ".py",
   "mimetype": "text/x-python",
   "name": "python",
   "nbconvert_exporter": "python",
   "pygments_lexer": "ipython3",
   "version": "3.6.5"
  }
 },
 "nbformat": 4,
 "nbformat_minor": 2
}
