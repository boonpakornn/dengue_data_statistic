{
 "cells": [
  {
   "cell_type": "markdown",
   "metadata": {},
   "source": [
    "# Image Coverage vs Container Counts"
   ]
  },
  {
   "cell_type": "code",
   "execution_count": 49,
   "metadata": {},
   "outputs": [],
   "source": [
    "import seaborn as sns; sns.set()\n",
    "import matplotlib.pyplot as plt\n",
    "import pandas as pd\n",
    "import os\n",
    "import numpy as np"
   ]
  },
  {
   "cell_type": "code",
   "execution_count": 50,
   "metadata": {},
   "outputs": [],
   "source": [
    "province = 'krabi'\n",
    "province2 = 'Krabi'"
   ]
  },
  {
   "cell_type": "code",
   "execution_count": 51,
   "metadata": {},
   "outputs": [
    {
     "data": {
      "text/html": [
       "<div>\n",
       "<style scoped>\n",
       "    .dataframe tbody tr th:only-of-type {\n",
       "        vertical-align: middle;\n",
       "    }\n",
       "\n",
       "    .dataframe tbody tr th {\n",
       "        vertical-align: top;\n",
       "    }\n",
       "\n",
       "    .dataframe thead th {\n",
       "        text-align: right;\n",
       "    }\n",
       "</style>\n",
       "<table border=\"1\" class=\"dataframe\">\n",
       "  <thead>\n",
       "    <tr style=\"text-align: right;\">\n",
       "      <th></th>\n",
       "      <th>addrcode</th>\n",
       "      <th>Image Coverage [%]</th>\n",
       "      <th>Container Counts</th>\n",
       "    </tr>\n",
       "  </thead>\n",
       "  <tbody>\n",
       "    <tr>\n",
       "      <th>0</th>\n",
       "      <td>810103</td>\n",
       "      <td>9.72</td>\n",
       "      <td>1039</td>\n",
       "    </tr>\n",
       "    <tr>\n",
       "      <th>1</th>\n",
       "      <td>810105</td>\n",
       "      <td>3.75</td>\n",
       "      <td>76</td>\n",
       "    </tr>\n",
       "    <tr>\n",
       "      <th>2</th>\n",
       "      <td>810106</td>\n",
       "      <td>3.66</td>\n",
       "      <td>396</td>\n",
       "    </tr>\n",
       "    <tr>\n",
       "      <th>3</th>\n",
       "      <td>810111</td>\n",
       "      <td>2.42</td>\n",
       "      <td>146</td>\n",
       "    </tr>\n",
       "    <tr>\n",
       "      <th>4</th>\n",
       "      <td>810115</td>\n",
       "      <td>7.16</td>\n",
       "      <td>339</td>\n",
       "    </tr>\n",
       "  </tbody>\n",
       "</table>\n",
       "</div>"
      ],
      "text/plain": [
       "   addrcode  Image Coverage [%]  Container Counts\n",
       "0    810103                9.72              1039\n",
       "1    810105                3.75                76\n",
       "2    810106                3.66               396\n",
       "3    810111                2.42               146\n",
       "4    810115                7.16               339"
      ]
     },
     "execution_count": 51,
     "metadata": {},
     "output_type": "execute_result"
    }
   ],
   "source": [
    "data = pd.read_csv(os.path.join('Data','Scatter','ImageCount_'+province+'.csv'), index_col = 0)\n",
    "data.columns = ['addrcode','Image Coverage [%]','Container Counts']\n",
    "data.head()"
   ]
  },
  {
   "cell_type": "code",
   "execution_count": 53,
   "metadata": {},
   "outputs": [
    {
     "data": {
      "text/plain": [
       "[(0, 2000), (0, 30)]"
      ]
     },
     "execution_count": 53,
     "metadata": {},
     "output_type": "execute_result"
    },
    {
     "data": {
      "image/png": "[encoded data removed]",
      "text/plain": [
       "<Figure size 720x432 with 1 Axes>"
      ]
     },
     "metadata": {},
     "output_type": "display_data"
    }
   ],
   "source": [
    "ax = plt.subplots(figsize=(10,6))\n",
    "ax = sns.scatterplot(x=\"Image Coverage [%]\", y=\"Container Counts\", data=data)\n",
    "ax.set(ylim=(0, 10000), xlim=(0,105))\n",
    "ax.set_title(\"Image Coverage vs Container Counts in \" + province2)\n",
    "ax.set(ylim=(0, 2000), xlim=(0,30))"
   ]
  },
  {
   "cell_type": "markdown",
   "metadata": {},
   "source": [
    "# Population vs Container Counts"
   ]
  },
  {
   "cell_type": "code",
   "execution_count": 16,
   "metadata": {},
   "outputs": [
    {
     "data": {
      "text/html": [
       "<div>\n",
       "<style scoped>\n",
       "    .dataframe tbody tr th:only-of-type {\n",
       "        vertical-align: middle;\n",
       "    }\n",
       "\n",
       "    .dataframe tbody tr th {\n",
       "        vertical-align: top;\n",
       "    }\n",
       "\n",
       "    .dataframe thead th {\n",
       "        text-align: right;\n",
       "    }\n",
       "</style>\n",
       "<table border=\"1\" class=\"dataframe\">\n",
       "  <thead>\n",
       "    <tr style=\"text-align: right;\">\n",
       "      <th></th>\n",
       "      <th>addrcode</th>\n",
       "      <th>Population</th>\n",
       "      <th>Container Counts</th>\n",
       "      <th>Pop Density</th>\n",
       "      <th>Province</th>\n",
       "    </tr>\n",
       "  </thead>\n",
       "  <tbody>\n",
       "    <tr>\n",
       "      <th>0</th>\n",
       "      <td>1001</td>\n",
       "      <td>50708</td>\n",
       "      <td>2527</td>\n",
       "      <td>1018.028508</td>\n",
       "      <td>Bangkok</td>\n",
       "    </tr>\n",
       "    <tr>\n",
       "      <th>1</th>\n",
       "      <td>1002</td>\n",
       "      <td>91338</td>\n",
       "      <td>1158</td>\n",
       "      <td>1721.085359</td>\n",
       "      <td>Bangkok</td>\n",
       "    </tr>\n",
       "    <tr>\n",
       "      <th>2</th>\n",
       "      <td>1003</td>\n",
       "      <td>166831</td>\n",
       "      <td>7432</td>\n",
       "      <td>83.232389</td>\n",
       "      <td>Bangkok</td>\n",
       "    </tr>\n",
       "    <tr>\n",
       "      <th>3</th>\n",
       "      <td>1004</td>\n",
       "      <td>37675</td>\n",
       "      <td>1956</td>\n",
       "      <td>1011.137950</td>\n",
       "      <td>Bangkok</td>\n",
       "    </tr>\n",
       "    <tr>\n",
       "      <th>4</th>\n",
       "      <td>1005</td>\n",
       "      <td>187466</td>\n",
       "      <td>14879</td>\n",
       "      <td>492.631524</td>\n",
       "      <td>Bangkok</td>\n",
       "    </tr>\n",
       "  </tbody>\n",
       "</table>\n",
       "</div>"
      ],
      "text/plain": [
       "  addrcode  Population  Container Counts  Pop Density Province\n",
       "0     1001       50708              2527  1018.028508  Bangkok\n",
       "1     1002       91338              1158  1721.085359  Bangkok\n",
       "2     1003      166831              7432    83.232389  Bangkok\n",
       "3     1004       37675              1956  1011.137950  Bangkok\n",
       "4     1005      187466             14879   492.631524  Bangkok"
      ]
     },
     "execution_count": 16,
     "metadata": {},
     "output_type": "execute_result"
    }
   ],
   "source": [
    "data = pd.read_csv(os.path.join('Data','Scatter','PopCount.csv'), index_col = 0)\n",
    "data['addrcode'] = data['addrcode'].astype(str)\n",
    "data.columns = ['addrcode','Population','Container Counts','Pop Density']\n",
    "list = []\n",
    "for i in range(len(data)):\n",
    "    if data['addrcode'][i][:2] == '10':\n",
    "        list.append('Bangkok')\n",
    "    elif data['addrcode'][i][:2] == '80':\n",
    "        list.append('NST')\n",
    "    elif data['addrcode'][i][:2] == '81':\n",
    "        list.append('Krabi')\n",
    "data['Province'] = list\n",
    "data.head()"
   ]
  },
  {
   "cell_type": "code",
   "execution_count": 17,
   "metadata": {},
   "outputs": [],
   "source": [
    "#data['Pop Density'] = data['Pop Density']/(data['Pop Density'].max())"
   ]
  },
  {
   "cell_type": "code",
   "execution_count": 18,
   "metadata": {},
   "outputs": [],
   "source": [
    "# data_nst = data.loc[data['Province'] == 'NST']\n",
    "# data_nst"
   ]
  },
  {
   "cell_type": "code",
   "execution_count": 43,
   "metadata": {},
   "outputs": [
    {
     "data": {
      "text/plain": [
       "<matplotlib.legend.Legend at 0x10c677390>"
      ]
     },
     "execution_count": 43,
     "metadata": {},
     "output_type": "execute_result"
    },
    {
     "data": {
      "image/png": "[encoded data removed]",
      "text/plain": [
       "<Figure size 648x360 with 1 Axes>"
      ]
     },
     "metadata": {},
     "output_type": "display_data"
    }
   ],
   "source": [
    "ax = plt.subplots(figsize=(9,5))\n",
    "# markersize = 0.2* data['Pop Density']\n",
    "kws = dict(s=100, linewidth=.5, edgecolor=\"w\")\n",
    "ax = sns.scatterplot(x=\"Population\" ,y=\"Container Counts\" ,hue = \"Province\" ,size = 'Pop Density', data=data)\n",
    "ax.set_title(\"Population vs Container Counts\")\n",
    "ax.set(ylim=(0, 16000), xlim=(0,200000))\n",
    "ax.legend(loc='center left', bbox_to_anchor=(1.02, 0.5), ncol=1, frameon = False)"
   ]
  },
  {
   "cell_type": "markdown",
   "metadata": {},
   "source": [
    "# Larval Survey"
   ]
  },
  {
   "cell_type": "code",
   "execution_count": 196,
   "metadata": {},
   "outputs": [
    {
     "data": {
      "text/html": [
       "<div>\n",
       "<style scoped>\n",
       "    .dataframe tbody tr th:only-of-type {\n",
       "        vertical-align: middle;\n",
       "    }\n",
       "\n",
       "    .dataframe tbody tr th {\n",
       "        vertical-align: top;\n",
       "    }\n",
       "\n",
       "    .dataframe thead th {\n",
       "        text-align: right;\n",
       "    }\n",
       "</style>\n",
       "<table border=\"1\" class=\"dataframe\">\n",
       "  <thead>\n",
       "    <tr style=\"text-align: right;\">\n",
       "      <th></th>\n",
       "      <th>addrcode</th>\n",
       "      <th>date</th>\n",
       "      <th>hi</th>\n",
       "      <th>ci</th>\n",
       "      <th>bi</th>\n",
       "    </tr>\n",
       "  </thead>\n",
       "  <tbody>\n",
       "    <tr>\n",
       "      <th>0</th>\n",
       "      <td>810405</td>\n",
       "      <td>2017-06-01</td>\n",
       "      <td>22.5</td>\n",
       "      <td>6.47</td>\n",
       "      <td>22.5</td>\n",
       "    </tr>\n",
       "    <tr>\n",
       "      <th>1</th>\n",
       "      <td>810405</td>\n",
       "      <td>2017-06-01</td>\n",
       "      <td>15.0</td>\n",
       "      <td>4.52</td>\n",
       "      <td>17.5</td>\n",
       "    </tr>\n",
       "    <tr>\n",
       "      <th>2</th>\n",
       "      <td>800409</td>\n",
       "      <td>2017-06-01</td>\n",
       "      <td>17.0</td>\n",
       "      <td>3.18</td>\n",
       "      <td>17.0</td>\n",
       "    </tr>\n",
       "    <tr>\n",
       "      <th>3</th>\n",
       "      <td>800904</td>\n",
       "      <td>2017-06-01</td>\n",
       "      <td>25.0</td>\n",
       "      <td>4.51</td>\n",
       "      <td>27.5</td>\n",
       "    </tr>\n",
       "    <tr>\n",
       "      <th>4</th>\n",
       "      <td>800912</td>\n",
       "      <td>2017-06-01</td>\n",
       "      <td>15.0</td>\n",
       "      <td>8.95</td>\n",
       "      <td>42.5</td>\n",
       "    </tr>\n",
       "  </tbody>\n",
       "</table>\n",
       "</div>"
      ],
      "text/plain": [
       "  addrcode        date    hi    ci    bi\n",
       "0   810405  2017-06-01  22.5  6.47  22.5\n",
       "1   810405  2017-06-01  15.0  4.52  17.5\n",
       "2   800409  2017-06-01  17.0  3.18  17.0\n",
       "3   800904  2017-06-01  25.0  4.51  27.5\n",
       "4   800912  2017-06-01  15.0  8.95  42.5"
      ]
     },
     "execution_count": 196,
     "metadata": {},
     "output_type": "execute_result"
    }
   ],
   "source": [
    "df_larval = pd.read_csv(os.path.join('Data','Larval Survey','larval-survey.csv'))\n",
    "df_larval['addrcode'] = df_larval['addrcode'].astype(str).str[:6]\n",
    "df_larval.head()"
   ]
  },
  {
   "cell_type": "code",
   "execution_count": 197,
   "metadata": {},
   "outputs": [
    {
     "data": {
      "text/html": [
       "<div>\n",
       "<style scoped>\n",
       "    .dataframe tbody tr th:only-of-type {\n",
       "        vertical-align: middle;\n",
       "    }\n",
       "\n",
       "    .dataframe tbody tr th {\n",
       "        vertical-align: top;\n",
       "    }\n",
       "\n",
       "    .dataframe thead th {\n",
       "        text-align: right;\n",
       "    }\n",
       "</style>\n",
       "<table border=\"1\" class=\"dataframe\">\n",
       "  <thead>\n",
       "    <tr style=\"text-align: right;\">\n",
       "      <th></th>\n",
       "      <th>addrcode</th>\n",
       "      <th>date</th>\n",
       "      <th>hi</th>\n",
       "      <th>ci</th>\n",
       "      <th>bi</th>\n",
       "    </tr>\n",
       "  </thead>\n",
       "  <tbody>\n",
       "    <tr>\n",
       "      <th>2</th>\n",
       "      <td>800409</td>\n",
       "      <td>2017-06-01</td>\n",
       "      <td>17.0</td>\n",
       "      <td>3.18</td>\n",
       "      <td>17.0</td>\n",
       "    </tr>\n",
       "    <tr>\n",
       "      <th>3</th>\n",
       "      <td>800904</td>\n",
       "      <td>2017-06-01</td>\n",
       "      <td>25.0</td>\n",
       "      <td>4.51</td>\n",
       "      <td>27.5</td>\n",
       "    </tr>\n",
       "    <tr>\n",
       "      <th>4</th>\n",
       "      <td>800912</td>\n",
       "      <td>2017-06-01</td>\n",
       "      <td>15.0</td>\n",
       "      <td>8.95</td>\n",
       "      <td>42.5</td>\n",
       "    </tr>\n",
       "    <tr>\n",
       "      <th>5</th>\n",
       "      <td>800903</td>\n",
       "      <td>2017-06-01</td>\n",
       "      <td>17.5</td>\n",
       "      <td>3.93</td>\n",
       "      <td>22.5</td>\n",
       "    </tr>\n",
       "    <tr>\n",
       "      <th>6</th>\n",
       "      <td>801104</td>\n",
       "      <td>2017-06-01</td>\n",
       "      <td>26.0</td>\n",
       "      <td>4.28</td>\n",
       "      <td>26.0</td>\n",
       "    </tr>\n",
       "  </tbody>\n",
       "</table>\n",
       "</div>"
      ],
      "text/plain": [
       "  addrcode        date    hi    ci    bi\n",
       "2   800409  2017-06-01  17.0  3.18  17.0\n",
       "3   800904  2017-06-01  25.0  4.51  27.5\n",
       "4   800912  2017-06-01  15.0  8.95  42.5\n",
       "5   800903  2017-06-01  17.5  3.93  22.5\n",
       "6   801104  2017-06-01  26.0  4.28  26.0"
      ]
     },
     "execution_count": 197,
     "metadata": {},
     "output_type": "execute_result"
    }
   ],
   "source": [
    "scope = ['80']\n",
    "df_larval = df_larval.loc[df_larval['addrcode'].str[:2] == scope[0]]\n",
    "df_larval.head()"
   ]
  },
  {
   "cell_type": "code",
   "execution_count": 198,
   "metadata": {},
   "outputs": [
    {
     "data": {
      "text/html": [
       "<div>\n",
       "<style scoped>\n",
       "    .dataframe tbody tr th:only-of-type {\n",
       "        vertical-align: middle;\n",
       "    }\n",
       "\n",
       "    .dataframe tbody tr th {\n",
       "        vertical-align: top;\n",
       "    }\n",
       "\n",
       "    .dataframe thead th {\n",
       "        text-align: right;\n",
       "    }\n",
       "</style>\n",
       "<table border=\"1\" class=\"dataframe\">\n",
       "  <thead>\n",
       "    <tr style=\"text-align: right;\">\n",
       "      <th></th>\n",
       "      <th>addrcode</th>\n",
       "      <th>Year</th>\n",
       "      <th>Month</th>\n",
       "      <th>hi</th>\n",
       "      <th>ci</th>\n",
       "      <th>bi</th>\n",
       "    </tr>\n",
       "  </thead>\n",
       "  <tbody>\n",
       "    <tr>\n",
       "      <th>0</th>\n",
       "      <td>8001</td>\n",
       "      <td>2011</td>\n",
       "      <td>12</td>\n",
       "      <td>0.0</td>\n",
       "      <td>0.00</td>\n",
       "      <td>0.0</td>\n",
       "    </tr>\n",
       "    <tr>\n",
       "      <th>1</th>\n",
       "      <td>8001</td>\n",
       "      <td>2011</td>\n",
       "      <td>5</td>\n",
       "      <td>5.0</td>\n",
       "      <td>0.77</td>\n",
       "      <td>6.0</td>\n",
       "    </tr>\n",
       "    <tr>\n",
       "      <th>2</th>\n",
       "      <td>8001</td>\n",
       "      <td>2011</td>\n",
       "      <td>8</td>\n",
       "      <td>5.0</td>\n",
       "      <td>0.83</td>\n",
       "      <td>6.0</td>\n",
       "    </tr>\n",
       "    <tr>\n",
       "      <th>3</th>\n",
       "      <td>8001</td>\n",
       "      <td>2012</td>\n",
       "      <td>2</td>\n",
       "      <td>18.0</td>\n",
       "      <td>3.65</td>\n",
       "      <td>53.0</td>\n",
       "    </tr>\n",
       "    <tr>\n",
       "      <th>4</th>\n",
       "      <td>8001</td>\n",
       "      <td>2012</td>\n",
       "      <td>5</td>\n",
       "      <td>11.0</td>\n",
       "      <td>3.63</td>\n",
       "      <td>38.0</td>\n",
       "    </tr>\n",
       "  </tbody>\n",
       "</table>\n",
       "</div>"
      ],
      "text/plain": [
       "  addrcode  Year Month    hi    ci    bi\n",
       "0     8001  2011    12   0.0  0.00   0.0\n",
       "1     8001  2011     5   5.0  0.77   6.0\n",
       "2     8001  2011     8   5.0  0.83   6.0\n",
       "3     8001  2012     2  18.0  3.65  53.0\n",
       "4     8001  2012     5  11.0  3.63  38.0"
      ]
     },
     "execution_count": 198,
     "metadata": {},
     "output_type": "execute_result"
    }
   ],
   "source": [
    "df_larval['Year'] = pd.DatetimeIndex(df_larval['date']).year\n",
    "df_larval['Month'] = pd.DatetimeIndex(df_larval['date']).month\n",
    "#df_larval = df_larval[['addrcode','date','Month','Year','hi','ci','bi']].drop('date',axis = 1)\n",
    "df_larval['Year'] = df_larval['Year'].astype(str)\n",
    "df_larval['Month'] = df_larval['Month'].astype(str)\n",
    "df_larval = df_larval.groupby([df_larval['addrcode'].str[:4], df_larval['Year'], df_larval['Month']]).sum().reset_index()\n",
    "\n",
    "df_larval.head()"
   ]
  },
  {
   "cell_type": "code",
   "execution_count": 199,
   "metadata": {},
   "outputs": [],
   "source": [
    "list = ['2011','2012','2013','2014']\n",
    "for i in range(len(list)):\n",
    "    df_larval = df_larval[df_larval.Year != list[i]]"
   ]
  },
  {
   "cell_type": "code",
   "execution_count": 200,
   "metadata": {},
   "outputs": [],
   "source": [
    "# df_survey = pd.read_csv(os.path.join('Data','Larval Survey','larval-survey.csv')) \n",
    "# df_survey = df_survey.replace(0, np.nan) \n",
    "# df_survey = df_survey.dropna(axis=0, how='any') \n",
    "# df_survey = df_survey.reset_index(drop=True) \n",
    "# df_survey['addrcode'] = df_survey['addrcode'].astype('int') \n",
    "# df_survey['date'] = pd.to_datetime(df_survey['date'], format='%Y-%m') \n",
    "# df_survey = df_survey.set_index('date') \n",
    "# df_survey = df_survey.sort_index() \n",
    "# df_survey = df_survey['2015':'2017'] \n",
    "# # df_survey = query.filter_survey(df_survey, index=‘bi’) \n",
    "# print('Before:',len(df_survey[df_survey['addrcode']==800404])) \n",
    "\n",
    "# index='bi'\n",
    "# df_filtered = [] \n",
    "# for addrcode in df_survey['addrcode'].unique(): \n",
    "#     tmp = df_survey.loc[df_survey['addrcode'] == addrcode].copy() \n",
    "#     if len(tmp) == 1 and tmp[index].mean() < 100: \n",
    "#         df_filtered.append(tmp.copy()) \n",
    "#     df_filtered.append(tmp[np.abs(tmp[index]-tmp[index].mean()) <= (1*tmp[index].std())].copy()) \n",
    "# df_filtered = pd.concat(df_filtered, axis=0) \n",
    "# print('After:',len(df_filtered[df_filtered['addrcode']==800404]))\n"
   ]
  },
  {
   "cell_type": "code",
   "execution_count": 201,
   "metadata": {},
   "outputs": [
    {
     "name": "stderr",
     "output_type": "stream",
     "text": [
      "/usr/local/lib/python3.6/site-packages/ipykernel_launcher.py:4: SettingWithCopyWarning: \n",
      "A value is trying to be set on a copy of a slice from a DataFrame.\n",
      "Try using .loc[row_indexer,col_indexer] = value instead\n",
      "\n",
      "See the caveats in the documentation: http://pandas.pydata.org/pandas-docs/stable/indexing.html#indexing-view-versus-copy\n",
      "  after removing the cwd from sys.path.\n",
      "/usr/local/lib/python3.6/site-packages/ipykernel_launcher.py:6: SettingWithCopyWarning: \n",
      "A value is trying to be set on a copy of a slice from a DataFrame.\n",
      "Try using .loc[row_indexer,col_indexer] = value instead\n",
      "\n",
      "See the caveats in the documentation: http://pandas.pydata.org/pandas-docs/stable/indexing.html#indexing-view-versus-copy\n",
      "  \n",
      "/usr/local/lib/python3.6/site-packages/ipykernel_launcher.py:8: SettingWithCopyWarning: \n",
      "A value is trying to be set on a copy of a slice from a DataFrame.\n",
      "Try using .loc[row_indexer,col_indexer] = value instead\n",
      "\n",
      "See the caveats in the documentation: http://pandas.pydata.org/pandas-docs/stable/indexing.html#indexing-view-versus-copy\n",
      "  \n"
     ]
    },
    {
     "data": {
      "text/html": [
       "<div>\n",
       "<style scoped>\n",
       "    .dataframe tbody tr th:only-of-type {\n",
       "        vertical-align: middle;\n",
       "    }\n",
       "\n",
       "    .dataframe tbody tr th {\n",
       "        vertical-align: top;\n",
       "    }\n",
       "\n",
       "    .dataframe thead th {\n",
       "        text-align: right;\n",
       "    }\n",
       "</style>\n",
       "<table border=\"1\" class=\"dataframe\">\n",
       "  <thead>\n",
       "    <tr style=\"text-align: right;\">\n",
       "      <th></th>\n",
       "      <th>addrcode</th>\n",
       "      <th>Year</th>\n",
       "      <th>Month</th>\n",
       "      <th>hi</th>\n",
       "      <th>ci</th>\n",
       "      <th>bi</th>\n",
       "    </tr>\n",
       "  </thead>\n",
       "  <tbody>\n",
       "    <tr>\n",
       "      <th>318</th>\n",
       "      <td>8020</td>\n",
       "      <td>2015</td>\n",
       "      <td>2</td>\n",
       "      <td>13.0</td>\n",
       "      <td>3.76</td>\n",
       "      <td>13.0</td>\n",
       "    </tr>\n",
       "    <tr>\n",
       "      <th>224</th>\n",
       "      <td>8013</td>\n",
       "      <td>2015</td>\n",
       "      <td>2</td>\n",
       "      <td>24.0</td>\n",
       "      <td>6.32</td>\n",
       "      <td>62.0</td>\n",
       "    </tr>\n",
       "    <tr>\n",
       "      <th>170</th>\n",
       "      <td>8009</td>\n",
       "      <td>2015</td>\n",
       "      <td>2</td>\n",
       "      <td>29.0</td>\n",
       "      <td>7.81</td>\n",
       "      <td>41.0</td>\n",
       "    </tr>\n",
       "    <tr>\n",
       "      <th>333</th>\n",
       "      <td>8022</td>\n",
       "      <td>2015</td>\n",
       "      <td>2</td>\n",
       "      <td>16.0</td>\n",
       "      <td>2.06</td>\n",
       "      <td>20.0</td>\n",
       "    </tr>\n",
       "    <tr>\n",
       "      <th>145</th>\n",
       "      <td>8008</td>\n",
       "      <td>2015</td>\n",
       "      <td>2</td>\n",
       "      <td>21.0</td>\n",
       "      <td>3.95</td>\n",
       "      <td>21.0</td>\n",
       "    </tr>\n",
       "  </tbody>\n",
       "</table>\n",
       "</div>"
      ],
      "text/plain": [
       "    addrcode  Year  Month    hi    ci    bi\n",
       "318     8020  2015      2  13.0  3.76  13.0\n",
       "224     8013  2015      2  24.0  6.32  62.0\n",
       "170     8009  2015      2  29.0  7.81  41.0\n",
       "333     8022  2015      2  16.0  2.06  20.0\n",
       "145     8008  2015      2  21.0  3.95  21.0"
      ]
     },
     "execution_count": 201,
     "metadata": {},
     "output_type": "execute_result"
    }
   ],
   "source": [
    "df_larval_2015 = df_larval.loc[df_larval['Year'] == '2015']\n",
    "df_larval_2016 = df_larval.loc[df_larval['Year'] == '2016']\n",
    "df_larval_2017 = df_larval.loc[df_larval['Year'] == '2017']\n",
    "df_larval_2015['Month'] = df_larval_2015['Month'].astype(int)\n",
    "df_larval_2015 = df_larval_2015.sort_values('Month')\n",
    "df_larval_2016['Month'] = df_larval_2016['Month'].astype(int)\n",
    "df_larval_2016 = df_larval_2016.sort_values('Month')\n",
    "df_larval_2017['Month'] = df_larval_2017['Month'].astype(int)\n",
    "df_larval_2017 = df_larval_2017.sort_values('Month')\n",
    "df_larval_2015.head()"
   ]
  },
  {
   "cell_type": "code",
   "execution_count": 202,
   "metadata": {},
   "outputs": [
    {
     "data": {
      "text/plain": [
       "Text(0.5,1,'Breteau Index Scatter plot')"
      ]
     },
     "execution_count": 202,
     "metadata": {},
     "output_type": "execute_result"
    },
    {
     "data": {
      "image/png": "[encoded data removed]",
      "text/plain": [
       "<Figure size 1080x648 with 1 Axes>"
      ]
     },
     "metadata": {},
     "output_type": "display_data"
    }
   ],
   "source": [
    "df_larval.columns = ['addrcode','Year','Month','HI','CI','BI']\n",
    "ax = plt.subplots(figsize=(15,9))\n",
    "ax = sns.scatterplot(x=\"Month\" ,y=\"BI\" , data=df_larval)\n",
    "ax.set_title(\"Breteau Index Scatter plot\")"
   ]
  },
  {
   "cell_type": "code",
   "execution_count": 203,
   "metadata": {},
   "outputs": [
    {
     "data": {
      "text/plain": [
       "Text(0.5,1,'Breteau Index Scatter plot')"
      ]
     },
     "execution_count": 203,
     "metadata": {},
     "output_type": "execute_result"
    },
    {
     "data": {
      "image/png": "[encoded data removed]",
      "text/plain": [
       "<Figure size 1080x648 with 1 Axes>"
      ]
     },
     "metadata": {},
     "output_type": "display_data"
    }
   ],
   "source": [
    "df_larval_2015.columns = ['addrcode','Year','Month','HI','CI','BI']\n",
    "ax = plt.subplots(figsize=(15,9))\n",
    "ax = sns.scatterplot(x=\"Month\" ,y=\"BI\" , data=df_larval_2015)\n",
    "ax.set_title(\"Breteau Index Scatter plot\")"
   ]
  },
  {
   "cell_type": "code",
   "execution_count": 204,
   "metadata": {},
   "outputs": [
    {
     "data": {
      "text/plain": [
       "Text(0.5,1,'Breteau Index Scatter plot')"
      ]
     },
     "execution_count": 204,
     "metadata": {},
     "output_type": "execute_result"
    },
    {
     "data": {
      "image/png": "[encoded data removed]",
      "text/plain": [
       "<Figure size 1080x648 with 1 Axes>"
      ]
     },
     "metadata": {},
     "output_type": "display_data"
    }
   ],
   "source": [
    "df_larval_2016.columns = ['addrcode','Year','Month','HI','CI','BI']\n",
    "ax = plt.subplots(figsize=(15,9))\n",
    "ax = sns.scatterplot(x=\"Month\" ,y=\"BI\" , data=df_larval_2016)\n",
    "ax.set_title(\"Breteau Index Scatter plot\")"
   ]
  },
  {
   "cell_type": "code",
   "execution_count": 205,
   "metadata": {},
   "outputs": [
    {
     "data": {
      "text/plain": [
       "Text(0.5,1,'Breteau Index Scatter plot')"
      ]
     },
     "execution_count": 205,
     "metadata": {},
     "output_type": "execute_result"
    },
    {
     "data": {
      "image/png": "[encoded data removed]",
      "text/plain": [
       "<Figure size 1080x648 with 1 Axes>"
      ]
     },
     "metadata": {},
     "output_type": "display_data"
    }
   ],
   "source": [
    "df_larval_2017.columns = ['addrcode','Year','Month','HI','CI','BI']\n",
    "ax = plt.subplots(figsize=(15,9))\n",
    "ax = sns.scatterplot(x=\"Month\" ,y=\"BI\" , data=df_larval_2017)\n",
    "ax.set_title(\"Breteau Index Scatter plot\")"
   ]
  },
  {
   "cell_type": "code",
   "execution_count": null,
   "metadata": {},
   "outputs": [],
   "source": []
  }
 ],
 "metadata": {
  "kernelspec": {
   "display_name": "Python 3",
   "language": "python",
   "name": "python3"
  },
  "language_info": {
   "codemirror_mode": {
    "name": "ipython",
    "version": 3
   },
   "file_extension": ".py",
   "mimetype": "text/x-python",
   "name": "python",
   "nbconvert_exporter": "python",
   "pygments_lexer": "ipython3",
   "version": "3.6.5"
  }
 },
 "nbformat": 4,
 "nbformat_minor": 2
}
