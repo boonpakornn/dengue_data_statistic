{
 "cells": [
  {
   "cell_type": "markdown",
   "metadata": {},
   "source": [
    "## Residual Error Computation"
   ]
  },
  {
   "cell_type": "code",
   "execution_count": 99,
   "metadata": {},
   "outputs": [],
   "source": [
    "import pandas as pd\n",
    "import os\n",
    "import glob"
   ]
  },
  {
   "cell_type": "code",
   "execution_count": 100,
   "metadata": {},
   "outputs": [],
   "source": [
    "province = 'bangkok'\n",
    "#province = 'nakhon'\n",
    "#province = 'krabi'\n",
    "\n",
    "#level = 'Dist'\n",
    "level = 'Subdist'"
   ]
  },
  {
   "cell_type": "code",
   "execution_count": 103,
   "metadata": {},
   "outputs": [
    {
     "name": "stderr",
     "output_type": "stream",
     "text": [
      "100%|██████████| 6/6 [00:00<00:00, 12576.62it/s]\n"
     ]
    }
   ],
   "source": [
    "from tqdm import tqdm\n",
    "from os import listdir\n",
    "#path = './Residual/'+province+'-'+level+'/'\n",
    "path = './Residual/Combined/'\n",
    "filename = []\n",
    "filelist= listdir(path)\n",
    "for f in tqdm(filelist):\n",
    "    #if f.startswith(province+'_'+level):\n",
    "        filename.append(f)"
   ]
  },
  {
   "cell_type": "markdown",
   "metadata": {},
   "source": [
    "### Groupby Addrcode "
   ]
  },
  {
   "cell_type": "code",
   "execution_count": 102,
   "metadata": {},
   "outputs": [],
   "source": [
    "for filename in filename:\n",
    "    df_residual = pd.read_csv(os.path.join(path+filename), index_col = 0)\n",
    "    df_residual['addrcode'] = df_residual['addrcode'].astype(str)\n",
    "    df_residual = df_residual.groupby(['addrcode']).mean().reset_index()#.drop(['Week','Year'], axis = 1)\n",
    "    df_residual.to_csv(path+filename, encoding = 'utf-8')"
   ]
  },
  {
   "cell_type": "markdown",
   "metadata": {},
   "source": [
    "### Concat All files"
   ]
  },
  {
   "cell_type": "code",
   "execution_count": 80,
   "metadata": {},
   "outputs": [],
   "source": [
    "path = './Residual/'+province+'-'+level+'/'\n",
    "allFiles = glob.glob(path + \"/*.csv\")\n",
    "\n",
    "list_ = []\n",
    "\n",
    "for file_ in allFiles:\n",
    "    df = pd.read_csv(file_,index_col=None, header=0)\n",
    "    list_.append(df)\n",
    "\n",
    "frame = pd.concat(list_, axis = 0, ignore_index = True)\n",
    "frame.to_csv(province+'_'+level+'_Residual.csv', encoding = 'utf-8')"
   ]
  },
  {
   "cell_type": "code",
   "execution_count": 104,
   "metadata": {},
   "outputs": [],
   "source": [
    "for filename in filename:\n",
    "    df_residual = pd.read_csv(os.path.join(path+filename), index_col = 0)\n",
    "    df_residual['addrcode'] = df_residual['addrcode'].astype(str)\n",
    "    df_residual['residual'] = (df_residual['actual'] - df_residual['predicted']).abs()\n",
    "    df_residual.to_csv(path+filename, encoding = 'utf-8')"
   ]
  },
  {
   "cell_type": "code",
   "execution_count": null,
   "metadata": {},
   "outputs": [],
   "source": []
  }
 ],
 "metadata": {
  "kernelspec": {
   "display_name": "Python 3",
   "language": "python",
   "name": "python3"
  },
  "language_info": {
   "codemirror_mode": {
    "name": "ipython",
    "version": 3
   },
   "file_extension": ".py",
   "mimetype": "text/x-python",
   "name": "python",
   "nbconvert_exporter": "python",
   "pygments_lexer": "ipython3",
   "version": "3.6.5"
  }
 },
 "nbformat": 4,
 "nbformat_minor": 2
}
