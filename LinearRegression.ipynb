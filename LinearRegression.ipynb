{
 "cells": [
  {
   "cell_type": "markdown",
   "metadata": {},
   "source": [
    "# Linear Regression"
   ]
  },
  {
   "cell_type": "code",
   "execution_count": 9,
   "metadata": {},
   "outputs": [],
   "source": [
    "import matplotlib.pyplot as plt\n",
    "import numpy as np\n",
    "from sklearn.linear_model import LinearRegression\n",
    "from sklearn.model_selection import train_test_split\n",
    "import pandas as pd\n",
    "import numpy as np\n",
    "from sklearn.metrics import mean_squared_error\n",
    "import os\n",
    "import matplotlib.pyplot as plt\n",
    "import glob"
   ]
  },
  {
   "cell_type": "code",
   "execution_count": 14,
   "metadata": {},
   "outputs": [],
   "source": [
    "df_train =  pd.read_csv(os.path.join('Data','Modeling','Training&Testing','train_dist_total.csv'), header=0, skiprows=0)\n",
    "df_train = df_train.drop('Unnamed: 0', axis = 1)\n",
    "#df_train = df_train.drop(['bin','bowl','bucket','misc_short','jar','pottedplant','tire','misc_tall'], axis = 1)\n",
    "df_test = pd.read_csv(os.path.join('Data','Modeling','Training&Testing','test_dist_total.csv'), header=0, skiprows=0)\n",
    "df_test = df_test.drop('Unnamed: 0', axis = 1)\n",
    "#df_test = df_test.drop(['bin','bowl','bucket','misc_short','jar','pottedplant','tire','misc_tall'], axis = 1)\n",
    "df_test_week_addrcode = df_test.iloc[:,[0,1,2,3]]"
   ]
  },
  {
   "cell_type": "code",
   "execution_count": 15,
   "metadata": {},
   "outputs": [
    {
     "data": {
      "text/html": [
       "<div>\n",
       "<style scoped>\n",
       "    .dataframe tbody tr th:only-of-type {\n",
       "        vertical-align: middle;\n",
       "    }\n",
       "\n",
       "    .dataframe tbody tr th {\n",
       "        vertical-align: top;\n",
       "    }\n",
       "\n",
       "    .dataframe thead th {\n",
       "        text-align: right;\n",
       "    }\n",
       "</style>\n",
       "<table border=\"1\" class=\"dataframe\">\n",
       "  <thead>\n",
       "    <tr style=\"text-align: right;\">\n",
       "      <th></th>\n",
       "      <th>addrcode</th>\n",
       "      <th>Week</th>\n",
       "      <th>Year</th>\n",
       "      <th>rainfall</th>\n",
       "      <th>temperature</th>\n",
       "      <th>DF_6</th>\n",
       "      <th>DF_5</th>\n",
       "      <th>DF_4</th>\n",
       "      <th>DF_3</th>\n",
       "      <th>DF_2</th>\n",
       "      <th>...</th>\n",
       "      <th>bin_pop9s</th>\n",
       "      <th>bowl_pop9s</th>\n",
       "      <th>bucket_pop9s</th>\n",
       "      <th>misc_short_pop9s</th>\n",
       "      <th>jar_pop9s</th>\n",
       "      <th>pottedplant_pop9s</th>\n",
       "      <th>tire_pop9s</th>\n",
       "      <th>misc_tall_pop9s</th>\n",
       "      <th>total_pop9s</th>\n",
       "      <th>WeekYear</th>\n",
       "    </tr>\n",
       "  </thead>\n",
       "  <tbody>\n",
       "    <tr>\n",
       "      <th>0</th>\n",
       "      <td>8001</td>\n",
       "      <td>15</td>\n",
       "      <td>2014</td>\n",
       "      <td>392.79</td>\n",
       "      <td>534.055000</td>\n",
       "      <td>0.111947</td>\n",
       "      <td>0.000000</td>\n",
       "      <td>0.111947</td>\n",
       "      <td>0.037316</td>\n",
       "      <td>0.111947</td>\n",
       "      <td>...</td>\n",
       "      <td>0.437153</td>\n",
       "      <td>0.02127</td>\n",
       "      <td>1.557183</td>\n",
       "      <td>0.030039</td>\n",
       "      <td>0.066235</td>\n",
       "      <td>1.366126</td>\n",
       "      <td>0.233969</td>\n",
       "      <td>0.003732</td>\n",
       "      <td>3.715707</td>\n",
       "      <td>152014</td>\n",
       "    </tr>\n",
       "    <tr>\n",
       "      <th>1</th>\n",
       "      <td>8001</td>\n",
       "      <td>16</td>\n",
       "      <td>2014</td>\n",
       "      <td>900.96</td>\n",
       "      <td>529.350179</td>\n",
       "      <td>0.037316</td>\n",
       "      <td>0.111947</td>\n",
       "      <td>0.000000</td>\n",
       "      <td>0.111947</td>\n",
       "      <td>0.037316</td>\n",
       "      <td>...</td>\n",
       "      <td>0.437153</td>\n",
       "      <td>0.02127</td>\n",
       "      <td>1.557183</td>\n",
       "      <td>0.030039</td>\n",
       "      <td>0.066235</td>\n",
       "      <td>1.366126</td>\n",
       "      <td>0.233969</td>\n",
       "      <td>0.003732</td>\n",
       "      <td>3.715707</td>\n",
       "      <td>162014</td>\n",
       "    </tr>\n",
       "    <tr>\n",
       "      <th>2</th>\n",
       "      <td>8001</td>\n",
       "      <td>17</td>\n",
       "      <td>2014</td>\n",
       "      <td>231.32</td>\n",
       "      <td>534.402321</td>\n",
       "      <td>0.074631</td>\n",
       "      <td>0.037316</td>\n",
       "      <td>0.111947</td>\n",
       "      <td>0.000000</td>\n",
       "      <td>0.111947</td>\n",
       "      <td>...</td>\n",
       "      <td>0.437153</td>\n",
       "      <td>0.02127</td>\n",
       "      <td>1.557183</td>\n",
       "      <td>0.030039</td>\n",
       "      <td>0.066235</td>\n",
       "      <td>1.366126</td>\n",
       "      <td>0.233969</td>\n",
       "      <td>0.003732</td>\n",
       "      <td>3.715707</td>\n",
       "      <td>172014</td>\n",
       "    </tr>\n",
       "    <tr>\n",
       "      <th>3</th>\n",
       "      <td>8001</td>\n",
       "      <td>18</td>\n",
       "      <td>2014</td>\n",
       "      <td>160.58</td>\n",
       "      <td>533.296429</td>\n",
       "      <td>0.186578</td>\n",
       "      <td>0.074631</td>\n",
       "      <td>0.037316</td>\n",
       "      <td>0.111947</td>\n",
       "      <td>0.000000</td>\n",
       "      <td>...</td>\n",
       "      <td>0.437153</td>\n",
       "      <td>0.02127</td>\n",
       "      <td>1.557183</td>\n",
       "      <td>0.030039</td>\n",
       "      <td>0.066235</td>\n",
       "      <td>1.366126</td>\n",
       "      <td>0.233969</td>\n",
       "      <td>0.003732</td>\n",
       "      <td>3.715707</td>\n",
       "      <td>182014</td>\n",
       "    </tr>\n",
       "    <tr>\n",
       "      <th>4</th>\n",
       "      <td>8001</td>\n",
       "      <td>19</td>\n",
       "      <td>2014</td>\n",
       "      <td>772.69</td>\n",
       "      <td>519.859821</td>\n",
       "      <td>0.223894</td>\n",
       "      <td>0.186578</td>\n",
       "      <td>0.074631</td>\n",
       "      <td>0.037316</td>\n",
       "      <td>0.111947</td>\n",
       "      <td>...</td>\n",
       "      <td>0.437153</td>\n",
       "      <td>0.02127</td>\n",
       "      <td>1.557183</td>\n",
       "      <td>0.030039</td>\n",
       "      <td>0.066235</td>\n",
       "      <td>1.366126</td>\n",
       "      <td>0.233969</td>\n",
       "      <td>0.003732</td>\n",
       "      <td>3.715707</td>\n",
       "      <td>192014</td>\n",
       "    </tr>\n",
       "  </tbody>\n",
       "</table>\n",
       "<p>5 rows × 27 columns</p>\n",
       "</div>"
      ],
      "text/plain": [
       "   addrcode  Week  Year  rainfall  temperature      DF_6      DF_5      DF_4  \\\n",
       "0      8001    15  2014    392.79   534.055000  0.111947  0.000000  0.111947   \n",
       "1      8001    16  2014    900.96   529.350179  0.037316  0.111947  0.000000   \n",
       "2      8001    17  2014    231.32   534.402321  0.074631  0.037316  0.111947   \n",
       "3      8001    18  2014    160.58   533.296429  0.186578  0.074631  0.037316   \n",
       "4      8001    19  2014    772.69   519.859821  0.223894  0.186578  0.074631   \n",
       "\n",
       "       DF_3      DF_2    ...     bin_pop9s  bowl_pop9s  bucket_pop9s  \\\n",
       "0  0.037316  0.111947    ...      0.437153     0.02127      1.557183   \n",
       "1  0.111947  0.037316    ...      0.437153     0.02127      1.557183   \n",
       "2  0.000000  0.111947    ...      0.437153     0.02127      1.557183   \n",
       "3  0.111947  0.000000    ...      0.437153     0.02127      1.557183   \n",
       "4  0.037316  0.111947    ...      0.437153     0.02127      1.557183   \n",
       "\n",
       "   misc_short_pop9s  jar_pop9s  pottedplant_pop9s  tire_pop9s  \\\n",
       "0          0.030039   0.066235           1.366126    0.233969   \n",
       "1          0.030039   0.066235           1.366126    0.233969   \n",
       "2          0.030039   0.066235           1.366126    0.233969   \n",
       "3          0.030039   0.066235           1.366126    0.233969   \n",
       "4          0.030039   0.066235           1.366126    0.233969   \n",
       "\n",
       "   misc_tall_pop9s  total_pop9s  WeekYear  \n",
       "0         0.003732     3.715707    152014  \n",
       "1         0.003732     3.715707    162014  \n",
       "2         0.003732     3.715707    172014  \n",
       "3         0.003732     3.715707    182014  \n",
       "4         0.003732     3.715707    192014  \n",
       "\n",
       "[5 rows x 27 columns]"
      ]
     },
     "execution_count": 15,
     "metadata": {},
     "output_type": "execute_result"
    }
   ],
   "source": [
    "df_train.head()"
   ]
  },
  {
   "cell_type": "markdown",
   "metadata": {},
   "source": [
    "### [Subdistrict]"
   ]
  },
  {
   "cell_type": "code",
   "execution_count": 16,
   "metadata": {},
   "outputs": [
    {
     "name": "stdout",
     "output_type": "stream",
     "text": [
      "Linear Regression R squared: 0.1296\n",
      "Linear Regression RMSE: 0.3816\n",
      "Linear Regression MAE: 0.2672\n",
      "\n",
      "\n"
     ]
    },
    {
     "data": {
      "image/png": "[encoded data removed]",
      "text/plain": [
       "<Figure size 432x288 with 1 Axes>"
      ]
     },
     "metadata": {
      "needs_background": "light"
     },
     "output_type": "display_data"
    }
   ],
   "source": [
    "################ Without CD ################\n",
    "\n",
    "#X_train = df_train.iloc[:,range(4,26)]\n",
    "X_train = df_train.iloc[:,[9,10,11,12,13,14]]\n",
    "Y_train = df_train.iloc[:,[5]]\n",
    "#X_test = df_test.iloc[:,range(4,26)]\n",
    "X_test = df_test.iloc[:,[9,10,11,12,13,14]]\n",
    "Y_test = df_test.iloc[:,[5]]\n",
    "\n",
    "#X_train, X_test, y_train, y_test = train_test_split(X, Y, test_size=0.3, random_state=0)\n",
    "regressor = LinearRegression()\n",
    "regressor.fit(X_train, Y_train)\n",
    "Y_pred = regressor.predict(X_test)\n",
    "print('Linear Regression R squared: %.4f' % regressor.score(X_test, Y_test))\n",
    "\n",
    "# calculate RMSE\n",
    "lin_mse = mean_squared_error(Y_pred, Y_test)\n",
    "lin_rmse = np.sqrt(lin_mse)\n",
    "print('Linear Regression RMSE: %.4f' % lin_rmse)\n",
    "\n",
    "# calculate MAE\n",
    "from sklearn.metrics import mean_absolute_error\n",
    "lin_mae = mean_absolute_error(Y_pred, Y_test)\n",
    "print('Linear Regression MAE: %.4f' % lin_mae)\n",
    "print('\\n')\n",
    "\n",
    "Y_test = Y_test.reset_index()\n",
    "Y_test = Y_test.drop('index', axis = 1)\n",
    "predicted = pd.DataFrame({'Predicted':Y_pred[:,0]})\n",
    "df_compare = pd.concat([predicted,Y_test], axis = 1)\n",
    "df_compare.columns = ['predicted', 'actual']\n",
    "df_compare_addrcode = pd.concat([df_test_week_addrcode, df_compare], axis = 1)\n",
    "#df_compare_addrcode.to_csv('linear_regression_compare_subdist_withoutCD.csv', encoding = 'utf-8')\n",
    "plot = plt.plot(df_compare)\n",
    "#plot = plt.ylabel('y')\n",
    "#plot = plt.xlabel('x')\n",
    "plot = plt.legend(['predicted', 'actual'])"
   ]
  },
  {
   "cell_type": "code",
   "execution_count": 17,
   "metadata": {},
   "outputs": [
    {
     "name": "stdout",
     "output_type": "stream",
     "text": [
      "Linear Regression R squared: 0.1392\n",
      "Linear Regression RMSE: 0.3795\n",
      "Linear Regression MAE: 0.2675\n",
      "\n",
      "\n"
     ]
    },
    {
     "data": {
      "image/png": "[encoded data removed]",
      "text/plain": [
       "<Figure size 432x288 with 1 Axes>"
      ]
     },
     "metadata": {
      "needs_background": "light"
     },
     "output_type": "display_data"
    }
   ],
   "source": [
    "################ With CD ################\n",
    "\n",
    "#X_train = df_train.iloc[:,range(4,26)]\n",
    "X_train = df_train.iloc[:,[9,10,11,12,13,14,15,16,17,18,19,20,21,22,23]]\n",
    "Y_train = df_train.iloc[:,[5]]\n",
    "#X_test = df_test.iloc[:,range(4,26)]\n",
    "X_test = df_test.iloc[:,[9,10,11,12,13,14,15,16,17,18,19,20,21,22,23]]\n",
    "Y_test = df_test.iloc[:,[5]]\n",
    "\n",
    "\n",
    "#X_train, X_test, y_train, y_test = train_test_split(X, Y, test_size=0.3, random_state=0)\n",
    "regressor = LinearRegression()\n",
    "regressor.fit(X_train, Y_train)\n",
    "Y_pred = regressor.predict(X_test)\n",
    "print('Linear Regression R squared: %.4f' % regressor.score(X_test, Y_test))\n",
    "\n",
    "# calculate RMSE\n",
    "lin_mse = mean_squared_error(Y_pred, Y_test)\n",
    "lin_rmse = np.sqrt(lin_mse)\n",
    "print('Linear Regression RMSE: %.4f' % lin_rmse)\n",
    "\n",
    "# calculate MAE\n",
    "from sklearn.metrics import mean_absolute_error\n",
    "lin_mae = mean_absolute_error(Y_pred, Y_test)\n",
    "print('Linear Regression MAE: %.4f' % lin_mae)\n",
    "print('\\n')\n",
    "\n",
    "Y_test = Y_test.reset_index()\n",
    "Y_test = Y_test.drop('index', axis = 1)\n",
    "predicted = pd.DataFrame({'Predicted':Y_pred[:,0]})\n",
    "df_compare = pd.concat([predicted,Y_test], axis = 1)\n",
    "df_compare.columns = ['predicted', 'actual']\n",
    "df_compare_addrcode = pd.concat([df_test_week_addrcode, df_compare], axis = 1)\n",
    "df_compare_addrcode.to_csv('linear_regression_compare_subdist_withCD.csv', encoding = 'utf-8')\n",
    "plot = plt.plot(df_compare)\n",
    "#plot = plt.ylabel('y')\n",
    "#plot = plt.xlabel('x')\n",
    "plot = plt.legend(['predicted', 'actual'])\n"
   ]
  },
  {
   "cell_type": "markdown",
   "metadata": {},
   "source": [
    "### [District]"
   ]
  },
  {
   "cell_type": "code",
   "execution_count": 53,
   "metadata": {},
   "outputs": [],
   "source": [
    "df_train_dist =  pd.read_csv(os.path.join('Data','Modeling','Training&Testing','train_dist.csv'), header=0, skiprows=0)\n",
    "df_test_dist = pd.read_csv(os.path.join('Data','Modeling','Training&Testing','test_dist.csv'), header=0, skiprows=0)\n",
    "df_test_week_addrcode_dist = df_test_dist.iloc[:,[0,1,2]]"
   ]
  },
  {
   "cell_type": "code",
   "execution_count": 56,
   "metadata": {},
   "outputs": [
    {
     "name": "stdout",
     "output_type": "stream",
     "text": [
      "Linear Regression R squared: 0.1719\n",
      "Linear Regression RMSE: 2.7592\n",
      "Linear Regression MAE: 1.7612\n",
      "\n",
      "\n"
     ]
    },
    {
     "data": {
      "image/png": "[encoded data removed]",
      "text/plain": [
       "<Figure size 432x288 with 1 Axes>"
      ]
     },
     "metadata": {
      "needs_background": "light"
     },
     "output_type": "display_data"
    }
   ],
   "source": [
    "################ Without CD ################\n",
    "\n",
    "#X_train = df_train.iloc[:,range(4,26)]\n",
    "X_train = df_train_dist.iloc[:,[6,12,18,19,20,21,22,23,24,25,26]]\n",
    "Y_train = df_train_dist.iloc[:,[3]]\n",
    "#X_test = df_test.iloc[:,range(4,26)]\n",
    "X_test = df_test_dist.iloc[:,[6,12,18,19,20,21,22,23,24,25,26]]\n",
    "Y_test = df_test_dist.iloc[:,[3]]\n",
    "\n",
    "#X_train, X_test, y_train, y_test = train_test_split(X, Y, test_size=0.3, random_state=0)\n",
    "regressor = LinearRegression()\n",
    "regressor.fit(X_train, Y_train)\n",
    "Y_pred = regressor.predict(X_test)\n",
    "print('Linear Regression R squared: %.4f' % regressor.score(X_test, Y_test))\n",
    "\n",
    "# calculate RMSE\n",
    "lin_mse = mean_squared_error(Y_pred, Y_test)\n",
    "lin_rmse = np.sqrt(lin_mse)\n",
    "print('Linear Regression RMSE: %.4f' % lin_rmse)\n",
    "\n",
    "# calculate MAE\n",
    "from sklearn.metrics import mean_absolute_error\n",
    "lin_mae = mean_absolute_error(Y_pred, Y_test)\n",
    "print('Linear Regression MAE: %.4f' % lin_mae)\n",
    "print('\\n')\n",
    "\n",
    "Y_test = Y_test.reset_index()\n",
    "Y_test = Y_test.drop('index', axis = 1)\n",
    "predicted = pd.DataFrame({'Predicted':Y_pred[:,0]})\n",
    "df_compare = pd.concat([predicted,Y_test], axis = 1)\n",
    "df_compare.columns = ['predicted', 'actual']\n",
    "df_compare_addrcode_dist = pd.concat([df_test_week_addrcode_dist, df_compare], axis = 1)\n",
    "df_compare_addrcode_dist.to_csv('linear_regression_compare_dist_withoutCD.csv', encoding = 'utf-8')\n",
    "plot = plt.plot(df_compare)\n",
    "#plot = plt.ylabel('y')\n",
    "#plot = plt.xlabel('x')\n",
    "plot = plt.legend(['predicted', 'actual'])"
   ]
  },
  {
   "cell_type": "code",
   "execution_count": 57,
   "metadata": {},
   "outputs": [
    {
     "name": "stdout",
     "output_type": "stream",
     "text": [
      "Linear Regression R squared: 0.1687\n",
      "Linear Regression RMSE: 2.7645\n",
      "Linear Regression MAE: 1.7830\n",
      "\n",
      "\n"
     ]
    },
    {
     "data": {
      "image/png": "[encoded data removed]",
      "text/plain": [
       "<Figure size 432x288 with 1 Axes>"
      ]
     },
     "metadata": {
      "needs_background": "light"
     },
     "output_type": "display_data"
    }
   ],
   "source": [
    "################ With CD ################\n",
    "\n",
    "#X_train = df_train.iloc[:,range(4,26)]\n",
    "X_train = df_train_dist.iloc[:,[6,12,18,19,20,21,22,23,24,25,26,27,28,29,30,31,32,33,34]]\n",
    "Y_train = df_train_dist.iloc[:,[3]]\n",
    "#X_test = df_test.iloc[:,range(4,26)]\n",
    "X_test = df_test_dist.iloc[:,[6,12,18,19,20,21,22,23,24,25,26,27,28,29,30,31,32,33,34]]\n",
    "Y_test = df_test_dist.iloc[:,[3]]\n",
    "\n",
    "#X_train, X_test, y_train, y_test = train_test_split(X, Y, test_size=0.3, random_state=0)\n",
    "regressor = LinearRegression()\n",
    "regressor.fit(X_train, Y_train)\n",
    "Y_pred = regressor.predict(X_test)\n",
    "print('Linear Regression R squared: %.4f' % regressor.score(X_test, Y_test))\n",
    "\n",
    "# calculate RMSE\n",
    "lin_mse = mean_squared_error(Y_pred, Y_test)\n",
    "lin_rmse = np.sqrt(lin_mse)\n",
    "print('Linear Regression RMSE: %.4f' % lin_rmse)\n",
    "\n",
    "# calculate MAE\n",
    "from sklearn.metrics import mean_absolute_error\n",
    "lin_mae = mean_absolute_error(Y_pred, Y_test)\n",
    "print('Linear Regression MAE: %.4f' % lin_mae)\n",
    "print('\\n')\n",
    "\n",
    "Y_test = Y_test.reset_index()\n",
    "Y_test = Y_test.drop('index', axis = 1)\n",
    "predicted = pd.DataFrame({'Predicted':Y_pred[:,0]})\n",
    "df_compare = pd.concat([predicted,Y_test], axis = 1)\n",
    "df_compare.columns = ['predicted', 'actual']\n",
    "df_compare_addrcode_dist = pd.concat([df_test_week_addrcode_dist, df_compare], axis = 1)\n",
    "df_compare_addrcode_dist.to_csv('linear_regression_compare_dist_withCD.csv', encoding = 'utf-8')\n",
    "plot = plt.plot(df_compare)\n",
    "#plot = plt.ylabel('y')\n",
    "#plot = plt.xlabel('x')\n",
    "plot = plt.legend(['predicted', 'actual'])"
   ]
  },
  {
   "cell_type": "markdown",
   "metadata": {},
   "source": [
    "## Separate files"
   ]
  },
  {
   "cell_type": "markdown",
   "metadata": {},
   "source": [
    "#### [Subdistrict]"
   ]
  },
  {
   "cell_type": "code",
   "execution_count": 80,
   "metadata": {},
   "outputs": [
    {
     "data": {
      "text/plain": [
       "['Data/Modeling/Linear Regression/Province/Subdistrict/LR_subdist_withCD.csv',\n",
       " 'Data/Modeling/Linear Regression/Province/Subdistrict/LR_subdist_withoutCD.csv']"
      ]
     },
     "execution_count": 80,
     "metadata": {},
     "output_type": "execute_result"
    }
   ],
   "source": [
    "list_sub = glob.glob(os.path.join('Data','Modeling','Linear Regression','Province','Subdistrict','*'))\n",
    "list_sub"
   ]
  },
  {
   "cell_type": "code",
   "execution_count": 85,
   "metadata": {},
   "outputs": [
    {
     "data": {
      "text/plain": [
       "'LR_subdist_withCD'"
      ]
     },
     "execution_count": 85,
     "metadata": {},
     "output_type": "execute_result"
    }
   ],
   "source": [
    "list_sub[0][:-4][53:]"
   ]
  },
  {
   "cell_type": "code",
   "execution_count": 91,
   "metadata": {},
   "outputs": [],
   "source": [
    "df_available = pd.read_csv(os.path.join('Data','Data Statistics','available_addrcode_subdistrict.csv'))\n",
    "df_available['addrcode'] = df_available['addrcode'].astype(str)\n",
    "addrcode_list = df_available['addrcode']\n",
    "addrcode_nakhon_sub = []\n",
    "\n",
    "for i in range(len(addrcode_list)):\n",
    "    if addrcode_list[i].startswith('80'):\n",
    "        addrcode_nakhon_sub.append(addrcode_list[i])"
   ]
  },
  {
   "cell_type": "code",
   "execution_count": 87,
   "metadata": {},
   "outputs": [],
   "source": [
    "for i in range(len(list_sub)):\n",
    "    for j in range(len(addrcode_nakhon_sub)):\n",
    "        df_result = pd.read_csv(list_sub[i])\n",
    "        df_result['addrcode'] = df_result['addrcode'].astype(str)\n",
    "        df_result = df_result.drop('Unnamed: 0', axis =1 )\n",
    "        df_result = df_result.loc[df_result['addrcode'] == addrcode_nakhon_sub[j]]\n",
    "        df_result = df_result.reset_index()\n",
    "        df_result = df_result.drop('index', axis = 1)\n",
    "        df_result.to_csv(list_sub[i][:-4][53:]+'_'+addrcode_nakhon_sub[j]+'.csv', encoding = 'utf-8')"
   ]
  },
  {
   "cell_type": "markdown",
   "metadata": {},
   "source": [
    "#### [District]"
   ]
  },
  {
   "cell_type": "code",
   "execution_count": 88,
   "metadata": {},
   "outputs": [
    {
     "data": {
      "text/plain": [
       "['Data/Modeling/Linear Regression/Province/District/LR_dist_withoutCD.csv',\n",
       " 'Data/Modeling/Linear Regression/Province/District/LR_dist_withCD.csv']"
      ]
     },
     "execution_count": 88,
     "metadata": {},
     "output_type": "execute_result"
    }
   ],
   "source": [
    "list_dist = glob.glob(os.path.join('Data','Modeling','Linear Regression','Province','District','*'))\n",
    "list_dist"
   ]
  },
  {
   "cell_type": "code",
   "execution_count": 94,
   "metadata": {},
   "outputs": [
    {
     "data": {
      "text/plain": [
       "'LR_dist_withoutCD'"
      ]
     },
     "execution_count": 94,
     "metadata": {},
     "output_type": "execute_result"
    }
   ],
   "source": [
    "list_dist[0][:-4][50:]"
   ]
  },
  {
   "cell_type": "code",
   "execution_count": 92,
   "metadata": {},
   "outputs": [],
   "source": [
    "addrcode_nakhon_dist = []\n",
    "\n",
    "for i in range(len(addrcode_nakhon_sub)):\n",
    "    addrcode_nakhon_sub[i] = addrcode_nakhon_sub[i][:-2]\n",
    "    addrcode_nakhon_dist.append(addrcode_nakhon_sub[i]) \n",
    "    \n",
    "addrcode_nakhon_dist = list(set(addrcode_nakhon_dist))"
   ]
  },
  {
   "cell_type": "code",
   "execution_count": 95,
   "metadata": {},
   "outputs": [],
   "source": [
    "for i in range(len(list_dist)):\n",
    "    for j in range(len(addrcode_nakhon_dist)):\n",
    "        df_result = pd.read_csv(list_dist[i])\n",
    "        df_result['addrcode'] = df_result['addrcode'].astype(str)\n",
    "        df_result = df_result.drop('Unnamed: 0', axis =1 )\n",
    "        df_result = df_result.loc[df_result['addrcode'] == addrcode_nakhon_dist[j]]\n",
    "        df_result = df_result.reset_index()\n",
    "        df_result = df_result.drop('index', axis = 1)\n",
    "        df_result.to_csv(list_dist[i][:-4][50:]+'_'+addrcode_nakhon_dist[j]+'.csv', encoding = 'utf-8')"
   ]
  },
  {
   "cell_type": "markdown",
   "metadata": {},
   "source": [
    "## Compute Different and MAE"
   ]
  },
  {
   "cell_type": "markdown",
   "metadata": {},
   "source": [
    "## Seperated Level"
   ]
  },
  {
   "cell_type": "markdown",
   "metadata": {},
   "source": [
    "#### [Subdistrict]"
   ]
  },
  {
   "cell_type": "code",
   "execution_count": 69,
   "metadata": {},
   "outputs": [
    {
     "data": {
      "text/plain": [
       "334"
      ]
     },
     "execution_count": 69,
     "metadata": {},
     "output_type": "execute_result"
    }
   ],
   "source": [
    "file_sub = glob.glob(os.path.join('Data','Modeling','Linear Regression','Separated','Subdistrict','*'))\n",
    "len(file_sub)"
   ]
  },
  {
   "cell_type": "code",
   "execution_count": 70,
   "metadata": {},
   "outputs": [
    {
     "data": {
      "text/plain": [
       "'LR_subdist_withoutCD_800202.csv'"
      ]
     },
     "execution_count": 70,
     "metadata": {},
     "output_type": "execute_result"
    }
   ],
   "source": [
    "file_sub[0][54:]"
   ]
  },
  {
   "cell_type": "code",
   "execution_count": 72,
   "metadata": {},
   "outputs": [],
   "source": [
    "for i in range(len(file_sub)):\n",
    "    df_diff = pd.read_csv(file_sub[i])\n",
    "    df_diff = df_diff.drop('Unnamed: 0', axis = 1)\n",
    "    df_diff['different'] = df_diff['predicted'] - df_diff['actual']\n",
    "    df_diff['different'] = df_diff['different'].abs()\n",
    "    df_diff.loc[len(df_diff)] = ['MAE',None,None,None,None,df_diff['different'].sum()/len(df_diff)]\n",
    "    df_diff.to_csv(file_sub[i])"
   ]
  },
  {
   "cell_type": "markdown",
   "metadata": {},
   "source": [
    "#### [District]"
   ]
  },
  {
   "cell_type": "code",
   "execution_count": 96,
   "metadata": {},
   "outputs": [
    {
     "data": {
      "text/plain": [
       "46"
      ]
     },
     "execution_count": 96,
     "metadata": {},
     "output_type": "execute_result"
    }
   ],
   "source": [
    "file_dist = glob.glob(os.path.join('Data','Modeling','Linear Regression','Separated','District','*'))\n",
    "len(file_dist)"
   ]
  },
  {
   "cell_type": "code",
   "execution_count": 97,
   "metadata": {},
   "outputs": [
    {
     "data": {
      "text/plain": [
       "'LR_dist_withoutCD_8022.csv'"
      ]
     },
     "execution_count": 97,
     "metadata": {},
     "output_type": "execute_result"
    }
   ],
   "source": [
    "file_dist[0][51:]"
   ]
  },
  {
   "cell_type": "code",
   "execution_count": 98,
   "metadata": {},
   "outputs": [],
   "source": [
    "for i in range(len(file_dist)):\n",
    "    df_diff = pd.read_csv(file_dist[i])\n",
    "    df_diff = df_diff.drop('Unnamed: 0', axis = 1)\n",
    "    df_diff['different'] = df_diff['predicted'] - df_diff['actual']\n",
    "    df_diff['different'] = df_diff['different'].abs()\n",
    "    df_diff.loc[len(df_diff)] = ['MAE',None,None,None,None,df_diff['different'].sum()/len(df_diff)]\n",
    "    df_diff.to_csv(file_dist[i])"
   ]
  },
  {
   "cell_type": "markdown",
   "metadata": {},
   "source": [
    "## Province Level"
   ]
  },
  {
   "cell_type": "markdown",
   "metadata": {},
   "source": [
    "### [Subdistrict]"
   ]
  },
  {
   "cell_type": "code",
   "execution_count": 101,
   "metadata": {},
   "outputs": [
    {
     "data": {
      "text/plain": [
       "2"
      ]
     },
     "execution_count": 101,
     "metadata": {},
     "output_type": "execute_result"
    }
   ],
   "source": [
    "file_pro_sub = glob.glob(os.path.join('Data','Modeling','Linear Regression','Province','Subdistrict','*'))\n",
    "len(file_pro_sub)"
   ]
  },
  {
   "cell_type": "code",
   "execution_count": 106,
   "metadata": {},
   "outputs": [
    {
     "data": {
      "text/plain": [
       "'LR_subdist_withCD'"
      ]
     },
     "execution_count": 106,
     "metadata": {},
     "output_type": "execute_result"
    }
   ],
   "source": [
    "file_pro_sub[0][53:][:-4]"
   ]
  },
  {
   "cell_type": "code",
   "execution_count": 109,
   "metadata": {},
   "outputs": [],
   "source": [
    "for i in range(len(file_pro_sub)):\n",
    "    df_diff = pd.read_csv(file_pro_sub[i])\n",
    "    df_diff = df_diff.drop('Unnamed: 0', axis = 1)\n",
    "    df_diff['different'] = df_diff['predicted'] - df_diff['actual']\n",
    "    df_diff['different'] = df_diff['different'].abs()\n",
    "    df_diff.loc[len(df_diff)] = ['MAE',None,None,None,None,df_diff['different'].sum()/len(df_diff)]\n",
    "    df_diff.to_csv(file_pro_sub[i][53:][:-4]+'_diff.csv')"
   ]
  },
  {
   "cell_type": "markdown",
   "metadata": {},
   "source": [
    "### [District]"
   ]
  },
  {
   "cell_type": "code",
   "execution_count": 110,
   "metadata": {},
   "outputs": [
    {
     "data": {
      "text/plain": [
       "2"
      ]
     },
     "execution_count": 110,
     "metadata": {},
     "output_type": "execute_result"
    }
   ],
   "source": [
    "file_pro_dist = glob.glob(os.path.join('Data','Modeling','Linear Regression','Province','District','*'))\n",
    "len(file_pro_dist)"
   ]
  },
  {
   "cell_type": "code",
   "execution_count": 112,
   "metadata": {},
   "outputs": [
    {
     "data": {
      "text/plain": [
       "'LR_dist_withoutCD'"
      ]
     },
     "execution_count": 112,
     "metadata": {},
     "output_type": "execute_result"
    }
   ],
   "source": [
    "file_pro_dist[0][50:][:-4]"
   ]
  },
  {
   "cell_type": "code",
   "execution_count": 113,
   "metadata": {},
   "outputs": [],
   "source": [
    "for i in range(len(file_pro_dist)):\n",
    "    df_diff = pd.read_csv(file_pro_dist[i])\n",
    "    df_diff = df_diff.drop('Unnamed: 0', axis = 1)\n",
    "    df_diff['different'] = df_diff['predicted'] - df_diff['actual']\n",
    "    df_diff['different'] = df_diff['different'].abs()\n",
    "    df_diff.loc[len(df_diff)] = ['MAE',None,None,None,None,df_diff['different'].sum()/len(df_diff)]\n",
    "    df_diff.to_csv(file_pro_dist[i][50:][:-4]+'_diff.csv')"
   ]
  },
  {
   "cell_type": "code",
   "execution_count": null,
   "metadata": {},
   "outputs": [],
   "source": []
  }
 ],
 "metadata": {
  "kernelspec": {
   "display_name": "Python 3",
   "language": "python",
   "name": "python3"
  },
  "language_info": {
   "codemirror_mode": {
    "name": "ipython",
    "version": 3
   },
   "file_extension": ".py",
   "mimetype": "text/x-python",
   "name": "python",
   "nbconvert_exporter": "python",
   "pygments_lexer": "ipython3",
   "version": "3.6.5"
  }
 },
 "nbformat": 4,
 "nbformat_minor": 2
}
